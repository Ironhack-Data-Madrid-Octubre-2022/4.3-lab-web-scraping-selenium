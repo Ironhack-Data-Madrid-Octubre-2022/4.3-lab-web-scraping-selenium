{
 "cells": [
  {
   "cell_type": "markdown",
   "metadata": {},
   "source": [
    "# Web Scraping Lab\n",
    "\n",
    "You will find in this notebook some scrapy exercises to practise your scraping skills.\n",
    "\n",
    "**Tips:**\n",
    "\n",
    "- Check the response status code for each request to ensure you have obtained the intended contennt.\n",
    "- Print the response text in each request to understand the kind of info you are getting and its format.\n",
    "- Check for patterns in the response text to extract the data/info requested in each question.\n",
    "- Visit each url and take a look at its source through Chrome DevTools. You'll need to identify the html tags, special class names etc. used for the html content you are expected to extract."
   ]
  },
  {
   "cell_type": "markdown",
   "metadata": {},
   "source": [
    "- [Selenium Doc](https://www.selenium.dev/documentation/)\n",
    "- [Requests library](http://docs.python-requests.org/en/master/#the-user-guide) documentation \n",
    "- [Urllib](https://docs.python.org/3/library/urllib.html#module-urllib)\n",
    "- [re lib](https://docs.python.org/3/library/re.html)\n",
    "- [lxml lib](https://lxml.de/)\n",
    "- [Scrapy](https://scrapy.org/)\n",
    "- [List of HTTP status codes](https://en.wikipedia.org/wiki/List_of_HTTP_status_codes)\n",
    "- [HTML basics](http://www.simplehtmlguide.com/cheatsheet.php)\n",
    "- [CSS basics](https://www.cssbasics.com/#page_start)"
   ]
  },
  {
   "cell_type": "markdown",
   "metadata": {},
   "source": [
    "#### Below are the libraries and modules you may need. `Selenium` and `pandas` are imported for you."
   ]
  },
  {
   "cell_type": "code",
   "execution_count": 4,
   "metadata": {},
   "outputs": [
    {
     "name": "stdout",
     "output_type": "stream",
     "text": [
      "Collecting webdriver-manager\n",
      "  Downloading webdriver_manager-3.8.4-py2.py3-none-any.whl (27 kB)\n",
      "Requirement already satisfied: requests in c:\\users\\nonito\\anaconda3\\lib\\site-packages (from webdriver-manager) (2.27.1)\n",
      "Requirement already satisfied: tqdm in c:\\users\\nonito\\anaconda3\\lib\\site-packages (from webdriver-manager) (4.64.0)\n",
      "Requirement already satisfied: python-dotenv in c:\\users\\nonito\\anaconda3\\lib\\site-packages (from webdriver-manager) (0.21.0)\n",
      "Requirement already satisfied: charset-normalizer~=2.0.0 in c:\\users\\nonito\\anaconda3\\lib\\site-packages (from requests->webdriver-manager) (2.0.4)\n",
      "Requirement already satisfied: idna<4,>=2.5 in c:\\users\\nonito\\anaconda3\\lib\\site-packages (from requests->webdriver-manager) (3.3)\n",
      "Requirement already satisfied: urllib3<1.27,>=1.21.1 in c:\\users\\nonito\\anaconda3\\lib\\site-packages (from requests->webdriver-manager) (1.26.9)\n",
      "Requirement already satisfied: certifi>=2017.4.17 in c:\\users\\nonito\\anaconda3\\lib\\site-packages (from requests->webdriver-manager) (2021.10.8)\n",
      "Requirement already satisfied: colorama in c:\\users\\nonito\\anaconda3\\lib\\site-packages (from tqdm->webdriver-manager) (0.4.4)\n",
      "Installing collected packages: webdriver-manager\n",
      "Successfully installed webdriver-manager-3.8.4\n",
      "Note: you may need to restart the kernel to use updated packages.\n"
     ]
    }
   ],
   "source": [
    "%pip install webdriver-manager"
   ]
  },
  {
   "cell_type": "code",
   "execution_count": 5,
   "metadata": {},
   "outputs": [],
   "source": [
    "import pandas as pd\n",
    "from selenium import webdriver\n",
    "from selenium.webdriver.chrome.options import Options\n",
    "from webdriver_manager.chrome import ChromeDriverManager"
   ]
  },
  {
   "cell_type": "markdown",
   "metadata": {},
   "source": [
    "#### Enable the options you may need. In the next cell you have an example of them but you can choose to use them or not."
   ]
  },
  {
   "cell_type": "code",
   "execution_count": 7,
   "metadata": {},
   "outputs": [],
   "source": [
    "#driver configuration\n",
    "opciones=Options()\n",
    "\n",
    "opciones.add_experimental_option('excludeSwitches', ['enable-automation'])\n",
    "opciones.add_experimental_option('useAutomationExtension', False)\n",
    "opciones.headless=False    # si True, no aperece la ventana (headless=no visible)\n",
    "opciones.add_argument('--start-maximized')         # comienza maximizado\n",
    "#opciones.add_argument('user-data-dir=selenium')    # mantiene las cookies\n",
    "#opciones.add_extension('driver_folder/adblock.crx')       # adblocker\n",
    "opciones.add_argument('--incognito')"
   ]
  },
  {
   "cell_type": "code",
   "execution_count": 16,
   "metadata": {},
   "outputs": [],
   "source": [
    "PATH=ChromeDriverManager().install() \n"
   ]
  },
  {
   "cell_type": "code",
   "execution_count": 29,
   "metadata": {},
   "outputs": [
    {
     "name": "stderr",
     "output_type": "stream",
     "text": [
      "C:\\Users\\Nonito\\AppData\\Local\\Temp\\ipykernel_11804\\3664144522.py:1: DeprecationWarning: executable_path has been deprecated, please pass in a Service object\n",
      "  driver = webdriver.Chrome(PATH)\n"
     ]
    }
   ],
   "source": [
    "driver = webdriver.Chrome(PATH)\n",
    "\n",
    "driver.get('https://www.google.es') \n",
    "\n",
    "import warnings\n",
    "warnings.filterwarnings('ignore')\n",
    "\n",
    "from selenium.webdriver.common.by import By"
   ]
  },
  {
   "cell_type": "markdown",
   "metadata": {},
   "source": [
    "#### Download, parse, and print the content from the Trending Developers page from GitHub:"
   ]
  },
  {
   "cell_type": "code",
   "execution_count": 24,
   "metadata": {},
   "outputs": [],
   "source": [
    "# This is the url you will scrape in this exercise\n",
    "url = 'https://github.com/trending/developers'"
   ]
  },
  {
   "cell_type": "code",
   "execution_count": 34,
   "metadata": {},
   "outputs": [],
   "source": [
    "driver = webdriver.Chrome(PATH)\n",
    "\n",
    "driver.get(url) "
   ]
  },
  {
   "cell_type": "markdown",
   "metadata": {},
   "source": [
    "#### Display the names of the trending developers retrieved in the previous step.\n",
    "\n",
    "Your output should be a Python list of developer names. Each name should not contain any html tag.\n",
    "\n",
    "**Instructions:**\n",
    "\n",
    "1. Find out the html tag and class names used for the developer names.\n",
    "\n",
    "1. Use string manipulation techniques to replace whitespaces and linebreaks (i.e. `\\n`) in the *text* of each html element. Use a list to store the clean names.\n",
    "\n",
    "1. Print the list of names.\n",
    "\n",
    "Your output should look like below:\n",
    "\n",
    "```\n",
    "['trimstray (@trimstray)',\n",
    " 'joewalnes (JoeWalnes)',\n",
    " 'charlax (Charles-AxelDein)',\n",
    " 'ForrestKnight (ForrestKnight)',\n",
    " 'revery-ui (revery-ui)',\n",
    " 'alibaba (Alibaba)',\n",
    " 'Microsoft (Microsoft)',\n",
    " 'github (GitHub)',\n",
    " 'facebook (Facebook)',\n",
    " 'boazsegev (Bo)',\n",
    " 'google (Google)',\n",
    " 'cloudfetch',\n",
    " 'sindresorhus (SindreSorhus)',\n",
    " 'tensorflow',\n",
    " 'apache (TheApacheSoftwareFoundation)',\n",
    " 'DevonCrawford (DevonCrawford)',\n",
    " 'ARMmbed (ArmMbed)',\n",
    " 'vuejs (vuejs)',\n",
    " 'fastai (fast.ai)',\n",
    " 'QiShaoXuan (Qi)',\n",
    " 'joelparkerhenderson (JoelParkerHenderson)',\n",
    " 'torvalds (LinusTorvalds)',\n",
    " 'CyC2018',\n",
    " 'komeiji-satori (神楽坂覚々)',\n",
    " 'script-8']\n",
    " ```"
   ]
  },
  {
   "cell_type": "code",
   "execution_count": 75,
   "metadata": {},
   "outputs": [
    {
     "data": {
      "text/plain": [
       "['Nikita Sobolev',\n",
       " 'Emil Ernerfeldt',\n",
       " 'Jonny Borges',\n",
       " 'Stephen Celis',\n",
       " 'monkeyWie',\n",
       " 'Azure SDK Bot',\n",
       " 'Martin Bonnin',\n",
       " 'Wangchong Zhou',\n",
       " 'Ammar Ahmed',\n",
       " 'Matt Bierner',\n",
       " 'Alessandro Ros',\n",
       " 'Mike Perham',\n",
       " 'DavidKorczynski',\n",
       " 'Abhijeet Prasad',\n",
       " 'Mislav Marohnić',\n",
       " 'Leonard Hecker',\n",
       " 'Pedro Cuenca',\n",
       " 'Marcus Olsson',\n",
       " 'Alex Eagle',\n",
       " 'Nolan Lawson',\n",
       " 'Luke Latham',\n",
       " 'Joshua Levy',\n",
       " 'Bas Nijholt',\n",
       " 'Ice3man',\n",
       " 'kunfei']"
      ]
     },
     "execution_count": 75,
     "metadata": {},
     "output_type": "execute_result"
    }
   ],
   "source": [
    "driver = webdriver.Chrome(PATH)\n",
    "\n",
    "driver.get(\"https://github.com/trending/developers\") \n",
    "\n",
    "a=[e.text for e in driver.find_elements(By.CLASS_NAME, 'h3')]\n",
    "\n",
    "driver.quit()\n",
    "\n",
    "a"
   ]
  },
  {
   "cell_type": "markdown",
   "metadata": {},
   "source": [
    "#### Display the trending Python repositories in GitHub\n",
    "\n",
    "The steps to solve this problem is similar to the previous one except that you need to find out the repository names instead of developer names."
   ]
  },
  {
   "cell_type": "code",
   "execution_count": 67,
   "metadata": {},
   "outputs": [],
   "source": [
    "# This is the url you will scrape in this exercise\n",
    "url = 'https://github.com/trending/python?since=daily'"
   ]
  },
  {
   "cell_type": "code",
   "execution_count": 77,
   "metadata": {},
   "outputs": [
    {
     "data": {
      "text/plain": [
       "['public-apis / public-apis',\n",
       " 'bregman-arie / devops-exercises',\n",
       " 'facebookresearch / fairseq',\n",
       " 'cloneofsimo / paint-with-words-sd',\n",
       " 'Azure / azure-cli',\n",
       " 'caronc / apprise',\n",
       " 'joweich / chat-miner',\n",
       " 'PaddlePaddle / PaddleTS',\n",
       " 'mli / autocut',\n",
       " 'sczhou / CodeFormer',\n",
       " 'unifyai / ivy',\n",
       " 'augmentedstartups / AS-One',\n",
       " 'loTus04 / W4SP-Stealer',\n",
       " 'rwightman / pytorch-image-models',\n",
       " 'iterativv / NostalgiaForInfinity',\n",
       " 'getredash / redash',\n",
       " 'ethereum / consensus-specs',\n",
       " 'd8ahazard / sd_dreambooth_extension',\n",
       " 'microsoft / recommenders',\n",
       " 'zulip / zulip',\n",
       " 'ultralytics / yolov5',\n",
       " 'openai / improved-diffusion',\n",
       " 'facebookresearch / ParlAI',\n",
       " 'aliyun / surftrace',\n",
       " 'NVlabs / stylegan2-ada-pytorch']"
      ]
     },
     "execution_count": 77,
     "metadata": {},
     "output_type": "execute_result"
    }
   ],
   "source": [
    "driver = webdriver.Chrome(PATH)\n",
    "\n",
    "driver.get(url) \n",
    "\n",
    "b=[e.text for e in driver.find_elements(By.CLASS_NAME, 'h3')]\n",
    "\n",
    "driver.quit()\n",
    "\n",
    "b"
   ]
  },
  {
   "cell_type": "markdown",
   "metadata": {},
   "source": [
    "#### Display all the image links from Walt Disney wikipedia page"
   ]
  },
  {
   "cell_type": "code",
   "execution_count": 119,
   "metadata": {},
   "outputs": [],
   "source": [
    "# This is the url you will scrape in this exercise\n",
    "url = 'https://en.wikipedia.org/wiki/Walt_Disney'"
   ]
  },
  {
   "cell_type": "code",
   "execution_count": 127,
   "metadata": {},
   "outputs": [],
   "source": [
    "driver = webdriver.Chrome(PATH)\n",
    "\n",
    "driver.get(url) \n",
    "\n",
    "c=[e.get_attribute('src') for e in driver.find_elements(By.TAG_NAME, 'img')]\n",
    "\n",
    "driver.quit()\n"
   ]
  },
  {
   "cell_type": "code",
   "execution_count": 125,
   "metadata": {},
   "outputs": [
    {
     "name": "stdout",
     "output_type": "stream",
     "text": [
      "Requirement already satisfied: IPython in c:\\users\\nonito\\anaconda3\\lib\\site-packages (8.2.0)\n",
      "Requirement already satisfied: pickleshare in c:\\users\\nonito\\anaconda3\\lib\\site-packages (from IPython) (0.7.5)\n",
      "Requirement already satisfied: decorator in c:\\users\\nonito\\anaconda3\\lib\\site-packages (from IPython) (5.1.1)\n",
      "Requirement already satisfied: colorama in c:\\users\\nonito\\anaconda3\\lib\\site-packages (from IPython) (0.4.4)\n",
      "Requirement already satisfied: backcall in c:\\users\\nonito\\anaconda3\\lib\\site-packages (from IPython) (0.2.0)\n",
      "Requirement already satisfied: matplotlib-inline in c:\\users\\nonito\\anaconda3\\lib\\site-packages (from IPython) (0.1.2)\n",
      "Requirement already satisfied: pygments>=2.4.0 in c:\\users\\nonito\\anaconda3\\lib\\site-packages (from IPython) (2.11.2)\n",
      "Requirement already satisfied: setuptools>=18.5 in c:\\users\\nonito\\anaconda3\\lib\\site-packages (from IPython) (61.2.0)\n",
      "Requirement already satisfied: prompt-toolkit!=3.0.0,!=3.0.1,<3.1.0,>=2.0.0 in c:\\users\\nonito\\anaconda3\\lib\\site-packages (from IPython) (3.0.20)\n",
      "Requirement already satisfied: traitlets>=5 in c:\\users\\nonito\\anaconda3\\lib\\site-packages (from IPython) (5.1.1)\n",
      "Requirement already satisfied: stack-data in c:\\users\\nonito\\anaconda3\\lib\\site-packages (from IPython) (0.2.0)\n",
      "Requirement already satisfied: jedi>=0.16 in c:\\users\\nonito\\anaconda3\\lib\\site-packages (from IPython) (0.18.1)\n",
      "Requirement already satisfied: parso<0.9.0,>=0.8.0 in c:\\users\\nonito\\anaconda3\\lib\\site-packages (from jedi>=0.16->IPython) (0.8.3)\n",
      "Requirement already satisfied: wcwidth in c:\\users\\nonito\\anaconda3\\lib\\site-packages (from prompt-toolkit!=3.0.0,!=3.0.1,<3.1.0,>=2.0.0->IPython) (0.2.5)\n",
      "Requirement already satisfied: pure-eval in c:\\users\\nonito\\anaconda3\\lib\\site-packages (from stack-data->IPython) (0.2.2)\n",
      "Requirement already satisfied: asttokens in c:\\users\\nonito\\anaconda3\\lib\\site-packages (from stack-data->IPython) (2.0.5)\n",
      "Requirement already satisfied: executing in c:\\users\\nonito\\anaconda3\\lib\\site-packages (from stack-data->IPython) (0.8.3)\n",
      "Requirement already satisfied: six in c:\\users\\nonito\\anaconda3\\lib\\site-packages (from asttokens->stack-data->IPython) (1.16.0)\n",
      "Note: you may need to restart the kernel to use updated packages.\n"
     ]
    }
   ],
   "source": [
    "%pip install IPython"
   ]
  },
  {
   "cell_type": "code",
   "execution_count": 129,
   "metadata": {},
   "outputs": [
    {
     "data": {
      "text/plain": [
       "'from IPython.display import Image\\n\\nfor i in c:\\n    display(Image(i))'"
      ]
     },
     "execution_count": 129,
     "metadata": {},
     "output_type": "execute_result"
    }
   ],
   "source": [
    "\"\"\"from IPython.display import Image\n",
    "\n",
    "for i in c:\n",
    "    display(Image(i))\"\"\""
   ]
  },
  {
   "cell_type": "markdown",
   "metadata": {},
   "source": [
    "#### Retrieve an arbitary Wikipedia page of \"Python\" and create a list of links on that page"
   ]
  },
  {
   "cell_type": "code",
   "execution_count": 106,
   "metadata": {},
   "outputs": [],
   "source": [
    "# This is the url you will scrape in this exercise\n",
    "url ='https://en.wikipedia.org/wiki/Python' "
   ]
  },
  {
   "cell_type": "code",
   "execution_count": 114,
   "metadata": {},
   "outputs": [],
   "source": [
    "driver = webdriver.Chrome(PATH)\n",
    "\n",
    "driver.get(url) \n",
    "\n",
    "d=[e.get_attribute('href') for e in driver.find_elements(By.TAG_NAME, 'a')]\n",
    "\n",
    "driver.quit()\n",
    "\n",
    "d=d[1:]\n",
    "\n",
    "#Son todos todisimos los enlaces pero bueno."
   ]
  },
  {
   "cell_type": "markdown",
   "metadata": {},
   "source": [
    "#### Number of Titles that have changed in the United States Code since its last release point "
   ]
  },
  {
   "cell_type": "code",
   "execution_count": 115,
   "metadata": {},
   "outputs": [],
   "source": [
    "# This is the url you will scrape in this exercise\n",
    "url = 'http://uscode.house.gov/download/download.shtml'"
   ]
  },
  {
   "cell_type": "code",
   "execution_count": 117,
   "metadata": {},
   "outputs": [
    {
     "data": {
      "text/plain": [
       "['Title 17 - Copyrights ٭',\n",
       " 'Title 22 - Foreign Relations and Intercourse',\n",
       " \"Title 38 - Veterans' Benefits ٭\",\n",
       " 'Title 40 - Public Buildings, Property, and Works ٭',\n",
       " 'Title 41 - Public Contracts ٭',\n",
       " 'Title 42 - The Public Health and Welfare',\n",
       " 'Title 44 - Public Printing and Documents ٭',\n",
       " 'Title 49 - Transportation ٭',\n",
       " 'Title 54 - National Park Service and Related Programs ٭']"
      ]
     },
     "execution_count": 117,
     "metadata": {},
     "output_type": "execute_result"
    }
   ],
   "source": [
    "#your code\n",
    "\n",
    "driver = webdriver.Chrome(PATH)\n",
    "\n",
    "driver.get(url) \n",
    "\n",
    "e=[e.text for e in driver.find_elements(By.CLASS_NAME, 'usctitlechanged')]\n",
    "\n",
    "driver.quit()"
   ]
  },
  {
   "cell_type": "markdown",
   "metadata": {},
   "source": [
    "#### A Python list with the top ten FBI's Most Wanted names "
   ]
  },
  {
   "cell_type": "code",
   "execution_count": 130,
   "metadata": {},
   "outputs": [],
   "source": [
    "# This is the url you will scrape in this exercise\n",
    "url = 'https://www.fbi.gov/wanted/topten'"
   ]
  },
  {
   "cell_type": "code",
   "execution_count": 138,
   "metadata": {},
   "outputs": [
    {
     "data": {
      "text/plain": [
       "['OMAR ALEXANDER CARDENAS',\n",
       " 'ALEXIS FLORES',\n",
       " 'JOSE RODOLFO VILLARREAL-HERNANDEZ',\n",
       " 'YULAN ADONAY ARCHAGA CARIAS',\n",
       " 'BHADRESHKUMAR CHETANBHAI PATEL',\n",
       " 'ALEJANDRO ROSALES CASTILLO',\n",
       " 'MICHAEL JAMES PRATT',\n",
       " 'RUJA IGNATOVA',\n",
       " 'ARNOLDO JIMENEZ',\n",
       " 'RAFAEL CARO-QUINTERO']"
      ]
     },
     "execution_count": 138,
     "metadata": {},
     "output_type": "execute_result"
    }
   ],
   "source": [
    "#your code\n",
    "\n",
    "driver = webdriver.Chrome(PATH)\n",
    "\n",
    "driver.get(url) \n",
    "\n",
    "f=[e.text for e in driver.find_elements(By.TAG_NAME, 'h3')]\n",
    "\n",
    "driver.quit()\n",
    "\n",
    "f=f[:10]\n",
    "\n",
    "f"
   ]
  },
  {
   "cell_type": "markdown",
   "metadata": {},
   "source": [
    "####  20 latest earthquakes info (date, time, latitude, longitude and region name) by the EMSC as a pandas dataframe"
   ]
  },
  {
   "cell_type": "code",
   "execution_count": 173,
   "metadata": {},
   "outputs": [],
   "source": [
    "# This is the url you will scrape in this exercise\n",
    "url = 'https://www.emsc-csem.org/Earthquake/'"
   ]
  },
  {
   "cell_type": "code",
   "execution_count": 213,
   "metadata": {},
   "outputs": [],
   "source": [
    "#your code\n",
    "\n",
    "driver = webdriver.Chrome(PATH)\n",
    "\n",
    "driver.get(url) \n",
    "\n",
    "x=[e.text for e in driver.find_elements(By.CLASS_NAME, 'tabev6')]\n",
    "\n",
    "y=[e.text for e in driver.find_elements(By.CLASS_NAME, 'tabev2')]\n",
    "\n",
    "z=[e.text for e in driver.find_elements(By.CLASS_NAME, 'tb_region')]\n",
    "\n",
    "w=[e.text for e in driver.find_elements(By.CLASS_NAME, 'tabev1')]\n",
    "\n",
    "driver.quit()\n"
   ]
  },
  {
   "cell_type": "code",
   "execution_count": 204,
   "metadata": {},
   "outputs": [],
   "source": [
    "latalt=[]\n",
    "for i in w:\n",
    "    latalt.append(i.replace(\" \",\"\"))\n",
    "\n",
    "latitude = []\n",
    "longitude = []\n",
    "for i in range(0, len(latalt)):\n",
    "    if i % 2:\n",
    "        longitude.append(latalt[i])\n",
    "    else :\n",
    "        latitude.append(latalt[i])\n"
   ]
  },
  {
   "cell_type": "code",
   "execution_count": 184,
   "metadata": {},
   "outputs": [],
   "source": [
    "date=[]\n",
    "for i in x:\n",
    "    date.append(i.replace(\"   \",\"*\").replace(\"\\n\",\"*\").split(\"*\")[0])\n",
    "\n",
    "time=[]\n",
    "for i in x:\n",
    "    time.append(i.replace(\"   \",\"*\").replace(\"\\n\",\"*\").split(\"*\")[1])"
   ]
  },
  {
   "cell_type": "code",
   "execution_count": 198,
   "metadata": {},
   "outputs": [],
   "source": [
    "latalt=[]\n",
    "for i in y:\n",
    "    latalt.append(i.replace(\"  \",\"\"))\n",
    "\n",
    "latlong=[]\n",
    "for i in latalt:\n",
    "    if i == 'N':\n",
    "        latlong.append(i)\n",
    "    if i == 'S':\n",
    "        latlong.append(i)\n",
    "    if i == 'W':\n",
    "        latlong.append(i)\n",
    "    if i == 'E':\n",
    "        latlong.append(i) \n",
    "        \n",
    "latitude2 = []\n",
    "longitude2 = []\n",
    "for i in range(0, len(latlong)):\n",
    "    if i % 2:\n",
    "        longitude2.append(latlong[i])\n",
    "    else :\n",
    "        latitude2.append(latlong[i])"
   ]
  },
  {
   "cell_type": "code",
   "execution_count": 217,
   "metadata": {},
   "outputs": [],
   "source": [
    "region=[]\n",
    "\n",
    "for i in z:\n",
    "    region.append(i.strip())\n"
   ]
  },
  {
   "cell_type": "code",
   "execution_count": 218,
   "metadata": {},
   "outputs": [
    {
     "data": {
      "text/html": [
       "<div>\n",
       "<style scoped>\n",
       "    .dataframe tbody tr th:only-of-type {\n",
       "        vertical-align: middle;\n",
       "    }\n",
       "\n",
       "    .dataframe tbody tr th {\n",
       "        vertical-align: top;\n",
       "    }\n",
       "\n",
       "    .dataframe thead th {\n",
       "        text-align: right;\n",
       "    }\n",
       "</style>\n",
       "<table border=\"1\" class=\"dataframe\">\n",
       "  <thead>\n",
       "    <tr style=\"text-align: right;\">\n",
       "      <th></th>\n",
       "      <th>date</th>\n",
       "      <th>time</th>\n",
       "      <th>latitude</th>\n",
       "      <th>orientation_lat</th>\n",
       "      <th>longitude</th>\n",
       "      <th>orientation_long</th>\n",
       "      <th>region_name</th>\n",
       "    </tr>\n",
       "  </thead>\n",
       "  <tbody>\n",
       "    <tr>\n",
       "      <th>0</th>\n",
       "      <td>2022-11-09</td>\n",
       "      <td>15:06:55.0</td>\n",
       "      <td>12.70</td>\n",
       "      <td>N</td>\n",
       "      <td>88.19</td>\n",
       "      <td>W</td>\n",
       "      <td>ADRIATIC SEA</td>\n",
       "    </tr>\n",
       "    <tr>\n",
       "      <th>1</th>\n",
       "      <td>2022-11-09</td>\n",
       "      <td>14:58:24.0</td>\n",
       "      <td>17.32</td>\n",
       "      <td>N</td>\n",
       "      <td>100.83</td>\n",
       "      <td>W</td>\n",
       "      <td>OFFSHORE EL SALVADOR</td>\n",
       "    </tr>\n",
       "    <tr>\n",
       "      <th>2</th>\n",
       "      <td>2022-11-09</td>\n",
       "      <td>14:51:54.7</td>\n",
       "      <td>35.91</td>\n",
       "      <td>N</td>\n",
       "      <td>90.01</td>\n",
       "      <td>W</td>\n",
       "      <td>GUERRERO, MEXICO</td>\n",
       "    </tr>\n",
       "    <tr>\n",
       "      <th>3</th>\n",
       "      <td>2022-11-09</td>\n",
       "      <td>14:47:27.1</td>\n",
       "      <td>43.92</td>\n",
       "      <td>N</td>\n",
       "      <td>13.26</td>\n",
       "      <td>E</td>\n",
       "      <td>ARKANSAS</td>\n",
       "    </tr>\n",
       "    <tr>\n",
       "      <th>4</th>\n",
       "      <td>2022-11-09</td>\n",
       "      <td>14:10:53.7</td>\n",
       "      <td>35.91</td>\n",
       "      <td>N</td>\n",
       "      <td>117.71</td>\n",
       "      <td>W</td>\n",
       "      <td>CENTRAL ITALY</td>\n",
       "    </tr>\n",
       "  </tbody>\n",
       "</table>\n",
       "</div>"
      ],
      "text/plain": [
       "         date        time latitude orientation_lat longitude orientation_long  \\\n",
       "0  2022-11-09  15:06:55.0    12.70               N     88.19                W   \n",
       "1  2022-11-09  14:58:24.0    17.32               N    100.83                W   \n",
       "2  2022-11-09  14:51:54.7    35.91               N     90.01                W   \n",
       "3  2022-11-09  14:47:27.1    43.92               N     13.26                E   \n",
       "4  2022-11-09  14:10:53.7    35.91               N    117.71                W   \n",
       "\n",
       "            region_name  \n",
       "0          ADRIATIC SEA  \n",
       "1  OFFSHORE EL SALVADOR  \n",
       "2      GUERRERO, MEXICO  \n",
       "3              ARKANSAS  \n",
       "4         CENTRAL ITALY  "
      ]
     },
     "execution_count": 218,
     "metadata": {},
     "output_type": "execute_result"
    }
   ],
   "source": [
    "d = {'date': date, 'time': time, 'latitude': latitude, 'orientation_lat': latitude2, 'longitude': longitude, 'orientation_long': longitude2, 'region_name': region}\n",
    "earthq = pd.DataFrame(data=d)\n",
    "\n",
    "earthq.head()"
   ]
  },
  {
   "cell_type": "markdown",
   "metadata": {},
   "source": [
    "#### Count number of tweets by a given Twitter account."
   ]
  },
  {
   "cell_type": "markdown",
   "metadata": {},
   "source": [
    "You will need to include a ***try/except block*** for account names not found. \n",
    "<br>***Hint:*** the program should count the number of tweets for any provided account"
   ]
  },
  {
   "cell_type": "code",
   "execution_count": 139,
   "metadata": {},
   "outputs": [],
   "source": [
    "# This is the url you will scrape in this exercise \n",
    "# You will need to add the account credentials to this url\n",
    "url = 'https://twitter.com/manilaluzon'"
   ]
  },
  {
   "cell_type": "code",
   "execution_count": 146,
   "metadata": {},
   "outputs": [
    {
     "data": {
      "text/plain": [
       "'driver = webdriver.Chrome(PATH)\\n\\ndriver.get(url) \\n\\ntuits=driver.find_element(By.XPATH,\\'//*[@id=\"react-root\"]/div/div/div[2]/main/div/div/div/div/div/div[1]/div[1]/div/div/div/div/div/div[2]/div/div\\').text\\n\\ndriver.quit()'"
      ]
     },
     "execution_count": 146,
     "metadata": {},
     "output_type": "execute_result"
    }
   ],
   "source": [
    "\"\"\"driver = webdriver.Chrome(PATH)\n",
    "\n",
    "driver.get(url) \n",
    "\n",
    "tuits=driver.find_element(By.XPATH,'//*[@id=\"react-root\"]/div/div/div[2]/main/div/div/div/div/div/div[1]/div[1]/div/div/div/div/div/div[2]/div/div').text\n",
    "\n",
    "driver.quit()\"\"\"\n",
    "\n",
    "#No se si no funciona porque esta mal o por ser twiter"
   ]
  },
  {
   "cell_type": "markdown",
   "metadata": {},
   "source": [
    "#### Number of followers of a given twitter account"
   ]
  },
  {
   "cell_type": "markdown",
   "metadata": {},
   "source": [
    "You will need to include a ***try/except block*** in case account/s name not found. \n",
    "<br>***Hint:*** the program should count the followers for any provided account"
   ]
  },
  {
   "cell_type": "code",
   "execution_count": 147,
   "metadata": {},
   "outputs": [],
   "source": [
    "# This is the url you will scrape in this exercise \n",
    "# You will need to add the account credentials to this url\n",
    "url = 'https://twitter.com/JinkxMonsoon'"
   ]
  },
  {
   "cell_type": "code",
   "execution_count": 149,
   "metadata": {},
   "outputs": [
    {
     "data": {
      "text/plain": [
       "\"driver = webdriver.Chrome(PATH)\\n\\ndriver.get(url) \\n\\nfoll=driver.find_element(By.XPATH,'/html/body/div[1]/div/div/div[2]/main/div/div/div/div[1]/div/div[3]/div/div/div/div/div[5]/div[2]/a').text\\n\\ndriver.quit()\""
      ]
     },
     "execution_count": 149,
     "metadata": {},
     "output_type": "execute_result"
    }
   ],
   "source": [
    "\"\"\"driver = webdriver.Chrome(PATH)\n",
    "\n",
    "driver.get(url) \n",
    "\n",
    "foll=driver.find_element(By.XPATH,'/html/body/div[1]/div/div/div[2]/main/div/div/div/div[1]/div/div[3]/div/div/div/div/div[5]/div[2]/a').text\n",
    "\n",
    "driver.quit()\"\"\"\n",
    "\n",
    "#No se si no funciona porque esta mal o por ser twiter"
   ]
  },
  {
   "cell_type": "markdown",
   "metadata": {},
   "source": [
    "#### List all language names and number of related articles in the order they appear in wikipedia.org"
   ]
  },
  {
   "cell_type": "code",
   "execution_count": 150,
   "metadata": {},
   "outputs": [],
   "source": [
    "# This is the url you will scrape in this exercise\n",
    "url = 'https://www.wikipedia.org/'"
   ]
  },
  {
   "cell_type": "code",
   "execution_count": 156,
   "metadata": {},
   "outputs": [],
   "source": [
    "driver = webdriver.Chrome(PATH)\n",
    "\n",
    "driver.get(url) \n",
    "\n",
    "g=[e.text for e in driver.find_elements(By.TAG_NAME, 'strong')]\n",
    "\n",
    "driver.quit()\n",
    "\n",
    "h=g[1:11]\n",
    "\n",
    "h"
   ]
  },
  {
   "cell_type": "markdown",
   "metadata": {},
   "source": [
    "#### A list with the different kind of datasets available in data.gov.uk "
   ]
  },
  {
   "cell_type": "code",
   "execution_count": 159,
   "metadata": {},
   "outputs": [],
   "source": [
    "# This is the url you will scrape in this exercise\n",
    "url = 'https://data.gov.uk/'"
   ]
  },
  {
   "cell_type": "code",
   "execution_count": 160,
   "metadata": {},
   "outputs": [
    {
     "data": {
      "text/plain": [
       "['cookies to collect information',\n",
       " 'View cookies',\n",
       " '',\n",
       " 'feedback',\n",
       " 'Business and economy',\n",
       " 'Crime and justice',\n",
       " 'Defence',\n",
       " 'Education',\n",
       " 'Environment',\n",
       " 'Government',\n",
       " 'Government spending',\n",
       " 'Health',\n",
       " 'Mapping',\n",
       " 'Society',\n",
       " 'Towns and cities',\n",
       " 'Transport',\n",
       " 'Digital service performance',\n",
       " 'Government reference data']"
      ]
     },
     "execution_count": 160,
     "metadata": {},
     "output_type": "execute_result"
    }
   ],
   "source": [
    "driver = webdriver.Chrome(PATH)\n",
    "\n",
    "driver.get(url) \n",
    "\n",
    "i=[e.text for e in driver.find_elements(By.CLASS_NAME, 'govuk-link')]\n",
    "\n",
    "driver.quit()\n",
    "\n",
    "j=i[4:]\n",
    "\n",
    "j"
   ]
  },
  {
   "cell_type": "markdown",
   "metadata": {},
   "source": [
    "#### Top 10 languages by number of native speakers stored in a Pandas Dataframe"
   ]
  },
  {
   "cell_type": "code",
   "execution_count": 162,
   "metadata": {},
   "outputs": [],
   "source": [
    "# This is the url you will scrape in this exercise\n",
    "url = 'https://en.wikipedia.org/wiki/List_of_languages_by_number_of_native_speakers'"
   ]
  },
  {
   "cell_type": "code",
   "execution_count": 167,
   "metadata": {},
   "outputs": [
    {
     "data": {
      "text/plain": [
       "['Mandarin Chinese',\n",
       " 'Spanish',\n",
       " 'English',\n",
       " 'Hindi',\n",
       " 'Bengali',\n",
       " 'Portuguese',\n",
       " 'Russian',\n",
       " 'Japanese',\n",
       " 'Yue Chinese',\n",
       " 'Vietnamese']"
      ]
     },
     "execution_count": 167,
     "metadata": {},
     "output_type": "execute_result"
    }
   ],
   "source": [
    "driver = webdriver.Chrome(PATH)\n",
    "\n",
    "driver.get(url) \n",
    "\n",
    "k=[e.text for e in driver.find_elements(By.CLASS_NAME, 'mw-redirect')]\n",
    "\n",
    "driver.quit()\n",
    "\n",
    "l=k[7:17]\n",
    "\n",
    "l"
   ]
  },
  {
   "cell_type": "markdown",
   "metadata": {},
   "source": [
    "### BONUS QUESTIONS"
   ]
  },
  {
   "cell_type": "markdown",
   "metadata": {},
   "source": [
    "#### Scrape a certain number of tweets of a given Twitter account."
   ]
  },
  {
   "cell_type": "code",
   "execution_count": 168,
   "metadata": {},
   "outputs": [],
   "source": [
    "# This is the url you will scrape in this exercise \n",
    "# You will need to add the account credentials to this url\n",
    "url = 'https://twitter.com/Bhytes1'"
   ]
  },
  {
   "cell_type": "code",
   "execution_count": 172,
   "metadata": {},
   "outputs": [
    {
     "data": {
      "text/plain": [
       "'driver = webdriver.Chrome(PATH)\\n\\ndriver.get(url) \\n\\ntuit=driver.find_element(By.XPATH, \\'//*[@id=\"id__4aaex8a7nto\"]/span\\').text\\n\\ndriver.quit()'"
      ]
     },
     "execution_count": 172,
     "metadata": {},
     "output_type": "execute_result"
    }
   ],
   "source": [
    "\"\"\"driver = webdriver.Chrome(PATH)\n",
    "\n",
    "driver.get(url) \n",
    "\n",
    "tuit=driver.find_element(By.XPATH, '//*[@id=\"id__4aaex8a7nto\"]/span').text\n",
    "\n",
    "driver.quit()\"\"\"\n",
    "\n",
    "#mas de lo mismo"
   ]
  },
  {
   "cell_type": "markdown",
   "metadata": {},
   "source": [
    "#### IMDB's Top 250 data (movie name, Initial release, director name and stars) as a pandas dataframe"
   ]
  },
  {
   "cell_type": "code",
   "execution_count": null,
   "metadata": {},
   "outputs": [],
   "source": [
    "# This is the url you will scrape in this exercise \n",
    "url = 'https://www.imdb.com/chart/top'"
   ]
  },
  {
   "cell_type": "code",
   "execution_count": null,
   "metadata": {},
   "outputs": [],
   "source": [
    "# your code"
   ]
  },
  {
   "cell_type": "markdown",
   "metadata": {},
   "source": [
    "#### Movie name, year and a brief summary of the top 10 random movies (IMDB) as a pandas dataframe."
   ]
  },
  {
   "cell_type": "code",
   "execution_count": null,
   "metadata": {},
   "outputs": [],
   "source": [
    "#This is the url you will scrape in this exercise\n",
    "url = 'http://www.imdb.com/chart/top'"
   ]
  },
  {
   "cell_type": "code",
   "execution_count": null,
   "metadata": {},
   "outputs": [],
   "source": [
    "#your code"
   ]
  },
  {
   "cell_type": "markdown",
   "metadata": {},
   "source": [
    "#### Find the live weather report (temperature, wind speed, description and weather) of a given city."
   ]
  },
  {
   "cell_type": "code",
   "execution_count": null,
   "metadata": {},
   "outputs": [],
   "source": [
    "#https://openweathermap.org/current\n",
    "city = city=input('Enter the city:')\n",
    "url = 'http://api.openweathermap.org/data/2.5/weather?'+'q='+city+'&APPID=b35975e18dc93725acb092f7272cc6b8&units=metric'"
   ]
  },
  {
   "cell_type": "code",
   "execution_count": null,
   "metadata": {},
   "outputs": [],
   "source": [
    "# your code"
   ]
  },
  {
   "cell_type": "markdown",
   "metadata": {},
   "source": [
    "#### Book name,price and stock availability as a pandas dataframe."
   ]
  },
  {
   "cell_type": "code",
   "execution_count": null,
   "metadata": {},
   "outputs": [],
   "source": [
    "# This is the url you will scrape in this exercise. \n",
    "# It is a fictional bookstore created to be scraped. \n",
    "url = 'http://books.toscrape.com/'"
   ]
  },
  {
   "cell_type": "code",
   "execution_count": null,
   "metadata": {},
   "outputs": [],
   "source": [
    "#your code"
   ]
  }
 ],
 "metadata": {
  "kernelspec": {
   "display_name": "Python 3 (ipykernel)",
   "language": "python",
   "name": "python3"
  },
  "language_info": {
   "codemirror_mode": {
    "name": "ipython",
    "version": 3
   },
   "file_extension": ".py",
   "mimetype": "text/x-python",
   "name": "python",
   "nbconvert_exporter": "python",
   "pygments_lexer": "ipython3",
   "version": "3.9.12"
  }
 },
 "nbformat": 4,
 "nbformat_minor": 2
}
