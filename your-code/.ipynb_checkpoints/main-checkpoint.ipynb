{
 "cells": [
  {
   "cell_type": "markdown",
   "metadata": {},
   "source": [
    "# Web Scraping Lab\n",
    "\n",
    "You will find in this notebook some scrapy exercises to practise your scraping skills.\n",
    "\n",
    "**Tips:**\n",
    "\n",
    "- Check the response status code for each request to ensure you have obtained the intended contennt.\n",
    "- Print the response text in each request to understand the kind of info you are getting and its format.\n",
    "- Check for patterns in the response text to extract the data/info requested in each question.\n",
    "- Visit each url and take a look at its source through Chrome DevTools. You'll need to identify the html tags, special class names etc. used for the html content you are expected to extract."
   ]
  },
  {
   "cell_type": "markdown",
   "metadata": {},
   "source": [
    "- [Selenium Doc](https://www.selenium.dev/documentation/)\n",
    "- [Requests library](http://docs.python-requests.org/en/master/#the-user-guide) documentation \n",
    "- [Urllib](https://docs.python.org/3/library/urllib.html#module-urllib)\n",
    "- [re lib](https://docs.python.org/3/library/re.html)\n",
    "- [lxml lib](https://lxml.de/)\n",
    "- [Scrapy](https://scrapy.org/)\n",
    "- [List of HTTP status codes](https://en.wikipedia.org/wiki/List_of_HTTP_status_codes)\n",
    "- [HTML basics](http://www.simplehtmlguide.com/cheatsheet.php)\n",
    "- [CSS basics](https://www.cssbasics.com/#page_start)"
   ]
  },
  {
   "cell_type": "markdown",
   "metadata": {},
   "source": [
    "#### Below are the libraries and modules you may need. `Selenium` and `pandas` are imported for you."
   ]
  },
  {
   "cell_type": "code",
   "execution_count": 1,
   "metadata": {},
   "outputs": [],
   "source": [
    "import pandas as pd\n",
    "from selenium.webdriver.chrome.options import Options\n",
    "from webdriver_manager.chrome import ChromeDriverManager"
   ]
  },
  {
   "cell_type": "markdown",
   "metadata": {},
   "source": [
    "#### Enable the options you may need. In the next cell you have an example of them but you can choose to use them or not."
   ]
  },
  {
   "cell_type": "code",
   "execution_count": 2,
   "metadata": {},
   "outputs": [],
   "source": [
    "#driver configuration\n",
    "opciones=Options()\n",
    "\n",
    "#opciones.add_experimental_option('excludeSwitches', ['enable-automation'])\n",
    "#opciones.add_experimental_option('useAutomationExtension', False)\n",
    "opciones.headless=False    # si True, no aperece la ventana (headless=no visible)\n",
    "opciones.add_argument('--start-maximized')         # comienza maximizado\n",
    "#opciones.add_argument('user-data-dir=selenium')    # mantiene las cookies\n",
    "#opciones.add_extension('driver_folder/adblock.crx')       # adblocker\n",
    "opciones.add_argument('--incognito')"
   ]
  },
  {
   "cell_type": "markdown",
   "metadata": {},
   "source": [
    "#### Download, parse, and print the content from the Trending Developers page from GitHub:"
   ]
  },
  {
   "cell_type": "code",
   "execution_count": 9,
   "metadata": {},
   "outputs": [],
   "source": [
    "# This is the url you will scrape in this exercise\n",
    "url = 'https://github.com/trending/developers'"
   ]
  },
  {
   "cell_type": "code",
   "execution_count": 10,
   "metadata": {},
   "outputs": [],
   "source": [
    "from selenium import webdriver"
   ]
  },
  {
   "cell_type": "code",
   "execution_count": 11,
   "metadata": {},
   "outputs": [
    {
     "name": "stderr",
     "output_type": "stream",
     "text": [
      "C:\\Users\\pabli\\AppData\\Local\\Temp\\ipykernel_9636\\2355184095.py:4: DeprecationWarning: executable_path has been deprecated, please pass in a Service object\n",
      "  driver=webdriver.Chrome(PATH,options=opciones)\n"
     ]
    }
   ],
   "source": [
    "#your code\n",
    "from selenium.webdriver.common.by import By\n",
    "PATH=ChromeDriverManager().install()   \n",
    "driver=webdriver.Chrome(PATH,options=opciones)\n",
    "driver.get(url)\n"
   ]
  },
  {
   "cell_type": "code",
   "execution_count": 13,
   "metadata": {},
   "outputs": [
    {
     "data": {
      "text/plain": [
       "'Nikita Sobolev'"
      ]
     },
     "execution_count": 13,
     "metadata": {},
     "output_type": "execute_result"
    }
   ],
   "source": [
    "article = driver.find_elements(By.CLASS_NAME, 'Box-row')\n",
    "article[0].find_elements(By.TAG_NAME, 'a')[2].text"
   ]
  },
  {
   "cell_type": "code",
   "execution_count": 14,
   "metadata": {},
   "outputs": [],
   "source": [
    "tagname = article[0].find_elements(By.TAG_NAME, 'a')[3].text"
   ]
  },
  {
   "cell_type": "code",
   "execution_count": 15,
   "metadata": {},
   "outputs": [],
   "source": [
    "output = []\n",
    "for i in range(len(article)):\n",
    "    name = article[i].find_elements(By.TAG_NAME, 'a')[2].text\n",
    "    tagname = article[i].find_elements(By.TAG_NAME, 'a')[3].text\n",
    "    output.append(name + ' ' + '(' + tagname + ')' )\n",
    "    \n",
    "    "
   ]
  },
  {
   "cell_type": "code",
   "execution_count": null,
   "metadata": {},
   "outputs": [],
   "source": []
  },
  {
   "cell_type": "markdown",
   "metadata": {},
   "source": [
    "#### Display the names of the trending developers retrieved in the previous step.\n",
    "\n",
    "Your output should be a Python list of developer names. Each name should not contain any html tag.\n",
    "\n",
    "**Instructions:**\n",
    "\n",
    "1. Find out the html tag and class names used for the developer names.\n",
    "\n",
    "1. Use string manipulation techniques to replace whitespaces and linebreaks (i.e. `\\n`) in the *text* of each html element. Use a list to store the clean names.\n",
    "\n",
    "1. Print the list of names.\n",
    "\n",
    "Your output should look like below:\n",
    "\n",
    "```\n",
    "['trimstray (@trimstray)',\n",
    " 'joewalnes (JoeWalnes)',\n",
    " 'charlax (Charles-AxelDein)',\n",
    " 'ForrestKnight (ForrestKnight)',\n",
    " 'revery-ui (revery-ui)',\n",
    " 'alibaba (Alibaba)',\n",
    " 'Microsoft (Microsoft)',\n",
    " 'github (GitHub)',\n",
    " 'facebook (Facebook)',\n",
    " 'boazsegev (Bo)',\n",
    " 'google (Google)',\n",
    " 'cloudfetch',\n",
    " 'sindresorhus (SindreSorhus)',\n",
    " 'tensorflow',\n",
    " 'apache (TheApacheSoftwareFoundation)',\n",
    " 'DevonCrawford (DevonCrawford)',\n",
    " 'ARMmbed (ArmMbed)',\n",
    " 'vuejs (vuejs)',\n",
    " 'fastai (fast.ai)',\n",
    " 'QiShaoXuan (Qi)',\n",
    " 'joelparkerhenderson (JoelParkerHenderson)',\n",
    " 'torvalds (LinusTorvalds)',\n",
    " 'CyC2018',\n",
    " 'komeiji-satori (神楽坂覚々)',\n",
    " 'script-8']\n",
    " ```"
   ]
  },
  {
   "cell_type": "code",
   "execution_count": null,
   "metadata": {},
   "outputs": [],
   "source": [
    "#your code\n"
   ]
  },
  {
   "cell_type": "markdown",
   "metadata": {},
   "source": [
    "#### Display the trending Python repositories in GitHub\n",
    "\n",
    "The steps to solve this problem is similar to the previous one except that you need to find out the repository names instead of developer names."
   ]
  },
  {
   "cell_type": "code",
   "execution_count": 18,
   "metadata": {},
   "outputs": [],
   "source": [
    "# This is the url you will scrape in this exercise\n",
    "url = 'https://github.com/trending/python?since=daily'"
   ]
  },
  {
   "cell_type": "code",
   "execution_count": 19,
   "metadata": {},
   "outputs": [
    {
     "name": "stderr",
     "output_type": "stream",
     "text": [
      "C:\\Users\\pabli\\AppData\\Local\\Temp\\ipykernel_9636\\1270255354.py:4: DeprecationWarning: executable_path has been deprecated, please pass in a Service object\n",
      "  driver=webdriver.Chrome(PATH)\n"
     ]
    }
   ],
   "source": [
    "#your code\n",
    "opciones=Options()\n",
    "PATH=ChromeDriverManager().install()\n",
    "driver=webdriver.Chrome(PATH)\n",
    "driver.get(url)"
   ]
  },
  {
   "cell_type": "code",
   "execution_count": 20,
   "metadata": {},
   "outputs": [
    {
     "data": {
      "text/plain": [
       "'public-apis / public-apis'"
      ]
     },
     "execution_count": 20,
     "metadata": {},
     "output_type": "execute_result"
    }
   ],
   "source": [
    "article = driver.find_elements(By.CLASS_NAME, 'Box-row')\n",
    "article[0].find_elements(By.TAG_NAME, 'a')[1].text"
   ]
  },
  {
   "cell_type": "code",
   "execution_count": 21,
   "metadata": {},
   "outputs": [],
   "source": [
    "lst = []\n",
    "for i in range(len(article)):\n",
    "    if article[i].find_elements(By.TAG_NAME, 'a')[1].text == 'Star':\n",
    "        lst.append(article[i].find_elements(By.TAG_NAME, 'a')[2].text)\n",
    "    else :\n",
    "        lst.append(article[i].find_elements(By.TAG_NAME, 'a')[1].text)\n",
    "        "
   ]
  },
  {
   "cell_type": "code",
   "execution_count": 22,
   "metadata": {},
   "outputs": [
    {
     "data": {
      "text/plain": [
       "['public-apis / public-apis',\n",
       " 'bregman-arie / devops-exercises',\n",
       " 'facebookresearch / fairseq',\n",
       " 'cloneofsimo / paint-with-words-sd',\n",
       " 'Azure / azure-cli',\n",
       " 'caronc / apprise',\n",
       " 'joweich / chat-miner',\n",
       " 'PaddlePaddle / PaddleTS',\n",
       " 'mli / autocut',\n",
       " 'sczhou / CodeFormer',\n",
       " 'unifyai / ivy',\n",
       " 'augmentedstartups / AS-One',\n",
       " 'loTus04 / W4SP-Stealer',\n",
       " 'rwightman / pytorch-image-models',\n",
       " 'iterativv / NostalgiaForInfinity',\n",
       " 'getredash / redash',\n",
       " 'ethereum / consensus-specs',\n",
       " 'd8ahazard / sd_dreambooth_extension',\n",
       " 'microsoft / recommenders',\n",
       " 'zulip / zulip',\n",
       " 'ultralytics / yolov5',\n",
       " 'openai / improved-diffusion',\n",
       " 'facebookresearch / ParlAI',\n",
       " 'aliyun / surftrace',\n",
       " 'NVlabs / stylegan2-ada-pytorch']"
      ]
     },
     "execution_count": 22,
     "metadata": {},
     "output_type": "execute_result"
    }
   ],
   "source": [
    "lst"
   ]
  },
  {
   "cell_type": "markdown",
   "metadata": {},
   "source": [
    "#### Display all the image links from Walt Disney wikipedia page"
   ]
  },
  {
   "cell_type": "code",
   "execution_count": 23,
   "metadata": {},
   "outputs": [],
   "source": [
    "# This is the url you will scrape in this exercise\n",
    "url = 'https://en.wikipedia.org/wiki/Walt_Disney'"
   ]
  },
  {
   "cell_type": "code",
   "execution_count": 24,
   "metadata": {},
   "outputs": [
    {
     "name": "stderr",
     "output_type": "stream",
     "text": [
      "C:\\Users\\pabli\\AppData\\Local\\Temp\\ipykernel_9636\\3994506733.py:4: DeprecationWarning: executable_path has been deprecated, please pass in a Service object\n",
      "  driver=webdriver.Chrome(PATH)\n"
     ]
    }
   ],
   "source": [
    "#your code\n",
    "opciones=Options()\n",
    "PATH=ChromeDriverManager().install()\n",
    "driver=webdriver.Chrome(PATH)\n",
    "driver.get(url)\n"
   ]
  },
  {
   "cell_type": "code",
   "execution_count": 25,
   "metadata": {},
   "outputs": [
    {
     "data": {
      "text/plain": [
       "'https://upload.wikimedia.org/wikipedia/en/thumb/e/e7/Cscr-featured.svg/20px-Cscr-featured.svg.png'"
      ]
     },
     "execution_count": 25,
     "metadata": {},
     "output_type": "execute_result"
    }
   ],
   "source": [
    "foto = driver.find_elements(By.TAG_NAME, \"img\")\n",
    "foto[0].get_attribute(\"src\")"
   ]
  },
  {
   "cell_type": "code",
   "execution_count": 26,
   "metadata": {},
   "outputs": [
    {
     "data": {
      "text/plain": [
       "['https://upload.wikimedia.org/wikipedia/en/thumb/e/e7/Cscr-featured.svg/20px-Cscr-featured.svg.png',\n",
       " 'https://upload.wikimedia.org/wikipedia/en/thumb/8/8c/Extended-protection-shackle.svg/20px-Extended-protection-shackle.svg.png',\n",
       " 'https://upload.wikimedia.org/wikipedia/commons/thumb/d/df/Walt_Disney_1946.JPG/220px-Walt_Disney_1946.JPG',\n",
       " 'https://upload.wikimedia.org/wikipedia/commons/thumb/8/87/Walt_Disney_1942_signature.svg/150px-Walt_Disney_1942_signature.svg.png',\n",
       " 'https://upload.wikimedia.org/wikipedia/commons/thumb/3/3a/Walt_Disney_Birthplace_Exterior_Hermosa_Chicago_Illinois.jpg/220px-Walt_Disney_Birthplace_Exterior_Hermosa_Chicago_Illinois.jpg',\n",
       " 'https://upload.wikimedia.org/wikipedia/commons/thumb/c/c4/Walt_Disney_envelope_ca._1921.jpg/220px-Walt_Disney_envelope_ca._1921.jpg',\n",
       " 'https://upload.wikimedia.org/wikipedia/commons/thumb/0/0d/Trolley_Troubles_poster.jpg/170px-Trolley_Troubles_poster.jpg',\n",
       " 'https://upload.wikimedia.org/wikipedia/en/thumb/4/4e/Steamboat-willie.jpg/170px-Steamboat-willie.jpg',\n",
       " 'https://upload.wikimedia.org/wikipedia/commons/thumb/5/57/Walt_Disney_1935.jpg/170px-Walt_Disney_1935.jpg',\n",
       " 'https://upload.wikimedia.org/wikipedia/commons/thumb/c/cd/Walt_Disney_Snow_white_1937_trailer_screenshot_%2813%29.jpg/220px-Walt_Disney_Snow_white_1937_trailer_screenshot_%2813%29.jpg',\n",
       " 'https://upload.wikimedia.org/wikipedia/commons/thumb/1/15/Disney_drawing_goofy.jpg/170px-Disney_drawing_goofy.jpg',\n",
       " 'https://upload.wikimedia.org/wikipedia/commons/thumb/8/8c/WaltDisneyplansDisneylandDec1954.jpg/220px-WaltDisneyplansDisneylandDec1954.jpg',\n",
       " 'https://upload.wikimedia.org/wikipedia/commons/thumb/f/ff/Walt_disney_portrait_right.jpg/170px-Walt_disney_portrait_right.jpg',\n",
       " 'https://upload.wikimedia.org/wikipedia/commons/thumb/1/1a/Walt_Disney_Grave.JPG/170px-Walt_Disney_Grave.JPG',\n",
       " 'https://upload.wikimedia.org/wikipedia/commons/thumb/2/2d/Roy_O._Disney_with_Company_at_Press_Conference.jpg/170px-Roy_O._Disney_with_Company_at_Press_Conference.jpg',\n",
       " 'https://upload.wikimedia.org/wikipedia/commons/thumb/1/13/DisneySchiphol1951.jpg/220px-DisneySchiphol1951.jpg',\n",
       " 'https://upload.wikimedia.org/wikipedia/commons/thumb/6/6c/Disney1968.jpg/170px-Disney1968.jpg',\n",
       " 'https://upload.wikimedia.org/wikipedia/commons/thumb/b/b0/Disney_Oscar_1953_%28cropped%29.jpg/170px-Disney_Oscar_1953_%28cropped%29.jpg',\n",
       " 'https://upload.wikimedia.org/wikipedia/en/thumb/4/4a/Commons-logo.svg/30px-Commons-logo.svg.png',\n",
       " 'https://upload.wikimedia.org/wikipedia/commons/thumb/4/4c/Wikisource-logo.svg/38px-Wikisource-logo.svg.png',\n",
       " 'https://upload.wikimedia.org/wikipedia/commons/thumb/f/fa/Wikiquote-logo.svg/34px-Wikiquote-logo.svg.png',\n",
       " 'https://upload.wikimedia.org/wikipedia/en/thumb/8/8a/OOjs_UI_icon_edit-ltr-progressive.svg/10px-OOjs_UI_icon_edit-ltr-progressive.svg.png',\n",
       " 'https://upload.wikimedia.org/wikipedia/en/thumb/8/8a/OOjs_UI_icon_edit-ltr-progressive.svg/10px-OOjs_UI_icon_edit-ltr-progressive.svg.png',\n",
       " 'https://upload.wikimedia.org/wikipedia/commons/thumb/e/e3/Disneyland_Resort_logo.svg/135px-Disneyland_Resort_logo.svg.png',\n",
       " 'https://upload.wikimedia.org/wikipedia/commons/thumb/d/da/Animation_disc.svg/20px-Animation_disc.svg.png',\n",
       " 'https://upload.wikimedia.org/wikipedia/en/thumb/6/69/P_vip.svg/19px-P_vip.svg.png',\n",
       " 'https://upload.wikimedia.org/wikipedia/commons/thumb/1/1a/Magic_Kingdom_castle.jpg/15px-Magic_Kingdom_castle.jpg',\n",
       " 'https://upload.wikimedia.org/wikipedia/en/thumb/e/e7/Video-x-generic.svg/19px-Video-x-generic.svg.png',\n",
       " 'https://upload.wikimedia.org/wikipedia/commons/thumb/a/a3/Flag_of_Los_Angeles_County%2C_California.svg/21px-Flag_of_Los_Angeles_County%2C_California.svg.png',\n",
       " 'https://upload.wikimedia.org/wikipedia/commons/thumb/8/8c/Blank_television_set.svg/21px-Blank_television_set.svg.png',\n",
       " 'https://upload.wikimedia.org/wikipedia/en/thumb/a/a4/Flag_of_the_United_States.svg/21px-Flag_of_the_United_States.svg.png',\n",
       " 'https://upload.wikimedia.org/wikipedia/en/thumb/4/4a/Commons-logo.svg/14px-Commons-logo.svg.png',\n",
       " 'https://upload.wikimedia.org/wikipedia/commons/thumb/f/fa/Wikiquote-logo.svg/16px-Wikiquote-logo.svg.png',\n",
       " 'https://upload.wikimedia.org/wikipedia/commons/thumb/4/4c/Wikisource-logo.svg/18px-Wikisource-logo.svg.png',\n",
       " 'https://upload.wikimedia.org/wikipedia/commons/thumb/f/ff/Wikidata-logo.svg/21px-Wikidata-logo.svg.png',\n",
       " 'https://upload.wikimedia.org/wikipedia/en/thumb/8/8a/OOjs_UI_icon_edit-ltr-progressive.svg/10px-OOjs_UI_icon_edit-ltr-progressive.svg.png',\n",
       " 'https://en.wikipedia.org/static/images/footer/wikimedia-button.png',\n",
       " 'https://en.wikipedia.org/static/images/footer/poweredby_mediawiki_88x31.png']"
      ]
     },
     "execution_count": 26,
     "metadata": {},
     "output_type": "execute_result"
    }
   ],
   "source": [
    "lst = []\n",
    "for i in range(len(foto)):\n",
    "    lst.append(foto[i].get_attribute(\"src\"))\n",
    "lst"
   ]
  },
  {
   "cell_type": "markdown",
   "metadata": {},
   "source": [
    "#### Retrieve an arbitary Wikipedia page of \"Python\" and create a list of links on that page"
   ]
  },
  {
   "cell_type": "code",
   "execution_count": 27,
   "metadata": {},
   "outputs": [],
   "source": [
    "# This is the url you will scrape in this exercise\n",
    "url ='https://en.wikipedia.org/wiki/Pythonidae' "
   ]
  },
  {
   "cell_type": "code",
   "execution_count": 28,
   "metadata": {},
   "outputs": [
    {
     "name": "stderr",
     "output_type": "stream",
     "text": [
      "C:\\Users\\pabli\\AppData\\Local\\Temp\\ipykernel_9636\\26198427.py:4: DeprecationWarning: executable_path has been deprecated, please pass in a Service object\n",
      "  driver=webdriver.Chrome(PATH)\n"
     ]
    }
   ],
   "source": [
    "#your code\n",
    "opciones=Options()\n",
    "PATH=ChromeDriverManager().install()\n",
    "driver=webdriver.Chrome(PATH)\n",
    "driver.get(url)\n",
    "\n",
    "\n",
    "\n"
   ]
  },
  {
   "cell_type": "code",
   "execution_count": 29,
   "metadata": {},
   "outputs": [
    {
     "data": {
      "text/plain": [
       "'https://en.wikipedia.org/wiki/File:Wiki_letter_w.svg'"
      ]
     },
     "execution_count": 29,
     "metadata": {},
     "output_type": "execute_result"
    }
   ],
   "source": [
    "article = driver.find_elements(By.TAG_NAME, 'a')\n",
    "article[4].get_attribute(\"href\")"
   ]
  },
  {
   "cell_type": "code",
   "execution_count": 30,
   "metadata": {},
   "outputs": [
    {
     "data": {
      "text/plain": [
       "['https://en.wikipedia.org/wiki/Pythonidae#mw-head',\n",
       " 'https://en.wikipedia.org/wiki/Pythonidae#searchInput',\n",
       " 'https://en.wikipedia.org/wiki/Pythonides',\n",
       " 'https://en.wikipedia.org/wiki/File:Wiki_letter_w.svg',\n",
       " 'https://en.wikipedia.org/wiki/Wikipedia:Manual_of_Style/Lead_section#Length',\n",
       " 'https://en.wikipedia.org/wiki/Wikipedia:Summary_style',\n",
       " 'https://en.wikipedia.org/wiki/Wikipedia:Manual_of_Style/Lead_section#Provide_an_accessible_overview',\n",
       " 'https://en.wikipedia.org/wiki/File:Python_molurus_molurus_2.jpg',\n",
       " 'https://en.wikipedia.org/wiki/Python_molurus',\n",
       " 'https://en.wikipedia.org/wiki/Taxonomy_(biology)']"
      ]
     },
     "execution_count": 30,
     "metadata": {},
     "output_type": "execute_result"
    }
   ],
   "source": [
    "lst= []\n",
    "for i in range(len(article)):\n",
    "    try :\n",
    "    \n",
    "        if \"wiki\" in article[i].get_attribute(\"href\"):\n",
    "            lst.append(article[i].get_attribute(\"href\"))\n",
    "    except:\n",
    "        None\n",
    "lst[:10]\n"
   ]
  },
  {
   "cell_type": "markdown",
   "metadata": {},
   "source": [
    "#### Number of Titles that have changed in the United States Code since its last release point "
   ]
  },
  {
   "cell_type": "code",
   "execution_count": 31,
   "metadata": {},
   "outputs": [],
   "source": [
    "# This is the url you will scrape in this exercise\n",
    "url = 'http://uscode.house.gov/download/download.shtml'"
   ]
  },
  {
   "cell_type": "code",
   "execution_count": 32,
   "metadata": {},
   "outputs": [
    {
     "name": "stderr",
     "output_type": "stream",
     "text": [
      "C:\\Users\\pabli\\AppData\\Local\\Temp\\ipykernel_9636\\3994506733.py:4: DeprecationWarning: executable_path has been deprecated, please pass in a Service object\n",
      "  driver=webdriver.Chrome(PATH)\n"
     ]
    }
   ],
   "source": [
    "#your code\n",
    "opciones=Options()\n",
    "PATH=ChromeDriverManager().install()\n",
    "driver=webdriver.Chrome(PATH)\n",
    "driver.get(url)\n"
   ]
  },
  {
   "cell_type": "code",
   "execution_count": 33,
   "metadata": {},
   "outputs": [
    {
     "data": {
      "text/plain": [
       "9"
      ]
     },
     "execution_count": 33,
     "metadata": {},
     "output_type": "execute_result"
    }
   ],
   "source": [
    "table = driver.find_elements(By.CLASS_NAME  ,'usctitlechanged')\n",
    "len(table)"
   ]
  },
  {
   "cell_type": "markdown",
   "metadata": {},
   "source": [
    "#### A Python list with the top ten FBI's Most Wanted names "
   ]
  },
  {
   "cell_type": "code",
   "execution_count": 34,
   "metadata": {},
   "outputs": [],
   "source": [
    "# This is the url you will scrape in this exercise\n",
    "url = 'https://www.fbi.gov/wanted/topten'"
   ]
  },
  {
   "cell_type": "code",
   "execution_count": 35,
   "metadata": {},
   "outputs": [
    {
     "name": "stderr",
     "output_type": "stream",
     "text": [
      "C:\\Users\\pabli\\AppData\\Local\\Temp\\ipykernel_9636\\3670973883.py:3: DeprecationWarning: executable_path has been deprecated, please pass in a Service object\n",
      "  driver=webdriver.Chrome(PATH)\n"
     ]
    }
   ],
   "source": [
    "opciones=Options()\n",
    "PATH=ChromeDriverManager().install()\n",
    "driver=webdriver.Chrome(PATH)\n",
    "driver.get(url)\n"
   ]
  },
  {
   "cell_type": "code",
   "execution_count": 36,
   "metadata": {},
   "outputs": [
    {
     "data": {
      "text/plain": [
       "'OMAR ALEXANDER CARDENAS'"
      ]
     },
     "execution_count": 36,
     "metadata": {},
     "output_type": "execute_result"
    }
   ],
   "source": [
    "tabla = driver.find_elements(By.CLASS_NAME  ,'title')\n",
    "tabla[1].text"
   ]
  },
  {
   "cell_type": "code",
   "execution_count": 37,
   "metadata": {},
   "outputs": [],
   "source": [
    "#your code \n",
    "tabla = driver.find_elements(By.CLASS_NAME  ,'title')\n",
    "lst = []\n",
    "for i in range (1, len(tabla)):\n",
    "    lst.append(tabla[i].text)"
   ]
  },
  {
   "cell_type": "code",
   "execution_count": 38,
   "metadata": {},
   "outputs": [
    {
     "data": {
      "text/plain": [
       "['OMAR ALEXANDER CARDENAS',\n",
       " 'ALEXIS FLORES',\n",
       " 'JOSE RODOLFO VILLARREAL-HERNANDEZ',\n",
       " 'YULAN ADONAY ARCHAGA CARIAS',\n",
       " 'BHADRESHKUMAR CHETANBHAI PATEL',\n",
       " 'ALEJANDRO ROSALES CASTILLO',\n",
       " 'MICHAEL JAMES PRATT',\n",
       " 'RUJA IGNATOVA',\n",
       " 'ARNOLDO JIMENEZ',\n",
       " 'RAFAEL CARO-QUINTERO']"
      ]
     },
     "execution_count": 38,
     "metadata": {},
     "output_type": "execute_result"
    }
   ],
   "source": [
    "lst"
   ]
  },
  {
   "cell_type": "markdown",
   "metadata": {},
   "source": [
    "####  20 latest earthquakes info (date, time, latitude, longitude and region name) by the EMSC as a pandas dataframe"
   ]
  },
  {
   "cell_type": "code",
   "execution_count": 39,
   "metadata": {},
   "outputs": [],
   "source": [
    "# This is the url you will scrape in this exercise\n",
    "url = 'https://www.emsc-csem.org/Earthquake/'"
   ]
  },
  {
   "cell_type": "code",
   "execution_count": 40,
   "metadata": {},
   "outputs": [
    {
     "name": "stderr",
     "output_type": "stream",
     "text": [
      "C:\\Users\\pabli\\AppData\\Local\\Temp\\ipykernel_9636\\1011783856.py:3: DeprecationWarning: executable_path has been deprecated, please pass in a Service object\n",
      "  driver=webdriver.Chrome(PATH)\n"
     ]
    }
   ],
   "source": [
    "opciones=Options()\n",
    "PATH=ChromeDriverManager().install()\n",
    "driver=webdriver.Chrome(PATH)\n",
    "driver.get(url)"
   ]
  },
  {
   "cell_type": "code",
   "execution_count": 41,
   "metadata": {},
   "outputs": [
    {
     "data": {
      "text/plain": [
       "'2022-11-09   15:06:55.0\\n22min ago\\n12.70  N   88.19  W   33 2.6  OFFSHORE EL SALVADOR\\n2022-11-09   14:58:24.0\\n30min ago\\n17.32  N   100.83  W   12 4.3  GUERRERO, MEXICO\\n2022-11-09   14:51:54.7\\n37min ago\\n35.91  N   90.01  W   7 2.4  ARKANSAS\\n2022-11-09   14:47:27.1\\n41min ago\\n43.92  N   13.26  E   13 2.3  CENTRAL ITALY\\n2022-11-09   14:10:53.7\\n1hr 18min ago\\n35.91  N   117.71  W   2 2.1  CENTRAL CALIFORNIA\\n2022-11-09   13:54:07.6\\n1hr 35min ago\\n43.95  N   13.29  E   10 2.0  CENTRAL ITALY\\n2022-11-09   13:48:48.1\\n1hr 40min ago\\n40.16  N   119.14  W   6 2.4  NEVADA\\n2022-11-09   13:41:43.0\\n1hr 47min ago\\n3.02  S   122.04  E   10 3.1  SULAWESI, INDONESIA\\n2022-11-09   13:37:46.8\\n1hr 51min ago\\n43.95  N   13.31  E   9 2.6  CENTRAL ITALY\\n2022-11-09   13:34:23.2\\n1hr 54min ago\\n43.95  N   13.36  E   7 2.2  CENTRAL ITALY\\n2022-11-09   13:34:05.0\\n1hr 55min ago\\n64.02  N   21.35  W   5 3.2  ICELAND\\n2022-11-09   13:21:37.0\\n2hr 07min ago\\n27.89  S   66.75  W   182 3.1  CATAMARCA, ARGENTINA\\n2022-11-09   13:19:03.0\\n2hr 10min ago\\n11.55  N   87.48  W   30 3.0  NEAR COAST OF NICARAGUA\\n2022-11-09   13:16:24.1\\n2hr 12min ago\\n45.65  N   26.61  E   82 2.8  ROMANIA\\n2022-11-09   13:08:41.0\\n2hr 20min ago\\n18.88  N   121.95  E   113 3.2  LUZON, PHILIPPINES\\n2022-11-09   13:08:02.0\\n2hr 21min ago\\n22.20  S   68.71  W   112 2.8  ANTOFAGASTA, CHILE\\n2022-11-09   13:00:04.7\\n2hr 29min ago\\n19.38  N   66.34  W   11 3.6  PUERTO RICO REGION\\n2022-11-09   12:54:30.9\\n2hr 34min ago\\n58.51  N   152.25  W   35 2.6  KODIAK ISLAND REGION, ALASKA\\n2022-11-09   12:52:25.0\\n2hr 36min ago\\n1.67  N   127.04  E   27 4.3  HALMAHERA, INDONESIA\\n2022-11-09   12:51:38.5\\n2hr 37min ago\\n49.32  N   156.05  E   50 4.4  KURIL ISLANDS\\n2022-11-09   12:45:59.0\\n2hr 43min ago\\n27.80  S   71.24  W   11 2.8  OFFSHORE ATACAMA, CHILE\\n2022-11-09   12:44:13.5\\n2hr 44min ago\\n43.98  N   13.27  E   10 2.4  CENTRAL ITALY\\n2022-11-09   12:33:52.0\\n2hr 55min ago\\n43.90  N   13.39  E   8 2.3  CENTRAL ITALY\\n2022-11-09   12:29:54.0\\n2hr 59min ago\\n33.05  S   68.16  W   10 3.1  MENDOZA, ARGENTINA\\n2022-11-09   12:20:59.8\\n3hr 08min ago\\n43.96  N   13.33  E   9 2.0  CENTRAL ITALY\\n2022-11-09   12:13:03.6\\n3hr 16min ago\\n43.95  N   13.32  E   10 2.2  CENTRAL ITALY\\n2022-11-09   12:10:37.9\\n3hr 18min ago\\n19.16  N   155.38  W   36 2.6  ISLAND OF HAWAII, HAWAII\\n6\\nIII\\n2022-11-09   12:10:05.4\\n3hr 19min ago\\n44.05  N   13.31  E   26 3.9  ADRIATIC SEA\\n2022-11-09   12:02:56.2\\n3hr 26min ago\\n44.01  N   13.27  E   8 3.1  ADRIATIC SEA\\n2022-11-09   11:50:55.0\\n3hr 38min ago\\n8.40  S   119.82  E   142 3.2  FLORES REGION, INDONESIA\\n2022-11-09   11:46:06.2\\n3hr 43min ago\\n19.10  N   155.42  W   30 2.0  ISLAND OF HAWAII, HAWAII\\n2022-11-09   11:41:07.0\\n3hr 48min ago\\n2.98  S   140.05  E   16 2.7  NEAR N COAST OF PAPUA, INDONESIA\\n2022-11-09   11:10:29.0\\n4hr 18min ago\\n11.50  N   87.50  W   78 2.7  NEAR COAST OF NICARAGUA\\n2022-11-09   11:09:26.0\\n4hr 19min ago\\n18.21  N   103.59  W   5 4.1  OFFSHORE MICHOACAN, MEXICO\\n1\\nF\\n2022-11-09   11:08:33.7\\n4hr 20min ago\\n39.89  N   15.74  E   16 2.6  SOUTHERN ITALY\\n2022-11-09   11:03:23.9\\n4hr 25min ago\\n43.91  N   13.34  E   10 2.2  CENTRAL ITALY\\n2022-11-09   11:01:42.9\\n4hr 27min ago\\n43.90  N   13.24  E   10 2.2  CENTRAL ITALY\\n2022-11-09   10:56:24.0\\n4hr 32min ago\\n22.85  S   69.13  W   80 2.6  ANTOFAGASTA, CHILE\\n2022-11-09   10:51:47.4\\n4hr 37min ago\\n43.92  N   13.31  E   10 2.2  CENTRAL ITALY\\n2022-11-09   10:46:21.4\\n4hr 42min ago\\n17.92  N   67.20  W   9 2.5  PUERTO RICO REGION\\n2022-11-09   10:43:58.2\\n4hr 45min ago\\n43.99  N   13.31  E   10 2.1  CENTRAL ITALY\\n2022-11-09   10:38:52.2\\n4hr 50min ago\\n44.04  N   13.32  E   10 2.0  ADRIATIC SEA\\n2022-11-09   10:36:27.0\\n4hr 52min ago\\n18.69  N   103.88  W   4 3.6  OFFSHORE COLIMA, MEXICO\\n2022-11-09   10:31:50.1\\n4hr 57min ago\\n19.41  N   155.29  W   1 2.0  ISLAND OF HAWAII, HAWAII\\n2022-11-09   10:27:49.1\\n5hr 01min ago\\n39.58  S   174.20  E   123 3.0  NORTH ISLAND OF NEW ZEALAND\\n2022-11-09   10:25:20.0\\n5hr 03min ago\\n16.90  N   99.93  W   9 3.5  GUERRERO, MEXICO\\n2022-11-09   10:23:01.2\\n5hr 06min ago\\n43.95  N   13.32  E   9 2.6  CENTRAL ITALY\\n2022-11-09   10:16:34.0\\n5hr 12min ago\\n27.26  N   111.52  W   16 3.6  GULF OF CALIFORNIA\\n2022-11-09   10:14:34.2\\n5hr 14min ago\\n25.68  S   178.32  E   631 6.6  SOUTH OF FIJI ISLANDS\\n2022-11-09   10:12:07.3\\n5hr 17min ago\\n31.54  N   115.64  W   18 2.7  BAJA CALIFORNIA, MEXICO'"
      ]
     },
     "execution_count": 41,
     "metadata": {},
     "output_type": "execute_result"
    }
   ],
   "source": [
    "driver.find_elements(By.TAG_NAME, 'tbody')[4].text"
   ]
  },
  {
   "cell_type": "code",
   "execution_count": 43,
   "metadata": {},
   "outputs": [],
   "source": [
    "tabla=driver.find_elements(By.TAG_NAME, 'tbody')[4]\n",
    "\n",
    "filas=tabla.find_elements(By.TAG_NAME, 'tr')\n",
    "\n",
    "\n",
    "data=[]\n",
    "\n",
    "\n",
    "for f in filas:\n",
    "    \n",
    "    elemen=f.find_elements(By.TAG_NAME, 'td')\n",
    "    \n",
    "    tmp=[]\n",
    "    \n",
    "    for e in range(3,len(elemen)-1):\n",
    "        \n",
    "        if \"N  \" or \"W\" or \"\" not in elemen[e].text:\n",
    "            tmp.append(elemen[e].text)\n",
    "        \n",
    "    data.append(tmp)\n",
    "\n",
    "    \n"
   ]
  },
  {
   "cell_type": "code",
   "execution_count": null,
   "metadata": {},
   "outputs": [],
   "source": [
    "columnas"
   ]
  },
  {
   "cell_type": "code",
   "execution_count": 44,
   "metadata": {},
   "outputs": [],
   "source": [
    "df = pd.DataFrame(data, columns= [\"Date\",\"Latitude\",\"N\",\"Longitude\",\"W\",\"Depth\",\"l\",\"Mach\",\"Region\"])"
   ]
  },
  {
   "cell_type": "code",
   "execution_count": 45,
   "metadata": {},
   "outputs": [],
   "source": [
    "df = df.drop(columns = [\"N\",\"W\",\"Depth\",\"l\",\"Mach\"])\n"
   ]
  },
  {
   "cell_type": "code",
   "execution_count": 53,
   "metadata": {},
   "outputs": [],
   "source": [
    "for e in range(len(df.Date)):\n",
    "    df.Date[e] = df.Date[e][:10]\n",
    "    "
   ]
  },
  {
   "cell_type": "code",
   "execution_count": 63,
   "metadata": {},
   "outputs": [
    {
     "data": {
      "text/html": [
       "<div>\n",
       "<style scoped>\n",
       "    .dataframe tbody tr th:only-of-type {\n",
       "        vertical-align: middle;\n",
       "    }\n",
       "\n",
       "    .dataframe tbody tr th {\n",
       "        vertical-align: top;\n",
       "    }\n",
       "\n",
       "    .dataframe thead th {\n",
       "        text-align: right;\n",
       "    }\n",
       "</style>\n",
       "<table border=\"1\" class=\"dataframe\">\n",
       "  <thead>\n",
       "    <tr style=\"text-align: right;\">\n",
       "      <th></th>\n",
       "      <th>Date</th>\n",
       "      <th>Latitude</th>\n",
       "      <th>Longitude</th>\n",
       "      <th>Region</th>\n",
       "    </tr>\n",
       "  </thead>\n",
       "  <tbody>\n",
       "    <tr>\n",
       "      <th>0</th>\n",
       "      <td>2022-11-09</td>\n",
       "      <td>12.70</td>\n",
       "      <td>88.19</td>\n",
       "      <td>OFFSHORE EL SALVADOR</td>\n",
       "    </tr>\n",
       "    <tr>\n",
       "      <th>1</th>\n",
       "      <td>2022-11-09</td>\n",
       "      <td>17.32</td>\n",
       "      <td>100.83</td>\n",
       "      <td>GUERRERO, MEXICO</td>\n",
       "    </tr>\n",
       "    <tr>\n",
       "      <th>2</th>\n",
       "      <td>2022-11-09</td>\n",
       "      <td>35.91</td>\n",
       "      <td>90.01</td>\n",
       "      <td>ARKANSAS</td>\n",
       "    </tr>\n",
       "    <tr>\n",
       "      <th>3</th>\n",
       "      <td>2022-11-09</td>\n",
       "      <td>43.92</td>\n",
       "      <td>13.26</td>\n",
       "      <td>CENTRAL ITALY</td>\n",
       "    </tr>\n",
       "    <tr>\n",
       "      <th>4</th>\n",
       "      <td>2022-11-09</td>\n",
       "      <td>35.91</td>\n",
       "      <td>117.71</td>\n",
       "      <td>CENTRAL CALIFORNIA</td>\n",
       "    </tr>\n",
       "    <tr>\n",
       "      <th>5</th>\n",
       "      <td>2022-11-09</td>\n",
       "      <td>43.95</td>\n",
       "      <td>13.29</td>\n",
       "      <td>CENTRAL ITALY</td>\n",
       "    </tr>\n",
       "    <tr>\n",
       "      <th>6</th>\n",
       "      <td>2022-11-09</td>\n",
       "      <td>40.16</td>\n",
       "      <td>119.14</td>\n",
       "      <td>NEVADA</td>\n",
       "    </tr>\n",
       "    <tr>\n",
       "      <th>7</th>\n",
       "      <td>2022-11-09</td>\n",
       "      <td>3.02</td>\n",
       "      <td>122.04</td>\n",
       "      <td>SULAWESI, INDONESIA</td>\n",
       "    </tr>\n",
       "    <tr>\n",
       "      <th>8</th>\n",
       "      <td>2022-11-09</td>\n",
       "      <td>43.95</td>\n",
       "      <td>13.31</td>\n",
       "      <td>CENTRAL ITALY</td>\n",
       "    </tr>\n",
       "    <tr>\n",
       "      <th>9</th>\n",
       "      <td>2022-11-09</td>\n",
       "      <td>43.95</td>\n",
       "      <td>13.36</td>\n",
       "      <td>CENTRAL ITALY</td>\n",
       "    </tr>\n",
       "    <tr>\n",
       "      <th>10</th>\n",
       "      <td>2022-11-09</td>\n",
       "      <td>64.02</td>\n",
       "      <td>21.35</td>\n",
       "      <td>ICELAND</td>\n",
       "    </tr>\n",
       "    <tr>\n",
       "      <th>11</th>\n",
       "      <td>2022-11-09</td>\n",
       "      <td>27.89</td>\n",
       "      <td>66.75</td>\n",
       "      <td>CATAMARCA, ARGENTINA</td>\n",
       "    </tr>\n",
       "    <tr>\n",
       "      <th>12</th>\n",
       "      <td>2022-11-09</td>\n",
       "      <td>11.55</td>\n",
       "      <td>87.48</td>\n",
       "      <td>NEAR COAST OF NICARAGUA</td>\n",
       "    </tr>\n",
       "    <tr>\n",
       "      <th>13</th>\n",
       "      <td>2022-11-09</td>\n",
       "      <td>45.65</td>\n",
       "      <td>26.61</td>\n",
       "      <td>ROMANIA</td>\n",
       "    </tr>\n",
       "    <tr>\n",
       "      <th>14</th>\n",
       "      <td>2022-11-09</td>\n",
       "      <td>18.88</td>\n",
       "      <td>121.95</td>\n",
       "      <td>LUZON, PHILIPPINES</td>\n",
       "    </tr>\n",
       "    <tr>\n",
       "      <th>15</th>\n",
       "      <td>2022-11-09</td>\n",
       "      <td>22.20</td>\n",
       "      <td>68.71</td>\n",
       "      <td>ANTOFAGASTA, CHILE</td>\n",
       "    </tr>\n",
       "    <tr>\n",
       "      <th>16</th>\n",
       "      <td>2022-11-09</td>\n",
       "      <td>19.38</td>\n",
       "      <td>66.34</td>\n",
       "      <td>PUERTO RICO REGION</td>\n",
       "    </tr>\n",
       "    <tr>\n",
       "      <th>17</th>\n",
       "      <td>2022-11-09</td>\n",
       "      <td>58.51</td>\n",
       "      <td>152.25</td>\n",
       "      <td>KODIAK ISLAND REGION, ALASKA</td>\n",
       "    </tr>\n",
       "    <tr>\n",
       "      <th>18</th>\n",
       "      <td>2022-11-09</td>\n",
       "      <td>1.67</td>\n",
       "      <td>127.04</td>\n",
       "      <td>HALMAHERA, INDONESIA</td>\n",
       "    </tr>\n",
       "    <tr>\n",
       "      <th>19</th>\n",
       "      <td>2022-11-09</td>\n",
       "      <td>49.32</td>\n",
       "      <td>156.05</td>\n",
       "      <td>KURIL ISLANDS</td>\n",
       "    </tr>\n",
       "  </tbody>\n",
       "</table>\n",
       "</div>"
      ],
      "text/plain": [
       "          Date Latitude Longitude                         Region\n",
       "0   2022-11-09   12.70     88.19            OFFSHORE EL SALVADOR\n",
       "1   2022-11-09   17.32    100.83                GUERRERO, MEXICO\n",
       "2   2022-11-09   35.91     90.01                        ARKANSAS\n",
       "3   2022-11-09   43.92     13.26                   CENTRAL ITALY\n",
       "4   2022-11-09   35.91    117.71              CENTRAL CALIFORNIA\n",
       "5   2022-11-09   43.95     13.29                   CENTRAL ITALY\n",
       "6   2022-11-09   40.16    119.14                          NEVADA\n",
       "7   2022-11-09    3.02    122.04             SULAWESI, INDONESIA\n",
       "8   2022-11-09   43.95     13.31                   CENTRAL ITALY\n",
       "9   2022-11-09   43.95     13.36                   CENTRAL ITALY\n",
       "10  2022-11-09   64.02     21.35                         ICELAND\n",
       "11  2022-11-09   27.89     66.75            CATAMARCA, ARGENTINA\n",
       "12  2022-11-09   11.55     87.48         NEAR COAST OF NICARAGUA\n",
       "13  2022-11-09   45.65     26.61                         ROMANIA\n",
       "14  2022-11-09   18.88    121.95              LUZON, PHILIPPINES\n",
       "15  2022-11-09   22.20     68.71              ANTOFAGASTA, CHILE\n",
       "16  2022-11-09   19.38     66.34              PUERTO RICO REGION\n",
       "17  2022-11-09   58.51    152.25    KODIAK ISLAND REGION, ALASKA\n",
       "18  2022-11-09    1.67    127.04            HALMAHERA, INDONESIA\n",
       "19  2022-11-09   49.32    156.05                   KURIL ISLANDS"
      ]
     },
     "execution_count": 63,
     "metadata": {},
     "output_type": "execute_result"
    }
   ],
   "source": [
    "df[:20]"
   ]
  },
  {
   "cell_type": "markdown",
   "metadata": {},
   "source": [
    "#### Count number of tweets by a given Twitter account."
   ]
  },
  {
   "cell_type": "markdown",
   "metadata": {},
   "source": [
    "You will need to include a ***try/except block*** for account names not found. \n",
    "<br>***Hint:*** the program should count the number of tweets for any provided account"
   ]
  },
  {
   "cell_type": "code",
   "execution_count": 55,
   "metadata": {},
   "outputs": [],
   "source": [
    "# This is the url you will scrape in this exercise \n",
    "# You will need to add the account credentials to this url\n",
    "url = 'https://twitter.com/aspas10'"
   ]
  },
  {
   "cell_type": "code",
   "execution_count": 180,
   "metadata": {},
   "outputs": [],
   "source": [
    "import time\n",
    "def number(cred):\n",
    "    try:\n",
    "        url = f'https://twitter.com/{cred}'\n",
    "        opciones=Options()\n",
    "        PATH=ChromeDriverManager().install()\n",
    "        driver=webdriver.Chrome(PATH)\n",
    "        time.sleep(1)\n",
    "        driver.get(url)\n",
    "        time.sleep(2)\n",
    "        return driver.find_elements(By.CLASS_NAME, \"css-901oao.css-1hf3ou5.r-14j79pv.r-37j5jr.r-n6v787.r-16dba41.r-1cwl3u0.r-bcqeeo.r-qvutc0\")[0].text\n",
    "    except:\n",
    "        print(\"doesnt exist\")"
   ]
  },
  {
   "cell_type": "code",
   "execution_count": 181,
   "metadata": {},
   "outputs": [
    {
     "name": "stderr",
     "output_type": "stream",
     "text": [
      "C:\\Users\\pabli\\AppData\\Local\\Temp\\ipykernel_9636\\411982344.py:7: DeprecationWarning: executable_path has been deprecated, please pass in a Service object\n",
      "  driver=webdriver.Chrome(PATH)\n"
     ]
    },
    {
     "name": "stdout",
     "output_type": "stream",
     "text": [
      "doesnt exist\n"
     ]
    }
   ],
   "source": [
    "number(\"adsnkjnadsjndajsnjadnskjn\")"
   ]
  },
  {
   "cell_type": "markdown",
   "metadata": {},
   "source": [
    "#### Number of followers of a given twitter account"
   ]
  },
  {
   "cell_type": "markdown",
   "metadata": {},
   "source": [
    "You will need to include a ***try/except block*** in case account/s name not found. \n",
    "<br>***Hint:*** the program should count the followers for any provided account"
   ]
  },
  {
   "cell_type": "code",
   "execution_count": 199,
   "metadata": {},
   "outputs": [],
   "source": [
    "# This is the url you will scrape in this exercise \n",
    "# You will need to add the account credentials to this url\n",
    "url = 'https://twitter.com/aspas10'"
   ]
  },
  {
   "cell_type": "code",
   "execution_count": 200,
   "metadata": {},
   "outputs": [
    {
     "name": "stderr",
     "output_type": "stream",
     "text": [
      "C:\\Users\\pabli\\AppData\\Local\\Temp\\ipykernel_9636\\3994506733.py:4: DeprecationWarning: executable_path has been deprecated, please pass in a Service object\n",
      "  driver=webdriver.Chrome(PATH)\n"
     ]
    }
   ],
   "source": [
    "#your code\n",
    "opciones=Options()\n",
    "PATH=ChromeDriverManager().install()\n",
    "driver=webdriver.Chrome(PATH)\n",
    "driver.get(url)\n"
   ]
  },
  {
   "cell_type": "code",
   "execution_count": 198,
   "metadata": {},
   "outputs": [
    {
     "data": {
      "text/plain": [
       "'Aceptar todas las cookies'"
      ]
     },
     "execution_count": 198,
     "metadata": {},
     "output_type": "execute_result"
    }
   ],
   "source": [
    "driver.find_elements(By.CLASS_NAME, \"css-901oao.css-16my406.r-poiln3.r-bcqeeo.r-qvutc0\")[10].text"
   ]
  },
  {
   "cell_type": "code",
   "execution_count": 205,
   "metadata": {},
   "outputs": [],
   "source": [
    "import time\n",
    "def follow(cred):\n",
    "    try:\n",
    "        url = f'https://twitter.com/{cred}'\n",
    "        opciones=Options()\n",
    "        PATH=ChromeDriverManager().install()\n",
    "        driver=webdriver.Chrome(PATH)\n",
    "        time.sleep(1)\n",
    "        driver.get(url)\n",
    "        time.sleep(2)\n",
    "        return driver.find_elements(By.CLASS_NAME, \"css-901oao.css-16my406.r-18jsvk2.r-poiln3.r-1b43r93.r-b88u0q.r-1cwl3u0.r-bcqeeo.r-qvutc0\")[1].text\n",
    "    except:\n",
    "        print(\"doesnt exist\")"
   ]
  },
  {
   "cell_type": "code",
   "execution_count": 206,
   "metadata": {},
   "outputs": [
    {
     "name": "stderr",
     "output_type": "stream",
     "text": [
      "C:\\Users\\pabli\\AppData\\Local\\Temp\\ipykernel_9636\\4090728953.py:7: DeprecationWarning: executable_path has been deprecated, please pass in a Service object\n",
      "  driver=webdriver.Chrome(PATH)\n"
     ]
    },
    {
     "data": {
      "text/plain": [
       "'259,9 mil'"
      ]
     },
     "execution_count": 206,
     "metadata": {},
     "output_type": "execute_result"
    }
   ],
   "source": [
    "follow(\"aspas10\")"
   ]
  },
  {
   "cell_type": "code",
   "execution_count": 201,
   "metadata": {},
   "outputs": [],
   "source": [
    "string=\"css-901oao css-16my406 r-18jsvk2 r-poiln3 r-1b43r93 r-b88u0q r-1cwl3u0 r-bcqeeo r-qvutc0\""
   ]
  },
  {
   "cell_type": "code",
   "execution_count": 202,
   "metadata": {},
   "outputs": [
    {
     "data": {
      "text/plain": [
       "'css-901oao.css-16my406.r-18jsvk2.r-poiln3.r-1b43r93.r-b88u0q.r-1cwl3u0.r-bcqeeo.r-qvutc0'"
      ]
     },
     "execution_count": 202,
     "metadata": {},
     "output_type": "execute_result"
    }
   ],
   "source": [
    "string.replace(\" \",\".\")"
   ]
  },
  {
   "cell_type": "code",
   "execution_count": 173,
   "metadata": {},
   "outputs": [],
   "source": [
    "\n"
   ]
  },
  {
   "cell_type": "code",
   "execution_count": 175,
   "metadata": {},
   "outputs": [
    {
     "name": "stderr",
     "output_type": "stream",
     "text": [
      "C:\\Users\\pabli\\AppData\\Local\\Temp\\ipykernel_9636\\814029292.py:7: DeprecationWarning: executable_path has been deprecated, please pass in a Service object\n",
      "  driver=webdriver.Chrome(PATH)\n"
     ]
    },
    {
     "data": {
      "text/plain": [
       "'2.530 Tweets'"
      ]
     },
     "execution_count": 175,
     "metadata": {},
     "output_type": "execute_result"
    }
   ],
   "source": [
    "follow(\"BeratStuff\")"
   ]
  },
  {
   "cell_type": "code",
   "execution_count": null,
   "metadata": {},
   "outputs": [],
   "source": [
    "driver.find_element(By.XPATH,'//*[@id=\"react-root\"]/div/div/div[2]/main/div/div/div/div/div/div[3]/div/div/div/div/div[5]/div[2]/a/span[1]/span').text"
   ]
  },
  {
   "cell_type": "markdown",
   "metadata": {},
   "source": [
    "#### List all language names and number of related articles in the order they appear in wikipedia.org"
   ]
  },
  {
   "cell_type": "code",
   "execution_count": 73,
   "metadata": {},
   "outputs": [],
   "source": [
    "# This is the url you will scrape in this exercise\n",
    "url = 'https://www.wikipedia.org/'"
   ]
  },
  {
   "cell_type": "code",
   "execution_count": 74,
   "metadata": {},
   "outputs": [
    {
     "name": "stderr",
     "output_type": "stream",
     "text": [
      "C:\\Users\\pabli\\AppData\\Local\\Temp\\ipykernel_9636\\1270255354.py:4: DeprecationWarning: executable_path has been deprecated, please pass in a Service object\n",
      "  driver=webdriver.Chrome(PATH)\n"
     ]
    }
   ],
   "source": [
    "#your code\n",
    "opciones=Options()\n",
    "PATH=ChromeDriverManager().install()\n",
    "driver=webdriver.Chrome(PATH)\n",
    "driver.get(url)"
   ]
  },
  {
   "cell_type": "code",
   "execution_count": 83,
   "metadata": {},
   "outputs": [],
   "source": [
    "table = driver.find_elements(By.CLASS_NAME  ,'central-featured-lang')"
   ]
  },
  {
   "cell_type": "code",
   "execution_count": 96,
   "metadata": {},
   "outputs": [
    {
     "data": {
      "text/plain": [
       "'Español'"
      ]
     },
     "execution_count": 96,
     "metadata": {},
     "output_type": "execute_result"
    }
   ],
   "source": [
    "table[0].text.split(\"\\n\")[0]"
   ]
  },
  {
   "cell_type": "code",
   "execution_count": 101,
   "metadata": {},
   "outputs": [
    {
     "data": {
      "text/plain": [
       "'1755000'"
      ]
     },
     "execution_count": 101,
     "metadata": {},
     "output_type": "execute_result"
    }
   ],
   "source": [
    "table[0].text.split(\"\\n\")[1].split(\"+\")[0].replace(\" \",\"\")"
   ]
  },
  {
   "cell_type": "code",
   "execution_count": 102,
   "metadata": {},
   "outputs": [
    {
     "data": {
      "text/html": [
       "<div>\n",
       "<style scoped>\n",
       "    .dataframe tbody tr th:only-of-type {\n",
       "        vertical-align: middle;\n",
       "    }\n",
       "\n",
       "    .dataframe tbody tr th {\n",
       "        vertical-align: top;\n",
       "    }\n",
       "\n",
       "    .dataframe thead th {\n",
       "        text-align: right;\n",
       "    }\n",
       "</style>\n",
       "<table border=\"1\" class=\"dataframe\">\n",
       "  <thead>\n",
       "    <tr style=\"text-align: right;\">\n",
       "      <th></th>\n",
       "      <th>language</th>\n",
       "      <th>number of articles</th>\n",
       "    </tr>\n",
       "  </thead>\n",
       "  <tbody>\n",
       "    <tr>\n",
       "      <th>0</th>\n",
       "      <td>Español</td>\n",
       "      <td>1755000</td>\n",
       "    </tr>\n",
       "    <tr>\n",
       "      <th>1</th>\n",
       "      <td>English</td>\n",
       "      <td>6458000</td>\n",
       "    </tr>\n",
       "    <tr>\n",
       "      <th>2</th>\n",
       "      <td>日本語</td>\n",
       "      <td>1314000</td>\n",
       "    </tr>\n",
       "    <tr>\n",
       "      <th>3</th>\n",
       "      <td>Русский</td>\n",
       "      <td>1798000</td>\n",
       "    </tr>\n",
       "    <tr>\n",
       "      <th>4</th>\n",
       "      <td>Français</td>\n",
       "      <td>2400000</td>\n",
       "    </tr>\n",
       "    <tr>\n",
       "      <th>5</th>\n",
       "      <td>Deutsch</td>\n",
       "      <td>2667000</td>\n",
       "    </tr>\n",
       "    <tr>\n",
       "      <th>6</th>\n",
       "      <td>Italiano</td>\n",
       "      <td>1742000</td>\n",
       "    </tr>\n",
       "    <tr>\n",
       "      <th>7</th>\n",
       "      <td>中文</td>\n",
       "      <td>1256000</td>\n",
       "    </tr>\n",
       "    <tr>\n",
       "      <th>8</th>\n",
       "      <td>Português</td>\n",
       "      <td>1085000</td>\n",
       "    </tr>\n",
       "    <tr>\n",
       "      <th>9</th>\n",
       "      <td>العربية</td>\n",
       "      <td>1159000</td>\n",
       "    </tr>\n",
       "  </tbody>\n",
       "</table>\n",
       "</div>"
      ],
      "text/plain": [
       "    language number of articles\n",
       "0    Español            1755000\n",
       "1    English            6458000\n",
       "2        日本語            1314000\n",
       "3    Русский            1798000\n",
       "4   Français            2400000\n",
       "5    Deutsch            2667000\n",
       "6   Italiano            1742000\n",
       "7         中文            1256000\n",
       "8  Português            1085000\n",
       "9    العربية            1159000"
      ]
     },
     "execution_count": 102,
     "metadata": {},
     "output_type": "execute_result"
    }
   ],
   "source": [
    "lst = []\n",
    "for i in range(10):\n",
    "    language = table[i].text.split(\"\\n\")[0]\n",
    "    amount = table[i].text.split(\"\\n\")[1].split(\"+\")[0].replace(\" \",\"\")\n",
    "    lst.append({'language': language,\n",
    "                         'number of articles': amount})\n",
    "df2 =pd.DataFrame(lst)\n",
    "df2\n",
    "    \n",
    "    "
   ]
  },
  {
   "cell_type": "markdown",
   "metadata": {},
   "source": [
    "#### A list with the different kind of datasets available in data.gov.uk "
   ]
  },
  {
   "cell_type": "code",
   "execution_count": 103,
   "metadata": {},
   "outputs": [],
   "source": [
    "# This is the url you will scrape in this exercise\n",
    "url = 'https://data.gov.uk/'"
   ]
  },
  {
   "cell_type": "code",
   "execution_count": 104,
   "metadata": {},
   "outputs": [
    {
     "name": "stderr",
     "output_type": "stream",
     "text": [
      "C:\\Users\\pabli\\AppData\\Local\\Temp\\ipykernel_9636\\2124610176.py:4: DeprecationWarning: executable_path has been deprecated, please pass in a Service object\n",
      "  driver=webdriver.Chrome(PATH)\n"
     ]
    }
   ],
   "source": [
    "#your code \n",
    "opciones=Options()\n",
    "PATH=ChromeDriverManager().install()\n",
    "driver=webdriver.Chrome(PATH)\n",
    "driver.get(url)"
   ]
  },
  {
   "cell_type": "code",
   "execution_count": 114,
   "metadata": {},
   "outputs": [
    {
     "data": {
      "text/plain": [
       "'Business and economy'"
      ]
     },
     "execution_count": 114,
     "metadata": {},
     "output_type": "execute_result"
    }
   ],
   "source": [
    "links = driver.find_elements(By.CLASS_NAME  ,'govuk-link')\n",
    "links[4].text"
   ]
  },
  {
   "cell_type": "code",
   "execution_count": 115,
   "metadata": {},
   "outputs": [],
   "source": [
    "lst = []\n",
    "for i in range(4,len(links)):\n",
    "    lst.append(links[i].text)\n",
    "    "
   ]
  },
  {
   "cell_type": "code",
   "execution_count": 116,
   "metadata": {},
   "outputs": [
    {
     "data": {
      "text/plain": [
       "['Business and economy',\n",
       " 'Crime and justice',\n",
       " 'Defence',\n",
       " 'Education',\n",
       " 'Environment',\n",
       " 'Government',\n",
       " 'Government spending',\n",
       " 'Health',\n",
       " 'Mapping',\n",
       " 'Society',\n",
       " 'Towns and cities',\n",
       " 'Transport',\n",
       " 'Digital service performance',\n",
       " 'Government reference data']"
      ]
     },
     "execution_count": 116,
     "metadata": {},
     "output_type": "execute_result"
    }
   ],
   "source": [
    "lst"
   ]
  },
  {
   "cell_type": "markdown",
   "metadata": {},
   "source": [
    "#### Top 10 languages by number of native speakers stored in a Pandas Dataframe"
   ]
  },
  {
   "cell_type": "code",
   "execution_count": 117,
   "metadata": {},
   "outputs": [],
   "source": [
    "# This is the url you will scrape in this exercise\n",
    "url = 'https://en.wikipedia.org/wiki/List_of_languages_by_number_of_native_speakers'"
   ]
  },
  {
   "cell_type": "code",
   "execution_count": 118,
   "metadata": {},
   "outputs": [
    {
     "name": "stderr",
     "output_type": "stream",
     "text": [
      "C:\\Users\\pabli\\AppData\\Local\\Temp\\ipykernel_9636\\1270255354.py:4: DeprecationWarning: executable_path has been deprecated, please pass in a Service object\n",
      "  driver=webdriver.Chrome(PATH)\n"
     ]
    }
   ],
   "source": [
    "#your code\n",
    "opciones=Options()\n",
    "PATH=ChromeDriverManager().install()\n",
    "driver=webdriver.Chrome(PATH)\n",
    "driver.get(url)"
   ]
  },
  {
   "cell_type": "code",
   "execution_count": 125,
   "metadata": {},
   "outputs": [
    {
     "data": {
      "text/plain": [
       "'Mandarin Chinese\\n(incl. Standard Chinese, but excl. other varieties) 920 Sino-Tibetan Sinitic\\nSpanish 475 Indo-European Romance\\nEnglish 373 Indo-European Germanic\\nHindi\\n(excl. Urdu) 344 Indo-European Indo-Aryan\\nBengali 234 Indo-European Indo-Aryan\\nPortuguese 232 Indo-European Romance\\nRussian 154 Indo-European Balto-Slavic\\nJapanese 125 Japonic Japanese\\nYue Chinese\\n(incl. Cantonese) 85.2 Sino-Tibetan Sinitic\\nVietnamese 84.6 Austroasiatic Vietic\\nMarathi 83.1 Indo-European Indo-Aryan\\nTelugu 82.7 Dravidian South-Central\\nTurkish 82.2 Turkic Oghuz\\nWu Chinese\\n(incl. Shanghainese) 81.8 Sino-Tibetan Sinitic\\nKorean 81.7 Koreanic language isolate\\nFrench 79.9 Indo-European Romance\\nTamil 78.4 Dravidian South\\nStandard German 75.6 Indo-European Germanic\\nEgyptian Spoken Arabic\\n(excl. Saʽidi Arabic) 74.8 Afroasiatic Semitic\\nUrdu\\n(excl. Hindi) 70.2 Indo-European Indo-Aryan\\nJavanese 68.3 Austronesian Malayo-Polynesian\\nWestern Punjabi\\n(excl. Eastern Punjabi) 66.4 Indo-European Indo-Aryan\\nItalian 64.8 Indo-European Romance\\nGujarati 57.0 Indo-European Indo-Aryan\\nIranian Persian\\n(excl. Dari and Tajik) 56.4 Indo-European Iranian\\nBhojpuri 52.3 Indo-European Indo-Aryan\\nHausa 50.8 Afroasiatic Chadic'"
      ]
     },
     "execution_count": 125,
     "metadata": {},
     "output_type": "execute_result"
    }
   ],
   "source": [
    "driver.find_elements(By.TAG_NAME, 'tbody')[0].text"
   ]
  },
  {
   "cell_type": "code",
   "execution_count": 128,
   "metadata": {},
   "outputs": [],
   "source": [
    "tabla=driver.find_elements(By.TAG_NAME, 'tbody')[0]\n",
    "\n",
    "filas=tabla.find_elements(By.TAG_NAME, 'tr')\n",
    "\n",
    "\n",
    "data=[]\n",
    "\n",
    "\n",
    "for f in filas:\n",
    "    \n",
    "    elemen=f.find_elements(By.TAG_NAME, 'td')\n",
    "    \n",
    "    tmp=[]\n",
    "    \n",
    "    for e in range(len(elemen)):\n",
    "        \n",
    "        tmp.append(elemen[e].text)\n",
    "        \n",
    "    data.append(tmp)"
   ]
  },
  {
   "cell_type": "code",
   "execution_count": 129,
   "metadata": {},
   "outputs": [
    {
     "data": {
      "text/plain": [
       "[['Mandarin Chinese\\n(incl. Standard Chinese, but excl. other varieties)',\n",
       "  '920',\n",
       "  'Sino-Tibetan',\n",
       "  'Sinitic'],\n",
       " ['Spanish', '475', 'Indo-European', 'Romance'],\n",
       " ['English', '373', 'Indo-European', 'Germanic'],\n",
       " ['Hindi\\n(excl. Urdu)', '344', 'Indo-European', 'Indo-Aryan'],\n",
       " ['Bengali', '234', 'Indo-European', 'Indo-Aryan'],\n",
       " ['Portuguese', '232', 'Indo-European', 'Romance'],\n",
       " ['Russian', '154', 'Indo-European', 'Balto-Slavic'],\n",
       " ['Japanese', '125', 'Japonic', 'Japanese'],\n",
       " ['Yue Chinese\\n(incl. Cantonese)', '85.2', 'Sino-Tibetan', 'Sinitic'],\n",
       " ['Vietnamese', '84.6', 'Austroasiatic', 'Vietic'],\n",
       " ['Marathi', '83.1', 'Indo-European', 'Indo-Aryan'],\n",
       " ['Telugu', '82.7', 'Dravidian', 'South-Central'],\n",
       " ['Turkish', '82.2', 'Turkic', 'Oghuz'],\n",
       " ['Wu Chinese\\n(incl. Shanghainese)', '81.8', 'Sino-Tibetan', 'Sinitic'],\n",
       " ['Korean', '81.7', 'Koreanic', 'language isolate'],\n",
       " ['French', '79.9', 'Indo-European', 'Romance'],\n",
       " ['Tamil', '78.4', 'Dravidian', 'South'],\n",
       " ['Standard German', '75.6', 'Indo-European', 'Germanic'],\n",
       " ['Egyptian Spoken Arabic\\n(excl. Saʽidi Arabic)',\n",
       "  '74.8',\n",
       "  'Afroasiatic',\n",
       "  'Semitic'],\n",
       " ['Urdu\\n(excl. Hindi)', '70.2', 'Indo-European', 'Indo-Aryan'],\n",
       " ['Javanese', '68.3', 'Austronesian', 'Malayo-Polynesian'],\n",
       " ['Western Punjabi\\n(excl. Eastern Punjabi)',\n",
       "  '66.4',\n",
       "  'Indo-European',\n",
       "  'Indo-Aryan'],\n",
       " ['Italian', '64.8', 'Indo-European', 'Romance'],\n",
       " ['Gujarati', '57.0', 'Indo-European', 'Indo-Aryan'],\n",
       " ['Iranian Persian\\n(excl. Dari and Tajik)',\n",
       "  '56.4',\n",
       "  'Indo-European',\n",
       "  'Iranian'],\n",
       " ['Bhojpuri', '52.3', 'Indo-European', 'Indo-Aryan'],\n",
       " ['Hausa', '50.8', 'Afroasiatic', 'Chadic']]"
      ]
     },
     "execution_count": 129,
     "metadata": {},
     "output_type": "execute_result"
    }
   ],
   "source": [
    "data"
   ]
  },
  {
   "cell_type": "code",
   "execution_count": 136,
   "metadata": {},
   "outputs": [],
   "source": [
    "df = pd.DataFrame(data, columns= [\"Language\",\"Speakers\",\"Language_Family\",\"Branch\"])"
   ]
  },
  {
   "cell_type": "code",
   "execution_count": 137,
   "metadata": {},
   "outputs": [],
   "source": [
    "for e in range(len(df.Language)):\n",
    "    df.Language[e] = df.Language[e].split(\"\\n\")[0]"
   ]
  },
  {
   "cell_type": "code",
   "execution_count": 138,
   "metadata": {},
   "outputs": [],
   "source": [
    "df = df.head(10)"
   ]
  },
  {
   "cell_type": "code",
   "execution_count": 139,
   "metadata": {},
   "outputs": [
    {
     "data": {
      "text/html": [
       "<div>\n",
       "<style scoped>\n",
       "    .dataframe tbody tr th:only-of-type {\n",
       "        vertical-align: middle;\n",
       "    }\n",
       "\n",
       "    .dataframe tbody tr th {\n",
       "        vertical-align: top;\n",
       "    }\n",
       "\n",
       "    .dataframe thead th {\n",
       "        text-align: right;\n",
       "    }\n",
       "</style>\n",
       "<table border=\"1\" class=\"dataframe\">\n",
       "  <thead>\n",
       "    <tr style=\"text-align: right;\">\n",
       "      <th></th>\n",
       "      <th>Language</th>\n",
       "      <th>Speakers</th>\n",
       "      <th>Language_Family</th>\n",
       "      <th>Branch</th>\n",
       "    </tr>\n",
       "  </thead>\n",
       "  <tbody>\n",
       "    <tr>\n",
       "      <th>0</th>\n",
       "      <td>Mandarin Chinese</td>\n",
       "      <td>920</td>\n",
       "      <td>Sino-Tibetan</td>\n",
       "      <td>Sinitic</td>\n",
       "    </tr>\n",
       "    <tr>\n",
       "      <th>1</th>\n",
       "      <td>Spanish</td>\n",
       "      <td>475</td>\n",
       "      <td>Indo-European</td>\n",
       "      <td>Romance</td>\n",
       "    </tr>\n",
       "    <tr>\n",
       "      <th>2</th>\n",
       "      <td>English</td>\n",
       "      <td>373</td>\n",
       "      <td>Indo-European</td>\n",
       "      <td>Germanic</td>\n",
       "    </tr>\n",
       "    <tr>\n",
       "      <th>3</th>\n",
       "      <td>Hindi</td>\n",
       "      <td>344</td>\n",
       "      <td>Indo-European</td>\n",
       "      <td>Indo-Aryan</td>\n",
       "    </tr>\n",
       "    <tr>\n",
       "      <th>4</th>\n",
       "      <td>Bengali</td>\n",
       "      <td>234</td>\n",
       "      <td>Indo-European</td>\n",
       "      <td>Indo-Aryan</td>\n",
       "    </tr>\n",
       "    <tr>\n",
       "      <th>5</th>\n",
       "      <td>Portuguese</td>\n",
       "      <td>232</td>\n",
       "      <td>Indo-European</td>\n",
       "      <td>Romance</td>\n",
       "    </tr>\n",
       "    <tr>\n",
       "      <th>6</th>\n",
       "      <td>Russian</td>\n",
       "      <td>154</td>\n",
       "      <td>Indo-European</td>\n",
       "      <td>Balto-Slavic</td>\n",
       "    </tr>\n",
       "    <tr>\n",
       "      <th>7</th>\n",
       "      <td>Japanese</td>\n",
       "      <td>125</td>\n",
       "      <td>Japonic</td>\n",
       "      <td>Japanese</td>\n",
       "    </tr>\n",
       "    <tr>\n",
       "      <th>8</th>\n",
       "      <td>Yue Chinese</td>\n",
       "      <td>85.2</td>\n",
       "      <td>Sino-Tibetan</td>\n",
       "      <td>Sinitic</td>\n",
       "    </tr>\n",
       "    <tr>\n",
       "      <th>9</th>\n",
       "      <td>Vietnamese</td>\n",
       "      <td>84.6</td>\n",
       "      <td>Austroasiatic</td>\n",
       "      <td>Vietic</td>\n",
       "    </tr>\n",
       "  </tbody>\n",
       "</table>\n",
       "</div>"
      ],
      "text/plain": [
       "           Language Speakers Language_Family        Branch\n",
       "0  Mandarin Chinese      920    Sino-Tibetan       Sinitic\n",
       "1           Spanish      475   Indo-European       Romance\n",
       "2           English      373   Indo-European      Germanic\n",
       "3             Hindi      344   Indo-European    Indo-Aryan\n",
       "4           Bengali      234   Indo-European    Indo-Aryan\n",
       "5        Portuguese      232   Indo-European       Romance\n",
       "6           Russian      154   Indo-European  Balto-Slavic\n",
       "7          Japanese      125         Japonic      Japanese\n",
       "8       Yue Chinese     85.2    Sino-Tibetan       Sinitic\n",
       "9        Vietnamese     84.6   Austroasiatic        Vietic"
      ]
     },
     "execution_count": 139,
     "metadata": {},
     "output_type": "execute_result"
    }
   ],
   "source": [
    "df"
   ]
  },
  {
   "cell_type": "markdown",
   "metadata": {},
   "source": [
    "### BONUS QUESTIONS"
   ]
  },
  {
   "cell_type": "markdown",
   "metadata": {},
   "source": [
    "#### Scrape a certain number of tweets of a given Twitter account."
   ]
  },
  {
   "cell_type": "code",
   "execution_count": 209,
   "metadata": {},
   "outputs": [],
   "source": [
    "# This is the url you will scrape in this exercise \n",
    "# You will need to add the account credentials to this url\n",
    "url = 'https://twitter.com/kennethdalglish'"
   ]
  },
  {
   "cell_type": "code",
   "execution_count": 210,
   "metadata": {},
   "outputs": [
    {
     "name": "stderr",
     "output_type": "stream",
     "text": [
      "C:\\Users\\pabli\\AppData\\Local\\Temp\\ipykernel_9636\\4010337175.py:4: DeprecationWarning: executable_path has been deprecated, please pass in a Service object\n",
      "  driver=webdriver.Chrome(PATH)\n"
     ]
    }
   ],
   "source": [
    "# your code\n",
    "opciones=Options()\n",
    "PATH=ChromeDriverManager().install()\n",
    "driver=webdriver.Chrome(PATH)\n",
    "driver.get(url)"
   ]
  },
  {
   "cell_type": "code",
   "execution_count": 215,
   "metadata": {},
   "outputs": [],
   "source": [
    "tweet = driver.find_elements(By.CLASS_NAME, 'css-1dbjc4n.r-1iusvr4.r-16y2uox.r-1777fci.r-kzbkwu')"
   ]
  },
  {
   "cell_type": "code",
   "execution_count": 216,
   "metadata": {},
   "outputs": [],
   "source": [
    "lst = []\n",
    "for i in range(len(tweet)):\n",
    "    lst.append(tweet[i].text)\n",
    "    "
   ]
  },
  {
   "cell_type": "code",
   "execution_count": 217,
   "metadata": {},
   "outputs": [
    {
     "data": {
      "text/plain": [
       "['Sir Kenny Dalglish\\n@kennethdalglish\\n·\\n13 sept.\\n“Respect costs nothing and goes both ways.” \\n\\nBrilliantly put. \\n\\nI hope everybody at Anfield can respect these wishes tonight. KD\\nHillsborough Survivors Support Alliance\\n@HillsboroughSu1\\n·\\n13 sept.\\nEveryone attending tonight’s match, please show respect and observe the minutes silence. You probably think that any backlash won’t affect you but it will affect us and family members with the increase in abuse over Hillsborough. Respect costs nothing and that goes both ways \\n1.566\\n8.074',\n",
       " 'Sir Kenny Dalglish\\n@kennethdalglish\\n·\\n8 sept.\\nRest in Peace Your Majesty\\n728\\n11,5 mil',\n",
       " 'Sir Kenny Dalglish\\n@kennethdalglish\\n·\\n28 ago.\\nUnbelievable coincidence by the way! Hail hail!  YNWA\\nCeltic Football Club\\n@CelticFC\\n·\\n28 ago.\\nAbsolutely Incredible.\\n  \\n#DUFCCEL | #cinchPrem | #COYBIG \\n69\\n633\\n11,6 mil',\n",
       " 'Sir Kenny Dalglish\\n@kennethdalglish\\n·\\n27 ago.\\nNever mind Henderson the footballer, this says everything about Jordan the man. Jordan - you set an example to people all over the world. \\n\\nRIP Olivia. YNWA\\nJordan Henderson\\n@JHenderson\\n·\\n27 ago.\\nThat was for Olivia  #YNWA\\n140\\n1.734\\n29 mil']"
      ]
     },
     "execution_count": 217,
     "metadata": {},
     "output_type": "execute_result"
    }
   ],
   "source": [
    "lst"
   ]
  },
  {
   "cell_type": "code",
   "execution_count": 211,
   "metadata": {},
   "outputs": [
    {
     "data": {
      "text/plain": [
       "'css-1dbjc4n.r-1iusvr4.r-16y2uox.r-1777fci.r-kzbkwu'"
      ]
     },
     "execution_count": 211,
     "metadata": {},
     "output_type": "execute_result"
    }
   ],
   "source": [
    "\"css-1dbjc4n r-1iusvr4 r-16y2uox r-1777fci r-kzbkwu\".replace(\" \",\".\")"
   ]
  },
  {
   "cell_type": "markdown",
   "metadata": {},
   "source": [
    "#### IMDB's Top 250 data (movie name, Initial release, director name and stars) as a pandas dataframe"
   ]
  },
  {
   "cell_type": "code",
   "execution_count": 218,
   "metadata": {},
   "outputs": [],
   "source": [
    "# This is the url you will scrape in this exercise \n",
    "url = 'https://www.imdb.com/chart/top'"
   ]
  },
  {
   "cell_type": "code",
   "execution_count": 219,
   "metadata": {},
   "outputs": [
    {
     "name": "stderr",
     "output_type": "stream",
     "text": [
      "C:\\Users\\pabli\\AppData\\Local\\Temp\\ipykernel_9636\\4010337175.py:4: DeprecationWarning: executable_path has been deprecated, please pass in a Service object\n",
      "  driver=webdriver.Chrome(PATH)\n"
     ]
    }
   ],
   "source": [
    "# your code\n",
    "opciones=Options()\n",
    "PATH=ChromeDriverManager().install()\n",
    "driver=webdriver.Chrome(PATH)\n",
    "driver.get(url)"
   ]
  },
  {
   "cell_type": "code",
   "execution_count": 225,
   "metadata": {},
   "outputs": [
    {
     "data": {
      "text/plain": [
       "'Cadena perpetua'"
      ]
     },
     "execution_count": 225,
     "metadata": {},
     "output_type": "execute_result"
    }
   ],
   "source": [
    "driver.find_elements(By.CLASS_NAME, \"titleColumn\")[0].find_element(By.TAG_NAME,\"a\").text"
   ]
  },
  {
   "cell_type": "code",
   "execution_count": 235,
   "metadata": {},
   "outputs": [
    {
     "data": {
      "text/plain": [
       "'1994'"
      ]
     },
     "execution_count": 235,
     "metadata": {},
     "output_type": "execute_result"
    }
   ],
   "source": [
    "driver.find_elements(By.CLASS_NAME, \"titleColumn\")[0].find_element(By.CLASS_NAME,\"secondaryInfo\").text.replace(\"(\",\"\").replace(\")\",\"\")"
   ]
  },
  {
   "cell_type": "code",
   "execution_count": 241,
   "metadata": {},
   "outputs": [
    {
     "data": {
      "text/plain": [
       "'Frank Darabont '"
      ]
     },
     "execution_count": 241,
     "metadata": {},
     "output_type": "execute_result"
    }
   ],
   "source": [
    "driver.find_elements(By.CLASS_NAME, \"titleColumn\")[0].find_element(By.TAG_NAME,\"a\").get_attribute('title').split(\"(\")[0]"
   ]
  },
  {
   "cell_type": "code",
   "execution_count": 252,
   "metadata": {},
   "outputs": [
    {
     "data": {
      "text/plain": [
       "'Tim Robbins, Morgan Freeman'"
      ]
     },
     "execution_count": 252,
     "metadata": {},
     "output_type": "execute_result"
    }
   ],
   "source": [
    "driver.find_elements(By.CLASS_NAME, \"titleColumn\")[0].find_element(By.TAG_NAME,\"a\").get_attribute('title').rsplit(\"(dir.), \")[1]"
   ]
  },
  {
   "cell_type": "code",
   "execution_count": 256,
   "metadata": {},
   "outputs": [
    {
     "name": "stdout",
     "output_type": "stream",
     "text": [
      "CPU times: total: 5.88 s\n",
      "Wall time: 1min 52s\n"
     ]
    },
    {
     "data": {
      "text/html": [
       "<div>\n",
       "<style scoped>\n",
       "    .dataframe tbody tr th:only-of-type {\n",
       "        vertical-align: middle;\n",
       "    }\n",
       "\n",
       "    .dataframe tbody tr th {\n",
       "        vertical-align: top;\n",
       "    }\n",
       "\n",
       "    .dataframe thead th {\n",
       "        text-align: right;\n",
       "    }\n",
       "</style>\n",
       "<table border=\"1\" class=\"dataframe\">\n",
       "  <thead>\n",
       "    <tr style=\"text-align: right;\">\n",
       "      <th></th>\n",
       "      <th>Movie_Name</th>\n",
       "      <th>Release_Year</th>\n",
       "      <th>Director</th>\n",
       "      <th>Actors</th>\n",
       "    </tr>\n",
       "  </thead>\n",
       "  <tbody>\n",
       "    <tr>\n",
       "      <th>0</th>\n",
       "      <td>Cadena perpetua</td>\n",
       "      <td>1994</td>\n",
       "      <td>Frank Darabont</td>\n",
       "      <td>Tim Robbins, Morgan Freeman</td>\n",
       "    </tr>\n",
       "    <tr>\n",
       "      <th>1</th>\n",
       "      <td>El padrino</td>\n",
       "      <td>1972</td>\n",
       "      <td>Francis Ford Coppola</td>\n",
       "      <td>Marlon Brando, Al Pacino</td>\n",
       "    </tr>\n",
       "    <tr>\n",
       "      <th>2</th>\n",
       "      <td>El caballero oscuro</td>\n",
       "      <td>2008</td>\n",
       "      <td>Christopher Nolan</td>\n",
       "      <td>Christian Bale, Heath Ledger</td>\n",
       "    </tr>\n",
       "    <tr>\n",
       "      <th>3</th>\n",
       "      <td>El padrino (parte II)</td>\n",
       "      <td>1974</td>\n",
       "      <td>Francis Ford Coppola</td>\n",
       "      <td>Al Pacino, Robert De Niro</td>\n",
       "    </tr>\n",
       "    <tr>\n",
       "      <th>4</th>\n",
       "      <td>12 hombres sin piedad</td>\n",
       "      <td>1957</td>\n",
       "      <td>Sidney Lumet</td>\n",
       "      <td>Henry Fonda, Lee J. Cobb</td>\n",
       "    </tr>\n",
       "    <tr>\n",
       "      <th>5</th>\n",
       "      <td>La lista de Schindler</td>\n",
       "      <td>1993</td>\n",
       "      <td>Steven Spielberg</td>\n",
       "      <td>Liam Neeson, Ralph Fiennes</td>\n",
       "    </tr>\n",
       "    <tr>\n",
       "      <th>6</th>\n",
       "      <td>El señor de los anillos: El retorno del rey</td>\n",
       "      <td>2003</td>\n",
       "      <td>Peter Jackson</td>\n",
       "      <td>Elijah Wood, Viggo Mortensen</td>\n",
       "    </tr>\n",
       "    <tr>\n",
       "      <th>7</th>\n",
       "      <td>Pulp Fiction</td>\n",
       "      <td>1994</td>\n",
       "      <td>Quentin Tarantino</td>\n",
       "      <td>John Travolta, Uma Thurman</td>\n",
       "    </tr>\n",
       "    <tr>\n",
       "      <th>8</th>\n",
       "      <td>El señor de los anillos: La comunidad del anillo</td>\n",
       "      <td>2001</td>\n",
       "      <td>Peter Jackson</td>\n",
       "      <td>Elijah Wood, Ian McKellen</td>\n",
       "    </tr>\n",
       "    <tr>\n",
       "      <th>9</th>\n",
       "      <td>El bueno, el feo y el malo</td>\n",
       "      <td>1966</td>\n",
       "      <td>Sergio Leone</td>\n",
       "      <td>Clint Eastwood, Eli Wallach</td>\n",
       "    </tr>\n",
       "  </tbody>\n",
       "</table>\n",
       "</div>"
      ],
      "text/plain": [
       "                                         Movie_Name Release_Year  \\\n",
       "0                                   Cadena perpetua         1994   \n",
       "1                                        El padrino         1972   \n",
       "2                               El caballero oscuro         2008   \n",
       "3                             El padrino (parte II)         1974   \n",
       "4                             12 hombres sin piedad         1957   \n",
       "5                             La lista de Schindler         1993   \n",
       "6       El señor de los anillos: El retorno del rey         2003   \n",
       "7                                      Pulp Fiction         1994   \n",
       "8  El señor de los anillos: La comunidad del anillo         2001   \n",
       "9                        El bueno, el feo y el malo         1966   \n",
       "\n",
       "                Director                        Actors  \n",
       "0        Frank Darabont    Tim Robbins, Morgan Freeman  \n",
       "1  Francis Ford Coppola       Marlon Brando, Al Pacino  \n",
       "2     Christopher Nolan   Christian Bale, Heath Ledger  \n",
       "3  Francis Ford Coppola      Al Pacino, Robert De Niro  \n",
       "4          Sidney Lumet       Henry Fonda, Lee J. Cobb  \n",
       "5      Steven Spielberg     Liam Neeson, Ralph Fiennes  \n",
       "6         Peter Jackson   Elijah Wood, Viggo Mortensen  \n",
       "7     Quentin Tarantino     John Travolta, Uma Thurman  \n",
       "8         Peter Jackson      Elijah Wood, Ian McKellen  \n",
       "9          Sergio Leone    Clint Eastwood, Eli Wallach  "
      ]
     },
     "execution_count": 256,
     "metadata": {},
     "output_type": "execute_result"
    }
   ],
   "source": [
    "%%time\n",
    "lst = []\n",
    "for i in range(len(driver.find_elements(By.CLASS_NAME, \"titleColumn\"))):\n",
    "    name = driver.find_elements(By.CLASS_NAME, \"titleColumn\")[i].find_element(By.TAG_NAME,\"a\").text\n",
    "    year = driver.find_elements(By.CLASS_NAME, \"titleColumn\")[i].find_element(By.CLASS_NAME,\"secondaryInfo\").text.replace(\"(\",\"\").replace(\")\",\"\")\n",
    "    director= driver.find_elements(By.CLASS_NAME, \"titleColumn\")[i].find_element(By.TAG_NAME,\"a\").get_attribute('title').split(\"(\")[0]\n",
    "    actors = driver.find_elements(By.CLASS_NAME, \"titleColumn\")[i].find_element(By.TAG_NAME,\"a\").get_attribute('title').rsplit(\"(dir.), \")[1]\n",
    "    lst.append({'Movie_Name': name,\n",
    "                         'Release_Year': year, 'Director': director , 'Actors': actors})\n",
    "df2 =pd.DataFrame(lst)\n",
    "df2.head(10)\n",
    "    "
   ]
  },
  {
   "cell_type": "markdown",
   "metadata": {},
   "source": [
    "#### Movie name, year and a brief summary of the top 10 random movies (IMDB) as a pandas dataframe."
   ]
  },
  {
   "cell_type": "code",
   "execution_count": 257,
   "metadata": {},
   "outputs": [],
   "source": [
    "#This is the url you will scrape in this exercise\n",
    "url = 'http://www.imdb.com/chart/top'"
   ]
  },
  {
   "cell_type": "code",
   "execution_count": 258,
   "metadata": {},
   "outputs": [
    {
     "name": "stderr",
     "output_type": "stream",
     "text": [
      "C:\\Users\\pabli\\AppData\\Local\\Temp\\ipykernel_9636\\1270255354.py:4: DeprecationWarning: executable_path has been deprecated, please pass in a Service object\n",
      "  driver=webdriver.Chrome(PATH)\n"
     ]
    }
   ],
   "source": [
    "#your code\n",
    "opciones=Options()\n",
    "PATH=ChromeDriverManager().install()\n",
    "driver=webdriver.Chrome(PATH)\n",
    "driver.get(url)"
   ]
  },
  {
   "cell_type": "code",
   "execution_count": null,
   "metadata": {},
   "outputs": [],
   "source": []
  },
  {
   "cell_type": "markdown",
   "metadata": {},
   "source": [
    "#### Find the live weather report (temperature, wind speed, description and weather) of a given city."
   ]
  },
  {
   "cell_type": "code",
   "execution_count": null,
   "metadata": {},
   "outputs": [],
   "source": [
    "#https://openweathermap.org/current\n",
    "city = city=input('Enter the city:')\n",
    "url = 'http://api.openweathermap.org/data/2.5/weather?'+'q='+city+'&APPID=b35975e18dc93725acb092f7272cc6b8&units=metric'"
   ]
  },
  {
   "cell_type": "code",
   "execution_count": null,
   "metadata": {},
   "outputs": [],
   "source": [
    "# your code"
   ]
  },
  {
   "cell_type": "markdown",
   "metadata": {},
   "source": [
    "#### Book name,price and stock availability as a pandas dataframe."
   ]
  },
  {
   "cell_type": "code",
   "execution_count": null,
   "metadata": {},
   "outputs": [],
   "source": [
    "# This is the url you will scrape in this exercise. \n",
    "# It is a fictional bookstore created to be scraped. \n",
    "url = 'http://books.toscrape.com/'"
   ]
  },
  {
   "cell_type": "code",
   "execution_count": null,
   "metadata": {},
   "outputs": [],
   "source": [
    "#your code"
   ]
  }
 ],
 "metadata": {
  "kernelspec": {
   "display_name": "Python 3 (ipykernel)",
   "language": "python",
   "name": "python3"
  },
  "language_info": {
   "codemirror_mode": {
    "name": "ipython",
    "version": 3
   },
   "file_extension": ".py",
   "mimetype": "text/x-python",
   "name": "python",
   "nbconvert_exporter": "python",
   "pygments_lexer": "ipython3",
   "version": "3.9.12"
  }
 },
 "nbformat": 4,
 "nbformat_minor": 2
}
