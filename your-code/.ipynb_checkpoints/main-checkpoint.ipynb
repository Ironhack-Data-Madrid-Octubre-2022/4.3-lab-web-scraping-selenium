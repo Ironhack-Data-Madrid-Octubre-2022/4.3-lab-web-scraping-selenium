{
 "cells": [
  {
   "cell_type": "markdown",
   "metadata": {},
   "source": [
    "# Web Scraping Lab\n",
    "\n",
    "You will find in this notebook some scrapy exercises to practise your scraping skills.\n",
    "\n",
    "**Tips:**\n",
    "\n",
    "- Check the response status code for each request to ensure you have obtained the intended contennt.\n",
    "- Print the response text in each request to understand the kind of info you are getting and its format.\n",
    "- Check for patterns in the response text to extract the data/info requested in each question.\n",
    "- Visit each url and take a look at its source through Chrome DevTools. You'll need to identify the html tags, special class names etc. used for the html content you are expected to extract."
   ]
  },
  {
   "cell_type": "markdown",
   "metadata": {},
   "source": [
    "- [Selenium Doc](https://www.selenium.dev/documentation/)\n",
    "- [Requests library](http://docs.python-requests.org/en/master/#the-user-guide) documentation \n",
    "- [Urllib](https://docs.python.org/3/library/urllib.html#module-urllib)\n",
    "- [re lib](https://docs.python.org/3/library/re.html)\n",
    "- [lxml lib](https://lxml.de/)\n",
    "- [Scrapy](https://scrapy.org/)\n",
    "- [List of HTTP status codes](https://en.wikipedia.org/wiki/List_of_HTTP_status_codes)\n",
    "- [HTML basics](http://www.simplehtmlguide.com/cheatsheet.php)\n",
    "- [CSS basics](https://www.cssbasics.com/#page_start)"
   ]
  },
  {
   "cell_type": "markdown",
   "metadata": {},
   "source": [
    "#### Below are the libraries and modules you may need. `Selenium` and `pandas` are imported for you."
   ]
  },
  {
   "cell_type": "code",
   "execution_count": 1,
   "metadata": {},
   "outputs": [
    {
     "name": "stdout",
     "output_type": "stream",
     "text": [
      "Requirement already satisfied: webdriver-manager in /opt/anaconda3/envs/clase/lib/python3.7/site-packages (3.8.4)\n",
      "Requirement already satisfied: tqdm in /opt/anaconda3/envs/clase/lib/python3.7/site-packages (from webdriver-manager) (4.64.1)\n",
      "Requirement already satisfied: requests in /opt/anaconda3/envs/clase/lib/python3.7/site-packages (from webdriver-manager) (2.28.1)\n",
      "Requirement already satisfied: python-dotenv in /opt/anaconda3/envs/clase/lib/python3.7/site-packages (from webdriver-manager) (0.21.0)\n",
      "Requirement already satisfied: certifi>=2017.4.17 in /opt/anaconda3/envs/clase/lib/python3.7/site-packages (from requests->webdriver-manager) (2022.9.24)\n",
      "Requirement already satisfied: charset-normalizer<3,>=2 in /opt/anaconda3/envs/clase/lib/python3.7/site-packages (from requests->webdriver-manager) (2.1.1)\n",
      "Requirement already satisfied: urllib3<1.27,>=1.21.1 in /opt/anaconda3/envs/clase/lib/python3.7/site-packages (from requests->webdriver-manager) (1.26.12)\n",
      "Requirement already satisfied: idna<4,>=2.5 in /opt/anaconda3/envs/clase/lib/python3.7/site-packages (from requests->webdriver-manager) (3.4)\n",
      "Note: you may need to restart the kernel to use updated packages.\n"
     ]
    }
   ],
   "source": [
    "%pip install webdriver-manager"
   ]
  },
  {
   "cell_type": "code",
   "execution_count": 2,
   "metadata": {},
   "outputs": [],
   "source": [
    "from webdriver_manager.chrome import ChromeDriverManager"
   ]
  },
  {
   "cell_type": "code",
   "execution_count": 3,
   "metadata": {},
   "outputs": [],
   "source": [
    "import pandas as pd\n",
    "from selenium import webdriver\n",
    "from selenium.webdriver.chrome.options import Options\n",
    "from webdriver_manager.chrome import ChromeDriverManager\n",
    "\n",
    "from webdriver_manager.chrome import ChromeDriverManager\n",
    "from selenium.webdriver.common.by import By\n",
    "import time\n",
    "import warnings\n",
    "warnings.filterwarnings('ignore')"
   ]
  },
  {
   "cell_type": "code",
   "execution_count": 4,
   "metadata": {
    "scrolled": true
   },
   "outputs": [],
   "source": [
    "\n",
    "PATH=ChromeDriverManager().install()   # instala el driver\n",
    "\n",
    "driver=webdriver.Chrome(PATH)         # abre una pestaña de chrome\n",
    "\n",
    "driver.get('https://www.google.es')     # entra en google"
   ]
  },
  {
   "cell_type": "markdown",
   "metadata": {},
   "source": [
    "#### Enable the options you may need. In the next cell you have an example of them but you can choose to use them or not."
   ]
  },
  {
   "cell_type": "code",
   "execution_count": 5,
   "metadata": {},
   "outputs": [],
   "source": [
    "#driver configuration\n",
    "opciones=Options()\n",
    "\n",
    "opciones.add_experimental_option('excludeSwitches', ['enable-automation'])\n",
    "opciones.add_experimental_option('useAutomationExtension', False)\n",
    "opciones.headless=False    # si True, no aperece la ventana (headless=no visible)\n",
    "opciones.add_argument('--start-maximized')         # comienza maximizado\n",
    "#opciones.add_argument('user-data-dir=selenium')    # mantiene las cookies\n",
    "#opciones.add_extension('driver_folder/adblock.crx')       # adblocker\n",
    "opciones.add_argument('--incognito')"
   ]
  },
  {
   "cell_type": "code",
   "execution_count": 6,
   "metadata": {
    "scrolled": true
   },
   "outputs": [],
   "source": [
    "PATH=ChromeDriverManager().install()   # instala el driver\n",
    "\n",
    "driver = webdriver.Chrome(PATH,options = opciones)"
   ]
  },
  {
   "cell_type": "markdown",
   "metadata": {},
   "source": [
    "#### Download, parse, and print the content from the Trending Developers page from GitHub:"
   ]
  },
  {
   "cell_type": "code",
   "execution_count": 7,
   "metadata": {},
   "outputs": [],
   "source": [
    "\n",
    "PATH=ChromeDriverManager().install()"
   ]
  },
  {
   "cell_type": "code",
   "execution_count": 8,
   "metadata": {},
   "outputs": [],
   "source": [
    "# This is the url you will scrape in this exercise\n",
    "url = 'https://github.com/trending/developers'"
   ]
  },
  {
   "cell_type": "code",
   "execution_count": 9,
   "metadata": {},
   "outputs": [],
   "source": [
    "driver=webdriver.Chrome(PATH)\n",
    "driver.get(url)"
   ]
  },
  {
   "cell_type": "markdown",
   "metadata": {},
   "source": [
    "#### Display the names of the trending developers retrieved in the previous step.\n",
    "\n",
    "Your output should be a Python list of developer names. Each name should not contain any html tag.\n",
    "\n",
    "**Instructions:**\n",
    "\n",
    "1. Find out the html tag and class names used for the developer names.\n",
    "\n",
    "1. Use string manipulation techniques to replace whitespaces and linebreaks (i.e. `\\n`) in the *text* of each html element. Use a list to store the clean names.\n",
    "\n",
    "1. Print the list of names.\n",
    "\n",
    "Your output should look like below:\n",
    "\n",
    "```\n",
    "['trimstray (@trimstray)',\n",
    " 'joewalnes (JoeWalnes)',\n",
    " 'charlax (Charles-AxelDein)',\n",
    " 'ForrestKnight (ForrestKnight)',\n",
    " 'revery-ui (revery-ui)',\n",
    " 'alibaba (Alibaba)',\n",
    " 'Microsoft (Microsoft)',\n",
    " 'github (GitHub)',\n",
    " 'facebook (Facebook)',\n",
    " 'boazsegev (Bo)',\n",
    " 'google (Google)',\n",
    " 'cloudfetch',\n",
    " 'sindresorhus (SindreSorhus)',\n",
    " 'tensorflow',\n",
    " 'apache (TheApacheSoftwareFoundation)',\n",
    " 'DevonCrawford (DevonCrawford)',\n",
    " 'ARMmbed (ArmMbed)',\n",
    " 'vuejs (vuejs)',\n",
    " 'fastai (fast.ai)',\n",
    " 'QiShaoXuan (Qi)',\n",
    " 'joelparkerhenderson (JoelParkerHenderson)',\n",
    " 'torvalds (LinusTorvalds)',\n",
    " 'CyC2018',\n",
    " 'komeiji-satori (神楽坂覚々)',\n",
    " 'script-8']\n",
    " ```"
   ]
  },
  {
   "cell_type": "code",
   "execution_count": 10,
   "metadata": {},
   "outputs": [
    {
     "data": {
      "text/plain": [
       "'Nikita Sobolev'"
      ]
     },
     "execution_count": 10,
     "metadata": {},
     "output_type": "execute_result"
    }
   ],
   "source": [
    "driver.find_element(By.XPATH, '//*[@id=\"pa-sobolevn\"]/div[2]/div[1]/div[1]/h1').text"
   ]
  },
  {
   "cell_type": "code",
   "execution_count": 11,
   "metadata": {},
   "outputs": [
    {
     "data": {
      "text/plain": [
       "[<selenium.webdriver.remote.webelement.WebElement (session=\"a206ef2f304a86dd07b3741d3e29d01d\", element=\"ce9cad93-3d49-4b98-8da8-4d8dd28b36d5\")>,\n",
       " <selenium.webdriver.remote.webelement.WebElement (session=\"a206ef2f304a86dd07b3741d3e29d01d\", element=\"bb02db42-b531-4b15-a156-9dc3515fea75\")>,\n",
       " <selenium.webdriver.remote.webelement.WebElement (session=\"a206ef2f304a86dd07b3741d3e29d01d\", element=\"20f837e5-a1eb-41f3-94cf-6980355ccf7d\")>,\n",
       " <selenium.webdriver.remote.webelement.WebElement (session=\"a206ef2f304a86dd07b3741d3e29d01d\", element=\"2ddaba4c-857f-45b5-b00b-67072717e108\")>,\n",
       " <selenium.webdriver.remote.webelement.WebElement (session=\"a206ef2f304a86dd07b3741d3e29d01d\", element=\"4a9c1216-6f24-421e-a362-2f690bba8cc5\")>,\n",
       " <selenium.webdriver.remote.webelement.WebElement (session=\"a206ef2f304a86dd07b3741d3e29d01d\", element=\"9338f983-e408-4dce-97d8-69c8a58158a3\")>,\n",
       " <selenium.webdriver.remote.webelement.WebElement (session=\"a206ef2f304a86dd07b3741d3e29d01d\", element=\"b2298910-3dd2-41f8-954b-b41991d9d1a4\")>,\n",
       " <selenium.webdriver.remote.webelement.WebElement (session=\"a206ef2f304a86dd07b3741d3e29d01d\", element=\"c1abdf9a-0c7e-4758-891d-969f181a192a\")>,\n",
       " <selenium.webdriver.remote.webelement.WebElement (session=\"a206ef2f304a86dd07b3741d3e29d01d\", element=\"c770490a-ece4-4997-a1ca-39f4289bc03d\")>,\n",
       " <selenium.webdriver.remote.webelement.WebElement (session=\"a206ef2f304a86dd07b3741d3e29d01d\", element=\"ae4c9e76-4295-4e38-89b3-be83575ef577\")>,\n",
       " <selenium.webdriver.remote.webelement.WebElement (session=\"a206ef2f304a86dd07b3741d3e29d01d\", element=\"dea4c3a8-899e-4e8c-b5f0-6920a24b702f\")>,\n",
       " <selenium.webdriver.remote.webelement.WebElement (session=\"a206ef2f304a86dd07b3741d3e29d01d\", element=\"5afedb5b-8038-461a-9d02-8bceeae435d0\")>,\n",
       " <selenium.webdriver.remote.webelement.WebElement (session=\"a206ef2f304a86dd07b3741d3e29d01d\", element=\"cd16e3fe-1f16-4020-b10d-24efa20028a1\")>,\n",
       " <selenium.webdriver.remote.webelement.WebElement (session=\"a206ef2f304a86dd07b3741d3e29d01d\", element=\"0ca86ac8-fae8-42bb-97cd-0d94fb80c3e9\")>,\n",
       " <selenium.webdriver.remote.webelement.WebElement (session=\"a206ef2f304a86dd07b3741d3e29d01d\", element=\"61499fb1-ddd0-49ad-be73-d1bba8096e7a\")>,\n",
       " <selenium.webdriver.remote.webelement.WebElement (session=\"a206ef2f304a86dd07b3741d3e29d01d\", element=\"9b0b9788-3b89-47bd-995c-3a4a47833291\")>,\n",
       " <selenium.webdriver.remote.webelement.WebElement (session=\"a206ef2f304a86dd07b3741d3e29d01d\", element=\"79330ea1-f2ca-402f-873f-70e98631809c\")>,\n",
       " <selenium.webdriver.remote.webelement.WebElement (session=\"a206ef2f304a86dd07b3741d3e29d01d\", element=\"15785ea3-1488-4e28-ac24-dad2c6e2d3f2\")>,\n",
       " <selenium.webdriver.remote.webelement.WebElement (session=\"a206ef2f304a86dd07b3741d3e29d01d\", element=\"c33fdecd-ac6e-4ccd-a4f3-a8d9546282fd\")>,\n",
       " <selenium.webdriver.remote.webelement.WebElement (session=\"a206ef2f304a86dd07b3741d3e29d01d\", element=\"9f355229-f624-4a2c-abcc-dc9617f5b507\")>,\n",
       " <selenium.webdriver.remote.webelement.WebElement (session=\"a206ef2f304a86dd07b3741d3e29d01d\", element=\"e788ddb2-96d4-4074-bab5-464f035017dc\")>,\n",
       " <selenium.webdriver.remote.webelement.WebElement (session=\"a206ef2f304a86dd07b3741d3e29d01d\", element=\"cb2af94a-61b0-414b-8f99-b97d5b97d5e9\")>,\n",
       " <selenium.webdriver.remote.webelement.WebElement (session=\"a206ef2f304a86dd07b3741d3e29d01d\", element=\"8aa48215-f38e-462c-9fa5-e3e9452ed478\")>,\n",
       " <selenium.webdriver.remote.webelement.WebElement (session=\"a206ef2f304a86dd07b3741d3e29d01d\", element=\"3798510a-d575-4a5b-a372-28dabf63098a\")>,\n",
       " <selenium.webdriver.remote.webelement.WebElement (session=\"a206ef2f304a86dd07b3741d3e29d01d\", element=\"9002c19c-694e-4edc-af66-bee80855ba83\")>]"
      ]
     },
     "execution_count": 11,
     "metadata": {},
     "output_type": "execute_result"
    }
   ],
   "source": [
    "rows=driver.find_elements(By.CLASS_NAME,'Box-row')\n",
    "rows"
   ]
  },
  {
   "cell_type": "code",
   "execution_count": 12,
   "metadata": {
    "scrolled": false
   },
   "outputs": [],
   "source": [
    "nombre=rows[0].find_elements(By.TAG_NAME,'a')[2].text"
   ]
  },
  {
   "cell_type": "code",
   "execution_count": 13,
   "metadata": {
    "scrolled": true
   },
   "outputs": [],
   "source": [
    "alias=rows[0].find_elements(By.TAG_NAME,'a')[3].text"
   ]
  },
  {
   "cell_type": "code",
   "execution_count": 14,
   "metadata": {},
   "outputs": [
    {
     "data": {
      "text/plain": [
       "['Nikita Sobolev (sobolevn)',\n",
       " 'Emil Ernerfeldt (emilk)',\n",
       " 'Jonny Borges (jonataslaw)',\n",
       " 'Stephen Celis (stephencelis)',\n",
       " 'monkeyWie (gopeed)',\n",
       " 'Azure SDK Bot (azure-sdk)',\n",
       " 'Martin Bonnin (martinbonnin)',\n",
       " 'Wangchong Zhou (fffonion)',\n",
       " 'Ammar Ahmed (ammarahm-ed)',\n",
       " 'Matt Bierner (mjbvz)',\n",
       " 'Alessandro Ros (aler9)',\n",
       " 'Mike Perham (mperham)',\n",
       " 'DavidKorczynski (Follow)',\n",
       " 'Abhijeet Prasad (AbhiPrasad)',\n",
       " 'Mislav Marohnić (mislav)',\n",
       " 'Leonard Hecker (lhecker)',\n",
       " 'Pedro Cuenca (pcuenca)',\n",
       " 'Marcus Olsson (marcusolsson)',\n",
       " 'Alex Eagle (alexeagle)',\n",
       " 'Nolan Lawson (nolanlawson)',\n",
       " 'Luke Latham (guardrex)',\n",
       " 'Joshua Levy (jlevy)',\n",
       " 'Bas Nijholt (basnijholt)',\n",
       " 'Ice3man (Ice3man543)',\n",
       " 'kunfei (gedoor)']"
      ]
     },
     "execution_count": 14,
     "metadata": {},
     "output_type": "execute_result"
    }
   ],
   "source": [
    "string=''\n",
    "name_alias=[]\n",
    "\n",
    "for i in rows:\n",
    "    string=i.find_elements(By.TAG_NAME,'a')[2].text +' '+ '(' + i.find_elements(By.TAG_NAME,'a')[3].text +')'\n",
    "    name_alias.append(string)\n",
    "    \n",
    "name_alias\n"
   ]
  },
  {
   "cell_type": "markdown",
   "metadata": {},
   "source": [
    "#### Display the trending Python repositories in GitHub\n",
    "\n",
    "The steps to solve this problem is similar to the previous one except that you need to find out the repository names instead of developer names."
   ]
  },
  {
   "cell_type": "code",
   "execution_count": 21,
   "metadata": {},
   "outputs": [],
   "source": [
    "# This is the url you will scrape in this exercise\n",
    "url = 'https://github.com/trending/python?since=daily'"
   ]
  },
  {
   "cell_type": "code",
   "execution_count": 22,
   "metadata": {},
   "outputs": [],
   "source": [
    "driver=webdriver.Chrome(PATH)\n",
    "driver.get(url)"
   ]
  },
  {
   "cell_type": "code",
   "execution_count": 24,
   "metadata": {},
   "outputs": [],
   "source": [
    "caja=driver.find_elements(By.CLASS_NAME,'Box-row')\n"
   ]
  },
  {
   "cell_type": "code",
   "execution_count": 18,
   "metadata": {},
   "outputs": [
    {
     "data": {
      "text/plain": [
       "'Star'"
      ]
     },
     "execution_count": 18,
     "metadata": {},
     "output_type": "execute_result"
    }
   ],
   "source": [
    "find=caja[1].find_elements(By.TAG_NAME,'a')[1].text\n",
    "find\n"
   ]
  },
  {
   "cell_type": "code",
   "execution_count": 26,
   "metadata": {},
   "outputs": [
    {
     "data": {
      "text/plain": [
       "['public-apis / public-apis',\n",
       " 'bregman-arie / devops-exercises',\n",
       " 'facebookresearch / fairseq',\n",
       " 'cloneofsimo / paint-with-words-sd',\n",
       " 'Azure / azure-cli',\n",
       " 'caronc / apprise',\n",
       " 'joweich / chat-miner',\n",
       " 'PaddlePaddle / PaddleTS',\n",
       " 'mli / autocut',\n",
       " 'sczhou / CodeFormer',\n",
       " 'unifyai / ivy',\n",
       " 'augmentedstartups / AS-One',\n",
       " 'loTus04 / W4SP-Stealer',\n",
       " 'rwightman / pytorch-image-models',\n",
       " 'iterativv / NostalgiaForInfinity',\n",
       " 'getredash / redash',\n",
       " 'ethereum / consensus-specs',\n",
       " 'd8ahazard / sd_dreambooth_extension',\n",
       " 'microsoft / recommenders',\n",
       " 'zulip / zulip',\n",
       " 'ultralytics / yolov5',\n",
       " 'openai / improved-diffusion',\n",
       " 'facebookresearch / ParlAI',\n",
       " 'aliyun / surftrace',\n",
       " 'NVlabs / stylegan2-ada-pytorch']"
      ]
     },
     "execution_count": 26,
     "metadata": {},
     "output_type": "execute_result"
    }
   ],
   "source": [
    "repositories=[]\n",
    "\n",
    "for i in caja:\n",
    "    \n",
    "    r_name=i.find_elements(By.TAG_NAME,'a')[1].text\n",
    "    if r_name != 'Star' :\n",
    "        repositories.append(r_name)\n",
    "    else :\n",
    "        r_name2=i.find_elements(By.TAG_NAME,'a')[2].text\n",
    "        repositories.append(r_name2)\n",
    "    \n",
    "repositories"
   ]
  },
  {
   "cell_type": "markdown",
   "metadata": {},
   "source": [
    "#### Display all the image links from Walt Disney wikipedia page"
   ]
  },
  {
   "cell_type": "code",
   "execution_count": 27,
   "metadata": {},
   "outputs": [],
   "source": [
    "# This is the url you will scrape in this exercise\n",
    "url = 'https://en.wikipedia.org/wiki/Walt_Disney'"
   ]
  },
  {
   "cell_type": "code",
   "execution_count": 28,
   "metadata": {},
   "outputs": [],
   "source": [
    "driver=webdriver.Chrome(PATH)\n",
    "driver.get(url)"
   ]
  },
  {
   "cell_type": "code",
   "execution_count": 36,
   "metadata": {},
   "outputs": [],
   "source": [
    "walt=driver.find_elements(By.TAG_NAME,'img')\n"
   ]
  },
  {
   "cell_type": "code",
   "execution_count": 39,
   "metadata": {},
   "outputs": [
    {
     "name": "stdout",
     "output_type": "stream",
     "text": [
      "https://upload.wikimedia.org/wikipedia/en/thumb/e/e7/Cscr-featured.svg/20px-Cscr-featured.svg.png\n",
      "https://upload.wikimedia.org/wikipedia/en/thumb/8/8c/Extended-protection-shackle.svg/20px-Extended-protection-shackle.svg.png\n",
      "https://upload.wikimedia.org/wikipedia/commons/thumb/d/df/Walt_Disney_1946.JPG/220px-Walt_Disney_1946.JPG\n",
      "https://upload.wikimedia.org/wikipedia/commons/thumb/8/87/Walt_Disney_1942_signature.svg/150px-Walt_Disney_1942_signature.svg.png\n",
      "https://upload.wikimedia.org/wikipedia/commons/thumb/3/3a/Walt_Disney_Birthplace_Exterior_Hermosa_Chicago_Illinois.jpg/220px-Walt_Disney_Birthplace_Exterior_Hermosa_Chicago_Illinois.jpg\n",
      "https://upload.wikimedia.org/wikipedia/commons/thumb/c/c4/Walt_Disney_envelope_ca._1921.jpg/220px-Walt_Disney_envelope_ca._1921.jpg\n",
      "https://upload.wikimedia.org/wikipedia/commons/thumb/0/0d/Trolley_Troubles_poster.jpg/170px-Trolley_Troubles_poster.jpg\n",
      "https://upload.wikimedia.org/wikipedia/en/thumb/4/4e/Steamboat-willie.jpg/170px-Steamboat-willie.jpg\n",
      "https://upload.wikimedia.org/wikipedia/commons/thumb/5/57/Walt_Disney_1935.jpg/170px-Walt_Disney_1935.jpg\n",
      "https://upload.wikimedia.org/wikipedia/commons/thumb/c/cd/Walt_Disney_Snow_white_1937_trailer_screenshot_%2813%29.jpg/220px-Walt_Disney_Snow_white_1937_trailer_screenshot_%2813%29.jpg\n",
      "https://upload.wikimedia.org/wikipedia/commons/thumb/1/15/Disney_drawing_goofy.jpg/170px-Disney_drawing_goofy.jpg\n",
      "https://upload.wikimedia.org/wikipedia/commons/thumb/8/8c/WaltDisneyplansDisneylandDec1954.jpg/220px-WaltDisneyplansDisneylandDec1954.jpg\n",
      "https://upload.wikimedia.org/wikipedia/commons/thumb/f/ff/Walt_disney_portrait_right.jpg/170px-Walt_disney_portrait_right.jpg\n",
      "https://upload.wikimedia.org/wikipedia/commons/thumb/1/1a/Walt_Disney_Grave.JPG/170px-Walt_Disney_Grave.JPG\n",
      "https://upload.wikimedia.org/wikipedia/commons/thumb/2/2d/Roy_O._Disney_with_Company_at_Press_Conference.jpg/170px-Roy_O._Disney_with_Company_at_Press_Conference.jpg\n",
      "https://upload.wikimedia.org/wikipedia/commons/thumb/1/13/DisneySchiphol1951.jpg/220px-DisneySchiphol1951.jpg\n",
      "https://upload.wikimedia.org/wikipedia/commons/thumb/6/6c/Disney1968.jpg/170px-Disney1968.jpg\n",
      "https://upload.wikimedia.org/wikipedia/commons/thumb/b/b0/Disney_Oscar_1953_%28cropped%29.jpg/170px-Disney_Oscar_1953_%28cropped%29.jpg\n",
      "https://upload.wikimedia.org/wikipedia/en/thumb/4/4a/Commons-logo.svg/30px-Commons-logo.svg.png\n",
      "https://upload.wikimedia.org/wikipedia/commons/thumb/4/4c/Wikisource-logo.svg/38px-Wikisource-logo.svg.png\n",
      "https://upload.wikimedia.org/wikipedia/commons/thumb/f/fa/Wikiquote-logo.svg/34px-Wikiquote-logo.svg.png\n",
      "https://upload.wikimedia.org/wikipedia/en/thumb/8/8a/OOjs_UI_icon_edit-ltr-progressive.svg/10px-OOjs_UI_icon_edit-ltr-progressive.svg.png\n",
      "https://upload.wikimedia.org/wikipedia/en/thumb/8/8a/OOjs_UI_icon_edit-ltr-progressive.svg/10px-OOjs_UI_icon_edit-ltr-progressive.svg.png\n",
      "https://upload.wikimedia.org/wikipedia/commons/thumb/e/e3/Disneyland_Resort_logo.svg/135px-Disneyland_Resort_logo.svg.png\n",
      "https://upload.wikimedia.org/wikipedia/commons/thumb/d/da/Animation_disc.svg/20px-Animation_disc.svg.png\n",
      "https://upload.wikimedia.org/wikipedia/en/thumb/6/69/P_vip.svg/19px-P_vip.svg.png\n",
      "https://upload.wikimedia.org/wikipedia/commons/thumb/1/1a/Magic_Kingdom_castle.jpg/15px-Magic_Kingdom_castle.jpg\n",
      "https://upload.wikimedia.org/wikipedia/en/thumb/e/e7/Video-x-generic.svg/19px-Video-x-generic.svg.png\n",
      "https://upload.wikimedia.org/wikipedia/commons/thumb/a/a3/Flag_of_Los_Angeles_County%2C_California.svg/21px-Flag_of_Los_Angeles_County%2C_California.svg.png\n",
      "https://upload.wikimedia.org/wikipedia/commons/thumb/8/8c/Blank_television_set.svg/21px-Blank_television_set.svg.png\n",
      "https://upload.wikimedia.org/wikipedia/en/thumb/a/a4/Flag_of_the_United_States.svg/21px-Flag_of_the_United_States.svg.png\n",
      "https://upload.wikimedia.org/wikipedia/en/thumb/4/4a/Commons-logo.svg/14px-Commons-logo.svg.png\n",
      "https://upload.wikimedia.org/wikipedia/commons/thumb/f/fa/Wikiquote-logo.svg/16px-Wikiquote-logo.svg.png\n",
      "https://upload.wikimedia.org/wikipedia/commons/thumb/4/4c/Wikisource-logo.svg/18px-Wikisource-logo.svg.png\n",
      "https://upload.wikimedia.org/wikipedia/commons/thumb/f/ff/Wikidata-logo.svg/21px-Wikidata-logo.svg.png\n",
      "https://upload.wikimedia.org/wikipedia/en/thumb/8/8a/OOjs_UI_icon_edit-ltr-progressive.svg/10px-OOjs_UI_icon_edit-ltr-progressive.svg.png\n",
      "https://en.wikipedia.org/static/images/footer/wikimedia-button.png\n",
      "https://en.wikipedia.org/static/images/footer/poweredby_mediawiki_88x31.png\n"
     ]
    }
   ],
   "source": [
    "for i in walt:\n",
    "    image=i.get_attribute('src')\n",
    "    print(image)\n"
   ]
  },
  {
   "cell_type": "markdown",
   "metadata": {},
   "source": [
    "#### Retrieve an arbitary Wikipedia page of \"Python\" and create a list of links on that page"
   ]
  },
  {
   "cell_type": "code",
   "execution_count": 40,
   "metadata": {},
   "outputs": [],
   "source": [
    "# This is the url you will scrape in this exercise\n",
    "url ='https://en.wikipedia.org/wiki/Python' "
   ]
  },
  {
   "cell_type": "code",
   "execution_count": 41,
   "metadata": {},
   "outputs": [],
   "source": [
    "driver=webdriver.Chrome(PATH)\n",
    "driver.get(url)"
   ]
  },
  {
   "cell_type": "code",
   "execution_count": 44,
   "metadata": {},
   "outputs": [],
   "source": [
    "python=driver.find_elements(By.TAG_NAME,'link')"
   ]
  },
  {
   "cell_type": "code",
   "execution_count": 45,
   "metadata": {},
   "outputs": [
    {
     "name": "stdout",
     "output_type": "stream",
     "text": [
      "https://en.wikipedia.org/w/load.php?lang=en&modules=ext.uls.interlanguage%7Cext.visualEditor.desktopArticleTarget.noscript%7Cext.wikimediaBadges%7Cskins.vector.styles.legacy%7Cwikibase.client.init&only=styles&skin=vector\n",
      "https://en.wikipedia.org/w/load.php?lang=en&modules=site.styles&only=styles&skin=vector\n",
      "https://upload.wikimedia.org/\n",
      "https://en.m.wikipedia.org/wiki/Python\n",
      "https://en.wikipedia.org/w/index.php?title=Python&action=edit\n",
      "https://en.wikipedia.org/static/apple-touch/wikipedia.png\n",
      "https://en.wikipedia.org/static/favicon/wikipedia.ico\n",
      "https://en.wikipedia.org/w/opensearch_desc.php\n",
      "https://en.wikipedia.org/w/api.php?action=rsd\n",
      "https://creativecommons.org/licenses/by-sa/3.0/\n",
      "https://en.wikipedia.org/wiki/Python\n",
      "https://meta.wikimedia.org/\n",
      "https://login.wikimedia.org/\n"
     ]
    }
   ],
   "source": [
    "for i in python:\n",
    "    link=i.get_attribute('href')\n",
    "    print(link)"
   ]
  },
  {
   "cell_type": "markdown",
   "metadata": {},
   "source": [
    "#### Number of Titles that have changed in the United States Code since its last release point "
   ]
  },
  {
   "cell_type": "code",
   "execution_count": 46,
   "metadata": {},
   "outputs": [],
   "source": [
    "# This is the url you will scrape in this exercise\n",
    "url = 'http://uscode.house.gov/download/download.shtml'"
   ]
  },
  {
   "cell_type": "code",
   "execution_count": 47,
   "metadata": {},
   "outputs": [],
   "source": [
    "driver=webdriver.Chrome(PATH)\n",
    "driver.get(url)"
   ]
  },
  {
   "cell_type": "code",
   "execution_count": 58,
   "metadata": {},
   "outputs": [],
   "source": [
    "usc=driver.find_elements(By.CLASS_NAME,'usctitlechanged')\n"
   ]
  },
  {
   "cell_type": "code",
   "execution_count": 60,
   "metadata": {},
   "outputs": [
    {
     "name": "stdout",
     "output_type": "stream",
     "text": [
      "Title 17 - Copyrights ٭\n",
      "Title 22 - Foreign Relations and Intercourse\n",
      "Title 38 - Veterans' Benefits ٭\n",
      "Title 40 - Public Buildings, Property, and Works ٭\n",
      "Title 41 - Public Contracts ٭\n",
      "Title 42 - The Public Health and Welfare\n",
      "Title 44 - Public Printing and Documents ٭\n",
      "Title 49 - Transportation ٭\n",
      "Title 54 - National Park Service and Related Programs ٭\n"
     ]
    }
   ],
   "source": [
    "for i in usc:\n",
    "    t_c=i.text\n",
    "    print(t_c)"
   ]
  },
  {
   "cell_type": "markdown",
   "metadata": {},
   "source": [
    "#### A Python list with the top ten FBI's Most Wanted names "
   ]
  },
  {
   "cell_type": "code",
   "execution_count": 61,
   "metadata": {},
   "outputs": [],
   "source": [
    "# This is the url you will scrape in this exercise\n",
    "url = 'https://www.fbi.gov/wanted/topten'"
   ]
  },
  {
   "cell_type": "code",
   "execution_count": 165,
   "metadata": {},
   "outputs": [],
   "source": [
    "driver=webdriver.Chrome(PATH)\n",
    "driver.get(url)"
   ]
  },
  {
   "cell_type": "code",
   "execution_count": 166,
   "metadata": {},
   "outputs": [],
   "source": [
    "fbi=driver.find_elements(By.CLASS_NAME,'title')"
   ]
  },
  {
   "cell_type": "code",
   "execution_count": 64,
   "metadata": {},
   "outputs": [
    {
     "name": "stdout",
     "output_type": "stream",
     "text": [
      "MOST WANTED\n",
      "OMAR ALEXANDER CARDENAS\n",
      "ALEXIS FLORES\n",
      "JOSE RODOLFO VILLARREAL-HERNANDEZ\n",
      "YULAN ADONAY ARCHAGA CARIAS\n",
      "BHADRESHKUMAR CHETANBHAI PATEL\n",
      "ALEJANDRO ROSALES CASTILLO\n",
      "MICHAEL JAMES PRATT\n",
      "RUJA IGNATOVA\n",
      "ARNOLDO JIMENEZ\n",
      "RAFAEL CARO-QUINTERO\n"
     ]
    }
   ],
   "source": [
    "for i in fbi:\n",
    "    names=i.text\n",
    "    print(names)"
   ]
  },
  {
   "cell_type": "markdown",
   "metadata": {},
   "source": [
    "####  20 latest earthquakes info (date, time, latitude, longitude and region name) by the EMSC as a pandas dataframe"
   ]
  },
  {
   "cell_type": "code",
   "execution_count": 167,
   "metadata": {},
   "outputs": [],
   "source": [
    "# This is the url you will scrape in this exercise\n",
    "url = 'https://www.emsc-csem.org/Earthquake/'"
   ]
  },
  {
   "cell_type": "code",
   "execution_count": 168,
   "metadata": {},
   "outputs": [],
   "source": [
    "driver=webdriver.Chrome(PATH)\n",
    "driver.get(url)"
   ]
  },
  {
   "cell_type": "code",
   "execution_count": 170,
   "metadata": {},
   "outputs": [
    {
     "data": {
      "text/plain": [
       "[<selenium.webdriver.remote.webelement.WebElement (session=\"5bb64f448e82cc4eaf24b75ad5095a4f\", element=\"ee217259-e74c-4456-8dad-f83fdbd5affd\")>,\n",
       " <selenium.webdriver.remote.webelement.WebElement (session=\"5bb64f448e82cc4eaf24b75ad5095a4f\", element=\"007a32b4-7174-403b-9f42-0aadb0433c94\")>,\n",
       " <selenium.webdriver.remote.webelement.WebElement (session=\"5bb64f448e82cc4eaf24b75ad5095a4f\", element=\"0e0112a2-b4bb-4cdb-839e-89db3d065438\")>,\n",
       " <selenium.webdriver.remote.webelement.WebElement (session=\"5bb64f448e82cc4eaf24b75ad5095a4f\", element=\"a28ed2af-56dd-497f-a95a-4a46b332ab23\")>,\n",
       " <selenium.webdriver.remote.webelement.WebElement (session=\"5bb64f448e82cc4eaf24b75ad5095a4f\", element=\"b8a7d629-8c2c-4fe6-b950-7354e01b9c61\")>,\n",
       " <selenium.webdriver.remote.webelement.WebElement (session=\"5bb64f448e82cc4eaf24b75ad5095a4f\", element=\"76ec9376-55f3-4a80-8655-aba7c001f990\")>,\n",
       " <selenium.webdriver.remote.webelement.WebElement (session=\"5bb64f448e82cc4eaf24b75ad5095a4f\", element=\"6db5c5d3-1977-41f9-b9af-9fc99d0437ac\")>,\n",
       " <selenium.webdriver.remote.webelement.WebElement (session=\"5bb64f448e82cc4eaf24b75ad5095a4f\", element=\"5c4bea99-d93e-4b17-9ce8-7997b7db728d\")>]"
      ]
     },
     "execution_count": 170,
     "metadata": {},
     "output_type": "execute_result"
    }
   ],
   "source": [
    "col=driver.find_elements(By.CLASS_NAME,'th2')\n",
    "col\n",
    "\n"
   ]
  },
  {
   "cell_type": "code",
   "execution_count": 174,
   "metadata": {},
   "outputs": [
    {
     "data": {
      "text/plain": [
       "['Date & Time UTC',\n",
       " 'Latitude degrees',\n",
       " 'Longitude degrees',\n",
       " 'Depth km',\n",
       " 'Mag [+]',\n",
       " 'Region name [+]']"
      ]
     },
     "execution_count": 174,
     "metadata": {},
     "output_type": "execute_result"
    }
   ],
   "source": [
    "colm=[i.text.replace('\\n',' ') for i in col]\n",
    "colm=colm[1:7]\n",
    "colm"
   ]
  },
  {
   "cell_type": "code",
   "execution_count": 175,
   "metadata": {},
   "outputs": [
    {
     "data": {
      "text/plain": [
       "[<selenium.webdriver.remote.webelement.WebElement (session=\"5bb64f448e82cc4eaf24b75ad5095a4f\", element=\"0ba45814-9a3d-4429-86e3-21543cc5aed9\")>,\n",
       " <selenium.webdriver.remote.webelement.WebElement (session=\"5bb64f448e82cc4eaf24b75ad5095a4f\", element=\"af2b1763-47de-4c52-924e-ce6067885b71\")>,\n",
       " <selenium.webdriver.remote.webelement.WebElement (session=\"5bb64f448e82cc4eaf24b75ad5095a4f\", element=\"740122e4-8d35-432d-b61d-8a7452cc4e12\")>,\n",
       " <selenium.webdriver.remote.webelement.WebElement (session=\"5bb64f448e82cc4eaf24b75ad5095a4f\", element=\"af68d6d6-4a59-4caa-9a27-0d4a3d2491a2\")>,\n",
       " <selenium.webdriver.remote.webelement.WebElement (session=\"5bb64f448e82cc4eaf24b75ad5095a4f\", element=\"1143d041-cf55-4556-ab57-e958be1a89b5\")>,\n",
       " <selenium.webdriver.remote.webelement.WebElement (session=\"5bb64f448e82cc4eaf24b75ad5095a4f\", element=\"dc9bd853-1b03-468f-80c2-e06f4594f4e8\")>,\n",
       " <selenium.webdriver.remote.webelement.WebElement (session=\"5bb64f448e82cc4eaf24b75ad5095a4f\", element=\"1b80a1cb-9de3-45b6-b940-bc82db515f87\")>,\n",
       " <selenium.webdriver.remote.webelement.WebElement (session=\"5bb64f448e82cc4eaf24b75ad5095a4f\", element=\"fcddbbe9-3313-4097-b5d3-cdae8e66d290\")>,\n",
       " <selenium.webdriver.remote.webelement.WebElement (session=\"5bb64f448e82cc4eaf24b75ad5095a4f\", element=\"31bdbf44-dd69-4fe1-877c-afe7feeec098\")>,\n",
       " <selenium.webdriver.remote.webelement.WebElement (session=\"5bb64f448e82cc4eaf24b75ad5095a4f\", element=\"214581a5-0318-491b-ad58-3958b4a8b190\")>,\n",
       " <selenium.webdriver.remote.webelement.WebElement (session=\"5bb64f448e82cc4eaf24b75ad5095a4f\", element=\"c3f57732-7747-40d2-a6f5-e07a6aadc78d\")>,\n",
       " <selenium.webdriver.remote.webelement.WebElement (session=\"5bb64f448e82cc4eaf24b75ad5095a4f\", element=\"fa8f016e-ebef-4894-99ee-60eacc2fb2a2\")>,\n",
       " <selenium.webdriver.remote.webelement.WebElement (session=\"5bb64f448e82cc4eaf24b75ad5095a4f\", element=\"0d7acfe6-20d1-4106-995c-e691c3051280\")>,\n",
       " <selenium.webdriver.remote.webelement.WebElement (session=\"5bb64f448e82cc4eaf24b75ad5095a4f\", element=\"9cd32b41-704b-41ce-9f4c-d4c61620e1d6\")>,\n",
       " <selenium.webdriver.remote.webelement.WebElement (session=\"5bb64f448e82cc4eaf24b75ad5095a4f\", element=\"8882e052-f216-4fdd-9e1b-d8ed7d282311\")>,\n",
       " <selenium.webdriver.remote.webelement.WebElement (session=\"5bb64f448e82cc4eaf24b75ad5095a4f\", element=\"98151bf4-597c-4826-ae1f-e3ef7d76fc3c\")>,\n",
       " <selenium.webdriver.remote.webelement.WebElement (session=\"5bb64f448e82cc4eaf24b75ad5095a4f\", element=\"3390fd41-ee13-4e39-ac6b-59c84c240bf4\")>,\n",
       " <selenium.webdriver.remote.webelement.WebElement (session=\"5bb64f448e82cc4eaf24b75ad5095a4f\", element=\"b0b0b945-325b-49fc-b386-61b72c250fdb\")>,\n",
       " <selenium.webdriver.remote.webelement.WebElement (session=\"5bb64f448e82cc4eaf24b75ad5095a4f\", element=\"4ab2fc37-fa5c-4860-9e4e-c4c5e31b1c66\")>,\n",
       " <selenium.webdriver.remote.webelement.WebElement (session=\"5bb64f448e82cc4eaf24b75ad5095a4f\", element=\"0558261f-0230-45ac-a8b9-e104b3ad2420\")>,\n",
       " <selenium.webdriver.remote.webelement.WebElement (session=\"5bb64f448e82cc4eaf24b75ad5095a4f\", element=\"863d4e75-33a0-4823-a10b-f5ea3fdab40b\")>,\n",
       " <selenium.webdriver.remote.webelement.WebElement (session=\"5bb64f448e82cc4eaf24b75ad5095a4f\", element=\"f209f16f-464d-44ed-a317-834f7cbc3a00\")>,\n",
       " <selenium.webdriver.remote.webelement.WebElement (session=\"5bb64f448e82cc4eaf24b75ad5095a4f\", element=\"0b0644a8-4049-4a2a-999c-6cdd106430dd\")>,\n",
       " <selenium.webdriver.remote.webelement.WebElement (session=\"5bb64f448e82cc4eaf24b75ad5095a4f\", element=\"f0fc6481-3d4c-47c4-9b70-935754aafacc\")>,\n",
       " <selenium.webdriver.remote.webelement.WebElement (session=\"5bb64f448e82cc4eaf24b75ad5095a4f\", element=\"03465fb4-d871-4096-886c-6ba817130fa5\")>,\n",
       " <selenium.webdriver.remote.webelement.WebElement (session=\"5bb64f448e82cc4eaf24b75ad5095a4f\", element=\"78e8fddf-a75a-4bc3-8900-b9ce758ff104\")>,\n",
       " <selenium.webdriver.remote.webelement.WebElement (session=\"5bb64f448e82cc4eaf24b75ad5095a4f\", element=\"b0950be9-9746-4bd1-bd4d-be755dd70836\")>,\n",
       " <selenium.webdriver.remote.webelement.WebElement (session=\"5bb64f448e82cc4eaf24b75ad5095a4f\", element=\"747c3899-2798-4536-a85b-1c2691ba7400\")>,\n",
       " <selenium.webdriver.remote.webelement.WebElement (session=\"5bb64f448e82cc4eaf24b75ad5095a4f\", element=\"ceb01afe-57be-4eb6-9528-c22876174690\")>,\n",
       " <selenium.webdriver.remote.webelement.WebElement (session=\"5bb64f448e82cc4eaf24b75ad5095a4f\", element=\"6d560ef9-3d57-4a0a-9b5c-1a6bb54d8435\")>,\n",
       " <selenium.webdriver.remote.webelement.WebElement (session=\"5bb64f448e82cc4eaf24b75ad5095a4f\", element=\"e9b9dc72-891a-402d-a546-255f3c7a3fcc\")>,\n",
       " <selenium.webdriver.remote.webelement.WebElement (session=\"5bb64f448e82cc4eaf24b75ad5095a4f\", element=\"22345490-c151-4f80-8a7a-299595b36aa5\")>,\n",
       " <selenium.webdriver.remote.webelement.WebElement (session=\"5bb64f448e82cc4eaf24b75ad5095a4f\", element=\"7538716a-3ec2-4285-9ba0-83aa052d7ca7\")>,\n",
       " <selenium.webdriver.remote.webelement.WebElement (session=\"5bb64f448e82cc4eaf24b75ad5095a4f\", element=\"5aec394c-0670-402b-9705-784578ef8c14\")>,\n",
       " <selenium.webdriver.remote.webelement.WebElement (session=\"5bb64f448e82cc4eaf24b75ad5095a4f\", element=\"900cd0bc-c476-4f40-a678-c6568364dacf\")>,\n",
       " <selenium.webdriver.remote.webelement.WebElement (session=\"5bb64f448e82cc4eaf24b75ad5095a4f\", element=\"14373c8c-a513-4338-9964-44eead5e8271\")>,\n",
       " <selenium.webdriver.remote.webelement.WebElement (session=\"5bb64f448e82cc4eaf24b75ad5095a4f\", element=\"33415d7e-67ff-4275-8008-3e00218f13d2\")>,\n",
       " <selenium.webdriver.remote.webelement.WebElement (session=\"5bb64f448e82cc4eaf24b75ad5095a4f\", element=\"d7534a9e-ec1b-4673-adee-24612c85d75b\")>,\n",
       " <selenium.webdriver.remote.webelement.WebElement (session=\"5bb64f448e82cc4eaf24b75ad5095a4f\", element=\"4282c810-d672-44a4-80c2-9178c2756f12\")>,\n",
       " <selenium.webdriver.remote.webelement.WebElement (session=\"5bb64f448e82cc4eaf24b75ad5095a4f\", element=\"a7364d03-b91d-43ce-a20d-29f37ba84ae6\")>,\n",
       " <selenium.webdriver.remote.webelement.WebElement (session=\"5bb64f448e82cc4eaf24b75ad5095a4f\", element=\"990cad37-79a4-4696-a0be-93e029d1635d\")>,\n",
       " <selenium.webdriver.remote.webelement.WebElement (session=\"5bb64f448e82cc4eaf24b75ad5095a4f\", element=\"c0732e13-a099-404d-a1ba-e11aecb5799b\")>,\n",
       " <selenium.webdriver.remote.webelement.WebElement (session=\"5bb64f448e82cc4eaf24b75ad5095a4f\", element=\"8923a62c-1d02-4d39-8b03-110917af9866\")>,\n",
       " <selenium.webdriver.remote.webelement.WebElement (session=\"5bb64f448e82cc4eaf24b75ad5095a4f\", element=\"8548a3b4-1e32-4a5f-bd6d-1efc529149c9\")>,\n",
       " <selenium.webdriver.remote.webelement.WebElement (session=\"5bb64f448e82cc4eaf24b75ad5095a4f\", element=\"fc395a29-2cae-4118-bd29-e1d0e7c10fe8\")>,\n",
       " <selenium.webdriver.remote.webelement.WebElement (session=\"5bb64f448e82cc4eaf24b75ad5095a4f\", element=\"15211a3c-6f63-46ef-9026-7313f79c64f8\")>,\n",
       " <selenium.webdriver.remote.webelement.WebElement (session=\"5bb64f448e82cc4eaf24b75ad5095a4f\", element=\"f6d52734-3072-40b9-9673-14d548cf5dfe\")>,\n",
       " <selenium.webdriver.remote.webelement.WebElement (session=\"5bb64f448e82cc4eaf24b75ad5095a4f\", element=\"1b809e3a-0ba7-4979-b485-a40178fcea38\")>,\n",
       " <selenium.webdriver.remote.webelement.WebElement (session=\"5bb64f448e82cc4eaf24b75ad5095a4f\", element=\"0d8d6ae7-9aec-46f9-9298-4e19064d18e7\")>,\n",
       " <selenium.webdriver.remote.webelement.WebElement (session=\"5bb64f448e82cc4eaf24b75ad5095a4f\", element=\"735658ab-0742-4488-80fe-85b4ff06ca3c\")>]"
      ]
     },
     "execution_count": 175,
     "metadata": {},
     "output_type": "execute_result"
    }
   ],
   "source": [
    "values=driver.find_elements(By.CLASS_NAME,'tabev6')\n",
    "values"
   ]
  },
  {
   "cell_type": "code",
   "execution_count": 176,
   "metadata": {},
   "outputs": [
    {
     "data": {
      "text/plain": [
       "['2022-11-09   16:07:15.2\\n15min ago',\n",
       " '2022-11-09   15:58:32.1\\n24min ago',\n",
       " '2022-11-09   15:40:34.6\\n42min ago',\n",
       " '2022-11-09   15:37:05.0\\n45min ago',\n",
       " '2022-11-09   15:26:21.9\\n56min ago',\n",
       " '2022-11-09   15:23:39.1\\n58min ago',\n",
       " '2022-11-09   15:06:55.0\\n1hr 15min ago',\n",
       " '2022-11-09   14:58:24.0\\n1hr 24min ago',\n",
       " '2022-11-09   14:51:54.6\\n1hr 30min ago',\n",
       " '2022-11-09   14:47:27.1\\n1hr 35min ago',\n",
       " '2022-11-09   14:10:53.7\\n2hr 11min ago',\n",
       " '2022-11-09   13:54:07.6\\n2hr 28min ago',\n",
       " '2022-11-09   13:48:48.1\\n2hr 33min ago',\n",
       " '2022-11-09   13:41:43.0\\n2hr 40min ago',\n",
       " '2022-11-09   13:37:46.8\\n2hr 44min ago',\n",
       " '2022-11-09   13:34:23.2\\n2hr 48min ago',\n",
       " '2022-11-09   13:34:05.0\\n2hr 48min ago',\n",
       " '2022-11-09   13:21:37.0\\n3hr 01min ago',\n",
       " '2022-11-09   13:19:03.0\\n3hr 03min ago',\n",
       " '2022-11-09   13:16:24.1\\n3hr 06min ago',\n",
       " '2022-11-09   13:08:41.0\\n3hr 13min ago',\n",
       " '2022-11-09   13:08:02.0\\n3hr 14min ago',\n",
       " '2022-11-09   13:00:04.7\\n3hr 22min ago',\n",
       " '2022-11-09   12:54:30.9\\n3hr 28min ago',\n",
       " '2022-11-09   12:52:25.0\\n3hr 30min ago',\n",
       " '2022-11-09   12:51:38.5\\n3hr 30min ago',\n",
       " '2022-11-09   12:45:59.0\\n3hr 36min ago',\n",
       " '2022-11-09   12:44:13.5\\n3hr 38min ago',\n",
       " '2022-11-09   12:33:52.0\\n3hr 48min ago',\n",
       " '2022-11-09   12:29:54.0\\n3hr 52min ago',\n",
       " '2022-11-09   12:20:59.8\\n4hr 01min ago',\n",
       " '2022-11-09   12:13:03.6\\n4hr 09min ago',\n",
       " '2022-11-09   12:10:37.9\\n4hr 12min ago',\n",
       " '2022-11-09   12:10:05.4\\n4hr 12min ago',\n",
       " '2022-11-09   12:02:56.2\\n4hr 19min ago',\n",
       " '2022-11-09   11:50:55.0\\n4hr 31min ago',\n",
       " '2022-11-09   11:46:06.2\\n4hr 36min ago',\n",
       " '2022-11-09   11:41:07.0\\n4hr 41min ago',\n",
       " '2022-11-09   11:10:29.0\\n5hr 12min ago',\n",
       " '2022-11-09   11:09:26.0\\n5hr 13min ago',\n",
       " '2022-11-09   11:08:33.7\\n5hr 14min ago',\n",
       " '2022-11-09   11:03:23.9\\n5hr 19min ago',\n",
       " '2022-11-09   11:01:42.9\\n5hr 20min ago',\n",
       " '2022-11-09   10:56:24.0\\n5hr 26min ago',\n",
       " '2022-11-09   10:51:47.4\\n5hr 30min ago',\n",
       " '2022-11-09   10:46:21.4\\n5hr 36min ago',\n",
       " '2022-11-09   10:43:58.2\\n5hr 38min ago',\n",
       " '2022-11-09   10:38:52.2\\n5hr 43min ago',\n",
       " '2022-11-09   10:36:27.0\\n5hr 46min ago',\n",
       " '2022-11-09   10:31:50.1\\n5hr 50min ago']"
      ]
     },
     "execution_count": 176,
     "metadata": {},
     "output_type": "execute_result"
    }
   ],
   "source": [
    "val=[i.text for i in values]\n",
    "val"
   ]
  },
  {
   "cell_type": "markdown",
   "metadata": {},
   "source": [
    "#### Count number of tweets by a given Twitter account."
   ]
  },
  {
   "cell_type": "markdown",
   "metadata": {},
   "source": [
    "You will need to include a ***try/except block*** for account names not found. \n",
    "<br>***Hint:*** the program should count the number of tweets for any provided account"
   ]
  },
  {
   "cell_type": "code",
   "execution_count": null,
   "metadata": {},
   "outputs": [],
   "source": [
    "# This is the url you will scrape in this exercise \n",
    "# You will need to add the account credentials to this url\n",
    "url = 'https://twitter.com/'"
   ]
  },
  {
   "cell_type": "code",
   "execution_count": null,
   "metadata": {},
   "outputs": [],
   "source": [
    "#your code"
   ]
  },
  {
   "cell_type": "markdown",
   "metadata": {},
   "source": [
    "#### Number of followers of a given twitter account"
   ]
  },
  {
   "cell_type": "markdown",
   "metadata": {},
   "source": [
    "You will need to include a ***try/except block*** in case account/s name not found. \n",
    "<br>***Hint:*** the program should count the followers for any provided account"
   ]
  },
  {
   "cell_type": "code",
   "execution_count": 123,
   "metadata": {},
   "outputs": [],
   "source": [
    "# This is the url you will scrape in this exercise \n",
    "# You will need to add the account credentials to this url\n",
    "url = 'https://twitter.com/'"
   ]
  },
  {
   "cell_type": "code",
   "execution_count": null,
   "metadata": {},
   "outputs": [],
   "source": []
  },
  {
   "cell_type": "markdown",
   "metadata": {},
   "source": [
    "#### List all language names and number of related articles in the order they appear in wikipedia.org"
   ]
  },
  {
   "cell_type": "code",
   "execution_count": 124,
   "metadata": {},
   "outputs": [],
   "source": [
    "# This is the url you will scrape in this exercise\n",
    "url = 'https://www.wikipedia.org/'"
   ]
  },
  {
   "cell_type": "code",
   "execution_count": 125,
   "metadata": {},
   "outputs": [],
   "source": [
    "driver=webdriver.Chrome(PATH)\n",
    "driver.get(url)"
   ]
  },
  {
   "cell_type": "code",
   "execution_count": 133,
   "metadata": {},
   "outputs": [
    {
     "data": {
      "text/plain": [
       "[<selenium.webdriver.remote.webelement.WebElement (session=\"83e6b1e50aeb9bfa8a9fd4e67de4e377\", element=\"1902e0c8-d98e-4b74-af9d-fbfc75e2d115\")>,\n",
       " <selenium.webdriver.remote.webelement.WebElement (session=\"83e6b1e50aeb9bfa8a9fd4e67de4e377\", element=\"f402bb27-f769-464c-b189-d3cccc4b0b6b\")>,\n",
       " <selenium.webdriver.remote.webelement.WebElement (session=\"83e6b1e50aeb9bfa8a9fd4e67de4e377\", element=\"29e99911-c58f-4e59-a95d-845f9734dd91\")>,\n",
       " <selenium.webdriver.remote.webelement.WebElement (session=\"83e6b1e50aeb9bfa8a9fd4e67de4e377\", element=\"598fca9c-dacc-43e4-8031-35090be282e0\")>,\n",
       " <selenium.webdriver.remote.webelement.WebElement (session=\"83e6b1e50aeb9bfa8a9fd4e67de4e377\", element=\"a2de9b0f-f841-42c0-9ce0-296384885fd1\")>,\n",
       " <selenium.webdriver.remote.webelement.WebElement (session=\"83e6b1e50aeb9bfa8a9fd4e67de4e377\", element=\"2daad9c7-fd0e-4593-bfe7-754f3592794c\")>,\n",
       " <selenium.webdriver.remote.webelement.WebElement (session=\"83e6b1e50aeb9bfa8a9fd4e67de4e377\", element=\"624b8b70-3f77-4cf8-96c9-420c2ac32e62\")>,\n",
       " <selenium.webdriver.remote.webelement.WebElement (session=\"83e6b1e50aeb9bfa8a9fd4e67de4e377\", element=\"418e1e61-f592-4464-8651-725056615ce8\")>,\n",
       " <selenium.webdriver.remote.webelement.WebElement (session=\"83e6b1e50aeb9bfa8a9fd4e67de4e377\", element=\"9a9ca1d3-4ff1-490e-8cec-3e8ecbad8cc6\")>,\n",
       " <selenium.webdriver.remote.webelement.WebElement (session=\"83e6b1e50aeb9bfa8a9fd4e67de4e377\", element=\"2fd9a5bb-f8be-4ae6-860a-465969aec2de\")>,\n",
       " <selenium.webdriver.remote.webelement.WebElement (session=\"83e6b1e50aeb9bfa8a9fd4e67de4e377\", element=\"0335fb0a-866b-453d-ba58-919ddf11b03b\")>,\n",
       " <selenium.webdriver.remote.webelement.WebElement (session=\"83e6b1e50aeb9bfa8a9fd4e67de4e377\", element=\"6d779624-f053-4282-ad74-66c0d058760c\")>]"
      ]
     },
     "execution_count": 133,
     "metadata": {},
     "output_type": "execute_result"
    }
   ],
   "source": [
    "box=driver.find_elements(By.TAG_NAME,'strong')\n",
    "box"
   ]
  },
  {
   "cell_type": "code",
   "execution_count": 144,
   "metadata": {},
   "outputs": [
    {
     "data": {
      "text/plain": [
       "['Español',\n",
       " 'English',\n",
       " '日本語',\n",
       " 'Русский',\n",
       " 'Français',\n",
       " 'Deutsch',\n",
       " 'Italiano',\n",
       " '中文',\n",
       " 'Português']"
      ]
     },
     "execution_count": 144,
     "metadata": {},
     "output_type": "execute_result"
    }
   ],
   "source": [
    "languages=[e.text for e in box]\n",
    "languages[1:10]"
   ]
  },
  {
   "cell_type": "markdown",
   "metadata": {},
   "source": [
    "#### A list with the different kind of datasets available in data.gov.uk "
   ]
  },
  {
   "cell_type": "code",
   "execution_count": 177,
   "metadata": {},
   "outputs": [],
   "source": [
    "# This is the url you will scrape in this exercise\n",
    "url = 'https://data.gov.uk/'"
   ]
  },
  {
   "cell_type": "code",
   "execution_count": 178,
   "metadata": {},
   "outputs": [],
   "source": [
    "driver=webdriver.Chrome(PATH)\n",
    "driver.get(url)"
   ]
  },
  {
   "cell_type": "code",
   "execution_count": 182,
   "metadata": {},
   "outputs": [],
   "source": [
    "link=driver.find_elements(By.CLASS_NAME,'govuk-link')\n"
   ]
  },
  {
   "cell_type": "code",
   "execution_count": 183,
   "metadata": {},
   "outputs": [
    {
     "data": {
      "text/plain": [
       "['Business and economy',\n",
       " 'Crime and justice',\n",
       " 'Defence',\n",
       " 'Education',\n",
       " 'Environment',\n",
       " 'Government',\n",
       " 'Government spending',\n",
       " 'Health',\n",
       " 'Mapping',\n",
       " 'Society',\n",
       " 'Towns and cities',\n",
       " 'Transport',\n",
       " 'Digital service performance',\n",
       " 'Government reference data']"
      ]
     },
     "execution_count": 183,
     "metadata": {},
     "output_type": "execute_result"
    }
   ],
   "source": [
    "govuk=[e.text for e in link]\n",
    "govuk[4:]"
   ]
  },
  {
   "cell_type": "markdown",
   "metadata": {},
   "source": [
    "#### Top 10 languages by number of native speakers stored in a Pandas Dataframe"
   ]
  },
  {
   "cell_type": "code",
   "execution_count": 184,
   "metadata": {},
   "outputs": [],
   "source": [
    "# This is the url you will scrape in this exercise\n",
    "url = 'https://en.wikipedia.org/wiki/List_of_languages_by_number_of_native_speakers'"
   ]
  },
  {
   "cell_type": "code",
   "execution_count": 185,
   "metadata": {},
   "outputs": [],
   "source": [
    "driver=webdriver.Chrome(PATH)\n",
    "driver.get(url)"
   ]
  },
  {
   "cell_type": "code",
   "execution_count": 186,
   "metadata": {},
   "outputs": [],
   "source": [
    "tabla=driver.find_elements(By.CLASS_NAME,'mw-redirect')"
   ]
  },
  {
   "cell_type": "code",
   "execution_count": 193,
   "metadata": {},
   "outputs": [
    {
     "data": {
      "text/plain": [
       "['Mandarin Chinese',\n",
       " 'Spanish',\n",
       " 'English',\n",
       " 'Hindi',\n",
       " 'Bengali',\n",
       " 'Portuguese',\n",
       " 'Russian',\n",
       " 'Japanese',\n",
       " 'Yue Chinese',\n",
       " 'Vietnamese']"
      ]
     },
     "execution_count": 193,
     "metadata": {},
     "output_type": "execute_result"
    }
   ],
   "source": [
    "T10=[e.text for e in tabla]\n",
    "T10[7:17]"
   ]
  },
  {
   "cell_type": "markdown",
   "metadata": {},
   "source": [
    "### BONUS QUESTIONS"
   ]
  },
  {
   "cell_type": "markdown",
   "metadata": {},
   "source": [
    "#### Scrape a certain number of tweets of a given Twitter account."
   ]
  },
  {
   "cell_type": "code",
   "execution_count": null,
   "metadata": {},
   "outputs": [],
   "source": [
    "# This is the url you will scrape in this exercise \n",
    "# You will need to add the account credentials to this url\n",
    "url = 'https://twitter.com/'"
   ]
  },
  {
   "cell_type": "code",
   "execution_count": null,
   "metadata": {},
   "outputs": [],
   "source": [
    "# your code"
   ]
  },
  {
   "cell_type": "markdown",
   "metadata": {},
   "source": [
    "#### IMDB's Top 250 data (movie name, Initial release, director name and stars) as a pandas dataframe"
   ]
  },
  {
   "cell_type": "code",
   "execution_count": null,
   "metadata": {},
   "outputs": [],
   "source": [
    "# This is the url you will scrape in this exercise \n",
    "url = 'https://www.imdb.com/chart/top'"
   ]
  },
  {
   "cell_type": "code",
   "execution_count": null,
   "metadata": {},
   "outputs": [],
   "source": [
    "# your code"
   ]
  },
  {
   "cell_type": "markdown",
   "metadata": {},
   "source": [
    "#### Movie name, year and a brief summary of the top 10 random movies (IMDB) as a pandas dataframe."
   ]
  },
  {
   "cell_type": "code",
   "execution_count": null,
   "metadata": {},
   "outputs": [],
   "source": [
    "#This is the url you will scrape in this exercise\n",
    "url = 'http://www.imdb.com/chart/top'"
   ]
  },
  {
   "cell_type": "code",
   "execution_count": null,
   "metadata": {},
   "outputs": [],
   "source": [
    "#your code"
   ]
  },
  {
   "cell_type": "markdown",
   "metadata": {},
   "source": [
    "#### Find the live weather report (temperature, wind speed, description and weather) of a given city."
   ]
  },
  {
   "cell_type": "code",
   "execution_count": null,
   "metadata": {},
   "outputs": [],
   "source": [
    "#https://openweathermap.org/current\n",
    "city = city=input('Enter the city:')\n",
    "url = 'http://api.openweathermap.org/data/2.5/weather?'+'q='+city+'&APPID=b35975e18dc93725acb092f7272cc6b8&units=metric'"
   ]
  },
  {
   "cell_type": "code",
   "execution_count": null,
   "metadata": {},
   "outputs": [],
   "source": [
    "# your code"
   ]
  },
  {
   "cell_type": "markdown",
   "metadata": {},
   "source": [
    "#### Book name,price and stock availability as a pandas dataframe."
   ]
  },
  {
   "cell_type": "code",
   "execution_count": null,
   "metadata": {},
   "outputs": [],
   "source": [
    "# This is the url you will scrape in this exercise. \n",
    "# It is a fictional bookstore created to be scraped. \n",
    "url = 'http://books.toscrape.com/'"
   ]
  },
  {
   "cell_type": "code",
   "execution_count": null,
   "metadata": {},
   "outputs": [],
   "source": [
    "#your code"
   ]
  }
 ],
 "metadata": {
  "kernelspec": {
   "display_name": "Python 3 (ipykernel)",
   "language": "python",
   "name": "python3"
  },
  "language_info": {
   "codemirror_mode": {
    "name": "ipython",
    "version": 3
   },
   "file_extension": ".py",
   "mimetype": "text/x-python",
   "name": "python",
   "nbconvert_exporter": "python",
   "pygments_lexer": "ipython3",
   "version": "3.7.13"
  }
 },
 "nbformat": 4,
 "nbformat_minor": 2
}
