{
 "cells": [
  {
   "cell_type": "markdown",
   "metadata": {},
   "source": [
    "# Web Scraping Lab\n",
    "\n",
    "You will find in this notebook some scrapy exercises to practise your scraping skills.\n",
    "\n",
    "**Tips:**\n",
    "\n",
    "- Check the response status code for each request to ensure you have obtained the intended contennt.\n",
    "- Print the response text in each request to understand the kind of info you are getting and its format.\n",
    "- Check for patterns in the response text to extract the data/info requested in each question.\n",
    "- Visit each url and take a look at its source through Chrome DevTools. You'll need to identify the html tags, special class names etc. used for the html content you are expected to extract."
   ]
  },
  {
   "cell_type": "markdown",
   "metadata": {},
   "source": [
    "- [Selenium Doc](https://www.selenium.dev/documentation/)\n",
    "- [Requests library](http://docs.python-requests.org/en/master/#the-user-guide) documentation \n",
    "- [Urllib](https://docs.python.org/3/library/urllib.html#module-urllib)\n",
    "- [re lib](https://docs.python.org/3/library/re.html)\n",
    "- [lxml lib](https://lxml.de/)\n",
    "- [Scrapy](https://scrapy.org/)\n",
    "- [List of HTTP status codes](https://en.wikipedia.org/wiki/List_of_HTTP_status_codes)\n",
    "- [HTML basics](http://www.simplehtmlguide.com/cheatsheet.php)\n",
    "- [CSS basics](https://www.cssbasics.com/#page_start)"
   ]
  },
  {
   "cell_type": "markdown",
   "metadata": {},
   "source": [
    "#### Below are the libraries and modules you may need. `Selenium` and `pandas` are imported for you."
   ]
  },
  {
   "cell_type": "code",
   "execution_count": 3,
   "metadata": {},
   "outputs": [
    {
     "name": "stdout",
     "output_type": "stream",
     "text": [
      "Collecting package metadata (current_repodata.json): done\n",
      "Solving environment: done\n",
      "\n",
      "\n",
      "==> WARNING: A newer version of conda exists. <==\n",
      "  current version: 4.14.0\n",
      "  latest version: 22.9.0\n",
      "\n",
      "Please update conda by running\n",
      "\n",
      "    $ conda update -n base -c defaults conda\n",
      "\n",
      "\n",
      "\n",
      "## Package Plan ##\n",
      "\n",
      "  environment location: /Users/maria/opt/anaconda3\n",
      "\n",
      "  added / updated specs:\n",
      "    - selenium\n",
      "\n",
      "\n",
      "The following packages will be downloaded:\n",
      "\n",
      "    package                    |            build\n",
      "    ---------------------------|-----------------\n",
      "    async_generator-1.10       |             py_0          18 KB  conda-forge\n",
      "    conda-22.9.0               |   py39h6e9494a_2         962 KB  conda-forge\n",
      "    exceptiongroup-1.0.1       |     pyhd8ed1ab_0          16 KB  conda-forge\n",
      "    h11-0.14.0                 |     pyhd8ed1ab_0          47 KB  conda-forge\n",
      "    outcome-1.2.0              |     pyhd8ed1ab_0          12 KB  conda-forge\n",
      "    python_abi-3.9             |           2_cp39           4 KB  conda-forge\n",
      "    selenium-4.6.0             |     pyhd8ed1ab_0         406 KB  conda-forge\n",
      "    trio-0.22.0                |   py39h6e9494a_1         535 KB  conda-forge\n",
      "    trio-websocket-0.9.2       |     pyhd8ed1ab_0          25 KB  conda-forge\n",
      "    wsproto-1.2.0              |     pyhd8ed1ab_0          24 KB  conda-forge\n",
      "    ------------------------------------------------------------\n",
      "                                           Total:         2.0 MB\n",
      "\n",
      "The following NEW packages will be INSTALLED:\n",
      "\n",
      "  async_generator    conda-forge/noarch::async_generator-1.10-py_0\n",
      "  exceptiongroup     conda-forge/noarch::exceptiongroup-1.0.1-pyhd8ed1ab_0\n",
      "  h11                conda-forge/noarch::h11-0.14.0-pyhd8ed1ab_0\n",
      "  outcome            conda-forge/noarch::outcome-1.2.0-pyhd8ed1ab_0\n",
      "  python_abi         conda-forge/osx-64::python_abi-3.9-2_cp39\n",
      "  selenium           conda-forge/noarch::selenium-4.6.0-pyhd8ed1ab_0\n",
      "  trio               conda-forge/osx-64::trio-0.22.0-py39h6e9494a_1\n",
      "  trio-websocket     conda-forge/noarch::trio-websocket-0.9.2-pyhd8ed1ab_0\n",
      "  wsproto            conda-forge/noarch::wsproto-1.2.0-pyhd8ed1ab_0\n",
      "\n",
      "The following packages will be UPDATED:\n",
      "\n",
      "  conda              pkgs/main::conda-4.14.0-py39hecd8cb5_0 --> conda-forge::conda-22.9.0-py39h6e9494a_2\n",
      "\n",
      "\n",
      "\n",
      "Downloading and Extracting Packages\n",
      "conda-22.9.0         | 962 KB    | ##################################### | 100% \n",
      "h11-0.14.0           | 47 KB     | ##################################### | 100% \n",
      "async_generator-1.10 | 18 KB     | ##################################### | 100% \n",
      "wsproto-1.2.0        | 24 KB     | ##################################### | 100% \n",
      "trio-websocket-0.9.2 | 25 KB     | ##################################### | 100% \n",
      "selenium-4.6.0       | 406 KB    | ##################################### | 100% \n",
      "exceptiongroup-1.0.1 | 16 KB     | ##################################### | 100% \n",
      "outcome-1.2.0        | 12 KB     | ##################################### | 100% \n",
      "python_abi-3.9       | 4 KB      | ##################################### | 100% \n",
      "trio-0.22.0          | 535 KB    | ##################################### | 100% \n",
      "Preparing transaction: done\n",
      "Verifying transaction: done\n",
      "Executing transaction: done\n",
      "Retrieving notices: ...working... done\n",
      "\n",
      "Note: you may need to restart the kernel to use updated packages.\n"
     ]
    }
   ],
   "source": [
    "conda install -c conda-forge selenium"
   ]
  },
  {
   "cell_type": "code",
   "execution_count": 5,
   "metadata": {
    "scrolled": true
   },
   "outputs": [],
   "source": [
    "from selenium import webdriver"
   ]
  },
  {
   "cell_type": "code",
   "execution_count": 7,
   "metadata": {},
   "outputs": [
    {
     "name": "stdout",
     "output_type": "stream",
     "text": [
      "Collecting webdriver-manager\n",
      "  Downloading webdriver_manager-3.8.4-py2.py3-none-any.whl (27 kB)\n",
      "Requirement already satisfied: requests in /Users/maria/opt/anaconda3/lib/python3.9/site-packages (from webdriver-manager) (2.27.1)\n",
      "Requirement already satisfied: tqdm in /Users/maria/opt/anaconda3/lib/python3.9/site-packages (from webdriver-manager) (4.64.0)\n",
      "Collecting python-dotenv\n",
      "  Downloading python_dotenv-0.21.0-py3-none-any.whl (18 kB)\n",
      "Requirement already satisfied: idna<4,>=2.5 in /Users/maria/opt/anaconda3/lib/python3.9/site-packages (from requests->webdriver-manager) (3.3)\n",
      "Requirement already satisfied: certifi>=2017.4.17 in /Users/maria/opt/anaconda3/lib/python3.9/site-packages (from requests->webdriver-manager) (2021.10.8)\n",
      "Requirement already satisfied: charset-normalizer~=2.0.0 in /Users/maria/opt/anaconda3/lib/python3.9/site-packages (from requests->webdriver-manager) (2.0.4)\n",
      "Requirement already satisfied: urllib3<1.27,>=1.21.1 in /Users/maria/opt/anaconda3/lib/python3.9/site-packages (from requests->webdriver-manager) (1.26.9)\n",
      "Installing collected packages: python-dotenv, webdriver-manager\n",
      "Successfully installed python-dotenv-0.21.0 webdriver-manager-3.8.4\n",
      "Note: you may need to restart the kernel to use updated packages.\n"
     ]
    }
   ],
   "source": [
    "%pip install webdriver-manager"
   ]
  },
  {
   "cell_type": "code",
   "execution_count": 8,
   "metadata": {},
   "outputs": [],
   "source": [
    "import pandas as pd\n",
    "from selenium.webdriver.chrome.options import Options\n",
    "from webdriver_manager.chrome import ChromeDriverManager"
   ]
  },
  {
   "cell_type": "code",
   "execution_count": 9,
   "metadata": {},
   "outputs": [],
   "source": [
    "from selenium.webdriver.common.by import By   # para buscar segun tag, id, class, etc...\n",
    "\n",
    "import time\n",
    "\n",
    "import warnings\n",
    "warnings.filterwarnings('ignore')"
   ]
  },
  {
   "cell_type": "markdown",
   "metadata": {},
   "source": [
    "#### Enable the options you may need. In the next cell you have an example of them but you can choose to use them or not."
   ]
  },
  {
   "cell_type": "code",
   "execution_count": 10,
   "metadata": {},
   "outputs": [],
   "source": [
    "#driver configuration\n",
    "opciones=Options()\n",
    "\n",
    "opciones.add_experimental_option('excludeSwitches', ['enable-automation'])\n",
    "opciones.add_experimental_option('useAutomationExtension', False)\n",
    "opciones.headless=False    # si True, no aperece la ventana (headless=no visible)\n",
    "opciones.add_argument('--start-maximized')         # comienza maximizado\n",
    "#opciones.add_argument('user-data-dir=selenium')    # mantiene las cookies\n",
    "#opciones.add_extension('driver_folder/adblock.crx')       # adblocker\n",
    "opciones.add_argument('--incognito')"
   ]
  },
  {
   "cell_type": "code",
   "execution_count": 12,
   "metadata": {},
   "outputs": [
    {
     "name": "stderr",
     "output_type": "stream",
     "text": [
      "[WDM] - Downloading: 100%|█████████████████| 8.41M/8.41M [00:03<00:00, 2.42MB/s]\n"
     ]
    }
   ],
   "source": [
    "PATH=ChromeDriverManager().install()   # instala el driver\n",
    "\n",
    "#driver=webdriver.Chrome(PATH)         # abre una pestaña de chrome\n",
    "\n"
   ]
  },
  {
   "cell_type": "code",
   "execution_count": 13,
   "metadata": {},
   "outputs": [],
   "source": [
    "#driver = \"./chromedriver.exe\" #remember substitute this for your driver path\n",
    "#driver = webdriver.Chrome(driver,options = opciones)"
   ]
  },
  {
   "cell_type": "markdown",
   "metadata": {},
   "source": [
    "#### Download, parse, and print the content from the Trending Developers page from GitHub:"
   ]
  },
  {
   "cell_type": "code",
   "execution_count": null,
   "metadata": {},
   "outputs": [],
   "source": [
    "# This is the url you will scrape in this exercise\n",
    "url = 'https://github.com/trending/developers'"
   ]
  },
  {
   "cell_type": "code",
   "execution_count": 47,
   "metadata": {},
   "outputs": [],
   "source": [
    "#your code\n",
    "driver=webdriver.Chrome(PATH)\n",
    "\n",
    "driver.get(url)"
   ]
  },
  {
   "cell_type": "markdown",
   "metadata": {},
   "source": [
    "#### Display the names of the trending developers retrieved in the previous step.\n",
    "\n",
    "Your output should be a Python list of developer names. Each name should not contain any html tag.\n",
    "\n",
    "**Instructions:**\n",
    "\n",
    "1. Find out the html tag and class names used for the developer names.\n",
    "\n",
    "1. Use string manipulation techniques to replace whitespaces and linebreaks (i.e. `\\n`) in the *text* of each html element. Use a list to store the clean names.\n",
    "\n",
    "1. Print the list of names.\n",
    "\n",
    "Your output should look like below:\n",
    "\n",
    "```\n",
    "['trimstray (@trimstray)',\n",
    " 'joewalnes (JoeWalnes)',\n",
    " 'charlax (Charles-AxelDein)',\n",
    " 'ForrestKnight (ForrestKnight)',\n",
    " 'revery-ui (revery-ui)',\n",
    " 'alibaba (Alibaba)',\n",
    " 'Microsoft (Microsoft)',\n",
    " 'github (GitHub)',\n",
    " 'facebook (Facebook)',\n",
    " 'boazsegev (Bo)',\n",
    " 'google (Google)',\n",
    " 'cloudfetch',\n",
    " 'sindresorhus (SindreSorhus)',\n",
    " 'tensorflow',\n",
    " 'apache (TheApacheSoftwareFoundation)',\n",
    " 'DevonCrawford (DevonCrawford)',\n",
    " 'ARMmbed (ArmMbed)',\n",
    " 'vuejs (vuejs)',\n",
    " 'fastai (fast.ai)',\n",
    " 'QiShaoXuan (Qi)',\n",
    " 'joelparkerhenderson (JoelParkerHenderson)',\n",
    " 'torvalds (LinusTorvalds)',\n",
    " 'CyC2018',\n",
    " 'komeiji-satori (神楽坂覚々)',\n",
    " 'script-8']\n",
    " ```"
   ]
  },
  {
   "cell_type": "code",
   "execution_count": 53,
   "metadata": {
    "scrolled": true
   },
   "outputs": [
    {
     "data": {
      "text/plain": [
       "[<selenium.webdriver.remote.webelement.WebElement (session=\"6736b7a3e1a659033b5fb96b58afa8af\", element=\"2813721a-32ed-44f0-8358-2ee72daf5da1\")>,\n",
       " <selenium.webdriver.remote.webelement.WebElement (session=\"6736b7a3e1a659033b5fb96b58afa8af\", element=\"ccaacc6d-23f6-41a7-ac9e-0b55ca80e2a5\")>,\n",
       " <selenium.webdriver.remote.webelement.WebElement (session=\"6736b7a3e1a659033b5fb96b58afa8af\", element=\"cb011424-13ac-498b-8bec-d2e104062241\")>,\n",
       " <selenium.webdriver.remote.webelement.WebElement (session=\"6736b7a3e1a659033b5fb96b58afa8af\", element=\"2fb6a30a-481c-4f78-8620-687ea2ed42fe\")>,\n",
       " <selenium.webdriver.remote.webelement.WebElement (session=\"6736b7a3e1a659033b5fb96b58afa8af\", element=\"a6adb4f1-7f82-4ace-9bcd-e027ac7620c5\")>,\n",
       " <selenium.webdriver.remote.webelement.WebElement (session=\"6736b7a3e1a659033b5fb96b58afa8af\", element=\"0574e6c2-3e7d-4675-93bd-2a23d3fd5790\")>,\n",
       " <selenium.webdriver.remote.webelement.WebElement (session=\"6736b7a3e1a659033b5fb96b58afa8af\", element=\"2fbff547-f267-451f-a928-fee009c8f81e\")>,\n",
       " <selenium.webdriver.remote.webelement.WebElement (session=\"6736b7a3e1a659033b5fb96b58afa8af\", element=\"01a72f9c-8e3e-4ad8-a762-ce0274b8ddca\")>,\n",
       " <selenium.webdriver.remote.webelement.WebElement (session=\"6736b7a3e1a659033b5fb96b58afa8af\", element=\"f48bc269-422d-4971-8297-708bd2465949\")>,\n",
       " <selenium.webdriver.remote.webelement.WebElement (session=\"6736b7a3e1a659033b5fb96b58afa8af\", element=\"15063469-e4fd-4d67-8d60-e4a953c3b676\")>,\n",
       " <selenium.webdriver.remote.webelement.WebElement (session=\"6736b7a3e1a659033b5fb96b58afa8af\", element=\"61eb9573-a5f1-4bee-870c-7056fce9008a\")>,\n",
       " <selenium.webdriver.remote.webelement.WebElement (session=\"6736b7a3e1a659033b5fb96b58afa8af\", element=\"9e338206-58d4-4f68-b32f-3777f40ef7cf\")>,\n",
       " <selenium.webdriver.remote.webelement.WebElement (session=\"6736b7a3e1a659033b5fb96b58afa8af\", element=\"d21d6cc3-6dc8-4442-a2f5-3add357928bc\")>,\n",
       " <selenium.webdriver.remote.webelement.WebElement (session=\"6736b7a3e1a659033b5fb96b58afa8af\", element=\"96f09c13-6141-49a9-a16d-ee6e891653db\")>,\n",
       " <selenium.webdriver.remote.webelement.WebElement (session=\"6736b7a3e1a659033b5fb96b58afa8af\", element=\"ca389173-13a3-482b-99f8-8e30c5f7d3f4\")>,\n",
       " <selenium.webdriver.remote.webelement.WebElement (session=\"6736b7a3e1a659033b5fb96b58afa8af\", element=\"293a6446-ef58-4808-a2d8-b71aa22da44b\")>,\n",
       " <selenium.webdriver.remote.webelement.WebElement (session=\"6736b7a3e1a659033b5fb96b58afa8af\", element=\"fb17f327-8bcc-48f6-af71-68198faf6bb5\")>,\n",
       " <selenium.webdriver.remote.webelement.WebElement (session=\"6736b7a3e1a659033b5fb96b58afa8af\", element=\"2a079493-6a60-45c0-8278-b45f76e76851\")>,\n",
       " <selenium.webdriver.remote.webelement.WebElement (session=\"6736b7a3e1a659033b5fb96b58afa8af\", element=\"43027550-6804-4517-b1d5-772cfa33750e\")>,\n",
       " <selenium.webdriver.remote.webelement.WebElement (session=\"6736b7a3e1a659033b5fb96b58afa8af\", element=\"826c456e-b722-4613-a3ef-e8d5da4a0cd5\")>,\n",
       " <selenium.webdriver.remote.webelement.WebElement (session=\"6736b7a3e1a659033b5fb96b58afa8af\", element=\"e594b20f-0636-4cfd-b33b-f2304b0ba6d0\")>,\n",
       " <selenium.webdriver.remote.webelement.WebElement (session=\"6736b7a3e1a659033b5fb96b58afa8af\", element=\"43033906-89a8-4070-94f0-e7b89a97ff38\")>,\n",
       " <selenium.webdriver.remote.webelement.WebElement (session=\"6736b7a3e1a659033b5fb96b58afa8af\", element=\"00bb0cc3-f934-4008-b4c9-5a8611cca3e0\")>,\n",
       " <selenium.webdriver.remote.webelement.WebElement (session=\"6736b7a3e1a659033b5fb96b58afa8af\", element=\"a47435a8-d98c-4629-b898-ec0abfdcd0b7\")>,\n",
       " <selenium.webdriver.remote.webelement.WebElement (session=\"6736b7a3e1a659033b5fb96b58afa8af\", element=\"c3f631bc-858a-4671-a7ac-45c56d5dd038\")>]"
      ]
     },
     "execution_count": 53,
     "metadata": {},
     "output_type": "execute_result"
    }
   ],
   "source": [
    "driver.find_elements(By.CLASS_NAME,'Box-row')"
   ]
  },
  {
   "cell_type": "code",
   "execution_count": 60,
   "metadata": {},
   "outputs": [],
   "source": [
    "tarjetas=driver.find_elements(By.CLASS_NAME,'Box-row')"
   ]
  },
  {
   "cell_type": "code",
   "execution_count": 69,
   "metadata": {},
   "outputs": [
    {
     "data": {
      "text/plain": [
       "'Nikita Sobolev'"
      ]
     },
     "execution_count": 69,
     "metadata": {},
     "output_type": "execute_result"
    }
   ],
   "source": [
    "tarjetas[0].find_elements(By.TAG_NAME,'a')[2].text"
   ]
  },
  {
   "cell_type": "code",
   "execution_count": 70,
   "metadata": {},
   "outputs": [
    {
     "data": {
      "text/plain": [
       "'sobolevn'"
      ]
     },
     "execution_count": 70,
     "metadata": {},
     "output_type": "execute_result"
    }
   ],
   "source": [
    "tarjetas[0].find_elements(By.TAG_NAME,'a')[3].text"
   ]
  },
  {
   "cell_type": "code",
   "execution_count": 73,
   "metadata": {
    "scrolled": true
   },
   "outputs": [
    {
     "name": "stdout",
     "output_type": "stream",
     "text": [
      "['Nikita Sobolev / sobolevn', 'Emil Ernerfeldt / emilk', 'Jonny Borges / jonataslaw', 'Stephen Celis / stephencelis', 'monkeyWie / gopeed', 'Azure SDK Bot / azure-sdk', 'Martin Bonnin / martinbonnin', 'Wangchong Zhou / fffonion', 'Ammar Ahmed / ammarahm-ed', 'Matt Bierner / mjbvz', 'Alessandro Ros / aler9', 'Mike Perham / mperham', 'DavidKorczynski / Follow', 'Abhijeet Prasad / AbhiPrasad', 'Mislav Marohnić / mislav', 'Leonard Hecker / lhecker', 'Pedro Cuenca / pcuenca', 'Marcus Olsson / marcusolsson', 'Alex Eagle / alexeagle', 'Nolan Lawson / nolanlawson', 'Luke Latham / guardrex', 'Joshua Levy / jlevy', 'Bas Nijholt / basnijholt', 'Ice3man / Ice3man543', 'kunfei / gedoor']\n"
     ]
    }
   ],
   "source": [
    "solucion=[]\n",
    "for e in tarjetas:\n",
    "    nombres=e.find_elements(By.TAG_NAME,'a')[2].text\n",
    "    alias=e.find_elements(By.TAG_NAME,'a')[3].text\n",
    "    solucion.append(nombres + ' / '+ alias)\n",
    "print(solucion)\n",
    "    "
   ]
  },
  {
   "cell_type": "code",
   "execution_count": 284,
   "metadata": {},
   "outputs": [],
   "source": [
    "driver.quit()"
   ]
  },
  {
   "cell_type": "markdown",
   "metadata": {},
   "source": [
    "#### Display the trending Python repositories in GitHub\n",
    "\n",
    "The steps to solve this problem is similar to the previous one except that you need to find out the repository names instead of developer names."
   ]
  },
  {
   "cell_type": "code",
   "execution_count": 78,
   "metadata": {},
   "outputs": [],
   "source": [
    "# This is the url you will scrape in this exercise\n",
    "url = 'https://github.com/trending/python?since=daily'\n",
    "driver=webdriver.Chrome(PATH)\n",
    "driver.get(url)"
   ]
  },
  {
   "cell_type": "code",
   "execution_count": 101,
   "metadata": {},
   "outputs": [],
   "source": [
    "tarjetitas=driver.find_elements(By.CLASS_NAME,'Box-row')"
   ]
  },
  {
   "cell_type": "code",
   "execution_count": 108,
   "metadata": {},
   "outputs": [
    {
     "data": {
      "text/plain": [
       "'bregman-arie / devops-exercises'"
      ]
     },
     "execution_count": 108,
     "metadata": {},
     "output_type": "execute_result"
    }
   ],
   "source": [
    "tarjetitas[1].find_elements(By.TAG_NAME,'a')[2].text"
   ]
  },
  {
   "cell_type": "code",
   "execution_count": 85,
   "metadata": {},
   "outputs": [
    {
     "data": {
      "text/plain": [
       "'Sponsor\\nStar\\nbregman-arie / devops-exercises\\nLinux, Jenkins, AWS, SRE, Prometheus, Docker, Python, Ansible, Git, Kubernetes, Terraform, OpenStack, SQL, NoSQL, Azure, GCP, DNS, Elastic, Network, Virtualization. DevOps Interview Questions\\nPython 33,152 7,292 Built by\\n234 stars today'"
      ]
     },
     "execution_count": 85,
     "metadata": {},
     "output_type": "execute_result"
    }
   ],
   "source": [
    "tarjetitas[1].text"
   ]
  },
  {
   "cell_type": "code",
   "execution_count": 112,
   "metadata": {},
   "outputs": [
    {
     "name": "stdout",
     "output_type": "stream",
     "text": [
      "['public-apis / public-apis', 'bregman-arie / devops-exercises', 'facebookresearch / fairseq', 'cloneofsimo / paint-with-words-sd', 'Azure / azure-cli', 'caronc / apprise', 'joweich / chat-miner', 'PaddlePaddle / PaddleTS', 'mli / autocut', 'sczhou / CodeFormer', 'unifyai / ivy', 'augmentedstartups / AS-One', 'loTus04 / W4SP-Stealer', 'rwightman / pytorch-image-models', 'iterativv / NostalgiaForInfinity', 'getredash / redash', 'ethereum / consensus-specs', 'd8ahazard / sd_dreambooth_extension', 'microsoft / recommenders', 'zulip / zulip', 'ultralytics / yolov5', 'openai / improved-diffusion', 'facebookresearch / ParlAI', 'aliyun / surftrace', 'NVlabs / stylegan2-ada-pytorch']\n"
     ]
    }
   ],
   "source": [
    "tarjetitas=driver.find_elements(By.CLASS_NAME,'Box-row')\n",
    "nom=''\n",
    "nombres=[]\n",
    "\n",
    "for e in tarjetitas:\n",
    "    nom=e.find_elements(By.TAG_NAME,'a')[1].text\n",
    "    if nom == 'Star':\n",
    "        nom=e.find_elements(By.TAG_NAME,'a')[2].text\n",
    "    nombres.append(nom)\n",
    "print(nombres)\n"
   ]
  },
  {
   "cell_type": "code",
   "execution_count": 285,
   "metadata": {},
   "outputs": [],
   "source": [
    "driver.quit()"
   ]
  },
  {
   "cell_type": "markdown",
   "metadata": {},
   "source": [
    "#### Display all the image links from Walt Disney wikipedia page"
   ]
  },
  {
   "cell_type": "code",
   "execution_count": 113,
   "metadata": {},
   "outputs": [],
   "source": [
    "# This is the url you will scrape in this exercise\n",
    "url = 'https://en.wikipedia.org/wiki/Walt_Disney'\n",
    "driver=webdriver.Chrome(PATH)\n",
    "driver.get(url)"
   ]
  },
  {
   "cell_type": "code",
   "execution_count": 142,
   "metadata": {
    "scrolled": true
   },
   "outputs": [
    {
     "data": {
      "text/plain": [
       "[<selenium.webdriver.remote.webelement.WebElement (session=\"cec8ed2045e9c99738c8ec60bf66c266\", element=\"3956f2f9-649f-4f47-8d46-d0986ad87a4a\")>,\n",
       " <selenium.webdriver.remote.webelement.WebElement (session=\"cec8ed2045e9c99738c8ec60bf66c266\", element=\"9c1dfce8-d040-44f3-9a67-4d56ecb166c5\")>,\n",
       " <selenium.webdriver.remote.webelement.WebElement (session=\"cec8ed2045e9c99738c8ec60bf66c266\", element=\"e561c90e-fe44-4a90-9019-0e30cfe1f847\")>,\n",
       " <selenium.webdriver.remote.webelement.WebElement (session=\"cec8ed2045e9c99738c8ec60bf66c266\", element=\"0c216902-d73b-4832-afbd-732f11e58e9f\")>,\n",
       " <selenium.webdriver.remote.webelement.WebElement (session=\"cec8ed2045e9c99738c8ec60bf66c266\", element=\"aea8638c-9a2c-4bf6-8991-ed641ed594e3\")>,\n",
       " <selenium.webdriver.remote.webelement.WebElement (session=\"cec8ed2045e9c99738c8ec60bf66c266\", element=\"a5559ec8-2316-4e71-8a82-53fcbc66a9e2\")>,\n",
       " <selenium.webdriver.remote.webelement.WebElement (session=\"cec8ed2045e9c99738c8ec60bf66c266\", element=\"85822b82-31cb-42e5-8627-a6cf1271a70f\")>,\n",
       " <selenium.webdriver.remote.webelement.WebElement (session=\"cec8ed2045e9c99738c8ec60bf66c266\", element=\"b509d883-bfbd-4ded-9edd-11d90c02690a\")>,\n",
       " <selenium.webdriver.remote.webelement.WebElement (session=\"cec8ed2045e9c99738c8ec60bf66c266\", element=\"e31b5cd2-0536-4114-83c0-352e2a09fda0\")>,\n",
       " <selenium.webdriver.remote.webelement.WebElement (session=\"cec8ed2045e9c99738c8ec60bf66c266\", element=\"9cde31cb-16df-4f36-83fa-68fcda13402d\")>,\n",
       " <selenium.webdriver.remote.webelement.WebElement (session=\"cec8ed2045e9c99738c8ec60bf66c266\", element=\"1b98416d-8621-43ca-85e7-bffd709486c7\")>,\n",
       " <selenium.webdriver.remote.webelement.WebElement (session=\"cec8ed2045e9c99738c8ec60bf66c266\", element=\"5bdae450-f147-4cc1-b711-c0b0ccbb0b77\")>,\n",
       " <selenium.webdriver.remote.webelement.WebElement (session=\"cec8ed2045e9c99738c8ec60bf66c266\", element=\"3d3ba3de-9782-4ad1-af4b-55b8a9984d96\")>,\n",
       " <selenium.webdriver.remote.webelement.WebElement (session=\"cec8ed2045e9c99738c8ec60bf66c266\", element=\"9fdc8e16-657d-40a4-9cbc-4e6291dd0468\")>,\n",
       " <selenium.webdriver.remote.webelement.WebElement (session=\"cec8ed2045e9c99738c8ec60bf66c266\", element=\"5537ae4b-cddb-4860-bb46-66431370cdae\")>,\n",
       " <selenium.webdriver.remote.webelement.WebElement (session=\"cec8ed2045e9c99738c8ec60bf66c266\", element=\"de78a6c2-f674-4a4a-9df8-dd53dfd27a01\")>,\n",
       " <selenium.webdriver.remote.webelement.WebElement (session=\"cec8ed2045e9c99738c8ec60bf66c266\", element=\"c4a9a5d2-a365-4a42-81ad-5fc10731de6c\")>,\n",
       " <selenium.webdriver.remote.webelement.WebElement (session=\"cec8ed2045e9c99738c8ec60bf66c266\", element=\"88fe815e-f3d6-44dc-b597-b2a2a25f8cc9\")>,\n",
       " <selenium.webdriver.remote.webelement.WebElement (session=\"cec8ed2045e9c99738c8ec60bf66c266\", element=\"a0d79070-c82a-4d24-968d-04439c870d30\")>,\n",
       " <selenium.webdriver.remote.webelement.WebElement (session=\"cec8ed2045e9c99738c8ec60bf66c266\", element=\"d8124b65-39f0-46d1-a490-29ceef6ceeba\")>,\n",
       " <selenium.webdriver.remote.webelement.WebElement (session=\"cec8ed2045e9c99738c8ec60bf66c266\", element=\"448f9b94-a94a-4826-b26f-5a94cf61bf92\")>,\n",
       " <selenium.webdriver.remote.webelement.WebElement (session=\"cec8ed2045e9c99738c8ec60bf66c266\", element=\"f1e0de59-116b-4fdc-ba7e-3fe5fc65743d\")>,\n",
       " <selenium.webdriver.remote.webelement.WebElement (session=\"cec8ed2045e9c99738c8ec60bf66c266\", element=\"b7d57f4d-af11-4bc7-abe3-fcf838038eda\")>,\n",
       " <selenium.webdriver.remote.webelement.WebElement (session=\"cec8ed2045e9c99738c8ec60bf66c266\", element=\"d118ee38-728e-4bac-bd6e-7b8e4a3b18a5\")>,\n",
       " <selenium.webdriver.remote.webelement.WebElement (session=\"cec8ed2045e9c99738c8ec60bf66c266\", element=\"e695e6be-f75c-4466-853b-8bad43ed869f\")>,\n",
       " <selenium.webdriver.remote.webelement.WebElement (session=\"cec8ed2045e9c99738c8ec60bf66c266\", element=\"6e0fff2a-f6f3-4e4a-8308-807568975221\")>,\n",
       " <selenium.webdriver.remote.webelement.WebElement (session=\"cec8ed2045e9c99738c8ec60bf66c266\", element=\"1f2289b3-2af9-445e-8b34-39423b1cf23c\")>,\n",
       " <selenium.webdriver.remote.webelement.WebElement (session=\"cec8ed2045e9c99738c8ec60bf66c266\", element=\"463ed33b-10cf-4857-8a1c-5988dad1cafa\")>,\n",
       " <selenium.webdriver.remote.webelement.WebElement (session=\"cec8ed2045e9c99738c8ec60bf66c266\", element=\"a01c4e65-2816-4337-986a-f3c6cbaa3265\")>,\n",
       " <selenium.webdriver.remote.webelement.WebElement (session=\"cec8ed2045e9c99738c8ec60bf66c266\", element=\"528d4606-2e1f-47ae-9e86-abd88b253b5a\")>,\n",
       " <selenium.webdriver.remote.webelement.WebElement (session=\"cec8ed2045e9c99738c8ec60bf66c266\", element=\"5b0956ca-4e45-4282-bf7e-4c1c481e847a\")>,\n",
       " <selenium.webdriver.remote.webelement.WebElement (session=\"cec8ed2045e9c99738c8ec60bf66c266\", element=\"67a68975-e233-402f-9b29-c94d3fd98e2e\")>,\n",
       " <selenium.webdriver.remote.webelement.WebElement (session=\"cec8ed2045e9c99738c8ec60bf66c266\", element=\"97648703-d578-484d-afd1-e95662217a94\")>,\n",
       " <selenium.webdriver.remote.webelement.WebElement (session=\"cec8ed2045e9c99738c8ec60bf66c266\", element=\"fbe92ed2-8334-4bca-95a9-26b188a5d5a5\")>,\n",
       " <selenium.webdriver.remote.webelement.WebElement (session=\"cec8ed2045e9c99738c8ec60bf66c266\", element=\"197afb2a-4d28-46b6-a68e-dc7a35e8c985\")>,\n",
       " <selenium.webdriver.remote.webelement.WebElement (session=\"cec8ed2045e9c99738c8ec60bf66c266\", element=\"27249e73-0bf5-4906-993e-7d37cd281dd5\")>,\n",
       " <selenium.webdriver.remote.webelement.WebElement (session=\"cec8ed2045e9c99738c8ec60bf66c266\", element=\"8a663fd9-adfd-48b0-8b01-60a9a6431e15\")>,\n",
       " <selenium.webdriver.remote.webelement.WebElement (session=\"cec8ed2045e9c99738c8ec60bf66c266\", element=\"c9899dac-d8d7-43e5-9c9d-57a4584d1c13\")>]"
      ]
     },
     "execution_count": 142,
     "metadata": {},
     "output_type": "execute_result"
    }
   ],
   "source": [
    "#your code\n",
    "imagenes=driver.find_elements(By.TAG_NAME,'img')\n",
    "imagenes"
   ]
  },
  {
   "cell_type": "code",
   "execution_count": 143,
   "metadata": {
    "scrolled": false
   },
   "outputs": [
    {
     "name": "stdout",
     "output_type": "stream",
     "text": [
      "https://upload.wikimedia.org/wikipedia/en/thumb/e/e7/Cscr-featured.svg/20px-Cscr-featured.svg.png\n",
      "https://upload.wikimedia.org/wikipedia/en/thumb/8/8c/Extended-protection-shackle.svg/20px-Extended-protection-shackle.svg.png\n",
      "https://upload.wikimedia.org/wikipedia/commons/thumb/d/df/Walt_Disney_1946.JPG/220px-Walt_Disney_1946.JPG\n",
      "https://upload.wikimedia.org/wikipedia/commons/thumb/8/87/Walt_Disney_1942_signature.svg/150px-Walt_Disney_1942_signature.svg.png\n",
      "https://upload.wikimedia.org/wikipedia/commons/thumb/3/3a/Walt_Disney_Birthplace_Exterior_Hermosa_Chicago_Illinois.jpg/220px-Walt_Disney_Birthplace_Exterior_Hermosa_Chicago_Illinois.jpg\n",
      "https://upload.wikimedia.org/wikipedia/commons/thumb/c/c4/Walt_Disney_envelope_ca._1921.jpg/220px-Walt_Disney_envelope_ca._1921.jpg\n",
      "https://upload.wikimedia.org/wikipedia/commons/thumb/0/0d/Trolley_Troubles_poster.jpg/170px-Trolley_Troubles_poster.jpg\n",
      "https://upload.wikimedia.org/wikipedia/en/thumb/4/4e/Steamboat-willie.jpg/170px-Steamboat-willie.jpg\n",
      "https://upload.wikimedia.org/wikipedia/commons/thumb/5/57/Walt_Disney_1935.jpg/170px-Walt_Disney_1935.jpg\n",
      "https://upload.wikimedia.org/wikipedia/commons/thumb/c/cd/Walt_Disney_Snow_white_1937_trailer_screenshot_%2813%29.jpg/220px-Walt_Disney_Snow_white_1937_trailer_screenshot_%2813%29.jpg\n",
      "https://upload.wikimedia.org/wikipedia/commons/thumb/1/15/Disney_drawing_goofy.jpg/170px-Disney_drawing_goofy.jpg\n",
      "https://upload.wikimedia.org/wikipedia/commons/thumb/8/8c/WaltDisneyplansDisneylandDec1954.jpg/220px-WaltDisneyplansDisneylandDec1954.jpg\n",
      "https://upload.wikimedia.org/wikipedia/commons/thumb/f/ff/Walt_disney_portrait_right.jpg/170px-Walt_disney_portrait_right.jpg\n",
      "https://upload.wikimedia.org/wikipedia/commons/thumb/1/1a/Walt_Disney_Grave.JPG/170px-Walt_Disney_Grave.JPG\n",
      "https://upload.wikimedia.org/wikipedia/commons/thumb/2/2d/Roy_O._Disney_with_Company_at_Press_Conference.jpg/170px-Roy_O._Disney_with_Company_at_Press_Conference.jpg\n",
      "https://upload.wikimedia.org/wikipedia/commons/thumb/1/13/DisneySchiphol1951.jpg/220px-DisneySchiphol1951.jpg\n",
      "https://upload.wikimedia.org/wikipedia/commons/thumb/6/6c/Disney1968.jpg/170px-Disney1968.jpg\n",
      "https://upload.wikimedia.org/wikipedia/commons/thumb/b/b0/Disney_Oscar_1953_%28cropped%29.jpg/170px-Disney_Oscar_1953_%28cropped%29.jpg\n",
      "https://upload.wikimedia.org/wikipedia/en/thumb/4/4a/Commons-logo.svg/30px-Commons-logo.svg.png\n",
      "https://upload.wikimedia.org/wikipedia/commons/thumb/4/4c/Wikisource-logo.svg/38px-Wikisource-logo.svg.png\n",
      "https://upload.wikimedia.org/wikipedia/commons/thumb/f/fa/Wikiquote-logo.svg/34px-Wikiquote-logo.svg.png\n",
      "https://upload.wikimedia.org/wikipedia/en/thumb/8/8a/OOjs_UI_icon_edit-ltr-progressive.svg/10px-OOjs_UI_icon_edit-ltr-progressive.svg.png\n",
      "https://upload.wikimedia.org/wikipedia/en/thumb/8/8a/OOjs_UI_icon_edit-ltr-progressive.svg/10px-OOjs_UI_icon_edit-ltr-progressive.svg.png\n",
      "https://upload.wikimedia.org/wikipedia/commons/thumb/e/e3/Disneyland_Resort_logo.svg/135px-Disneyland_Resort_logo.svg.png\n",
      "https://upload.wikimedia.org/wikipedia/commons/thumb/d/da/Animation_disc.svg/20px-Animation_disc.svg.png\n",
      "https://upload.wikimedia.org/wikipedia/en/thumb/6/69/P_vip.svg/19px-P_vip.svg.png\n",
      "https://upload.wikimedia.org/wikipedia/commons/thumb/1/1a/Magic_Kingdom_castle.jpg/15px-Magic_Kingdom_castle.jpg\n",
      "https://upload.wikimedia.org/wikipedia/en/thumb/e/e7/Video-x-generic.svg/19px-Video-x-generic.svg.png\n",
      "https://upload.wikimedia.org/wikipedia/commons/thumb/a/a3/Flag_of_Los_Angeles_County%2C_California.svg/21px-Flag_of_Los_Angeles_County%2C_California.svg.png\n",
      "https://upload.wikimedia.org/wikipedia/commons/thumb/8/8c/Blank_television_set.svg/21px-Blank_television_set.svg.png\n",
      "https://upload.wikimedia.org/wikipedia/en/thumb/a/a4/Flag_of_the_United_States.svg/21px-Flag_of_the_United_States.svg.png\n",
      "https://upload.wikimedia.org/wikipedia/en/thumb/4/4a/Commons-logo.svg/14px-Commons-logo.svg.png\n",
      "https://upload.wikimedia.org/wikipedia/commons/thumb/f/fa/Wikiquote-logo.svg/16px-Wikiquote-logo.svg.png\n",
      "https://upload.wikimedia.org/wikipedia/commons/thumb/4/4c/Wikisource-logo.svg/18px-Wikisource-logo.svg.png\n",
      "https://upload.wikimedia.org/wikipedia/commons/thumb/f/ff/Wikidata-logo.svg/21px-Wikidata-logo.svg.png\n",
      "https://upload.wikimedia.org/wikipedia/en/thumb/8/8a/OOjs_UI_icon_edit-ltr-progressive.svg/10px-OOjs_UI_icon_edit-ltr-progressive.svg.png\n",
      "https://en.wikipedia.org/static/images/footer/wikimedia-button.png\n",
      "https://en.wikipedia.org/static/images/footer/poweredby_mediawiki_88x31.png\n"
     ]
    }
   ],
   "source": [
    "for e in imagenes:\n",
    "    stt=e.get_attribute('src')\n",
    "    print(stt)"
   ]
  },
  {
   "cell_type": "code",
   "execution_count": 286,
   "metadata": {},
   "outputs": [],
   "source": [
    "driver.quit()"
   ]
  },
  {
   "cell_type": "markdown",
   "metadata": {},
   "source": [
    "#### Retrieve an arbitary Wikipedia page of \"Python\" and create a list of links on that page"
   ]
  },
  {
   "cell_type": "code",
   "execution_count": 144,
   "metadata": {},
   "outputs": [],
   "source": [
    "# This is the url you will scrape in this exercise\n",
    "url ='https://en.wikipedia.org/wiki/Python'\n",
    "driver=webdriver.Chrome(PATH)\n",
    "driver.get(url)"
   ]
  },
  {
   "cell_type": "code",
   "execution_count": 147,
   "metadata": {},
   "outputs": [],
   "source": [
    "#your code\n",
    "links=driver.find_elements(By.TAG_NAME,'link')"
   ]
  },
  {
   "cell_type": "code",
   "execution_count": 148,
   "metadata": {
    "scrolled": true
   },
   "outputs": [
    {
     "name": "stdout",
     "output_type": "stream",
     "text": [
      "https://en.wikipedia.org/w/load.php?lang=en&modules=ext.uls.interlanguage%7Cext.visualEditor.desktopArticleTarget.noscript%7Cext.wikimediaBadges%7Cskins.vector.styles.legacy%7Cwikibase.client.init&only=styles&skin=vector\n",
      "https://en.wikipedia.org/w/load.php?lang=en&modules=site.styles&only=styles&skin=vector\n",
      "https://upload.wikimedia.org/\n",
      "https://en.m.wikipedia.org/wiki/Python\n",
      "https://en.wikipedia.org/w/index.php?title=Python&action=edit\n",
      "https://en.wikipedia.org/static/apple-touch/wikipedia.png\n",
      "https://en.wikipedia.org/static/favicon/wikipedia.ico\n",
      "https://en.wikipedia.org/w/opensearch_desc.php\n",
      "https://en.wikipedia.org/w/api.php?action=rsd\n",
      "https://creativecommons.org/licenses/by-sa/3.0/\n",
      "https://en.wikipedia.org/wiki/Python\n",
      "https://meta.wikimedia.org/\n",
      "https://login.wikimedia.org/\n"
     ]
    }
   ],
   "source": [
    "for e in links:\n",
    "    sta=e.get_attribute('href')\n",
    "    print(sta)"
   ]
  },
  {
   "cell_type": "code",
   "execution_count": 287,
   "metadata": {},
   "outputs": [],
   "source": [
    "driver.quit()"
   ]
  },
  {
   "cell_type": "markdown",
   "metadata": {},
   "source": [
    "#### Number of Titles that have changed in the United States Code since its last release point "
   ]
  },
  {
   "cell_type": "code",
   "execution_count": 149,
   "metadata": {},
   "outputs": [],
   "source": [
    "# This is the url you will scrape in this exercise\n",
    "url = 'http://uscode.house.gov/download/download.shtml'\n",
    "driver=webdriver.Chrome(PATH)\n",
    "driver.get(url)"
   ]
  },
  {
   "cell_type": "code",
   "execution_count": 150,
   "metadata": {},
   "outputs": [],
   "source": [
    "#your code\n",
    "\n",
    "\n",
    "titles=driver.find_elements(By.CLASS_NAME,'usctitlechanged')"
   ]
  },
  {
   "cell_type": "code",
   "execution_count": 152,
   "metadata": {
    "scrolled": true
   },
   "outputs": [
    {
     "name": "stdout",
     "output_type": "stream",
     "text": [
      "Title 17 - Copyrights ٭\n",
      "Title 22 - Foreign Relations and Intercourse\n",
      "Title 38 - Veterans' Benefits ٭\n",
      "Title 40 - Public Buildings, Property, and Works ٭\n",
      "Title 41 - Public Contracts ٭\n",
      "Title 42 - The Public Health and Welfare\n",
      "Title 44 - Public Printing and Documents ٭\n",
      "Title 49 - Transportation ٭\n",
      "Title 54 - National Park Service and Related Programs ٭\n"
     ]
    }
   ],
   "source": [
    "for e in titles:\n",
    "    tt=e.text\n",
    "    print(tt)"
   ]
  },
  {
   "cell_type": "code",
   "execution_count": 288,
   "metadata": {},
   "outputs": [],
   "source": [
    "driver.quit()"
   ]
  },
  {
   "cell_type": "markdown",
   "metadata": {},
   "source": [
    "#### A Python list with the top ten FBI's Most Wanted names "
   ]
  },
  {
   "cell_type": "code",
   "execution_count": 153,
   "metadata": {},
   "outputs": [],
   "source": [
    "# This is the url you will scrape in this exercise\n",
    "url = 'https://www.fbi.gov/wanted/topten'\n",
    "driver=webdriver.Chrome(PATH)\n",
    "driver.get(url)"
   ]
  },
  {
   "cell_type": "code",
   "execution_count": 156,
   "metadata": {},
   "outputs": [],
   "source": [
    "#your code \n",
    "tit=driver.find_elements(By.CLASS_NAME,'title')"
   ]
  },
  {
   "cell_type": "code",
   "execution_count": 158,
   "metadata": {
    "scrolled": true
   },
   "outputs": [
    {
     "name": "stdout",
     "output_type": "stream",
     "text": [
      "\n",
      "OMAR ALEXANDER CARDENAS\n",
      "ALEXIS FLORES\n",
      "JOSE RODOLFO VILLARREAL-HERNANDEZ\n",
      "YULAN ADONAY ARCHAGA CARIAS\n",
      "BHADRESHKUMAR CHETANBHAI PATEL\n",
      "ALEJANDRO ROSALES CASTILLO\n",
      "MICHAEL JAMES PRATT\n",
      "RUJA IGNATOVA\n",
      "ARNOLDO JIMENEZ\n",
      "RAFAEL CARO-QUINTERO\n"
     ]
    }
   ],
   "source": [
    "for e in tit:\n",
    "    t=e.text.replace('MOST WANTED','')\n",
    "    print(t)"
   ]
  },
  {
   "cell_type": "code",
   "execution_count": 289,
   "metadata": {},
   "outputs": [],
   "source": [
    "driver.quit()"
   ]
  },
  {
   "cell_type": "markdown",
   "metadata": {},
   "source": [
    "####  20 latest earthquakes info (date, time, latitude, longitude and region name) by the EMSC as a pandas dataframe"
   ]
  },
  {
   "cell_type": "code",
   "execution_count": 270,
   "metadata": {},
   "outputs": [],
   "source": [
    "# This is the url you will scrape in this exercise\n",
    "url = 'https://www.emsc-csem.org/Earthquake/'\n",
    "driver=webdriver.Chrome(PATH)\n",
    "driver.get(url)"
   ]
  },
  {
   "cell_type": "code",
   "execution_count": 271,
   "metadata": {},
   "outputs": [],
   "source": [
    "#your code\n",
    "import pandas as pd\n",
    "terre_datos=driver.find_elements(By.TAG_NAME,'tbody')[4]\n",
    "filas = terre_datos.find_elements(By.TAG_NAME,\"tr\")"
   ]
  },
  {
   "cell_type": "code",
   "execution_count": 272,
   "metadata": {},
   "outputs": [
    {
     "data": {
      "text/plain": [
       "[['2022-11-09   16:07:15.2\\n17min ago',\n",
       "  '34.55 ',\n",
       "  'N  ',\n",
       "  '23.87 ',\n",
       "  'E  ',\n",
       "  '21',\n",
       "  '',\n",
       "  '2.7',\n",
       "  ' CRETE, GREECE'],\n",
       " ['2022-11-09   15:58:32.1\\n26min ago',\n",
       "  '37.07 ',\n",
       "  'N  ',\n",
       "  '28.38 ',\n",
       "  'E  ',\n",
       "  '9',\n",
       "  '',\n",
       "  '2.9',\n",
       "  ' WESTERN TURKEY'],\n",
       " ['2022-11-09   15:40:34.6\\n44min ago',\n",
       "  '43.97 ',\n",
       "  'N  ',\n",
       "  '13.33 ',\n",
       "  'E  ',\n",
       "  '10',\n",
       "  '',\n",
       "  '2.2',\n",
       "  ' CENTRAL ITALY'],\n",
       " ['2022-11-09   15:37:05.0\\n48min ago',\n",
       "  '21.53 ',\n",
       "  'S  ',\n",
       "  '68.57 ',\n",
       "  'W  ',\n",
       "  '115',\n",
       "  '',\n",
       "  '2.9',\n",
       "  ' ANTOFAGASTA, CHILE'],\n",
       " ['2022-11-09   15:26:21.9\\n58min ago',\n",
       "  '44.01 ',\n",
       "  'N  ',\n",
       "  '13.28 ',\n",
       "  'E  ',\n",
       "  '26',\n",
       "  '',\n",
       "  '2.4',\n",
       "  ' ADRIATIC SEA'],\n",
       " ['2022-11-09   15:23:39.1\\n1hr 01min ago',\n",
       "  '44.00 ',\n",
       "  'N  ',\n",
       "  '13.30 ',\n",
       "  'E  ',\n",
       "  '9',\n",
       "  '',\n",
       "  '2.2',\n",
       "  ' ADRIATIC SEA'],\n",
       " ['2022-11-09   15:06:55.0\\n1hr 18min ago',\n",
       "  '12.70 ',\n",
       "  'N  ',\n",
       "  '88.19 ',\n",
       "  'W  ',\n",
       "  '33',\n",
       "  '',\n",
       "  '2.6',\n",
       "  ' OFFSHORE EL SALVADOR'],\n",
       " ['2022-11-09   14:58:24.0\\n1hr 26min ago',\n",
       "  '17.32 ',\n",
       "  'N  ',\n",
       "  '100.83 ',\n",
       "  'W  ',\n",
       "  '12',\n",
       "  '',\n",
       "  '4.3',\n",
       "  ' GUERRERO, MEXICO'],\n",
       " ['2022-11-09   14:51:54.6\\n1hr 33min ago',\n",
       "  '35.91 ',\n",
       "  'N  ',\n",
       "  '90.01 ',\n",
       "  'W  ',\n",
       "  '7',\n",
       "  '',\n",
       "  '2.4',\n",
       "  ' ARKANSAS'],\n",
       " ['2022-11-09   14:47:27.1\\n1hr 37min ago',\n",
       "  '43.92 ',\n",
       "  'N  ',\n",
       "  '13.26 ',\n",
       "  'E  ',\n",
       "  '13',\n",
       "  '',\n",
       "  '2.3',\n",
       "  ' CENTRAL ITALY'],\n",
       " ['2022-11-09   14:10:53.7\\n2hr 14min ago',\n",
       "  '35.91 ',\n",
       "  'N  ',\n",
       "  '117.71 ',\n",
       "  'W  ',\n",
       "  '2',\n",
       "  '',\n",
       "  '2.1',\n",
       "  ' CENTRAL CALIFORNIA'],\n",
       " ['2022-11-09   13:54:07.6\\n2hr 31min ago',\n",
       "  '43.95 ',\n",
       "  'N  ',\n",
       "  '13.29 ',\n",
       "  'E  ',\n",
       "  '10',\n",
       "  '',\n",
       "  '2.0',\n",
       "  ' CENTRAL ITALY'],\n",
       " ['2022-11-09   13:48:48.1\\n2hr 36min ago',\n",
       "  '40.16 ',\n",
       "  'N  ',\n",
       "  '119.14 ',\n",
       "  'W  ',\n",
       "  '6',\n",
       "  '',\n",
       "  '2.4',\n",
       "  ' NEVADA'],\n",
       " ['2022-11-09   13:41:43.0\\n2hr 43min ago',\n",
       "  '3.02 ',\n",
       "  'S  ',\n",
       "  '122.04 ',\n",
       "  'E  ',\n",
       "  '10',\n",
       "  '',\n",
       "  '3.1',\n",
       "  ' SULAWESI, INDONESIA'],\n",
       " ['2022-11-09   13:37:46.8\\n2hr 47min ago',\n",
       "  '43.95 ',\n",
       "  'N  ',\n",
       "  '13.31 ',\n",
       "  'E  ',\n",
       "  '9',\n",
       "  '',\n",
       "  '2.6',\n",
       "  ' CENTRAL ITALY'],\n",
       " ['2022-11-09   13:34:23.2\\n2hr 50min ago',\n",
       "  '43.95 ',\n",
       "  'N  ',\n",
       "  '13.36 ',\n",
       "  'E  ',\n",
       "  '7',\n",
       "  '',\n",
       "  '2.2',\n",
       "  ' CENTRAL ITALY'],\n",
       " ['2022-11-09   13:34:05.0\\n2hr 51min ago',\n",
       "  '64.02 ',\n",
       "  'N  ',\n",
       "  '21.35 ',\n",
       "  'W  ',\n",
       "  '5',\n",
       "  '',\n",
       "  '3.2',\n",
       "  ' ICELAND'],\n",
       " ['2022-11-09   13:21:37.0\\n3hr 03min ago',\n",
       "  '27.89 ',\n",
       "  'S  ',\n",
       "  '66.75 ',\n",
       "  'W  ',\n",
       "  '182',\n",
       "  '',\n",
       "  '3.1',\n",
       "  ' CATAMARCA, ARGENTINA'],\n",
       " ['2022-11-09   13:19:03.0\\n3hr 06min ago',\n",
       "  '11.55 ',\n",
       "  'N  ',\n",
       "  '87.48 ',\n",
       "  'W  ',\n",
       "  '30',\n",
       "  '',\n",
       "  '3.0',\n",
       "  ' NEAR COAST OF NICARAGUA'],\n",
       " ['2022-11-09   13:16:24.1\\n3hr 08min ago',\n",
       "  '45.65 ',\n",
       "  'N  ',\n",
       "  '26.61 ',\n",
       "  'E  ',\n",
       "  '82',\n",
       "  '',\n",
       "  '2.8',\n",
       "  ' ROMANIA'],\n",
       " ['2022-11-09   13:08:41.0\\n3hr 16min ago',\n",
       "  '18.88 ',\n",
       "  'N  ',\n",
       "  '121.95 ',\n",
       "  'E  ',\n",
       "  '113',\n",
       "  '',\n",
       "  '3.2',\n",
       "  ' LUZON, PHILIPPINES'],\n",
       " ['2022-11-09   13:08:02.0\\n3hr 17min ago',\n",
       "  '22.20 ',\n",
       "  'S  ',\n",
       "  '68.71 ',\n",
       "  'W  ',\n",
       "  '112',\n",
       "  '',\n",
       "  '2.8',\n",
       "  ' ANTOFAGASTA, CHILE'],\n",
       " ['2022-11-09   13:00:04.7\\n3hr 25min ago',\n",
       "  '19.38 ',\n",
       "  'N  ',\n",
       "  '66.34 ',\n",
       "  'W  ',\n",
       "  '11',\n",
       "  '',\n",
       "  '3.6',\n",
       "  ' PUERTO RICO REGION'],\n",
       " ['2022-11-09   12:54:30.9\\n3hr 30min ago',\n",
       "  '58.51 ',\n",
       "  'N  ',\n",
       "  '152.25 ',\n",
       "  'W  ',\n",
       "  '35',\n",
       "  '',\n",
       "  '2.6',\n",
       "  ' KODIAK ISLAND REGION, ALASKA'],\n",
       " ['2022-11-09   12:52:25.0\\n3hr 32min ago',\n",
       "  '1.67 ',\n",
       "  'N  ',\n",
       "  '127.04 ',\n",
       "  'E  ',\n",
       "  '27',\n",
       "  '',\n",
       "  '4.3',\n",
       "  ' HALMAHERA, INDONESIA'],\n",
       " ['2022-11-09   12:51:38.5\\n3hr 33min ago',\n",
       "  '49.32 ',\n",
       "  'N  ',\n",
       "  '156.05 ',\n",
       "  'E  ',\n",
       "  '50',\n",
       "  '',\n",
       "  '4.4',\n",
       "  ' KURIL ISLANDS'],\n",
       " ['2022-11-09   12:45:59.0\\n3hr 39min ago',\n",
       "  '27.80 ',\n",
       "  'S  ',\n",
       "  '71.24 ',\n",
       "  'W  ',\n",
       "  '11',\n",
       "  '',\n",
       "  '2.8',\n",
       "  ' OFFSHORE ATACAMA, CHILE'],\n",
       " ['2022-11-09   12:44:13.5\\n3hr 40min ago',\n",
       "  '43.98 ',\n",
       "  'N  ',\n",
       "  '13.27 ',\n",
       "  'E  ',\n",
       "  '10',\n",
       "  '',\n",
       "  '2.4',\n",
       "  ' CENTRAL ITALY'],\n",
       " ['2022-11-09   12:33:52.0\\n3hr 51min ago',\n",
       "  '43.90 ',\n",
       "  'N  ',\n",
       "  '13.39 ',\n",
       "  'E  ',\n",
       "  '8',\n",
       "  '',\n",
       "  '2.3',\n",
       "  ' CENTRAL ITALY'],\n",
       " ['2022-11-09   12:29:54.0\\n3hr 55min ago',\n",
       "  '33.05 ',\n",
       "  'S  ',\n",
       "  '68.16 ',\n",
       "  'W  ',\n",
       "  '10',\n",
       "  '',\n",
       "  '3.1',\n",
       "  ' MENDOZA, ARGENTINA'],\n",
       " ['2022-11-09   12:20:59.8\\n4hr 04min ago',\n",
       "  '43.96 ',\n",
       "  'N  ',\n",
       "  '13.33 ',\n",
       "  'E  ',\n",
       "  '9',\n",
       "  '',\n",
       "  '2.0',\n",
       "  ' CENTRAL ITALY'],\n",
       " ['2022-11-09   12:13:03.6\\n4hr 12min ago',\n",
       "  '43.95 ',\n",
       "  'N  ',\n",
       "  '13.32 ',\n",
       "  'E  ',\n",
       "  '10',\n",
       "  '',\n",
       "  '2.2',\n",
       "  ' CENTRAL ITALY'],\n",
       " ['2022-11-09   12:10:37.9\\n4hr 14min ago',\n",
       "  '19.16 ',\n",
       "  'N  ',\n",
       "  '155.38 ',\n",
       "  'W  ',\n",
       "  '36',\n",
       "  '',\n",
       "  '2.6',\n",
       "  ' ISLAND OF HAWAII, HAWAII'],\n",
       " ['2022-11-09   12:10:05.4\\n4hr 15min ago',\n",
       "  '44.05 ',\n",
       "  'N  ',\n",
       "  '13.31 ',\n",
       "  'E  ',\n",
       "  '26',\n",
       "  '',\n",
       "  '3.9',\n",
       "  ' ADRIATIC SEA'],\n",
       " ['2022-11-09   12:02:56.2\\n4hr 22min ago',\n",
       "  '44.01 ',\n",
       "  'N  ',\n",
       "  '13.27 ',\n",
       "  'E  ',\n",
       "  '8',\n",
       "  '',\n",
       "  '3.1',\n",
       "  ' ADRIATIC SEA'],\n",
       " ['2022-11-09   11:50:55.0\\n4hr 34min ago',\n",
       "  '8.40 ',\n",
       "  'S  ',\n",
       "  '119.82 ',\n",
       "  'E  ',\n",
       "  '142',\n",
       "  '',\n",
       "  '3.2',\n",
       "  ' FLORES REGION, INDONESIA'],\n",
       " ['2022-11-09   11:46:06.2\\n4hr 39min ago',\n",
       "  '19.10 ',\n",
       "  'N  ',\n",
       "  '155.42 ',\n",
       "  'W  ',\n",
       "  '30',\n",
       "  '',\n",
       "  '2.0',\n",
       "  ' ISLAND OF HAWAII, HAWAII'],\n",
       " ['2022-11-09   11:41:07.0\\n4hr 44min ago',\n",
       "  '2.98 ',\n",
       "  'S  ',\n",
       "  '140.05 ',\n",
       "  'E  ',\n",
       "  '16',\n",
       "  '',\n",
       "  '2.7',\n",
       "  ' NEAR N COAST OF PAPUA, INDONESIA'],\n",
       " ['2022-11-09   11:10:29.0\\n5hr 14min ago',\n",
       "  '11.50 ',\n",
       "  'N  ',\n",
       "  '87.50 ',\n",
       "  'W  ',\n",
       "  '78',\n",
       "  '',\n",
       "  '2.7',\n",
       "  ' NEAR COAST OF NICARAGUA'],\n",
       " ['2022-11-09   11:09:26.0\\n5hr 15min ago',\n",
       "  '18.21 ',\n",
       "  'N  ',\n",
       "  '103.59 ',\n",
       "  'W  ',\n",
       "  '5',\n",
       "  '',\n",
       "  '4.1',\n",
       "  ' OFFSHORE MICHOACAN, MEXICO'],\n",
       " ['2022-11-09   11:08:33.7\\n5hr 16min ago',\n",
       "  '39.89 ',\n",
       "  'N  ',\n",
       "  '15.74 ',\n",
       "  'E  ',\n",
       "  '16',\n",
       "  '',\n",
       "  '2.6',\n",
       "  ' SOUTHERN ITALY'],\n",
       " ['2022-11-09   11:03:23.9\\n5hr 21min ago',\n",
       "  '43.91 ',\n",
       "  'N  ',\n",
       "  '13.34 ',\n",
       "  'E  ',\n",
       "  '10',\n",
       "  '',\n",
       "  '2.2',\n",
       "  ' CENTRAL ITALY'],\n",
       " ['2022-11-09   11:01:42.9\\n5hr 23min ago',\n",
       "  '43.90 ',\n",
       "  'N  ',\n",
       "  '13.24 ',\n",
       "  'E  ',\n",
       "  '10',\n",
       "  '',\n",
       "  '2.2',\n",
       "  ' CENTRAL ITALY'],\n",
       " ['2022-11-09   10:56:24.0\\n5hr 28min ago',\n",
       "  '22.85 ',\n",
       "  'S  ',\n",
       "  '69.13 ',\n",
       "  'W  ',\n",
       "  '80',\n",
       "  '',\n",
       "  '2.6',\n",
       "  ' ANTOFAGASTA, CHILE'],\n",
       " ['2022-11-09   10:51:47.4\\n5hr 33min ago',\n",
       "  '43.92 ',\n",
       "  'N  ',\n",
       "  '13.31 ',\n",
       "  'E  ',\n",
       "  '10',\n",
       "  '',\n",
       "  '2.2',\n",
       "  ' CENTRAL ITALY'],\n",
       " ['2022-11-09   10:46:21.4\\n5hr 38min ago',\n",
       "  '17.92 ',\n",
       "  'N  ',\n",
       "  '67.20 ',\n",
       "  'W  ',\n",
       "  '9',\n",
       "  '',\n",
       "  '2.5',\n",
       "  ' PUERTO RICO REGION'],\n",
       " ['2022-11-09   10:43:58.2\\n5hr 41min ago',\n",
       "  '43.99 ',\n",
       "  'N  ',\n",
       "  '13.31 ',\n",
       "  'E  ',\n",
       "  '10',\n",
       "  '',\n",
       "  '2.1',\n",
       "  ' CENTRAL ITALY'],\n",
       " ['2022-11-09   10:38:52.2\\n5hr 46min ago',\n",
       "  '44.04 ',\n",
       "  'N  ',\n",
       "  '13.32 ',\n",
       "  'E  ',\n",
       "  '10',\n",
       "  '',\n",
       "  '2.0',\n",
       "  ' ADRIATIC SEA'],\n",
       " ['2022-11-09   10:36:27.0\\n5hr 48min ago',\n",
       "  '18.69 ',\n",
       "  'N  ',\n",
       "  '103.88 ',\n",
       "  'W  ',\n",
       "  '4',\n",
       "  '',\n",
       "  '3.6',\n",
       "  ' OFFSHORE COLIMA, MEXICO'],\n",
       " ['2022-11-09   10:31:50.1\\n5hr 53min ago',\n",
       "  '19.41 ',\n",
       "  'N  ',\n",
       "  '155.29 ',\n",
       "  'W  ',\n",
       "  '1',\n",
       "  '',\n",
       "  '2.0',\n",
       "  ' ISLAND OF HAWAII, HAWAII']]"
      ]
     },
     "execution_count": 272,
     "metadata": {},
     "output_type": "execute_result"
    }
   ],
   "source": [
    "data=[]\n",
    "for f in filas:\n",
    "    elemen=f.find_elements(By.TAG_NAME, 'td')\n",
    "    tmp=[]\n",
    "    for e in range(3,len(elemen)-1):\n",
    "        tmp.append(elemen[e].text)\n",
    "    data.append(tmp)\n",
    "data"
   ]
  },
  {
   "cell_type": "code",
   "execution_count": 273,
   "metadata": {},
   "outputs": [],
   "source": [
    "df = pd.DataFrame(data, columns= [\"Date\",\"Latitude\",\"N\",\"Longitude\",\"W\",\"Depth\",\"l\",\"Mach\",\"Region\"])"
   ]
  },
  {
   "cell_type": "code",
   "execution_count": 274,
   "metadata": {
    "scrolled": true
   },
   "outputs": [],
   "source": [
    "df=df.drop(columns=['N','W','l'])"
   ]
  },
  {
   "cell_type": "code",
   "execution_count": 275,
   "metadata": {},
   "outputs": [
    {
     "data": {
      "text/plain": [
       "'2022-11-09'"
      ]
     },
     "execution_count": 275,
     "metadata": {},
     "output_type": "execute_result"
    }
   ],
   "source": [
    "df.Date[0][0:10]"
   ]
  },
  {
   "cell_type": "code",
   "execution_count": 279,
   "metadata": {},
   "outputs": [],
   "source": [
    "for e in range(len(df.Date)):\n",
    "    df.Date[e] = df.Date[e][0:10]"
   ]
  },
  {
   "cell_type": "code",
   "execution_count": 282,
   "metadata": {
    "scrolled": true
   },
   "outputs": [
    {
     "data": {
      "text/html": [
       "<div>\n",
       "<style scoped>\n",
       "    .dataframe tbody tr th:only-of-type {\n",
       "        vertical-align: middle;\n",
       "    }\n",
       "\n",
       "    .dataframe tbody tr th {\n",
       "        vertical-align: top;\n",
       "    }\n",
       "\n",
       "    .dataframe thead th {\n",
       "        text-align: right;\n",
       "    }\n",
       "</style>\n",
       "<table border=\"1\" class=\"dataframe\">\n",
       "  <thead>\n",
       "    <tr style=\"text-align: right;\">\n",
       "      <th></th>\n",
       "      <th>Date</th>\n",
       "      <th>Latitude</th>\n",
       "      <th>Longitude</th>\n",
       "      <th>Depth</th>\n",
       "      <th>Mach</th>\n",
       "      <th>Region</th>\n",
       "    </tr>\n",
       "  </thead>\n",
       "  <tbody>\n",
       "    <tr>\n",
       "      <th>0</th>\n",
       "      <td>2022-11-09</td>\n",
       "      <td>34.55</td>\n",
       "      <td>23.87</td>\n",
       "      <td>21</td>\n",
       "      <td>2.7</td>\n",
       "      <td>CRETE, GREECE</td>\n",
       "    </tr>\n",
       "    <tr>\n",
       "      <th>1</th>\n",
       "      <td>2022-11-09</td>\n",
       "      <td>37.07</td>\n",
       "      <td>28.38</td>\n",
       "      <td>9</td>\n",
       "      <td>2.9</td>\n",
       "      <td>WESTERN TURKEY</td>\n",
       "    </tr>\n",
       "    <tr>\n",
       "      <th>2</th>\n",
       "      <td>2022-11-09</td>\n",
       "      <td>43.97</td>\n",
       "      <td>13.33</td>\n",
       "      <td>10</td>\n",
       "      <td>2.2</td>\n",
       "      <td>CENTRAL ITALY</td>\n",
       "    </tr>\n",
       "    <tr>\n",
       "      <th>3</th>\n",
       "      <td>2022-11-09</td>\n",
       "      <td>21.53</td>\n",
       "      <td>68.57</td>\n",
       "      <td>115</td>\n",
       "      <td>2.9</td>\n",
       "      <td>ANTOFAGASTA, CHILE</td>\n",
       "    </tr>\n",
       "    <tr>\n",
       "      <th>4</th>\n",
       "      <td>2022-11-09</td>\n",
       "      <td>44.01</td>\n",
       "      <td>13.28</td>\n",
       "      <td>26</td>\n",
       "      <td>2.4</td>\n",
       "      <td>ADRIATIC SEA</td>\n",
       "    </tr>\n",
       "    <tr>\n",
       "      <th>5</th>\n",
       "      <td>2022-11-09</td>\n",
       "      <td>44.00</td>\n",
       "      <td>13.30</td>\n",
       "      <td>9</td>\n",
       "      <td>2.2</td>\n",
       "      <td>ADRIATIC SEA</td>\n",
       "    </tr>\n",
       "    <tr>\n",
       "      <th>6</th>\n",
       "      <td>2022-11-09</td>\n",
       "      <td>12.70</td>\n",
       "      <td>88.19</td>\n",
       "      <td>33</td>\n",
       "      <td>2.6</td>\n",
       "      <td>OFFSHORE EL SALVADOR</td>\n",
       "    </tr>\n",
       "    <tr>\n",
       "      <th>7</th>\n",
       "      <td>2022-11-09</td>\n",
       "      <td>17.32</td>\n",
       "      <td>100.83</td>\n",
       "      <td>12</td>\n",
       "      <td>4.3</td>\n",
       "      <td>GUERRERO, MEXICO</td>\n",
       "    </tr>\n",
       "    <tr>\n",
       "      <th>8</th>\n",
       "      <td>2022-11-09</td>\n",
       "      <td>35.91</td>\n",
       "      <td>90.01</td>\n",
       "      <td>7</td>\n",
       "      <td>2.4</td>\n",
       "      <td>ARKANSAS</td>\n",
       "    </tr>\n",
       "    <tr>\n",
       "      <th>9</th>\n",
       "      <td>2022-11-09</td>\n",
       "      <td>43.92</td>\n",
       "      <td>13.26</td>\n",
       "      <td>13</td>\n",
       "      <td>2.3</td>\n",
       "      <td>CENTRAL ITALY</td>\n",
       "    </tr>\n",
       "    <tr>\n",
       "      <th>10</th>\n",
       "      <td>2022-11-09</td>\n",
       "      <td>35.91</td>\n",
       "      <td>117.71</td>\n",
       "      <td>2</td>\n",
       "      <td>2.1</td>\n",
       "      <td>CENTRAL CALIFORNIA</td>\n",
       "    </tr>\n",
       "    <tr>\n",
       "      <th>11</th>\n",
       "      <td>2022-11-09</td>\n",
       "      <td>43.95</td>\n",
       "      <td>13.29</td>\n",
       "      <td>10</td>\n",
       "      <td>2.0</td>\n",
       "      <td>CENTRAL ITALY</td>\n",
       "    </tr>\n",
       "    <tr>\n",
       "      <th>12</th>\n",
       "      <td>2022-11-09</td>\n",
       "      <td>40.16</td>\n",
       "      <td>119.14</td>\n",
       "      <td>6</td>\n",
       "      <td>2.4</td>\n",
       "      <td>NEVADA</td>\n",
       "    </tr>\n",
       "    <tr>\n",
       "      <th>13</th>\n",
       "      <td>2022-11-09</td>\n",
       "      <td>3.02</td>\n",
       "      <td>122.04</td>\n",
       "      <td>10</td>\n",
       "      <td>3.1</td>\n",
       "      <td>SULAWESI, INDONESIA</td>\n",
       "    </tr>\n",
       "    <tr>\n",
       "      <th>14</th>\n",
       "      <td>2022-11-09</td>\n",
       "      <td>43.95</td>\n",
       "      <td>13.31</td>\n",
       "      <td>9</td>\n",
       "      <td>2.6</td>\n",
       "      <td>CENTRAL ITALY</td>\n",
       "    </tr>\n",
       "    <tr>\n",
       "      <th>15</th>\n",
       "      <td>2022-11-09</td>\n",
       "      <td>43.95</td>\n",
       "      <td>13.36</td>\n",
       "      <td>7</td>\n",
       "      <td>2.2</td>\n",
       "      <td>CENTRAL ITALY</td>\n",
       "    </tr>\n",
       "    <tr>\n",
       "      <th>16</th>\n",
       "      <td>2022-11-09</td>\n",
       "      <td>64.02</td>\n",
       "      <td>21.35</td>\n",
       "      <td>5</td>\n",
       "      <td>3.2</td>\n",
       "      <td>ICELAND</td>\n",
       "    </tr>\n",
       "    <tr>\n",
       "      <th>17</th>\n",
       "      <td>2022-11-09</td>\n",
       "      <td>27.89</td>\n",
       "      <td>66.75</td>\n",
       "      <td>182</td>\n",
       "      <td>3.1</td>\n",
       "      <td>CATAMARCA, ARGENTINA</td>\n",
       "    </tr>\n",
       "    <tr>\n",
       "      <th>18</th>\n",
       "      <td>2022-11-09</td>\n",
       "      <td>11.55</td>\n",
       "      <td>87.48</td>\n",
       "      <td>30</td>\n",
       "      <td>3.0</td>\n",
       "      <td>NEAR COAST OF NICARAGUA</td>\n",
       "    </tr>\n",
       "    <tr>\n",
       "      <th>19</th>\n",
       "      <td>2022-11-09</td>\n",
       "      <td>45.65</td>\n",
       "      <td>26.61</td>\n",
       "      <td>82</td>\n",
       "      <td>2.8</td>\n",
       "      <td>ROMANIA</td>\n",
       "    </tr>\n",
       "    <tr>\n",
       "      <th>20</th>\n",
       "      <td>2022-11-09</td>\n",
       "      <td>18.88</td>\n",
       "      <td>121.95</td>\n",
       "      <td>113</td>\n",
       "      <td>3.2</td>\n",
       "      <td>LUZON, PHILIPPINES</td>\n",
       "    </tr>\n",
       "  </tbody>\n",
       "</table>\n",
       "</div>"
      ],
      "text/plain": [
       "          Date Latitude Longitude Depth Mach                    Region\n",
       "0   2022-11-09   34.55     23.87     21  2.7             CRETE, GREECE\n",
       "1   2022-11-09   37.07     28.38      9  2.9            WESTERN TURKEY\n",
       "2   2022-11-09   43.97     13.33     10  2.2             CENTRAL ITALY\n",
       "3   2022-11-09   21.53     68.57    115  2.9        ANTOFAGASTA, CHILE\n",
       "4   2022-11-09   44.01     13.28     26  2.4              ADRIATIC SEA\n",
       "5   2022-11-09   44.00     13.30      9  2.2              ADRIATIC SEA\n",
       "6   2022-11-09   12.70     88.19     33  2.6      OFFSHORE EL SALVADOR\n",
       "7   2022-11-09   17.32    100.83     12  4.3          GUERRERO, MEXICO\n",
       "8   2022-11-09   35.91     90.01      7  2.4                  ARKANSAS\n",
       "9   2022-11-09   43.92     13.26     13  2.3             CENTRAL ITALY\n",
       "10  2022-11-09   35.91    117.71      2  2.1        CENTRAL CALIFORNIA\n",
       "11  2022-11-09   43.95     13.29     10  2.0             CENTRAL ITALY\n",
       "12  2022-11-09   40.16    119.14      6  2.4                    NEVADA\n",
       "13  2022-11-09    3.02    122.04     10  3.1       SULAWESI, INDONESIA\n",
       "14  2022-11-09   43.95     13.31      9  2.6             CENTRAL ITALY\n",
       "15  2022-11-09   43.95     13.36      7  2.2             CENTRAL ITALY\n",
       "16  2022-11-09   64.02     21.35      5  3.2                   ICELAND\n",
       "17  2022-11-09   27.89     66.75    182  3.1      CATAMARCA, ARGENTINA\n",
       "18  2022-11-09   11.55     87.48     30  3.0   NEAR COAST OF NICARAGUA\n",
       "19  2022-11-09   45.65     26.61     82  2.8                   ROMANIA\n",
       "20  2022-11-09   18.88    121.95    113  3.2        LUZON, PHILIPPINES"
      ]
     },
     "execution_count": 282,
     "metadata": {},
     "output_type": "execute_result"
    }
   ],
   "source": [
    "df.head(21)"
   ]
  },
  {
   "cell_type": "code",
   "execution_count": 290,
   "metadata": {},
   "outputs": [],
   "source": [
    "driver.quit()"
   ]
  },
  {
   "cell_type": "markdown",
   "metadata": {},
   "source": [
    "#### Count number of tweets by a given Twitter account."
   ]
  },
  {
   "cell_type": "markdown",
   "metadata": {},
   "source": [
    "You will need to include a ***try/except block*** for account names not found. \n",
    "<br>***Hint:*** the program should count the number of tweets for any provided account"
   ]
  },
  {
   "cell_type": "code",
   "execution_count": 291,
   "metadata": {},
   "outputs": [],
   "source": [
    "# This is the url you will scrape in this exercise \n",
    "# You will need to add the account credentials to this url\n",
    "url = 'https://mobile.twitter.com/mariamio11'\n",
    "driver=webdriver.Chrome(PATH)\n",
    "driver.get(url)"
   ]
  },
  {
   "cell_type": "code",
   "execution_count": 292,
   "metadata": {},
   "outputs": [],
   "source": [
    "tweets=driver.find_element(By.XPATH,'//*[@id=\"react-root\"]/div/div/div[2]/main/div/div/div/div/div/div[1]/div[1]/div/div/div/div/div/div[2]/div/div')"
   ]
  },
  {
   "cell_type": "code",
   "execution_count": 304,
   "metadata": {},
   "outputs": [
    {
     "name": "stdout",
     "output_type": "stream",
     "text": [
      "1.055 Tweets\n"
     ]
    }
   ],
   "source": [
    "try:\n",
    "    print(tweets.text)\n",
    "except:\n",
    "    block"
   ]
  },
  {
   "cell_type": "markdown",
   "metadata": {},
   "source": [
    "#### Number of followers of a given twitter account"
   ]
  },
  {
   "cell_type": "markdown",
   "metadata": {},
   "source": [
    "You will need to include a ***try/except block*** in case account/s name not found. \n",
    "<br>***Hint:*** the program should count the followers for any provided account"
   ]
  },
  {
   "cell_type": "code",
   "execution_count": 295,
   "metadata": {},
   "outputs": [],
   "source": [
    "#your code\n",
    "followers=driver.find_element(By.XPATH,'//*[@id=\"react-root\"]/div/div/div[2]/main/div/div/div/div/div/div[3]/div/div/div/div/div[5]/div[2]/a')"
   ]
  },
  {
   "cell_type": "code",
   "execution_count": 303,
   "metadata": {},
   "outputs": [
    {
     "name": "stdout",
     "output_type": "stream",
     "text": [
      "15 Seguidores\n"
     ]
    }
   ],
   "source": [
    "try:\n",
    "    print(followers.text)\n",
    "except:\n",
    "    block"
   ]
  },
  {
   "cell_type": "code",
   "execution_count": 306,
   "metadata": {},
   "outputs": [],
   "source": [
    "driver.quit()"
   ]
  },
  {
   "cell_type": "markdown",
   "metadata": {},
   "source": [
    "#### List all language names and number of related articles in the order they appear in wikipedia.org"
   ]
  },
  {
   "cell_type": "code",
   "execution_count": 307,
   "metadata": {},
   "outputs": [],
   "source": [
    "# This is the url you will scrape in this exercise\n",
    "url = 'https://www.wikipedia.org/'\n",
    "driver=webdriver.Chrome(PATH)\n",
    "driver.get(url)"
   ]
  },
  {
   "cell_type": "code",
   "execution_count": 308,
   "metadata": {},
   "outputs": [],
   "source": [
    "#your code\n",
    "wiki=driver.find_element(By.XPATH,'//*[@id=\"www-wikipedia-org\"]/div[2]')"
   ]
  },
  {
   "cell_type": "code",
   "execution_count": 315,
   "metadata": {
    "scrolled": true
   },
   "outputs": [
    {
     "data": {
      "text/plain": [
       "['Español',\n",
       " '1 755 000+ artículos',\n",
       " 'English',\n",
       " '6 458 000+ articles',\n",
       " '日本語',\n",
       " '1 314 000+ 記事',\n",
       " 'Русский',\n",
       " '1 798 000+ статей',\n",
       " 'Français',\n",
       " '2 400 000+ articles',\n",
       " 'Deutsch',\n",
       " '2 667 000+ Artikel',\n",
       " 'Italiano',\n",
       " '1 742 000+ voci',\n",
       " '中文',\n",
       " '1 256 000+ 条目 / 條目',\n",
       " 'Português',\n",
       " '1 085 000+ artigos',\n",
       " 'العربية',\n",
       " '1 159 000+ مقالة']"
      ]
     },
     "execution_count": 315,
     "metadata": {},
     "output_type": "execute_result"
    }
   ],
   "source": [
    "wiki.text.replace('\\n',',').split(',')"
   ]
  },
  {
   "cell_type": "code",
   "execution_count": 316,
   "metadata": {},
   "outputs": [],
   "source": [
    "driver.quit()"
   ]
  },
  {
   "cell_type": "markdown",
   "metadata": {},
   "source": [
    "#### A list with the different kind of datasets available in data.gov.uk "
   ]
  },
  {
   "cell_type": "code",
   "execution_count": 317,
   "metadata": {},
   "outputs": [],
   "source": [
    "# This is the url you will scrape in this exercise\n",
    "url = 'https://data.gov.uk/'\n",
    "driver=webdriver.Chrome(PATH)\n",
    "driver.get(url)"
   ]
  },
  {
   "cell_type": "code",
   "execution_count": 318,
   "metadata": {},
   "outputs": [],
   "source": [
    "#your code \n",
    "uk=driver.find_element(By.XPATH,'//*[@id=\"main-content\"]/div[3]/div')"
   ]
  },
  {
   "cell_type": "code",
   "execution_count": 321,
   "metadata": {},
   "outputs": [],
   "source": [
    "uk=uk.text.split('\\n')"
   ]
  },
  {
   "cell_type": "code",
   "execution_count": 322,
   "metadata": {},
   "outputs": [],
   "source": [
    "uk=uk[::2]"
   ]
  },
  {
   "cell_type": "code",
   "execution_count": 323,
   "metadata": {
    "scrolled": true
   },
   "outputs": [
    {
     "data": {
      "text/plain": [
       "['Business and economy',\n",
       " 'Crime and justice',\n",
       " 'Defence',\n",
       " 'Education',\n",
       " 'Environment',\n",
       " 'Government',\n",
       " 'Government spending',\n",
       " 'Health',\n",
       " 'Mapping',\n",
       " 'Society',\n",
       " 'Towns and cities',\n",
       " 'Transport',\n",
       " 'Digital service performance',\n",
       " 'Government reference data']"
      ]
     },
     "execution_count": 323,
     "metadata": {},
     "output_type": "execute_result"
    }
   ],
   "source": [
    "uk"
   ]
  },
  {
   "cell_type": "code",
   "execution_count": 324,
   "metadata": {},
   "outputs": [],
   "source": [
    "driver.quit()"
   ]
  },
  {
   "cell_type": "markdown",
   "metadata": {},
   "source": [
    "#### Top 10 languages by number of native speakers stored in a Pandas Dataframe"
   ]
  },
  {
   "cell_type": "code",
   "execution_count": 339,
   "metadata": {},
   "outputs": [],
   "source": [
    "# This is the url you will scrape in this exercise\n",
    "url = 'https://en.wikipedia.org/wiki/List_of_languages_by_number_of_native_speakers'\n",
    "driver=webdriver.Chrome(PATH)\n",
    "driver.get(url)"
   ]
  },
  {
   "cell_type": "code",
   "execution_count": 340,
   "metadata": {},
   "outputs": [
    {
     "data": {
      "text/plain": [
       "[['Mandarin Chinese\\n(incl. Standard Chinese, but excl. other varieties)',\n",
       "  '920',\n",
       "  'Sino-Tibetan',\n",
       "  'Sinitic'],\n",
       " ['Spanish', '475', 'Indo-European', 'Romance'],\n",
       " ['English', '373', 'Indo-European', 'Germanic'],\n",
       " ['Hindi\\n(excl. Urdu)', '344', 'Indo-European', 'Indo-Aryan'],\n",
       " ['Bengali', '234', 'Indo-European', 'Indo-Aryan'],\n",
       " ['Portuguese', '232', 'Indo-European', 'Romance'],\n",
       " ['Russian', '154', 'Indo-European', 'Balto-Slavic'],\n",
       " ['Japanese', '125', 'Japonic', 'Japanese'],\n",
       " ['Yue Chinese\\n(incl. Cantonese)', '85.2', 'Sino-Tibetan', 'Sinitic'],\n",
       " ['Vietnamese', '84.6', 'Austroasiatic', 'Vietic'],\n",
       " ['Marathi', '83.1', 'Indo-European', 'Indo-Aryan'],\n",
       " ['Telugu', '82.7', 'Dravidian', 'South-Central'],\n",
       " ['Turkish', '82.2', 'Turkic', 'Oghuz'],\n",
       " ['Wu Chinese\\n(incl. Shanghainese)', '81.8', 'Sino-Tibetan', 'Sinitic'],\n",
       " ['Korean', '81.7', 'Koreanic', 'language isolate'],\n",
       " ['French', '79.9', 'Indo-European', 'Romance'],\n",
       " ['Tamil', '78.4', 'Dravidian', 'South'],\n",
       " ['Standard German', '75.6', 'Indo-European', 'Germanic'],\n",
       " ['Egyptian Spoken Arabic\\n(excl. Saʽidi Arabic)',\n",
       "  '74.8',\n",
       "  'Afroasiatic',\n",
       "  'Semitic'],\n",
       " ['Urdu\\n(excl. Hindi)', '70.2', 'Indo-European', 'Indo-Aryan'],\n",
       " ['Javanese', '68.3', 'Austronesian', 'Malayo-Polynesian'],\n",
       " ['Western Punjabi\\n(excl. Eastern Punjabi)',\n",
       "  '66.4',\n",
       "  'Indo-European',\n",
       "  'Indo-Aryan'],\n",
       " ['Italian', '64.8', 'Indo-European', 'Romance'],\n",
       " ['Gujarati', '57.0', 'Indo-European', 'Indo-Aryan'],\n",
       " ['Iranian Persian\\n(excl. Dari and Tajik)',\n",
       "  '56.4',\n",
       "  'Indo-European',\n",
       "  'Iranian'],\n",
       " ['Bhojpuri', '52.3', 'Indo-European', 'Indo-Aryan'],\n",
       " ['Hausa', '50.8', 'Afroasiatic', 'Chadic']]"
      ]
     },
     "execution_count": 340,
     "metadata": {},
     "output_type": "execute_result"
    }
   ],
   "source": [
    "tabla=driver.find_element(By.TAG_NAME, 'tbody')\n",
    "\n",
    "filas=tabla.find_elements(By.TAG_NAME, 'tr')\n",
    "\n",
    "\n",
    "data=[]\n",
    "\n",
    "\n",
    "for f in filas:\n",
    "    \n",
    "    elemen=f.find_elements(By.TAG_NAME, 'td')\n",
    "    \n",
    "    tmp=[]\n",
    "    \n",
    "    for e in elemen:\n",
    "        \n",
    "        tmp.append(e.text)\n",
    "        \n",
    "    data.append(tmp)\n",
    "\n",
    "    \n",
    "data"
   ]
  },
  {
   "cell_type": "code",
   "execution_count": 341,
   "metadata": {
    "scrolled": true
   },
   "outputs": [
    {
     "data": {
      "text/plain": [
       "[['Mandarin Chinese\\n(incl. Standard Chinese, but excl. other varieties)',\n",
       "  '920',\n",
       "  'Sino-Tibetan',\n",
       "  'Sinitic'],\n",
       " ['Spanish', '475', 'Indo-European', 'Romance'],\n",
       " ['English', '373', 'Indo-European', 'Germanic'],\n",
       " ['Hindi\\n(excl. Urdu)', '344', 'Indo-European', 'Indo-Aryan'],\n",
       " ['Bengali', '234', 'Indo-European', 'Indo-Aryan'],\n",
       " ['Portuguese', '232', 'Indo-European', 'Romance'],\n",
       " ['Russian', '154', 'Indo-European', 'Balto-Slavic'],\n",
       " ['Japanese', '125', 'Japonic', 'Japanese'],\n",
       " ['Yue Chinese\\n(incl. Cantonese)', '85.2', 'Sino-Tibetan', 'Sinitic'],\n",
       " ['Vietnamese', '84.6', 'Austroasiatic', 'Vietic'],\n",
       " ['Marathi', '83.1', 'Indo-European', 'Indo-Aryan'],\n",
       " ['Telugu', '82.7', 'Dravidian', 'South-Central'],\n",
       " ['Turkish', '82.2', 'Turkic', 'Oghuz'],\n",
       " ['Wu Chinese\\n(incl. Shanghainese)', '81.8', 'Sino-Tibetan', 'Sinitic'],\n",
       " ['Korean', '81.7', 'Koreanic', 'language isolate'],\n",
       " ['French', '79.9', 'Indo-European', 'Romance'],\n",
       " ['Tamil', '78.4', 'Dravidian', 'South'],\n",
       " ['Standard German', '75.6', 'Indo-European', 'Germanic'],\n",
       " ['Egyptian Spoken Arabic\\n(excl. Saʽidi Arabic)',\n",
       "  '74.8',\n",
       "  'Afroasiatic',\n",
       "  'Semitic'],\n",
       " ['Urdu\\n(excl. Hindi)', '70.2', 'Indo-European', 'Indo-Aryan'],\n",
       " ['Javanese', '68.3', 'Austronesian', 'Malayo-Polynesian'],\n",
       " ['Western Punjabi\\n(excl. Eastern Punjabi)',\n",
       "  '66.4',\n",
       "  'Indo-European',\n",
       "  'Indo-Aryan'],\n",
       " ['Italian', '64.8', 'Indo-European', 'Romance'],\n",
       " ['Gujarati', '57.0', 'Indo-European', 'Indo-Aryan'],\n",
       " ['Iranian Persian\\n(excl. Dari and Tajik)',\n",
       "  '56.4',\n",
       "  'Indo-European',\n",
       "  'Iranian'],\n",
       " ['Bhojpuri', '52.3', 'Indo-European', 'Indo-Aryan'],\n",
       " ['Hausa', '50.8', 'Afroasiatic', 'Chadic']]"
      ]
     },
     "execution_count": 341,
     "metadata": {},
     "output_type": "execute_result"
    }
   ],
   "source": [
    "data=[[e.text for e in f.find_elements(By.TAG_NAME, 'td')] \n",
    "      for f in tabla.find_elements(By.TAG_NAME, 'tr')]\n",
    "\n",
    "data"
   ]
  },
  {
   "cell_type": "code",
   "execution_count": 342,
   "metadata": {},
   "outputs": [
    {
     "data": {
      "text/plain": [
       "['Language', 'Native speakers\\n(millions)', 'Language family', 'Branch']"
      ]
     },
     "execution_count": 342,
     "metadata": {},
     "output_type": "execute_result"
    }
   ],
   "source": [
    "cabeceras=driver.find_element(By.TAG_NAME, 'thead')\n",
    "\n",
    "cabeceras=[c.text for c in cabeceras.find_elements(By.TAG_NAME, 'th')]\n",
    "\n",
    "driver.quit()\n",
    "\n",
    "cabeceras"
   ]
  },
  {
   "cell_type": "code",
   "execution_count": 343,
   "metadata": {},
   "outputs": [],
   "source": [
    "import pandas as pd"
   ]
  },
  {
   "cell_type": "code",
   "execution_count": 348,
   "metadata": {},
   "outputs": [
    {
     "data": {
      "text/html": [
       "<div>\n",
       "<style scoped>\n",
       "    .dataframe tbody tr th:only-of-type {\n",
       "        vertical-align: middle;\n",
       "    }\n",
       "\n",
       "    .dataframe tbody tr th {\n",
       "        vertical-align: top;\n",
       "    }\n",
       "\n",
       "    .dataframe thead th {\n",
       "        text-align: right;\n",
       "    }\n",
       "</style>\n",
       "<table border=\"1\" class=\"dataframe\">\n",
       "  <thead>\n",
       "    <tr style=\"text-align: right;\">\n",
       "      <th></th>\n",
       "      <th>Language</th>\n",
       "      <th>Native speakers\\n(millions)</th>\n",
       "      <th>Language family</th>\n",
       "      <th>Branch</th>\n",
       "    </tr>\n",
       "  </thead>\n",
       "  <tbody>\n",
       "    <tr>\n",
       "      <th>0</th>\n",
       "      <td>Mandarin Chinese\\n(incl. Standard Chinese, but...</td>\n",
       "      <td>920</td>\n",
       "      <td>Sino-Tibetan</td>\n",
       "      <td>Sinitic</td>\n",
       "    </tr>\n",
       "    <tr>\n",
       "      <th>1</th>\n",
       "      <td>Spanish</td>\n",
       "      <td>475</td>\n",
       "      <td>Indo-European</td>\n",
       "      <td>Romance</td>\n",
       "    </tr>\n",
       "    <tr>\n",
       "      <th>2</th>\n",
       "      <td>English</td>\n",
       "      <td>373</td>\n",
       "      <td>Indo-European</td>\n",
       "      <td>Germanic</td>\n",
       "    </tr>\n",
       "    <tr>\n",
       "      <th>3</th>\n",
       "      <td>Hindi\\n(excl. Urdu)</td>\n",
       "      <td>344</td>\n",
       "      <td>Indo-European</td>\n",
       "      <td>Indo-Aryan</td>\n",
       "    </tr>\n",
       "    <tr>\n",
       "      <th>4</th>\n",
       "      <td>Bengali</td>\n",
       "      <td>234</td>\n",
       "      <td>Indo-European</td>\n",
       "      <td>Indo-Aryan</td>\n",
       "    </tr>\n",
       "    <tr>\n",
       "      <th>5</th>\n",
       "      <td>Portuguese</td>\n",
       "      <td>232</td>\n",
       "      <td>Indo-European</td>\n",
       "      <td>Romance</td>\n",
       "    </tr>\n",
       "    <tr>\n",
       "      <th>6</th>\n",
       "      <td>Russian</td>\n",
       "      <td>154</td>\n",
       "      <td>Indo-European</td>\n",
       "      <td>Balto-Slavic</td>\n",
       "    </tr>\n",
       "    <tr>\n",
       "      <th>7</th>\n",
       "      <td>Japanese</td>\n",
       "      <td>125</td>\n",
       "      <td>Japonic</td>\n",
       "      <td>Japanese</td>\n",
       "    </tr>\n",
       "    <tr>\n",
       "      <th>8</th>\n",
       "      <td>Yue Chinese\\n(incl. Cantonese)</td>\n",
       "      <td>85.2</td>\n",
       "      <td>Sino-Tibetan</td>\n",
       "      <td>Sinitic</td>\n",
       "    </tr>\n",
       "    <tr>\n",
       "      <th>9</th>\n",
       "      <td>Vietnamese</td>\n",
       "      <td>84.6</td>\n",
       "      <td>Austroasiatic</td>\n",
       "      <td>Vietic</td>\n",
       "    </tr>\n",
       "  </tbody>\n",
       "</table>\n",
       "</div>"
      ],
      "text/plain": [
       "                                            Language  \\\n",
       "0  Mandarin Chinese\\n(incl. Standard Chinese, but...   \n",
       "1                                            Spanish   \n",
       "2                                            English   \n",
       "3                                Hindi\\n(excl. Urdu)   \n",
       "4                                            Bengali   \n",
       "5                                         Portuguese   \n",
       "6                                            Russian   \n",
       "7                                           Japanese   \n",
       "8                     Yue Chinese\\n(incl. Cantonese)   \n",
       "9                                         Vietnamese   \n",
       "\n",
       "  Native speakers\\n(millions) Language family        Branch  \n",
       "0                         920    Sino-Tibetan       Sinitic  \n",
       "1                         475   Indo-European       Romance  \n",
       "2                         373   Indo-European      Germanic  \n",
       "3                         344   Indo-European    Indo-Aryan  \n",
       "4                         234   Indo-European    Indo-Aryan  \n",
       "5                         232   Indo-European       Romance  \n",
       "6                         154   Indo-European  Balto-Slavic  \n",
       "7                         125         Japonic      Japanese  \n",
       "8                        85.2    Sino-Tibetan       Sinitic  \n",
       "9                        84.6   Austroasiatic        Vietic  "
      ]
     },
     "execution_count": 348,
     "metadata": {},
     "output_type": "execute_result"
    }
   ],
   "source": [
    "df=pd.DataFrame(data, columns=cabeceras)\n",
    "\n",
    "df.head(10)"
   ]
  },
  {
   "cell_type": "markdown",
   "metadata": {},
   "source": [
    "### BONUS QUESTIONS"
   ]
  },
  {
   "cell_type": "markdown",
   "metadata": {},
   "source": [
    "#### Scrape a certain number of tweets of a given Twitter account."
   ]
  },
  {
   "cell_type": "code",
   "execution_count": null,
   "metadata": {},
   "outputs": [],
   "source": [
    "# This is the url you will scrape in this exercise \n",
    "# You will need to add the account credentials to this url\n",
    "url = 'https://twitter.com/'"
   ]
  },
  {
   "cell_type": "code",
   "execution_count": null,
   "metadata": {},
   "outputs": [],
   "source": [
    "# your code"
   ]
  },
  {
   "cell_type": "markdown",
   "metadata": {},
   "source": [
    "#### IMDB's Top 250 data (movie name, Initial release, director name and stars) as a pandas dataframe"
   ]
  },
  {
   "cell_type": "code",
   "execution_count": null,
   "metadata": {},
   "outputs": [],
   "source": [
    "# This is the url you will scrape in this exercise \n",
    "url = 'https://www.imdb.com/chart/top'"
   ]
  },
  {
   "cell_type": "code",
   "execution_count": null,
   "metadata": {},
   "outputs": [],
   "source": [
    "# your code"
   ]
  },
  {
   "cell_type": "markdown",
   "metadata": {},
   "source": [
    "#### Movie name, year and a brief summary of the top 10 random movies (IMDB) as a pandas dataframe."
   ]
  },
  {
   "cell_type": "code",
   "execution_count": null,
   "metadata": {},
   "outputs": [],
   "source": [
    "#This is the url you will scrape in this exercise\n",
    "url = 'http://www.imdb.com/chart/top'"
   ]
  },
  {
   "cell_type": "code",
   "execution_count": null,
   "metadata": {},
   "outputs": [],
   "source": [
    "#your code"
   ]
  },
  {
   "cell_type": "markdown",
   "metadata": {},
   "source": [
    "#### Find the live weather report (temperature, wind speed, description and weather) of a given city."
   ]
  },
  {
   "cell_type": "code",
   "execution_count": null,
   "metadata": {},
   "outputs": [],
   "source": [
    "#https://openweathermap.org/current\n",
    "city = city=input('Enter the city:')\n",
    "url = 'http://api.openweathermap.org/data/2.5/weather?'+'q='+city+'&APPID=b35975e18dc93725acb092f7272cc6b8&units=metric'"
   ]
  },
  {
   "cell_type": "code",
   "execution_count": null,
   "metadata": {},
   "outputs": [],
   "source": [
    "# your code"
   ]
  },
  {
   "cell_type": "markdown",
   "metadata": {},
   "source": [
    "#### Book name,price and stock availability as a pandas dataframe."
   ]
  },
  {
   "cell_type": "code",
   "execution_count": null,
   "metadata": {},
   "outputs": [],
   "source": [
    "# This is the url you will scrape in this exercise. \n",
    "# It is a fictional bookstore created to be scraped. \n",
    "url = 'http://books.toscrape.com/'"
   ]
  },
  {
   "cell_type": "code",
   "execution_count": null,
   "metadata": {},
   "outputs": [],
   "source": [
    "#your code"
   ]
  }
 ],
 "metadata": {
  "kernelspec": {
   "display_name": "Python 3 (ipykernel)",
   "language": "python",
   "name": "python3"
  },
  "language_info": {
   "codemirror_mode": {
    "name": "ipython",
    "version": 3
   },
   "file_extension": ".py",
   "mimetype": "text/x-python",
   "name": "python",
   "nbconvert_exporter": "python",
   "pygments_lexer": "ipython3",
   "version": "3.9.12"
  }
 },
 "nbformat": 4,
 "nbformat_minor": 2
}
