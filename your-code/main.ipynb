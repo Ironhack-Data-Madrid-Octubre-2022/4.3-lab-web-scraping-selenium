{
 "cells": [
  {
   "cell_type": "markdown",
   "metadata": {},
   "source": [
    "# Web Scraping Lab\n",
    "\n",
    "You will find in this notebook some scrapy exercises to practise your scraping skills.\n",
    "\n",
    "**Tips:**\n",
    "\n",
    "- Check the response status code for each request to ensure you have obtained the intended contennt.\n",
    "- Print the response text in each request to understand the kind of info you are getting and its format.\n",
    "- Check for patterns in the response text to extract the data/info requested in each question.\n",
    "- Visit each url and take a look at its source through Chrome DevTools. You'll need to identify the html tags, special class names etc. used for the html content you are expected to extract."
   ]
  },
  {
   "cell_type": "markdown",
   "metadata": {},
   "source": [
    "- [Selenium Doc](https://www.selenium.dev/documentation/)\n",
    "- [Requests library](http://docs.python-requests.org/en/master/#the-user-guide) documentation \n",
    "- [Urllib](https://docs.python.org/3/library/urllib.html#module-urllib)\n",
    "- [re lib](https://docs.python.org/3/library/re.html)\n",
    "- [lxml lib](https://lxml.de/)\n",
    "- [Scrapy](https://scrapy.org/)\n",
    "- [List of HTTP status codes](https://en.wikipedia.org/wiki/List_of_HTTP_status_codes)\n",
    "- [HTML basics](http://www.simplehtmlguide.com/cheatsheet.php)\n",
    "- [CSS basics](https://www.cssbasics.com/#page_start)"
   ]
  },
  {
   "cell_type": "markdown",
   "metadata": {},
   "source": [
    "#### Below are the libraries and modules you may need. `Selenium` and `pandas` are imported for you."
   ]
  },
  {
   "cell_type": "code",
   "execution_count": 1,
   "metadata": {},
   "outputs": [],
   "source": [
    "import pandas as pd\n",
    "from selenium.webdriver.chrome.options import Options\n",
    "from webdriver_manager.chrome import ChromeDriverManager\n",
    "from selenium import webdriver\n",
    "from selenium.webdriver.common.by import By\n",
    "import pandas as pd\n",
    "\n",
    "\n",
    "import warnings\n",
    "warnings.filterwarnings('ignore')"
   ]
  },
  {
   "cell_type": "markdown",
   "metadata": {},
   "source": [
    "#### Enable the options you may need. In the next cell you have an example of them but you can choose to use them or not."
   ]
  },
  {
   "cell_type": "code",
   "execution_count": 191,
   "metadata": {},
   "outputs": [],
   "source": [
    "#driver configuration\n",
    "opciones=Options()\n",
    "\n",
    "opciones.add_experimental_option('excludeSwitches', ['enable-automation'])\n",
    "opciones.add_experimental_option('useAutomationExtension', False)\n",
    "opciones.headless=False    # si True, no aperece la ventana (headless=no visible)\n",
    "opciones.add_argument('--start-maximized')         # comienza maximizado\n",
    "#opciones.add_argument('user-data-dir=selenium')    # mantiene las cookies\n",
    "#opciones.add_extension('driver_folder/adblock.crx')       # adblocker\n",
    "#opciones.add_argument('--incognito')"
   ]
  },
  {
   "cell_type": "code",
   "execution_count": 3,
   "metadata": {},
   "outputs": [],
   "source": [
    "PATH=ChromeDriverManager().install()   # instala el driver\n",
    "\n",
    "#driver=webdriver.Chrome(PATH,options=opciones)         # abre una pestaña de chrome\n"
   ]
  },
  {
   "cell_type": "code",
   "execution_count": 4,
   "metadata": {},
   "outputs": [],
   "source": [
    "#driver = \"./chromedriver.exe\" #remember substitute this for your driver path\n",
    "#driver = webdriver.Chrome(driver,options = opciones)"
   ]
  },
  {
   "cell_type": "markdown",
   "metadata": {},
   "source": [
    "#### Download, parse, and print the content from the Trending Developers page from GitHub:"
   ]
  },
  {
   "cell_type": "code",
   "execution_count": 5,
   "metadata": {},
   "outputs": [],
   "source": [
    "# This is the url you will scrape in this exercise\n",
    "url = 'https://github.com/trending/developers'"
   ]
  },
  {
   "cell_type": "code",
   "execution_count": 31,
   "metadata": {},
   "outputs": [],
   "source": [
    "driver=webdriver.Chrome(PATH, options=opciones)\n",
    "\n",
    "driver.get(url)\n"
   ]
  },
  {
   "cell_type": "code",
   "execution_count": 34,
   "metadata": {},
   "outputs": [],
   "source": [
    "nombres=driver.find_elements(By.CLASS_NAME, 'Box-row')\n",
    "string=''\n",
    "listado=[]\n",
    "for e in nombres:\n",
    "    string=e.find_elements(By.TAG_NAME, 'a')[2].text + ' '+ e.find_elements(By.TAG_NAME, 'a')[3].text\n",
    "    listado.append(string)"
   ]
  },
  {
   "cell_type": "code",
   "execution_count": 35,
   "metadata": {},
   "outputs": [],
   "source": [
    "driver.quit()"
   ]
  },
  {
   "cell_type": "code",
   "execution_count": 36,
   "metadata": {},
   "outputs": [
    {
     "data": {
      "text/plain": [
       "['Nikita Sobolev , sobolevn',\n",
       " 'Emil Ernerfeldt , emilk',\n",
       " 'Jonny Borges , jonataslaw',\n",
       " 'Stephen Celis , stephencelis',\n",
       " 'monkeyWie , gopeed',\n",
       " 'Azure SDK Bot , azure-sdk',\n",
       " 'Martin Bonnin , martinbonnin',\n",
       " 'Wangchong Zhou , fffonion',\n",
       " 'Ammar Ahmed , ammarahm-ed',\n",
       " 'Matt Bierner , mjbvz',\n",
       " 'Alessandro Ros , aler9',\n",
       " 'Mike Perham , mperham',\n",
       " 'DavidKorczynski , Follow',\n",
       " 'Abhijeet Prasad , AbhiPrasad',\n",
       " 'Mislav Marohnić , mislav',\n",
       " 'Leonard Hecker , lhecker',\n",
       " 'Pedro Cuenca , pcuenca',\n",
       " 'Marcus Olsson , marcusolsson',\n",
       " 'Alex Eagle , alexeagle',\n",
       " 'Nolan Lawson , nolanlawson',\n",
       " 'Luke Latham , guardrex',\n",
       " 'Joshua Levy , jlevy',\n",
       " 'Bas Nijholt , basnijholt',\n",
       " 'Ice3man , Ice3man543',\n",
       " 'kunfei , gedoor']"
      ]
     },
     "execution_count": 36,
     "metadata": {},
     "output_type": "execute_result"
    }
   ],
   "source": [
    "listado"
   ]
  },
  {
   "cell_type": "markdown",
   "metadata": {},
   "source": [
    "#### Display the names of the trending developers retrieved in the previous step.\n",
    "\n",
    "Your output should be a Python list of developer names. Each name should not contain any html tag.\n",
    "\n",
    "**Instructions:**\n",
    "\n",
    "1. Find out the html tag and class names used for the developer names.\n",
    "\n",
    "1. Use string manipulation techniques to replace whitespaces and linebreaks (i.e. `\\n`) in the *text* of each html element. Use a list to store the clean names.\n",
    "\n",
    "1. Print the list of names.\n",
    "\n",
    "Your output should look like below:\n",
    "\n",
    "```\n",
    "['trimstray (@trimstray)',\n",
    " 'joewalnes (JoeWalnes)',\n",
    " 'charlax (Charles-AxelDein)',\n",
    " 'ForrestKnight (ForrestKnight)',\n",
    " 'revery-ui (revery-ui)',\n",
    " 'alibaba (Alibaba)',\n",
    " 'Microsoft (Microsoft)',\n",
    " 'github (GitHub)',\n",
    " 'facebook (Facebook)',\n",
    " 'boazsegev (Bo)',\n",
    " 'google (Google)',\n",
    " 'cloudfetch',\n",
    " 'sindresorhus (SindreSorhus)',\n",
    " 'tensorflow',\n",
    " 'apache (TheApacheSoftwareFoundation)',\n",
    " 'DevonCrawford (DevonCrawford)',\n",
    " 'ARMmbed (ArmMbed)',\n",
    " 'vuejs (vuejs)',\n",
    " 'fastai (fast.ai)',\n",
    " 'QiShaoXuan (Qi)',\n",
    " 'joelparkerhenderson (JoelParkerHenderson)',\n",
    " 'torvalds (LinusTorvalds)',\n",
    " 'CyC2018',\n",
    " 'komeiji-satori (神楽坂覚々)',\n",
    " 'script-8']\n",
    " ```"
   ]
  },
  {
   "cell_type": "markdown",
   "metadata": {},
   "source": [
    "#### Display the trending Python repositories in GitHub\n",
    "\n",
    "The steps to solve this problem is similar to the previous one except that you need to find out the repository names instead of developer names."
   ]
  },
  {
   "cell_type": "code",
   "execution_count": 84,
   "metadata": {},
   "outputs": [],
   "source": [
    "# This is the url you will scrape in this exercise\n",
    "url = 'https://github.com/trending/python?since=daily'\n",
    "driver=webdriver.Chrome(PATH, options=opciones)\n",
    "\n",
    "driver.get(url)\n"
   ]
  },
  {
   "cell_type": "code",
   "execution_count": 85,
   "metadata": {},
   "outputs": [],
   "source": [
    "repos=driver.find_elements(By.CLASS_NAME, 'Box-row')"
   ]
  },
  {
   "cell_type": "code",
   "execution_count": 86,
   "metadata": {},
   "outputs": [],
   "source": [
    "#nombres=driver.find_elements(By.CLASS_NAME, 'Box-row')\n",
    "string=''\n",
    "listado=[]\n",
    "for e in repos:\n",
    "    string=e.find_elements(By.TAG_NAME, 'a')[1].text\n",
    "    if string == 'Star':\n",
    "        string=e.find_elements(By.TAG_NAME, 'a')[2].text\n",
    "    listado.append(string)"
   ]
  },
  {
   "cell_type": "code",
   "execution_count": 87,
   "metadata": {},
   "outputs": [],
   "source": [
    "driver.quit()"
   ]
  },
  {
   "cell_type": "code",
   "execution_count": 91,
   "metadata": {},
   "outputs": [
    {
     "data": {
      "text/plain": [
       "['public-apis / public-apis',\n",
       " 'bregman-arie / devops-exercises',\n",
       " 'facebookresearch / fairseq',\n",
       " 'cloneofsimo / paint-with-words-sd',\n",
       " 'Azure / azure-cli']"
      ]
     },
     "execution_count": 91,
     "metadata": {},
     "output_type": "execute_result"
    }
   ],
   "source": [
    "listado[:5]"
   ]
  },
  {
   "cell_type": "markdown",
   "metadata": {},
   "source": [
    "#### Display all the image links from Walt Disney wikipedia page"
   ]
  },
  {
   "cell_type": "code",
   "execution_count": 105,
   "metadata": {},
   "outputs": [],
   "source": [
    "# This is the url you will scrape in this exercise\n",
    "from IPython.display import Image\n",
    "url = 'https://en.wikipedia.org/wiki/Walt_Disney'\n",
    "driver=webdriver.Chrome(PATH, options=opciones)\n",
    "\n",
    "driver.get(url)\n"
   ]
  },
  {
   "cell_type": "code",
   "execution_count": 118,
   "metadata": {},
   "outputs": [],
   "source": [
    "dibus=driver.find_elements(By.TAG_NAME, 'img')"
   ]
  },
  {
   "cell_type": "code",
   "execution_count": 122,
   "metadata": {},
   "outputs": [
    {
     "data": {
      "text/html": [
       "<img src=\"https://upload.wikimedia.org/wikipedia/en/thumb/e/e7/Cscr-featured.svg/20px-Cscr-featured.svg.png\"/>"
      ],
      "text/plain": [
       "<IPython.core.display.Image object>"
      ]
     },
     "metadata": {},
     "output_type": "display_data"
    },
    {
     "data": {
      "text/html": [
       "<img src=\"https://upload.wikimedia.org/wikipedia/en/thumb/8/8c/Extended-protection-shackle.svg/20px-Extended-protection-shackle.svg.png\"/>"
      ],
      "text/plain": [
       "<IPython.core.display.Image object>"
      ]
     },
     "metadata": {},
     "output_type": "display_data"
    },
    {
     "data": {
      "text/html": [
       "<img src=\"https://upload.wikimedia.org/wikipedia/commons/thumb/d/df/Walt_Disney_1946.JPG/220px-Walt_Disney_1946.JPG\"/>"
      ],
      "text/plain": [
       "<IPython.core.display.Image object>"
      ]
     },
     "metadata": {},
     "output_type": "display_data"
    },
    {
     "data": {
      "text/html": [
       "<img src=\"https://upload.wikimedia.org/wikipedia/commons/thumb/8/87/Walt_Disney_1942_signature.svg/150px-Walt_Disney_1942_signature.svg.png\"/>"
      ],
      "text/plain": [
       "<IPython.core.display.Image object>"
      ]
     },
     "metadata": {},
     "output_type": "display_data"
    },
    {
     "data": {
      "text/html": [
       "<img src=\"https://upload.wikimedia.org/wikipedia/commons/thumb/3/3a/Walt_Disney_Birthplace_Exterior_Hermosa_Chicago_Illinois.jpg/220px-Walt_Disney_Birthplace_Exterior_Hermosa_Chicago_Illinois.jpg\"/>"
      ],
      "text/plain": [
       "<IPython.core.display.Image object>"
      ]
     },
     "metadata": {},
     "output_type": "display_data"
    },
    {
     "data": {
      "text/html": [
       "<img src=\"https://upload.wikimedia.org/wikipedia/commons/thumb/c/c4/Walt_Disney_envelope_ca._1921.jpg/220px-Walt_Disney_envelope_ca._1921.jpg\"/>"
      ],
      "text/plain": [
       "<IPython.core.display.Image object>"
      ]
     },
     "metadata": {},
     "output_type": "display_data"
    },
    {
     "data": {
      "text/html": [
       "<img src=\"https://upload.wikimedia.org/wikipedia/commons/thumb/0/0d/Trolley_Troubles_poster.jpg/170px-Trolley_Troubles_poster.jpg\"/>"
      ],
      "text/plain": [
       "<IPython.core.display.Image object>"
      ]
     },
     "metadata": {},
     "output_type": "display_data"
    },
    {
     "data": {
      "text/html": [
       "<img src=\"https://upload.wikimedia.org/wikipedia/en/thumb/4/4e/Steamboat-willie.jpg/170px-Steamboat-willie.jpg\"/>"
      ],
      "text/plain": [
       "<IPython.core.display.Image object>"
      ]
     },
     "metadata": {},
     "output_type": "display_data"
    },
    {
     "data": {
      "text/html": [
       "<img src=\"https://upload.wikimedia.org/wikipedia/commons/thumb/5/57/Walt_Disney_1935.jpg/170px-Walt_Disney_1935.jpg\"/>"
      ],
      "text/plain": [
       "<IPython.core.display.Image object>"
      ]
     },
     "metadata": {},
     "output_type": "display_data"
    },
    {
     "data": {
      "text/html": [
       "<img src=\"https://upload.wikimedia.org/wikipedia/commons/thumb/c/cd/Walt_Disney_Snow_white_1937_trailer_screenshot_%2813%29.jpg/220px-Walt_Disney_Snow_white_1937_trailer_screenshot_%2813%29.jpg\"/>"
      ],
      "text/plain": [
       "<IPython.core.display.Image object>"
      ]
     },
     "metadata": {},
     "output_type": "display_data"
    },
    {
     "data": {
      "text/html": [
       "<img src=\"https://upload.wikimedia.org/wikipedia/commons/thumb/1/15/Disney_drawing_goofy.jpg/170px-Disney_drawing_goofy.jpg\"/>"
      ],
      "text/plain": [
       "<IPython.core.display.Image object>"
      ]
     },
     "metadata": {},
     "output_type": "display_data"
    },
    {
     "data": {
      "text/html": [
       "<img src=\"https://upload.wikimedia.org/wikipedia/commons/thumb/8/8c/WaltDisneyplansDisneylandDec1954.jpg/220px-WaltDisneyplansDisneylandDec1954.jpg\"/>"
      ],
      "text/plain": [
       "<IPython.core.display.Image object>"
      ]
     },
     "metadata": {},
     "output_type": "display_data"
    },
    {
     "data": {
      "text/html": [
       "<img src=\"https://upload.wikimedia.org/wikipedia/commons/thumb/f/ff/Walt_disney_portrait_right.jpg/170px-Walt_disney_portrait_right.jpg\"/>"
      ],
      "text/plain": [
       "<IPython.core.display.Image object>"
      ]
     },
     "metadata": {},
     "output_type": "display_data"
    },
    {
     "data": {
      "text/html": [
       "<img src=\"https://upload.wikimedia.org/wikipedia/commons/thumb/1/1a/Walt_Disney_Grave.JPG/170px-Walt_Disney_Grave.JPG\"/>"
      ],
      "text/plain": [
       "<IPython.core.display.Image object>"
      ]
     },
     "metadata": {},
     "output_type": "display_data"
    },
    {
     "data": {
      "text/html": [
       "<img src=\"https://upload.wikimedia.org/wikipedia/commons/thumb/2/2d/Roy_O._Disney_with_Company_at_Press_Conference.jpg/170px-Roy_O._Disney_with_Company_at_Press_Conference.jpg\"/>"
      ],
      "text/plain": [
       "<IPython.core.display.Image object>"
      ]
     },
     "metadata": {},
     "output_type": "display_data"
    },
    {
     "data": {
      "text/html": [
       "<img src=\"https://upload.wikimedia.org/wikipedia/commons/thumb/1/13/DisneySchiphol1951.jpg/220px-DisneySchiphol1951.jpg\"/>"
      ],
      "text/plain": [
       "<IPython.core.display.Image object>"
      ]
     },
     "metadata": {},
     "output_type": "display_data"
    },
    {
     "data": {
      "text/html": [
       "<img src=\"https://upload.wikimedia.org/wikipedia/commons/thumb/6/6c/Disney1968.jpg/170px-Disney1968.jpg\"/>"
      ],
      "text/plain": [
       "<IPython.core.display.Image object>"
      ]
     },
     "metadata": {},
     "output_type": "display_data"
    },
    {
     "data": {
      "text/html": [
       "<img src=\"https://upload.wikimedia.org/wikipedia/commons/thumb/b/b0/Disney_Oscar_1953_%28cropped%29.jpg/170px-Disney_Oscar_1953_%28cropped%29.jpg\"/>"
      ],
      "text/plain": [
       "<IPython.core.display.Image object>"
      ]
     },
     "metadata": {},
     "output_type": "display_data"
    },
    {
     "data": {
      "text/html": [
       "<img src=\"https://upload.wikimedia.org/wikipedia/en/thumb/4/4a/Commons-logo.svg/30px-Commons-logo.svg.png\"/>"
      ],
      "text/plain": [
       "<IPython.core.display.Image object>"
      ]
     },
     "metadata": {},
     "output_type": "display_data"
    },
    {
     "data": {
      "text/html": [
       "<img src=\"https://upload.wikimedia.org/wikipedia/commons/thumb/4/4c/Wikisource-logo.svg/38px-Wikisource-logo.svg.png\"/>"
      ],
      "text/plain": [
       "<IPython.core.display.Image object>"
      ]
     },
     "metadata": {},
     "output_type": "display_data"
    },
    {
     "data": {
      "text/html": [
       "<img src=\"https://upload.wikimedia.org/wikipedia/commons/thumb/f/fa/Wikiquote-logo.svg/34px-Wikiquote-logo.svg.png\"/>"
      ],
      "text/plain": [
       "<IPython.core.display.Image object>"
      ]
     },
     "metadata": {},
     "output_type": "display_data"
    },
    {
     "data": {
      "text/html": [
       "<img src=\"https://upload.wikimedia.org/wikipedia/en/thumb/8/8a/OOjs_UI_icon_edit-ltr-progressive.svg/10px-OOjs_UI_icon_edit-ltr-progressive.svg.png\"/>"
      ],
      "text/plain": [
       "<IPython.core.display.Image object>"
      ]
     },
     "metadata": {},
     "output_type": "display_data"
    },
    {
     "data": {
      "text/html": [
       "<img src=\"https://upload.wikimedia.org/wikipedia/en/thumb/8/8a/OOjs_UI_icon_edit-ltr-progressive.svg/10px-OOjs_UI_icon_edit-ltr-progressive.svg.png\"/>"
      ],
      "text/plain": [
       "<IPython.core.display.Image object>"
      ]
     },
     "metadata": {},
     "output_type": "display_data"
    },
    {
     "data": {
      "text/html": [
       "<img src=\"https://upload.wikimedia.org/wikipedia/commons/thumb/e/e3/Disneyland_Resort_logo.svg/135px-Disneyland_Resort_logo.svg.png\"/>"
      ],
      "text/plain": [
       "<IPython.core.display.Image object>"
      ]
     },
     "metadata": {},
     "output_type": "display_data"
    },
    {
     "data": {
      "text/html": [
       "<img src=\"https://upload.wikimedia.org/wikipedia/commons/thumb/d/da/Animation_disc.svg/20px-Animation_disc.svg.png\"/>"
      ],
      "text/plain": [
       "<IPython.core.display.Image object>"
      ]
     },
     "metadata": {},
     "output_type": "display_data"
    },
    {
     "data": {
      "text/html": [
       "<img src=\"https://upload.wikimedia.org/wikipedia/en/thumb/6/69/P_vip.svg/19px-P_vip.svg.png\"/>"
      ],
      "text/plain": [
       "<IPython.core.display.Image object>"
      ]
     },
     "metadata": {},
     "output_type": "display_data"
    },
    {
     "data": {
      "text/html": [
       "<img src=\"https://upload.wikimedia.org/wikipedia/commons/thumb/1/1a/Magic_Kingdom_castle.jpg/15px-Magic_Kingdom_castle.jpg\"/>"
      ],
      "text/plain": [
       "<IPython.core.display.Image object>"
      ]
     },
     "metadata": {},
     "output_type": "display_data"
    },
    {
     "data": {
      "text/html": [
       "<img src=\"https://upload.wikimedia.org/wikipedia/en/thumb/e/e7/Video-x-generic.svg/19px-Video-x-generic.svg.png\"/>"
      ],
      "text/plain": [
       "<IPython.core.display.Image object>"
      ]
     },
     "metadata": {},
     "output_type": "display_data"
    },
    {
     "data": {
      "text/html": [
       "<img src=\"https://upload.wikimedia.org/wikipedia/commons/thumb/a/a3/Flag_of_Los_Angeles_County%2C_California.svg/21px-Flag_of_Los_Angeles_County%2C_California.svg.png\"/>"
      ],
      "text/plain": [
       "<IPython.core.display.Image object>"
      ]
     },
     "metadata": {},
     "output_type": "display_data"
    },
    {
     "data": {
      "text/html": [
       "<img src=\"https://upload.wikimedia.org/wikipedia/commons/thumb/8/8c/Blank_television_set.svg/21px-Blank_television_set.svg.png\"/>"
      ],
      "text/plain": [
       "<IPython.core.display.Image object>"
      ]
     },
     "metadata": {},
     "output_type": "display_data"
    },
    {
     "data": {
      "text/html": [
       "<img src=\"https://upload.wikimedia.org/wikipedia/en/thumb/a/a4/Flag_of_the_United_States.svg/21px-Flag_of_the_United_States.svg.png\"/>"
      ],
      "text/plain": [
       "<IPython.core.display.Image object>"
      ]
     },
     "metadata": {},
     "output_type": "display_data"
    },
    {
     "data": {
      "text/html": [
       "<img src=\"https://upload.wikimedia.org/wikipedia/en/thumb/4/4a/Commons-logo.svg/14px-Commons-logo.svg.png\"/>"
      ],
      "text/plain": [
       "<IPython.core.display.Image object>"
      ]
     },
     "metadata": {},
     "output_type": "display_data"
    },
    {
     "data": {
      "text/html": [
       "<img src=\"https://upload.wikimedia.org/wikipedia/commons/thumb/f/fa/Wikiquote-logo.svg/16px-Wikiquote-logo.svg.png\"/>"
      ],
      "text/plain": [
       "<IPython.core.display.Image object>"
      ]
     },
     "metadata": {},
     "output_type": "display_data"
    },
    {
     "data": {
      "text/html": [
       "<img src=\"https://upload.wikimedia.org/wikipedia/commons/thumb/4/4c/Wikisource-logo.svg/18px-Wikisource-logo.svg.png\"/>"
      ],
      "text/plain": [
       "<IPython.core.display.Image object>"
      ]
     },
     "metadata": {},
     "output_type": "display_data"
    },
    {
     "data": {
      "text/html": [
       "<img src=\"https://upload.wikimedia.org/wikipedia/commons/thumb/f/ff/Wikidata-logo.svg/21px-Wikidata-logo.svg.png\"/>"
      ],
      "text/plain": [
       "<IPython.core.display.Image object>"
      ]
     },
     "metadata": {},
     "output_type": "display_data"
    },
    {
     "data": {
      "text/html": [
       "<img src=\"https://upload.wikimedia.org/wikipedia/en/thumb/8/8a/OOjs_UI_icon_edit-ltr-progressive.svg/10px-OOjs_UI_icon_edit-ltr-progressive.svg.png\"/>"
      ],
      "text/plain": [
       "<IPython.core.display.Image object>"
      ]
     },
     "metadata": {},
     "output_type": "display_data"
    },
    {
     "data": {
      "text/html": [
       "<img src=\"https://en.wikipedia.org/static/images/footer/wikimedia-button.png\"/>"
      ],
      "text/plain": [
       "<IPython.core.display.Image object>"
      ]
     },
     "metadata": {},
     "output_type": "display_data"
    },
    {
     "data": {
      "text/html": [
       "<img src=\"https://en.wikipedia.org/static/images/footer/poweredby_mediawiki_88x31.png\"/>"
      ],
      "text/plain": [
       "<IPython.core.display.Image object>"
      ]
     },
     "metadata": {},
     "output_type": "display_data"
    }
   ],
   "source": [
    "for e in dibus:\n",
    "    string=e.get_attribute('src')\n",
    "    display(Image(url=string))\n",
    "    #listado.append(string)"
   ]
  },
  {
   "cell_type": "code",
   "execution_count": 123,
   "metadata": {},
   "outputs": [],
   "source": [
    "driver.quit()"
   ]
  },
  {
   "cell_type": "markdown",
   "metadata": {},
   "source": [
    "#### Retrieve an arbitary Wikipedia page of \"Python\" and create a list of links on that page"
   ]
  },
  {
   "cell_type": "code",
   "execution_count": 167,
   "metadata": {},
   "outputs": [],
   "source": [
    "# This is the url you will scrape in this exercise\n",
    "url ='https://en.wikipedia.org/wiki/Python' \n",
    "driver=webdriver.Chrome(PATH, options=opciones)\n",
    "\n",
    "driver.get(url)\n"
   ]
  },
  {
   "cell_type": "code",
   "execution_count": 142,
   "metadata": {},
   "outputs": [],
   "source": [
    "links=driver.find_elements(By.TAG_NAME,('link'))"
   ]
  },
  {
   "cell_type": "code",
   "execution_count": 147,
   "metadata": {},
   "outputs": [],
   "source": [
    "snakes=[]\n",
    "for e in links:\n",
    "        snakes.append(e.get_attribute('href'))"
   ]
  },
  {
   "cell_type": "code",
   "execution_count": 148,
   "metadata": {},
   "outputs": [
    {
     "data": {
      "text/plain": [
       "['https://en.wikipedia.org/w/load.php?lang=en&modules=ext.uls.interlanguage%7Cext.visualEditor.desktopArticleTarget.noscript%7Cext.wikimediaBadges%7Cskins.vector.styles.legacy%7Cwikibase.client.init&only=styles&skin=vector',\n",
       " 'https://en.wikipedia.org/w/load.php?lang=en&modules=site.styles&only=styles&skin=vector',\n",
       " 'https://upload.wikimedia.org/',\n",
       " 'https://en.m.wikipedia.org/wiki/Python',\n",
       " 'https://en.wikipedia.org/w/index.php?title=Python&action=edit',\n",
       " 'https://en.wikipedia.org/static/apple-touch/wikipedia.png',\n",
       " 'https://en.wikipedia.org/static/favicon/wikipedia.ico',\n",
       " 'https://en.wikipedia.org/w/opensearch_desc.php',\n",
       " 'https://en.wikipedia.org/w/api.php?action=rsd',\n",
       " 'https://creativecommons.org/licenses/by-sa/3.0/',\n",
       " 'https://en.wikipedia.org/wiki/Python',\n",
       " 'https://meta.wikimedia.org/',\n",
       " 'https://login.wikimedia.org/']"
      ]
     },
     "execution_count": 148,
     "metadata": {},
     "output_type": "execute_result"
    }
   ],
   "source": [
    "snakes"
   ]
  },
  {
   "cell_type": "code",
   "execution_count": 149,
   "metadata": {},
   "outputs": [],
   "source": [
    "driver.quit()"
   ]
  },
  {
   "cell_type": "markdown",
   "metadata": {},
   "source": [
    "#### Number of Titles that have changed in the United States Code since its last release point "
   ]
  },
  {
   "cell_type": "code",
   "execution_count": 150,
   "metadata": {},
   "outputs": [],
   "source": [
    "# This is the url you will scrape in this exercise\n",
    "url = 'http://uscode.house.gov/download/download.shtml'\n",
    "\n",
    "driver=webdriver.Chrome(PATH, options=opciones)\n",
    "\n",
    "driver.get(url)\n"
   ]
  },
  {
   "cell_type": "code",
   "execution_count": 155,
   "metadata": {},
   "outputs": [],
   "source": [
    "titulos=driver.find_elements(By.CLASS_NAME, 'usctitlechanged')"
   ]
  },
  {
   "cell_type": "code",
   "execution_count": 156,
   "metadata": {},
   "outputs": [],
   "source": [
    "titulitos=[]\n",
    "for t in titulos:\n",
    "    titulitos.append(t.text)"
   ]
  },
  {
   "cell_type": "code",
   "execution_count": 157,
   "metadata": {},
   "outputs": [
    {
     "data": {
      "text/plain": [
       "['Title 17 - Copyrights ٭',\n",
       " 'Title 22 - Foreign Relations and Intercourse',\n",
       " \"Title 38 - Veterans' Benefits ٭\",\n",
       " 'Title 40 - Public Buildings, Property, and Works ٭',\n",
       " 'Title 41 - Public Contracts ٭',\n",
       " 'Title 42 - The Public Health and Welfare',\n",
       " 'Title 44 - Public Printing and Documents ٭',\n",
       " 'Title 49 - Transportation ٭',\n",
       " 'Title 54 - National Park Service and Related Programs ٭']"
      ]
     },
     "execution_count": 157,
     "metadata": {},
     "output_type": "execute_result"
    }
   ],
   "source": [
    "titulitos"
   ]
  },
  {
   "cell_type": "code",
   "execution_count": 158,
   "metadata": {},
   "outputs": [],
   "source": [
    "driver.quit()"
   ]
  },
  {
   "cell_type": "markdown",
   "metadata": {},
   "source": [
    "#### A Python list with the top ten FBI's Most Wanted names "
   ]
  },
  {
   "cell_type": "code",
   "execution_count": 168,
   "metadata": {},
   "outputs": [],
   "source": [
    "# This is the url you will scrape in this exercise\n",
    "url = 'https://www.fbi.gov/wanted/topten'\n",
    "driver=webdriver.Chrome(PATH, options=opciones)\n",
    "\n",
    "driver.get(url)"
   ]
  },
  {
   "cell_type": "code",
   "execution_count": 182,
   "metadata": {},
   "outputs": [],
   "source": [
    "nombres=driver.find_elements(By.CLASS_NAME, 'portal-type-person')"
   ]
  },
  {
   "cell_type": "code",
   "execution_count": 185,
   "metadata": {},
   "outputs": [
    {
     "name": "stdout",
     "output_type": "stream",
     "text": [
      "OMAR ALEXANDER CARDENAS\n",
      "ALEXIS FLORES\n",
      "JOSE RODOLFO VILLARREAL-HERNANDEZ\n",
      "YULAN ADONAY ARCHAGA CARIAS\n",
      "BHADRESHKUMAR CHETANBHAI PATEL\n",
      "ALEJANDRO ROSALES CASTILLO\n",
      "MICHAEL JAMES PRATT\n",
      "RUJA IGNATOVA\n",
      "ARNOLDO JIMENEZ\n",
      "RAFAEL CARO-QUINTERO\n"
     ]
    }
   ],
   "source": [
    "for n in nombres:\n",
    "    print(n.text)"
   ]
  },
  {
   "cell_type": "code",
   "execution_count": 186,
   "metadata": {},
   "outputs": [],
   "source": [
    "driver.quit()"
   ]
  },
  {
   "cell_type": "markdown",
   "metadata": {},
   "source": [
    "####  20 latest earthquakes info (date, time, latitude, longitude and region name) by the EMSC as a pandas dataframe"
   ]
  },
  {
   "cell_type": "code",
   "execution_count": 277,
   "metadata": {},
   "outputs": [],
   "source": [
    "# This is the url you will scrape in this exercise\n",
    "url = 'https://www.emsc-csem.org/Earthquake/'\n",
    "driver=webdriver.Chrome(PATH, options=opciones)\n",
    "\n",
    "driver.get(url)"
   ]
  },
  {
   "cell_type": "code",
   "execution_count": 353,
   "metadata": {},
   "outputs": [
    {
     "data": {
      "text/plain": [
       "['Citizen\\nResponse',\n",
       " 'Date & Time\\nUTC',\n",
       " 'Latitude\\ndegrees',\n",
       " 'Longitude\\ndegrees',\n",
       " 'Depth\\nkm',\n",
       " 'Mag\\n[+]',\n",
       " 'Region name\\n[+]']"
      ]
     },
     "execution_count": 353,
     "metadata": {},
     "output_type": "execute_result"
    }
   ],
   "source": [
    "\n",
    "cabeceras=driver.find_element(By.TAG_NAME, 'thead')\n",
    "\n",
    "cabeceras=[c.text for c in cabeceras.find_elements(By.TAG_NAME, 'th')]\n",
    "cabeceras=cabeceras[:-1]\n",
    "cabeceras"
   ]
  },
  {
   "cell_type": "code",
   "execution_count": 379,
   "metadata": {},
   "outputs": [
    {
     "ename": "AttributeError",
     "evalue": "'list' object has no attribute 'find_elements'",
     "output_type": "error",
     "traceback": [
      "\u001b[1;31m---------------------------------------------------------------------------\u001b[0m",
      "\u001b[1;31mAttributeError\u001b[0m                            Traceback (most recent call last)",
      "\u001b[1;32m<ipython-input-379-19a9ce720c04>\u001b[0m in \u001b[0;36m<module>\u001b[1;34m\u001b[0m\n\u001b[0;32m      2\u001b[0m \u001b[1;33m\u001b[0m\u001b[0m\n\u001b[0;32m      3\u001b[0m \u001b[0mfilas\u001b[0m\u001b[1;33m=\u001b[0m\u001b[0mdriver\u001b[0m\u001b[1;33m.\u001b[0m\u001b[0mfind_elements\u001b[0m\u001b[1;33m(\u001b[0m\u001b[0mBy\u001b[0m\u001b[1;33m.\u001b[0m\u001b[0mTAG_NAME\u001b[0m\u001b[1;33m,\u001b[0m \u001b[1;34m'tr'\u001b[0m\u001b[1;33m)\u001b[0m\u001b[1;33m\u001b[0m\u001b[1;33m\u001b[0m\u001b[0m\n\u001b[1;32m----> 4\u001b[1;33m \u001b[0mfilas2\u001b[0m\u001b[1;33m=\u001b[0m\u001b[1;33m[\u001b[0m\u001b[0mf\u001b[0m\u001b[1;33m.\u001b[0m\u001b[0mtext\u001b[0m \u001b[1;32mfor\u001b[0m \u001b[0mf\u001b[0m \u001b[1;32min\u001b[0m \u001b[0mfilas\u001b[0m\u001b[1;33m.\u001b[0m\u001b[0mfind_elements\u001b[0m\u001b[1;33m(\u001b[0m\u001b[0mBy\u001b[0m\u001b[1;33m.\u001b[0m\u001b[0mTAG_NAME\u001b[0m\u001b[1;33m,\u001b[0m\u001b[1;34m'td'\u001b[0m\u001b[1;33m)\u001b[0m\u001b[1;33m]\u001b[0m\u001b[1;33m\u001b[0m\u001b[1;33m\u001b[0m\u001b[0m\n\u001b[0m\u001b[0;32m      5\u001b[0m \u001b[1;33m\u001b[0m\u001b[0m\n\u001b[0;32m      6\u001b[0m \u001b[0mfilas2\u001b[0m\u001b[1;33m\u001b[0m\u001b[1;33m\u001b[0m\u001b[0m\n",
      "\u001b[1;31mAttributeError\u001b[0m: 'list' object has no attribute 'find_elements'"
     ]
    }
   ],
   "source": [
    "#tabla=driver.find_element(By.TAG_NAME, 'tbody')\n",
    "\n",
    "filas=driver.find_elements(By.TAG_NAME, 'tr')\n",
    "filas2=[f.text for f in filas.find_elements(By.TAG_NAME,'td')]\n",
    "\n",
    "filas2\n"
   ]
  },
  {
   "cell_type": "code",
   "execution_count": 374,
   "metadata": {},
   "outputs": [],
   "source": [
    "#filas=driver.find_elements(By.TAG_NAME, 'td')\n",
    "#filas=[f.text for f in driver.find_elements(By.TAG_NAME,'tr')]\n",
    "#\n",
    "#filas"
   ]
  },
  {
   "cell_type": "code",
   "execution_count": 376,
   "metadata": {},
   "outputs": [
    {
     "data": {
      "text/plain": [
       "['Glossary',\n",
       " '',\n",
       " '',\n",
       " '',\n",
       " '',\n",
       " '',\n",
       " '12345678910›»',\n",
       " '',\n",
       " '',\n",
       " '',\n",
       " '2022-11-09   17:58:07.0\\n14min ago',\n",
       " '21.86 ',\n",
       " 'S  ',\n",
       " '68.58 ',\n",
       " 'W  ',\n",
       " '124',\n",
       " '',\n",
       " '2.9',\n",
       " ' ANTOFAGASTA, CHILE',\n",
       " '',\n",
       " '',\n",
       " '',\n",
       " '',\n",
       " '2022-11-09   17:52:00.0\\n20min ago',\n",
       " '36.92 ',\n",
       " 'S  ',\n",
       " '177.62 ',\n",
       " 'E  ',\n",
       " '56',\n",
       " '',\n",
       " '3.5',\n",
       " ' OFF E. COAST OF N. ISLAND, N.Z.',\n",
       " '',\n",
       " '',\n",
       " '',\n",
       " '',\n",
       " '2022-11-09   17:49:47.6\\n22min ago',\n",
       " '26.07 ',\n",
       " 'S  ',\n",
       " '178.59 ',\n",
       " 'E  ',\n",
       " '680',\n",
       " '',\n",
       " '5.3',\n",
       " ' SOUTH OF FIJI ISLANDS',\n",
       " '',\n",
       " '',\n",
       " '',\n",
       " '',\n",
       " '2022-11-09   17:47:30.0\\n24min ago',\n",
       " '36.20 ',\n",
       " 'N  ',\n",
       " '140.10 ',\n",
       " 'E  ',\n",
       " '50',\n",
       " '',\n",
       " '3.5',\n",
       " ' NEAR EAST COAST OF HONSHU, JAPAN',\n",
       " '',\n",
       " '',\n",
       " '',\n",
       " '',\n",
       " '2022-11-09   17:46:24.0\\n25min ago',\n",
       " '19.34 ',\n",
       " 'S  ',\n",
       " '69.69 ',\n",
       " 'W  ',\n",
       " '85',\n",
       " '',\n",
       " '2.8',\n",
       " ' TARAPACA, CHILE',\n",
       " '',\n",
       " '',\n",
       " '',\n",
       " '',\n",
       " '2022-11-09   17:37:24.8\\n34min ago',\n",
       " '36.04 ',\n",
       " 'N  ',\n",
       " '22.20 ',\n",
       " 'E  ',\n",
       " '6',\n",
       " '',\n",
       " '2.5',\n",
       " ' SOUTHERN GREECE',\n",
       " '',\n",
       " '',\n",
       " '',\n",
       " '',\n",
       " '2022-11-09   17:37:20.5\\n34min ago',\n",
       " '29.36 ',\n",
       " 'N  ',\n",
       " '15.61 ',\n",
       " 'W  ',\n",
       " '41',\n",
       " '',\n",
       " '2.8',\n",
       " ' CANARY ISLANDS, SPAIN REGION',\n",
       " '',\n",
       " '',\n",
       " '',\n",
       " '',\n",
       " '2022-11-09   17:35:43.0\\n36min ago',\n",
       " '14.23 ',\n",
       " 'N  ',\n",
       " '93.40 ',\n",
       " 'W  ',\n",
       " '10',\n",
       " '',\n",
       " '4.2',\n",
       " ' OFF COAST OF CHIAPAS, MEXICO',\n",
       " '',\n",
       " '',\n",
       " '',\n",
       " '',\n",
       " '2022-11-09   17:19:36.9\\n52min ago',\n",
       " '43.92 ',\n",
       " 'N  ',\n",
       " '13.34 ',\n",
       " 'E  ',\n",
       " '10',\n",
       " '',\n",
       " '2.2',\n",
       " ' CENTRAL ITALY',\n",
       " '',\n",
       " '',\n",
       " '',\n",
       " '',\n",
       " '2022-11-09   17:12:40.0\\n59min ago',\n",
       " '24.16 ',\n",
       " 'S  ',\n",
       " '67.15 ',\n",
       " 'W  ',\n",
       " '195',\n",
       " '',\n",
       " '3.1',\n",
       " ' SALTA, ARGENTINA',\n",
       " '',\n",
       " '',\n",
       " '',\n",
       " '',\n",
       " '2022-11-09   17:05:45.0\\n1hr 06min ago',\n",
       " '8.90 ',\n",
       " 'N  ',\n",
       " '126.69 ',\n",
       " 'E  ',\n",
       " '17',\n",
       " '',\n",
       " '3.2',\n",
       " ' MINDANAO, PHILIPPINES',\n",
       " '',\n",
       " '',\n",
       " '',\n",
       " '',\n",
       " '2022-11-09   16:58:17.0\\n1hr 13min ago',\n",
       " '17.95 ',\n",
       " 'N  ',\n",
       " '66.91 ',\n",
       " 'W  ',\n",
       " '10',\n",
       " '',\n",
       " '2.5',\n",
       " ' PUERTO RICO REGION',\n",
       " '',\n",
       " '',\n",
       " '',\n",
       " '',\n",
       " '2022-11-09   16:57:37.0\\n1hr 14min ago',\n",
       " '20.58 ',\n",
       " 'S  ',\n",
       " '69.43 ',\n",
       " 'W  ',\n",
       " '77',\n",
       " '',\n",
       " '2.6',\n",
       " ' TARAPACA, CHILE',\n",
       " '',\n",
       " '',\n",
       " '',\n",
       " '',\n",
       " '2022-11-09   16:57:20.7\\n1hr 14min ago',\n",
       " '38.09 ',\n",
       " 'S  ',\n",
       " '176.65 ',\n",
       " 'E  ',\n",
       " '5',\n",
       " '',\n",
       " '3.0',\n",
       " ' NORTH ISLAND OF NEW ZEALAND',\n",
       " '',\n",
       " '',\n",
       " '',\n",
       " '',\n",
       " '2022-11-09   16:50:09.7\\n1hr 22min ago',\n",
       " '43.91 ',\n",
       " 'N  ',\n",
       " '13.31 ',\n",
       " 'E  ',\n",
       " '7',\n",
       " '',\n",
       " '2.3',\n",
       " ' CENTRAL ITALY',\n",
       " '',\n",
       " '',\n",
       " '',\n",
       " '',\n",
       " '2022-11-09   16:50:02.0\\n1hr 22min ago',\n",
       " '15.10 ',\n",
       " 'N  ',\n",
       " '94.37 ',\n",
       " 'W  ',\n",
       " '16',\n",
       " '',\n",
       " '4.2',\n",
       " ' OFF COAST OF CHIAPAS, MEXICO',\n",
       " '',\n",
       " '',\n",
       " '',\n",
       " '',\n",
       " '2022-11-09   16:43:54.0\\n1hr 28min ago',\n",
       " '10.16 ',\n",
       " 'S  ',\n",
       " '118.81 ',\n",
       " 'E  ',\n",
       " '10',\n",
       " '',\n",
       " '3.4',\n",
       " ' SOUTH OF SUMBAWA, INDONESIA',\n",
       " '',\n",
       " '',\n",
       " '',\n",
       " '',\n",
       " '2022-11-09   16:41:19.4\\n1hr 30min ago',\n",
       " '19.18 ',\n",
       " 'N  ',\n",
       " '155.49 ',\n",
       " 'W  ',\n",
       " '36',\n",
       " '',\n",
       " '2.2',\n",
       " ' ISLAND OF HAWAII, HAWAII',\n",
       " '',\n",
       " '',\n",
       " '',\n",
       " '',\n",
       " '2022-11-09   16:38:20.0\\n1hr 33min ago',\n",
       " '10.13 ',\n",
       " 'S  ',\n",
       " '118.82 ',\n",
       " 'E  ',\n",
       " '10',\n",
       " '',\n",
       " '3.4',\n",
       " ' SOUTH OF SUMBAWA, INDONESIA',\n",
       " '',\n",
       " '',\n",
       " '',\n",
       " '',\n",
       " '2022-11-09   16:32:35.0\\n1hr 39min ago',\n",
       " '26.87 ',\n",
       " 'S  ',\n",
       " '70.14 ',\n",
       " 'W  ',\n",
       " '78',\n",
       " '',\n",
       " '2.8',\n",
       " ' ATACAMA, CHILE',\n",
       " '',\n",
       " '',\n",
       " '',\n",
       " '',\n",
       " '2022-11-09   16:10:36.3\\n2hr 01min ago',\n",
       " '43.95 ',\n",
       " 'N  ',\n",
       " '13.29 ',\n",
       " 'E  ',\n",
       " '2',\n",
       " '',\n",
       " '2.5',\n",
       " ' CENTRAL ITALY',\n",
       " '',\n",
       " '',\n",
       " '',\n",
       " '',\n",
       " '2022-11-09   16:07:15.2\\n2hr 04min ago',\n",
       " '34.55 ',\n",
       " 'N  ',\n",
       " '23.87 ',\n",
       " 'E  ',\n",
       " '21',\n",
       " '',\n",
       " '2.7',\n",
       " ' CRETE, GREECE',\n",
       " '',\n",
       " '',\n",
       " '',\n",
       " '',\n",
       " '2022-11-09   15:58:32.1\\n2hr 13min ago',\n",
       " '37.07 ',\n",
       " 'N  ',\n",
       " '28.38 ',\n",
       " 'E  ',\n",
       " '9',\n",
       " '',\n",
       " '2.9',\n",
       " ' WESTERN TURKEY',\n",
       " '',\n",
       " '',\n",
       " '',\n",
       " '',\n",
       " '2022-11-09   15:40:34.6\\n2hr 31min ago',\n",
       " '43.97 ',\n",
       " 'N  ',\n",
       " '13.33 ',\n",
       " 'E  ',\n",
       " '10',\n",
       " '',\n",
       " '2.2',\n",
       " ' CENTRAL ITALY',\n",
       " '',\n",
       " '',\n",
       " '',\n",
       " '',\n",
       " '2022-11-09   15:37:05.0\\n2hr 35min ago',\n",
       " '21.53 ',\n",
       " 'S  ',\n",
       " '68.57 ',\n",
       " 'W  ',\n",
       " '115',\n",
       " '',\n",
       " '2.9',\n",
       " ' ANTOFAGASTA, CHILE',\n",
       " '',\n",
       " '',\n",
       " '',\n",
       " '',\n",
       " '2022-11-09   15:26:21.9\\n2hr 45min ago',\n",
       " '44.01 ',\n",
       " 'N  ',\n",
       " '13.28 ',\n",
       " 'E  ',\n",
       " '26',\n",
       " '',\n",
       " '2.4',\n",
       " ' ADRIATIC SEA',\n",
       " '',\n",
       " '',\n",
       " '',\n",
       " '',\n",
       " '2022-11-09   15:23:39.1\\n2hr 48min ago',\n",
       " '44.00 ',\n",
       " 'N  ',\n",
       " '13.30 ',\n",
       " 'E  ',\n",
       " '9',\n",
       " '',\n",
       " '2.2',\n",
       " ' ADRIATIC SEA',\n",
       " '',\n",
       " '',\n",
       " '',\n",
       " '',\n",
       " '2022-11-09   15:18:12.4\\n2hr 53min ago',\n",
       " '46.32 ',\n",
       " 'N  ',\n",
       " '7.36 ',\n",
       " 'E  ',\n",
       " '5',\n",
       " '',\n",
       " '1.0',\n",
       " ' SWITZERLAND',\n",
       " '',\n",
       " '',\n",
       " '',\n",
       " '',\n",
       " '2022-11-09   15:06:55.0\\n3hr 05min ago',\n",
       " '12.70 ',\n",
       " 'N  ',\n",
       " '88.19 ',\n",
       " 'W  ',\n",
       " '33',\n",
       " '',\n",
       " '2.6',\n",
       " ' OFFSHORE EL SALVADOR',\n",
       " '',\n",
       " '',\n",
       " '',\n",
       " '',\n",
       " '2022-11-09   14:58:24.0\\n3hr 13min ago',\n",
       " '17.32 ',\n",
       " 'N  ',\n",
       " '100.83 ',\n",
       " 'W  ',\n",
       " '12',\n",
       " '',\n",
       " '4.3',\n",
       " ' GUERRERO, MEXICO',\n",
       " '',\n",
       " '',\n",
       " '',\n",
       " '',\n",
       " '2022-11-09   14:51:54.6\\n3hr 20min ago',\n",
       " '35.91 ',\n",
       " 'N  ',\n",
       " '90.01 ',\n",
       " 'W  ',\n",
       " '7',\n",
       " '',\n",
       " '2.4',\n",
       " ' ARKANSAS',\n",
       " '',\n",
       " '',\n",
       " '',\n",
       " '',\n",
       " '2022-11-09   14:47:27.1\\n3hr 24min ago',\n",
       " '43.92 ',\n",
       " 'N  ',\n",
       " '13.26 ',\n",
       " 'E  ',\n",
       " '13',\n",
       " '',\n",
       " '2.3',\n",
       " ' CENTRAL ITALY',\n",
       " '',\n",
       " '',\n",
       " '',\n",
       " '',\n",
       " '2022-11-09   14:10:53.7\\n4hr 01min ago',\n",
       " '35.91 ',\n",
       " 'N  ',\n",
       " '117.71 ',\n",
       " 'W  ',\n",
       " '2',\n",
       " '',\n",
       " '2.1',\n",
       " ' CENTRAL CALIFORNIA',\n",
       " '',\n",
       " '',\n",
       " '',\n",
       " '',\n",
       " '2022-11-09   13:54:07.6\\n4hr 18min ago',\n",
       " '43.95 ',\n",
       " 'N  ',\n",
       " '13.29 ',\n",
       " 'E  ',\n",
       " '10',\n",
       " '',\n",
       " '2.0',\n",
       " ' CENTRAL ITALY',\n",
       " '',\n",
       " '',\n",
       " '',\n",
       " '',\n",
       " '2022-11-09   13:48:48.8\\n4hr 23min ago',\n",
       " '40.16 ',\n",
       " 'N  ',\n",
       " '119.14 ',\n",
       " 'W  ',\n",
       " '8',\n",
       " '',\n",
       " '2.6',\n",
       " ' NEVADA',\n",
       " '',\n",
       " '',\n",
       " '',\n",
       " '',\n",
       " '2022-11-09   13:41:43.0\\n4hr 30min ago',\n",
       " '3.02 ',\n",
       " 'S  ',\n",
       " '122.04 ',\n",
       " 'E  ',\n",
       " '10',\n",
       " '',\n",
       " '3.1',\n",
       " ' SULAWESI, INDONESIA',\n",
       " '',\n",
       " '',\n",
       " '',\n",
       " '',\n",
       " '2022-11-09   13:37:46.8\\n4hr 34min ago',\n",
       " '43.95 ',\n",
       " 'N  ',\n",
       " '13.31 ',\n",
       " 'E  ',\n",
       " '9',\n",
       " '',\n",
       " '2.6',\n",
       " ' CENTRAL ITALY',\n",
       " '',\n",
       " '',\n",
       " '',\n",
       " '',\n",
       " '2022-11-09   13:34:23.2\\n4hr 37min ago',\n",
       " '43.95 ',\n",
       " 'N  ',\n",
       " '13.36 ',\n",
       " 'E  ',\n",
       " '7',\n",
       " '',\n",
       " '2.2',\n",
       " ' CENTRAL ITALY',\n",
       " '',\n",
       " '',\n",
       " '',\n",
       " '',\n",
       " '2022-11-09   13:34:05.0\\n4hr 38min ago',\n",
       " '64.02 ',\n",
       " 'N  ',\n",
       " '21.35 ',\n",
       " 'W  ',\n",
       " '5',\n",
       " '',\n",
       " '3.2',\n",
       " ' ICELAND',\n",
       " '',\n",
       " '',\n",
       " '',\n",
       " '',\n",
       " '2022-11-09   13:21:37.0\\n4hr 50min ago',\n",
       " '27.89 ',\n",
       " 'S  ',\n",
       " '66.75 ',\n",
       " 'W  ',\n",
       " '182',\n",
       " '',\n",
       " '3.1',\n",
       " ' CATAMARCA, ARGENTINA',\n",
       " '',\n",
       " '',\n",
       " '',\n",
       " '',\n",
       " '2022-11-09   13:19:03.0\\n4hr 53min ago',\n",
       " '11.55 ',\n",
       " 'N  ',\n",
       " '87.48 ',\n",
       " 'W  ',\n",
       " '30',\n",
       " '',\n",
       " '3.0',\n",
       " ' NEAR COAST OF NICARAGUA',\n",
       " '',\n",
       " '',\n",
       " '',\n",
       " '',\n",
       " '2022-11-09   13:16:24.1\\n4hr 55min ago',\n",
       " '45.65 ',\n",
       " 'N  ',\n",
       " '26.61 ',\n",
       " 'E  ',\n",
       " '82',\n",
       " '',\n",
       " '2.8',\n",
       " ' ROMANIA',\n",
       " '',\n",
       " '',\n",
       " '',\n",
       " '',\n",
       " '2022-11-09   13:08:41.0\\n5hr 03min ago',\n",
       " '18.88 ',\n",
       " 'N  ',\n",
       " '121.95 ',\n",
       " 'E  ',\n",
       " '113',\n",
       " '',\n",
       " '3.2',\n",
       " ' LUZON, PHILIPPINES',\n",
       " '',\n",
       " '',\n",
       " '',\n",
       " '',\n",
       " '2022-11-09   13:08:02.0\\n5hr 04min ago',\n",
       " '22.20 ',\n",
       " 'S  ',\n",
       " '68.71 ',\n",
       " 'W  ',\n",
       " '112',\n",
       " '',\n",
       " '2.8',\n",
       " ' ANTOFAGASTA, CHILE',\n",
       " '',\n",
       " '',\n",
       " '',\n",
       " '',\n",
       " '2022-11-09   13:00:04.7\\n5hr 12min ago',\n",
       " '19.38 ',\n",
       " 'N  ',\n",
       " '66.34 ',\n",
       " 'W  ',\n",
       " '11',\n",
       " '',\n",
       " '3.6',\n",
       " ' PUERTO RICO REGION',\n",
       " '',\n",
       " '',\n",
       " '',\n",
       " '',\n",
       " '2022-11-09   12:54:30.9\\n5hr 17min ago',\n",
       " '58.51 ',\n",
       " 'N  ',\n",
       " '152.25 ',\n",
       " 'W  ',\n",
       " '35',\n",
       " '',\n",
       " '2.6',\n",
       " ' KODIAK ISLAND REGION, ALASKA',\n",
       " '',\n",
       " '',\n",
       " '',\n",
       " '',\n",
       " '2022-11-09   12:52:25.0\\n5hr 19min ago',\n",
       " '1.67 ',\n",
       " 'N  ',\n",
       " '127.04 ',\n",
       " 'E  ',\n",
       " '27',\n",
       " '',\n",
       " '4.3',\n",
       " ' HALMAHERA, INDONESIA',\n",
       " '',\n",
       " '',\n",
       " '',\n",
       " '',\n",
       " '2022-11-09   12:51:38.5\\n5hr 20min ago',\n",
       " '49.32 ',\n",
       " 'N  ',\n",
       " '156.05 ',\n",
       " 'E  ',\n",
       " '50',\n",
       " '',\n",
       " '4.4',\n",
       " ' KURIL ISLANDS',\n",
       " '',\n",
       " '',\n",
       " '',\n",
       " '',\n",
       " '2022-11-09   12:45:59.0\\n5hr 26min ago',\n",
       " '27.80 ',\n",
       " 'S  ',\n",
       " '71.24 ',\n",
       " 'W  ',\n",
       " '11',\n",
       " '',\n",
       " '2.8',\n",
       " ' OFFSHORE ATACAMA, CHILE',\n",
       " '',\n",
       " '',\n",
       " '',\n",
       " '',\n",
       " '2022-11-09   12:44:13.5\\n5hr 27min ago',\n",
       " '43.98 ',\n",
       " 'N  ',\n",
       " '13.27 ',\n",
       " 'E  ',\n",
       " '10',\n",
       " '',\n",
       " '2.4',\n",
       " ' CENTRAL ITALY',\n",
       " '',\n",
       " '',\n",
       " '12345678910›»',\n",
       " '']"
      ]
     },
     "execution_count": 376,
     "metadata": {},
     "output_type": "execute_result"
    }
   ],
   "source": [
    "filas"
   ]
  },
  {
   "cell_type": "code",
   "execution_count": 340,
   "metadata": {},
   "outputs": [
    {
     "ename": "SyntaxError",
     "evalue": "invalid syntax (<ipython-input-340-d23f89473a1c>, line 1)",
     "output_type": "error",
     "traceback": [
      "\u001b[1;36m  File \u001b[1;32m\"<ipython-input-340-d23f89473a1c>\"\u001b[1;36m, line \u001b[1;32m1\u001b[0m\n\u001b[1;33m    data=[[cabeceras]filas]\u001b[0m\n\u001b[1;37m                         ^\u001b[0m\n\u001b[1;31mSyntaxError\u001b[0m\u001b[1;31m:\u001b[0m invalid syntax\n"
     ]
    }
   ],
   "source": [
    "driver.quit()"
   ]
  },
  {
   "cell_type": "code",
   "execution_count": 341,
   "metadata": {},
   "outputs": [],
   "source": [
    "\n",
    "#data=[[e.text for e in f.find_elements(By.TAG_NAME, 'th')] \n",
    "#      for f in tabla.find_elements(By.TAG_NAME, 'tr')]"
   ]
  },
  {
   "cell_type": "code",
   "execution_count": null,
   "metadata": {},
   "outputs": [],
   "source": []
  },
  {
   "cell_type": "code",
   "execution_count": 342,
   "metadata": {},
   "outputs": [
    {
     "ename": "ValueError",
     "evalue": "Shape of passed values is (53, 1), indices imply (53, 7)",
     "output_type": "error",
     "traceback": [
      "\u001b[1;31m---------------------------------------------------------------------------\u001b[0m",
      "\u001b[1;31mValueError\u001b[0m                                Traceback (most recent call last)",
      "\u001b[1;32m~\\Anaconda3\\lib\\site-packages\\pandas\\core\\internals\\managers.py\u001b[0m in \u001b[0;36mcreate_block_manager_from_blocks\u001b[1;34m(blocks, axes)\u001b[0m\n\u001b[0;32m   1677\u001b[0m                 blocks = [\n\u001b[1;32m-> 1678\u001b[1;33m                     \u001b[0mmake_block\u001b[0m\u001b[1;33m(\u001b[0m\u001b[0mvalues\u001b[0m\u001b[1;33m=\u001b[0m\u001b[0mblocks\u001b[0m\u001b[1;33m[\u001b[0m\u001b[1;36m0\u001b[0m\u001b[1;33m]\u001b[0m\u001b[1;33m,\u001b[0m \u001b[0mplacement\u001b[0m\u001b[1;33m=\u001b[0m\u001b[0mslice\u001b[0m\u001b[1;33m(\u001b[0m\u001b[1;36m0\u001b[0m\u001b[1;33m,\u001b[0m \u001b[0mlen\u001b[0m\u001b[1;33m(\u001b[0m\u001b[0maxes\u001b[0m\u001b[1;33m[\u001b[0m\u001b[1;36m0\u001b[0m\u001b[1;33m]\u001b[0m\u001b[1;33m)\u001b[0m\u001b[1;33m)\u001b[0m\u001b[1;33m)\u001b[0m\u001b[1;33m\u001b[0m\u001b[1;33m\u001b[0m\u001b[0m\n\u001b[0m\u001b[0;32m   1679\u001b[0m                 ]\n",
      "\u001b[1;32m~\\Anaconda3\\lib\\site-packages\\pandas\\core\\internals\\blocks.py\u001b[0m in \u001b[0;36mmake_block\u001b[1;34m(values, placement, klass, ndim, dtype, fastpath)\u001b[0m\n\u001b[0;32m   3266\u001b[0m \u001b[1;33m\u001b[0m\u001b[0m\n\u001b[1;32m-> 3267\u001b[1;33m     \u001b[1;32mreturn\u001b[0m \u001b[0mklass\u001b[0m\u001b[1;33m(\u001b[0m\u001b[0mvalues\u001b[0m\u001b[1;33m,\u001b[0m \u001b[0mndim\u001b[0m\u001b[1;33m=\u001b[0m\u001b[0mndim\u001b[0m\u001b[1;33m,\u001b[0m \u001b[0mplacement\u001b[0m\u001b[1;33m=\u001b[0m\u001b[0mplacement\u001b[0m\u001b[1;33m)\u001b[0m\u001b[1;33m\u001b[0m\u001b[1;33m\u001b[0m\u001b[0m\n\u001b[0m\u001b[0;32m   3268\u001b[0m \u001b[1;33m\u001b[0m\u001b[0m\n",
      "\u001b[1;32m~\\Anaconda3\\lib\\site-packages\\pandas\\core\\internals\\blocks.py\u001b[0m in \u001b[0;36m__init__\u001b[1;34m(self, values, placement, ndim)\u001b[0m\n\u001b[0;32m   2774\u001b[0m \u001b[1;33m\u001b[0m\u001b[0m\n\u001b[1;32m-> 2775\u001b[1;33m         \u001b[0msuper\u001b[0m\u001b[1;33m(\u001b[0m\u001b[1;33m)\u001b[0m\u001b[1;33m.\u001b[0m\u001b[0m__init__\u001b[0m\u001b[1;33m(\u001b[0m\u001b[0mvalues\u001b[0m\u001b[1;33m,\u001b[0m \u001b[0mndim\u001b[0m\u001b[1;33m=\u001b[0m\u001b[0mndim\u001b[0m\u001b[1;33m,\u001b[0m \u001b[0mplacement\u001b[0m\u001b[1;33m=\u001b[0m\u001b[0mplacement\u001b[0m\u001b[1;33m)\u001b[0m\u001b[1;33m\u001b[0m\u001b[1;33m\u001b[0m\u001b[0m\n\u001b[0m\u001b[0;32m   2776\u001b[0m \u001b[1;33m\u001b[0m\u001b[0m\n",
      "\u001b[1;32m~\\Anaconda3\\lib\\site-packages\\pandas\\core\\internals\\blocks.py\u001b[0m in \u001b[0;36m__init__\u001b[1;34m(self, values, placement, ndim)\u001b[0m\n\u001b[0;32m    127\u001b[0m                 \u001b[1;34m\"Wrong number of items passed {val}, placement implies \"\u001b[0m\u001b[1;33m\u001b[0m\u001b[1;33m\u001b[0m\u001b[0m\n\u001b[1;32m--> 128\u001b[1;33m                 \u001b[1;34m\"{mgr}\"\u001b[0m\u001b[1;33m.\u001b[0m\u001b[0mformat\u001b[0m\u001b[1;33m(\u001b[0m\u001b[0mval\u001b[0m\u001b[1;33m=\u001b[0m\u001b[0mlen\u001b[0m\u001b[1;33m(\u001b[0m\u001b[0mself\u001b[0m\u001b[1;33m.\u001b[0m\u001b[0mvalues\u001b[0m\u001b[1;33m)\u001b[0m\u001b[1;33m,\u001b[0m \u001b[0mmgr\u001b[0m\u001b[1;33m=\u001b[0m\u001b[0mlen\u001b[0m\u001b[1;33m(\u001b[0m\u001b[0mself\u001b[0m\u001b[1;33m.\u001b[0m\u001b[0mmgr_locs\u001b[0m\u001b[1;33m)\u001b[0m\u001b[1;33m)\u001b[0m\u001b[1;33m\u001b[0m\u001b[1;33m\u001b[0m\u001b[0m\n\u001b[0m\u001b[0;32m    129\u001b[0m             )\n",
      "\u001b[1;31mValueError\u001b[0m: Wrong number of items passed 1, placement implies 7",
      "\nDuring handling of the above exception, another exception occurred:\n",
      "\u001b[1;31mValueError\u001b[0m                                Traceback (most recent call last)",
      "\u001b[1;32m<ipython-input-342-d37abe651899>\u001b[0m in \u001b[0;36m<module>\u001b[1;34m\u001b[0m\n\u001b[1;32m----> 1\u001b[1;33m \u001b[0mdf\u001b[0m\u001b[1;33m=\u001b[0m\u001b[0mpd\u001b[0m\u001b[1;33m.\u001b[0m\u001b[0mDataFrame\u001b[0m\u001b[1;33m(\u001b[0m\u001b[0mfilas\u001b[0m\u001b[1;33m,\u001b[0m \u001b[0mcolumns\u001b[0m\u001b[1;33m=\u001b[0m\u001b[0mcabeceras\u001b[0m\u001b[1;33m)\u001b[0m\u001b[1;33m\u001b[0m\u001b[1;33m\u001b[0m\u001b[0m\n\u001b[0m\u001b[0;32m      2\u001b[0m \u001b[0mdf\u001b[0m\u001b[1;33m.\u001b[0m\u001b[0mhead\u001b[0m\u001b[1;33m(\u001b[0m\u001b[1;33m)\u001b[0m\u001b[1;33m\u001b[0m\u001b[1;33m\u001b[0m\u001b[0m\n",
      "\u001b[1;32m~\\Anaconda3\\lib\\site-packages\\pandas\\core\\frame.py\u001b[0m in \u001b[0;36m__init__\u001b[1;34m(self, data, index, columns, dtype, copy)\u001b[0m\n\u001b[0;32m    462\u001b[0m                     \u001b[0mmgr\u001b[0m \u001b[1;33m=\u001b[0m \u001b[0marrays_to_mgr\u001b[0m\u001b[1;33m(\u001b[0m\u001b[0marrays\u001b[0m\u001b[1;33m,\u001b[0m \u001b[0mcolumns\u001b[0m\u001b[1;33m,\u001b[0m \u001b[0mindex\u001b[0m\u001b[1;33m,\u001b[0m \u001b[0mcolumns\u001b[0m\u001b[1;33m,\u001b[0m \u001b[0mdtype\u001b[0m\u001b[1;33m=\u001b[0m\u001b[0mdtype\u001b[0m\u001b[1;33m)\u001b[0m\u001b[1;33m\u001b[0m\u001b[1;33m\u001b[0m\u001b[0m\n\u001b[0;32m    463\u001b[0m                 \u001b[1;32melse\u001b[0m\u001b[1;33m:\u001b[0m\u001b[1;33m\u001b[0m\u001b[1;33m\u001b[0m\u001b[0m\n\u001b[1;32m--> 464\u001b[1;33m                     \u001b[0mmgr\u001b[0m \u001b[1;33m=\u001b[0m \u001b[0minit_ndarray\u001b[0m\u001b[1;33m(\u001b[0m\u001b[0mdata\u001b[0m\u001b[1;33m,\u001b[0m \u001b[0mindex\u001b[0m\u001b[1;33m,\u001b[0m \u001b[0mcolumns\u001b[0m\u001b[1;33m,\u001b[0m \u001b[0mdtype\u001b[0m\u001b[1;33m=\u001b[0m\u001b[0mdtype\u001b[0m\u001b[1;33m,\u001b[0m \u001b[0mcopy\u001b[0m\u001b[1;33m=\u001b[0m\u001b[0mcopy\u001b[0m\u001b[1;33m)\u001b[0m\u001b[1;33m\u001b[0m\u001b[1;33m\u001b[0m\u001b[0m\n\u001b[0m\u001b[0;32m    465\u001b[0m             \u001b[1;32melse\u001b[0m\u001b[1;33m:\u001b[0m\u001b[1;33m\u001b[0m\u001b[1;33m\u001b[0m\u001b[0m\n\u001b[0;32m    466\u001b[0m                 \u001b[0mmgr\u001b[0m \u001b[1;33m=\u001b[0m \u001b[0minit_dict\u001b[0m\u001b[1;33m(\u001b[0m\u001b[1;33m{\u001b[0m\u001b[1;33m}\u001b[0m\u001b[1;33m,\u001b[0m \u001b[0mindex\u001b[0m\u001b[1;33m,\u001b[0m \u001b[0mcolumns\u001b[0m\u001b[1;33m,\u001b[0m \u001b[0mdtype\u001b[0m\u001b[1;33m=\u001b[0m\u001b[0mdtype\u001b[0m\u001b[1;33m)\u001b[0m\u001b[1;33m\u001b[0m\u001b[1;33m\u001b[0m\u001b[0m\n",
      "\u001b[1;32m~\\Anaconda3\\lib\\site-packages\\pandas\\core\\internals\\construction.py\u001b[0m in \u001b[0;36minit_ndarray\u001b[1;34m(values, index, columns, dtype, copy)\u001b[0m\n\u001b[0;32m    211\u001b[0m         \u001b[0mblock_values\u001b[0m \u001b[1;33m=\u001b[0m \u001b[1;33m[\u001b[0m\u001b[0mvalues\u001b[0m\u001b[1;33m]\u001b[0m\u001b[1;33m\u001b[0m\u001b[1;33m\u001b[0m\u001b[0m\n\u001b[0;32m    212\u001b[0m \u001b[1;33m\u001b[0m\u001b[0m\n\u001b[1;32m--> 213\u001b[1;33m     \u001b[1;32mreturn\u001b[0m \u001b[0mcreate_block_manager_from_blocks\u001b[0m\u001b[1;33m(\u001b[0m\u001b[0mblock_values\u001b[0m\u001b[1;33m,\u001b[0m \u001b[1;33m[\u001b[0m\u001b[0mcolumns\u001b[0m\u001b[1;33m,\u001b[0m \u001b[0mindex\u001b[0m\u001b[1;33m]\u001b[0m\u001b[1;33m)\u001b[0m\u001b[1;33m\u001b[0m\u001b[1;33m\u001b[0m\u001b[0m\n\u001b[0m\u001b[0;32m    214\u001b[0m \u001b[1;33m\u001b[0m\u001b[0m\n\u001b[0;32m    215\u001b[0m \u001b[1;33m\u001b[0m\u001b[0m\n",
      "\u001b[1;32m~\\Anaconda3\\lib\\site-packages\\pandas\\core\\internals\\managers.py\u001b[0m in \u001b[0;36mcreate_block_manager_from_blocks\u001b[1;34m(blocks, axes)\u001b[0m\n\u001b[0;32m   1686\u001b[0m         \u001b[0mblocks\u001b[0m \u001b[1;33m=\u001b[0m \u001b[1;33m[\u001b[0m\u001b[0mgetattr\u001b[0m\u001b[1;33m(\u001b[0m\u001b[0mb\u001b[0m\u001b[1;33m,\u001b[0m \u001b[1;34m\"values\"\u001b[0m\u001b[1;33m,\u001b[0m \u001b[0mb\u001b[0m\u001b[1;33m)\u001b[0m \u001b[1;32mfor\u001b[0m \u001b[0mb\u001b[0m \u001b[1;32min\u001b[0m \u001b[0mblocks\u001b[0m\u001b[1;33m]\u001b[0m\u001b[1;33m\u001b[0m\u001b[1;33m\u001b[0m\u001b[0m\n\u001b[0;32m   1687\u001b[0m         \u001b[0mtot_items\u001b[0m \u001b[1;33m=\u001b[0m \u001b[0msum\u001b[0m\u001b[1;33m(\u001b[0m\u001b[0mb\u001b[0m\u001b[1;33m.\u001b[0m\u001b[0mshape\u001b[0m\u001b[1;33m[\u001b[0m\u001b[1;36m0\u001b[0m\u001b[1;33m]\u001b[0m \u001b[1;32mfor\u001b[0m \u001b[0mb\u001b[0m \u001b[1;32min\u001b[0m \u001b[0mblocks\u001b[0m\u001b[1;33m)\u001b[0m\u001b[1;33m\u001b[0m\u001b[1;33m\u001b[0m\u001b[0m\n\u001b[1;32m-> 1688\u001b[1;33m         \u001b[0mconstruction_error\u001b[0m\u001b[1;33m(\u001b[0m\u001b[0mtot_items\u001b[0m\u001b[1;33m,\u001b[0m \u001b[0mblocks\u001b[0m\u001b[1;33m[\u001b[0m\u001b[1;36m0\u001b[0m\u001b[1;33m]\u001b[0m\u001b[1;33m.\u001b[0m\u001b[0mshape\u001b[0m\u001b[1;33m[\u001b[0m\u001b[1;36m1\u001b[0m\u001b[1;33m:\u001b[0m\u001b[1;33m]\u001b[0m\u001b[1;33m,\u001b[0m \u001b[0maxes\u001b[0m\u001b[1;33m,\u001b[0m \u001b[0me\u001b[0m\u001b[1;33m)\u001b[0m\u001b[1;33m\u001b[0m\u001b[1;33m\u001b[0m\u001b[0m\n\u001b[0m\u001b[0;32m   1689\u001b[0m \u001b[1;33m\u001b[0m\u001b[0m\n\u001b[0;32m   1690\u001b[0m \u001b[1;33m\u001b[0m\u001b[0m\n",
      "\u001b[1;32m~\\Anaconda3\\lib\\site-packages\\pandas\\core\\internals\\managers.py\u001b[0m in \u001b[0;36mconstruction_error\u001b[1;34m(tot_items, block_shape, axes, e)\u001b[0m\n\u001b[0;32m   1717\u001b[0m         \u001b[1;32mraise\u001b[0m \u001b[0mValueError\u001b[0m\u001b[1;33m(\u001b[0m\u001b[1;34m\"Empty data passed with indices specified.\"\u001b[0m\u001b[1;33m)\u001b[0m\u001b[1;33m\u001b[0m\u001b[1;33m\u001b[0m\u001b[0m\n\u001b[0;32m   1718\u001b[0m     raise ValueError(\n\u001b[1;32m-> 1719\u001b[1;33m         \u001b[1;34m\"Shape of passed values is {0}, indices imply {1}\"\u001b[0m\u001b[1;33m.\u001b[0m\u001b[0mformat\u001b[0m\u001b[1;33m(\u001b[0m\u001b[0mpassed\u001b[0m\u001b[1;33m,\u001b[0m \u001b[0mimplied\u001b[0m\u001b[1;33m)\u001b[0m\u001b[1;33m\u001b[0m\u001b[1;33m\u001b[0m\u001b[0m\n\u001b[0m\u001b[0;32m   1720\u001b[0m     )\n\u001b[0;32m   1721\u001b[0m \u001b[1;33m\u001b[0m\u001b[0m\n",
      "\u001b[1;31mValueError\u001b[0m: Shape of passed values is (53, 1), indices imply (53, 7)"
     ]
    }
   ],
   "source": [
    "df=pd.DataFrame(filas, columns=cabeceras)\n",
    "df.head()"
   ]
  },
  {
   "cell_type": "markdown",
   "metadata": {},
   "source": [
    "#### Count number of tweets by a given Twitter account."
   ]
  },
  {
   "cell_type": "markdown",
   "metadata": {},
   "source": [
    "You will need to include a ***try/except block*** for account names not found. \n",
    "<br>***Hint:*** the program should count the number of tweets for any provided account"
   ]
  },
  {
   "cell_type": "code",
   "execution_count": 192,
   "metadata": {},
   "outputs": [],
   "source": [
    "# This is the url you will scrape in this exercise \n",
    "# You will need to add the account credentials to this url\n",
    "url = 'https://twitter.com/kuenk5'\n",
    "\n",
    "driver=webdriver.Chrome(PATH, options=opciones)\n",
    "\n",
    "driver.get(url)"
   ]
  },
  {
   "cell_type": "code",
   "execution_count": 195,
   "metadata": {},
   "outputs": [
    {
     "data": {
      "text/plain": [
       "'87 Tweets'"
      ]
     },
     "execution_count": 195,
     "metadata": {},
     "output_type": "execute_result"
    }
   ],
   "source": [
    "driver.find_element(By.XPATH,'//*[@id=\"react-root\"]/div/div/div[2]/main/div/div/div/div/div/div[1]/div[1]/div/div/div/div/div/div[2]/div/div').text"
   ]
  },
  {
   "cell_type": "code",
   "execution_count": 196,
   "metadata": {},
   "outputs": [],
   "source": [
    "driver.quit()"
   ]
  },
  {
   "cell_type": "markdown",
   "metadata": {},
   "source": [
    "#### Number of followers of a given twitter account"
   ]
  },
  {
   "cell_type": "markdown",
   "metadata": {},
   "source": [
    "You will need to include a ***try/except block*** in case account/s name not found. \n",
    "<br>***Hint:*** the program should count the followers for any provided account"
   ]
  },
  {
   "cell_type": "code",
   "execution_count": 197,
   "metadata": {},
   "outputs": [],
   "source": [
    "# This is the url you will scrape in this exercise \n",
    "# You will need to add the account credentials to this url\n",
    "url = 'https://twitter.com/kuenk5'\n",
    "\n",
    "driver=webdriver.Chrome(PATH, options=opciones)\n",
    "\n",
    "driver.get(url)"
   ]
  },
  {
   "cell_type": "code",
   "execution_count": 198,
   "metadata": {},
   "outputs": [
    {
     "data": {
      "text/plain": [
       "'16 Seguidores'"
      ]
     },
     "execution_count": 198,
     "metadata": {},
     "output_type": "execute_result"
    }
   ],
   "source": [
    "driver.find_element(By.XPATH,'//*[@id=\"react-root\"]/div/div/div[2]/main/div/div/div/div/div/div[3]/div/div/div/div[2]/div[4]/div[2]/a').text"
   ]
  },
  {
   "cell_type": "code",
   "execution_count": 199,
   "metadata": {},
   "outputs": [],
   "source": [
    "driver.quit()"
   ]
  },
  {
   "cell_type": "markdown",
   "metadata": {},
   "source": [
    "#### List all language names and number of related articles in the order they appear in wikipedia.org"
   ]
  },
  {
   "cell_type": "code",
   "execution_count": 200,
   "metadata": {},
   "outputs": [],
   "source": [
    "# This is the url you will scrape in this exercise\n",
    "url = 'https://www.wikipedia.org/'\n",
    "driver=webdriver.Chrome(PATH, options=opciones)\n",
    "\n",
    "driver.get(url)"
   ]
  },
  {
   "cell_type": "code",
   "execution_count": 215,
   "metadata": {},
   "outputs": [],
   "source": [
    "wiki=driver.find_element(By.XPATH, '//*[@id=\"www-wikipedia-org\"]/div[2]')"
   ]
  },
  {
   "cell_type": "code",
   "execution_count": 225,
   "metadata": {},
   "outputs": [],
   "source": [
    "idioma=wiki.find_elements(By.TAG_NAME,'strong')\n",
    "numero=wiki.find_elements(By.TAG_NAME,'small')"
   ]
  },
  {
   "cell_type": "code",
   "execution_count": 227,
   "metadata": {},
   "outputs": [
    {
     "name": "stdout",
     "output_type": "stream",
     "text": [
      "Español 1 755 000+ artículos\n",
      "English 6 458 000+ articles\n",
      "日本語 1 314 000+ 記事\n",
      "Русский 1 798 000+ статей\n",
      "Français 2 400 000+ articles\n",
      "Deutsch 2 667 000+ Artikel\n",
      "Italiano 1 742 000+ voci\n",
      "中文 1 256 000+ 条目 / 條目\n",
      "Português 1 085 000+ artigos\n",
      "العربية 1 159 000+ مقالة\n"
     ]
    }
   ],
   "source": [
    "for w in range(len(idioma)):\n",
    "    print(idioma[w].text, numero[w].text)"
   ]
  },
  {
   "cell_type": "code",
   "execution_count": null,
   "metadata": {},
   "outputs": [],
   "source": [
    "string=''\n",
    "listado=[]\n",
    "for e in wiki:\n",
    "    string=e.find_elements(By.TAG_NAME, 'a')[2].text + ' '+ e.find_elements(By.TAG_NAME, 'a')[3].text\n",
    "    listado.append(string)"
   ]
  },
  {
   "cell_type": "code",
   "execution_count": 228,
   "metadata": {},
   "outputs": [],
   "source": [
    "driver.quit()"
   ]
  },
  {
   "cell_type": "markdown",
   "metadata": {},
   "source": [
    "#### A list with the different kind of datasets available in data.gov.uk "
   ]
  },
  {
   "cell_type": "code",
   "execution_count": 229,
   "metadata": {},
   "outputs": [],
   "source": [
    "# This is the url you will scrape in this exercise\n",
    "url = 'https://data.gov.uk/'\n",
    "driver=webdriver.Chrome(PATH, options=opciones)\n",
    "\n",
    "driver.get(url)"
   ]
  },
  {
   "cell_type": "code",
   "execution_count": 239,
   "metadata": {},
   "outputs": [],
   "source": [
    "aux=driver.find_elements(By.CLASS_NAME,'govuk-heading-s')"
   ]
  },
  {
   "cell_type": "code",
   "execution_count": 240,
   "metadata": {},
   "outputs": [
    {
     "name": "stdout",
     "output_type": "stream",
     "text": [
      "Business and economy\n",
      "Crime and justice\n",
      "Defence\n",
      "Education\n",
      "Environment\n",
      "Government\n",
      "Government spending\n",
      "Health\n",
      "Mapping\n",
      "Society\n",
      "Towns and cities\n",
      "Transport\n",
      "Digital service performance\n",
      "Government reference data\n"
     ]
    }
   ],
   "source": [
    "for x in aux:\n",
    "    print (x.text)"
   ]
  },
  {
   "cell_type": "code",
   "execution_count": 241,
   "metadata": {},
   "outputs": [],
   "source": [
    "driver.quit()"
   ]
  },
  {
   "cell_type": "markdown",
   "metadata": {},
   "source": [
    "#### Top 10 languages by number of native speakers stored in a Pandas Dataframe"
   ]
  },
  {
   "cell_type": "code",
   "execution_count": 245,
   "metadata": {},
   "outputs": [],
   "source": [
    "# This is the url you will scrape in this exercise\n",
    "url = 'https://en.wikipedia.org/wiki/List_of_languages_by_number_of_native_speakers'\n",
    "\n",
    "driver=webdriver.Chrome(PATH, options=opciones)\n",
    "\n",
    "driver.get(url)"
   ]
  },
  {
   "cell_type": "code",
   "execution_count": 258,
   "metadata": {},
   "outputs": [
    {
     "data": {
      "text/plain": [
       "['Language', 'Native speakers\\n(millions)', 'Language family', 'Branch']"
      ]
     },
     "execution_count": 258,
     "metadata": {},
     "output_type": "execute_result"
    }
   ],
   "source": [
    "tabla=driver.find_element(By.TAG_NAME, 'tbody')\n",
    "\n",
    "filas=tabla.find_elements(By.TAG_NAME, 'tr')\n",
    "\n",
    "data=[[e.text for e in f.find_elements(By.TAG_NAME, 'td')] \n",
    "      for f in tabla.find_elements(By.TAG_NAME, 'tr')]\n",
    "\n",
    "cabeceras=driver.find_element(By.TAG_NAME, 'thead')\n",
    "\n",
    "cabeceras=[c.text for c in cabeceras.find_elements(By.TAG_NAME, 'th')]\n",
    "\n",
    "driver.quit()\n"
   ]
  },
  {
   "cell_type": "code",
   "execution_count": 262,
   "metadata": {},
   "outputs": [],
   "source": [
    "df=pd.DataFrame(data, columns=cabeceras)\n",
    "\n"
   ]
  },
  {
   "cell_type": "code",
   "execution_count": 269,
   "metadata": {},
   "outputs": [
    {
     "data": {
      "text/html": [
       "<div>\n",
       "<style scoped>\n",
       "    .dataframe tbody tr th:only-of-type {\n",
       "        vertical-align: middle;\n",
       "    }\n",
       "\n",
       "    .dataframe tbody tr th {\n",
       "        vertical-align: top;\n",
       "    }\n",
       "\n",
       "    .dataframe thead th {\n",
       "        text-align: right;\n",
       "    }\n",
       "</style>\n",
       "<table border=\"1\" class=\"dataframe\">\n",
       "  <thead>\n",
       "    <tr style=\"text-align: right;\">\n",
       "      <th></th>\n",
       "      <th>Language</th>\n",
       "      <th>Native speakers\\n(millions)</th>\n",
       "      <th>Language family</th>\n",
       "      <th>Branch</th>\n",
       "    </tr>\n",
       "  </thead>\n",
       "  <tbody>\n",
       "    <tr>\n",
       "      <td>0</td>\n",
       "      <td>Mandarin Chinese\\n(incl. Standard Chinese, but...</td>\n",
       "      <td>920</td>\n",
       "      <td>Sino-Tibetan</td>\n",
       "      <td>Sinitic</td>\n",
       "    </tr>\n",
       "    <tr>\n",
       "      <td>1</td>\n",
       "      <td>Spanish</td>\n",
       "      <td>475</td>\n",
       "      <td>Indo-European</td>\n",
       "      <td>Romance</td>\n",
       "    </tr>\n",
       "    <tr>\n",
       "      <td>2</td>\n",
       "      <td>English</td>\n",
       "      <td>373</td>\n",
       "      <td>Indo-European</td>\n",
       "      <td>Germanic</td>\n",
       "    </tr>\n",
       "    <tr>\n",
       "      <td>3</td>\n",
       "      <td>Hindi\\n(excl. Urdu)</td>\n",
       "      <td>344</td>\n",
       "      <td>Indo-European</td>\n",
       "      <td>Indo-Aryan</td>\n",
       "    </tr>\n",
       "    <tr>\n",
       "      <td>4</td>\n",
       "      <td>Bengali</td>\n",
       "      <td>234</td>\n",
       "      <td>Indo-European</td>\n",
       "      <td>Indo-Aryan</td>\n",
       "    </tr>\n",
       "    <tr>\n",
       "      <td>5</td>\n",
       "      <td>Portuguese</td>\n",
       "      <td>232</td>\n",
       "      <td>Indo-European</td>\n",
       "      <td>Romance</td>\n",
       "    </tr>\n",
       "    <tr>\n",
       "      <td>6</td>\n",
       "      <td>Russian</td>\n",
       "      <td>154</td>\n",
       "      <td>Indo-European</td>\n",
       "      <td>Balto-Slavic</td>\n",
       "    </tr>\n",
       "    <tr>\n",
       "      <td>7</td>\n",
       "      <td>Japanese</td>\n",
       "      <td>125</td>\n",
       "      <td>Japonic</td>\n",
       "      <td>Japanese</td>\n",
       "    </tr>\n",
       "    <tr>\n",
       "      <td>8</td>\n",
       "      <td>Yue Chinese\\n(incl. Cantonese)</td>\n",
       "      <td>85.2</td>\n",
       "      <td>Sino-Tibetan</td>\n",
       "      <td>Sinitic</td>\n",
       "    </tr>\n",
       "    <tr>\n",
       "      <td>9</td>\n",
       "      <td>Vietnamese</td>\n",
       "      <td>84.6</td>\n",
       "      <td>Austroasiatic</td>\n",
       "      <td>Vietic</td>\n",
       "    </tr>\n",
       "  </tbody>\n",
       "</table>\n",
       "</div>"
      ],
      "text/plain": [
       "                                            Language  \\\n",
       "0  Mandarin Chinese\\n(incl. Standard Chinese, but...   \n",
       "1                                            Spanish   \n",
       "2                                            English   \n",
       "3                                Hindi\\n(excl. Urdu)   \n",
       "4                                            Bengali   \n",
       "5                                         Portuguese   \n",
       "6                                            Russian   \n",
       "7                                           Japanese   \n",
       "8                     Yue Chinese\\n(incl. Cantonese)   \n",
       "9                                         Vietnamese   \n",
       "\n",
       "  Native speakers\\n(millions) Language family        Branch  \n",
       "0                         920    Sino-Tibetan       Sinitic  \n",
       "1                         475   Indo-European       Romance  \n",
       "2                         373   Indo-European      Germanic  \n",
       "3                         344   Indo-European    Indo-Aryan  \n",
       "4                         234   Indo-European    Indo-Aryan  \n",
       "5                         232   Indo-European       Romance  \n",
       "6                         154   Indo-European  Balto-Slavic  \n",
       "7                         125         Japonic      Japanese  \n",
       "8                        85.2    Sino-Tibetan       Sinitic  \n",
       "9                        84.6   Austroasiatic        Vietic  "
      ]
     },
     "execution_count": 269,
     "metadata": {},
     "output_type": "execute_result"
    }
   ],
   "source": [
    "df.sort_values(by=['Native speakers\\n(millions)']).ascending=[0]\n",
    "df.head(10)"
   ]
  },
  {
   "cell_type": "markdown",
   "metadata": {},
   "source": [
    "### BONUS QUESTIONS"
   ]
  },
  {
   "cell_type": "code",
   "execution_count": null,
   "metadata": {},
   "outputs": [],
   "source": []
  },
  {
   "cell_type": "markdown",
   "metadata": {},
   "source": [
    "#### Scrape a certain number of tweets of a given Twitter account."
   ]
  },
  {
   "cell_type": "code",
   "execution_count": null,
   "metadata": {},
   "outputs": [],
   "source": [
    "# This is the url you will scrape in this exercise \n",
    "# You will need to add the account credentials to this url\n",
    "url = 'https://twitter.com/'"
   ]
  },
  {
   "cell_type": "code",
   "execution_count": null,
   "metadata": {},
   "outputs": [],
   "source": [
    "# your code"
   ]
  },
  {
   "cell_type": "markdown",
   "metadata": {},
   "source": [
    "#### IMDB's Top 250 data (movie name, Initial release, director name and stars) as a pandas dataframe"
   ]
  },
  {
   "cell_type": "code",
   "execution_count": null,
   "metadata": {},
   "outputs": [],
   "source": [
    "# This is the url you will scrape in this exercise \n",
    "url = 'https://www.imdb.com/chart/top'"
   ]
  },
  {
   "cell_type": "code",
   "execution_count": null,
   "metadata": {},
   "outputs": [],
   "source": [
    "# your code"
   ]
  },
  {
   "cell_type": "markdown",
   "metadata": {},
   "source": [
    "#### Movie name, year and a brief summary of the top 10 random movies (IMDB) as a pandas dataframe."
   ]
  },
  {
   "cell_type": "code",
   "execution_count": null,
   "metadata": {},
   "outputs": [],
   "source": [
    "#This is the url you will scrape in this exercise\n",
    "url = 'http://www.imdb.com/chart/top'"
   ]
  },
  {
   "cell_type": "code",
   "execution_count": null,
   "metadata": {},
   "outputs": [],
   "source": [
    "#your code"
   ]
  },
  {
   "cell_type": "markdown",
   "metadata": {},
   "source": [
    "#### Find the live weather report (temperature, wind speed, description and weather) of a given city."
   ]
  },
  {
   "cell_type": "code",
   "execution_count": null,
   "metadata": {},
   "outputs": [],
   "source": [
    "#https://openweathermap.org/current\n",
    "city = city=input('Enter the city:')\n",
    "url = 'http://api.openweathermap.org/data/2.5/weather?'+'q='+city+'&APPID=b35975e18dc93725acb092f7272cc6b8&units=metric'"
   ]
  },
  {
   "cell_type": "code",
   "execution_count": null,
   "metadata": {},
   "outputs": [],
   "source": [
    "# your code"
   ]
  },
  {
   "cell_type": "markdown",
   "metadata": {},
   "source": [
    "#### Book name,price and stock availability as a pandas dataframe."
   ]
  },
  {
   "cell_type": "code",
   "execution_count": null,
   "metadata": {},
   "outputs": [],
   "source": [
    "# This is the url you will scrape in this exercise. \n",
    "# It is a fictional bookstore created to be scraped. \n",
    "url = 'http://books.toscrape.com/'"
   ]
  },
  {
   "cell_type": "code",
   "execution_count": null,
   "metadata": {},
   "outputs": [],
   "source": [
    "#your code"
   ]
  }
 ],
 "metadata": {
  "kernelspec": {
   "display_name": "Python 3",
   "language": "python",
   "name": "python3"
  },
  "language_info": {
   "codemirror_mode": {
    "name": "ipython",
    "version": 3
   },
   "file_extension": ".py",
   "mimetype": "text/x-python",
   "name": "python",
   "nbconvert_exporter": "python",
   "pygments_lexer": "ipython3",
   "version": "3.7.4"
  }
 },
 "nbformat": 4,
 "nbformat_minor": 2
}
