{
 "cells": [
  {
   "cell_type": "markdown",
   "metadata": {},
   "source": [
    "# Web Scraping Lab\n",
    "\n",
    "You will find in this notebook some scrapy exercises to practise your scraping skills.\n",
    "\n",
    "**Tips:**\n",
    "\n",
    "- Check the response status code for each request to ensure you have obtained the intended contennt.\n",
    "- Print the response text in each request to understand the kind of info you are getting and its format.\n",
    "- Check for patterns in the response text to extract the data/info requested in each question.\n",
    "- Visit each url and take a look at its source through Chrome DevTools. You'll need to identify the html tags, special class names etc. used for the html content you are expected to extract."
   ]
  },
  {
   "cell_type": "markdown",
   "metadata": {},
   "source": [
    "- [Selenium Doc](https://www.selenium.dev/documentation/)\n",
    "- [Requests library](http://docs.python-requests.org/en/master/#the-user-guide) documentation \n",
    "- [Urllib](https://docs.python.org/3/library/urllib.html#module-urllib)\n",
    "- [re lib](https://docs.python.org/3/library/re.html)\n",
    "- [lxml lib](https://lxml.de/)\n",
    "- [Scrapy](https://scrapy.org/)\n",
    "- [List of HTTP status codes](https://en.wikipedia.org/wiki/List_of_HTTP_status_codes)\n",
    "- [HTML basics](http://www.simplehtmlguide.com/cheatsheet.php)\n",
    "- [CSS basics](https://www.cssbasics.com/#page_start)"
   ]
  },
  {
   "cell_type": "markdown",
   "metadata": {},
   "source": [
    "#### Below are the libraries and modules you may need. `Selenium` and `pandas` are imported for you."
   ]
  },
  {
   "cell_type": "code",
   "execution_count": 1,
   "metadata": {},
   "outputs": [
    {
     "name": "stdout",
     "output_type": "stream",
     "text": [
      "Requirement already satisfied: selenium in c:\\users\\pablo\\anaconda3\\lib\\site-packages (4.6.0)\n",
      "Requirement already satisfied: trio~=0.17 in c:\\users\\pablo\\anaconda3\\lib\\site-packages (from selenium) (0.22.0)\n",
      "Requirement already satisfied: certifi>=2021.10.8 in c:\\users\\pablo\\anaconda3\\lib\\site-packages (from selenium) (2021.10.8)\n",
      "Requirement already satisfied: urllib3[socks]~=1.26 in c:\\users\\pablo\\anaconda3\\lib\\site-packages (from selenium) (1.26.9)\n",
      "Requirement already satisfied: trio-websocket~=0.9 in c:\\users\\pablo\\anaconda3\\lib\\site-packages (from selenium) (0.9.2)\n",
      "Requirement already satisfied: idna in c:\\users\\pablo\\anaconda3\\lib\\site-packages (from trio~=0.17->selenium) (3.3)\n",
      "Requirement already satisfied: sortedcontainers in c:\\users\\pablo\\anaconda3\\lib\\site-packages (from trio~=0.17->selenium) (2.4.0)\n",
      "Requirement already satisfied: async-generator>=1.9 in c:\\users\\pablo\\anaconda3\\lib\\site-packages (from trio~=0.17->selenium) (1.10)\n",
      "Requirement already satisfied: cffi>=1.14 in c:\\users\\pablo\\anaconda3\\lib\\site-packages (from trio~=0.17->selenium) (1.15.0)\n",
      "Requirement already satisfied: outcome in c:\\users\\pablo\\anaconda3\\lib\\site-packages (from trio~=0.17->selenium) (1.2.0)\n",
      "Requirement already satisfied: exceptiongroup>=1.0.0rc9 in c:\\users\\pablo\\anaconda3\\lib\\site-packages (from trio~=0.17->selenium) (1.0.1)\n",
      "Requirement already satisfied: attrs>=19.2.0 in c:\\users\\pablo\\anaconda3\\lib\\site-packages (from trio~=0.17->selenium) (21.4.0)\n",
      "Requirement already satisfied: sniffio in c:\\users\\pablo\\anaconda3\\lib\\site-packages (from trio~=0.17->selenium) (1.2.0)\n",
      "Requirement already satisfied: pycparser in c:\\users\\pablo\\anaconda3\\lib\\site-packages (from cffi>=1.14->trio~=0.17->selenium) (2.21)\n",
      "Requirement already satisfied: wsproto>=0.14 in c:\\users\\pablo\\anaconda3\\lib\\site-packages (from trio-websocket~=0.9->selenium) (1.2.0)\n",
      "Requirement already satisfied: PySocks!=1.5.7,<2.0,>=1.5.6 in c:\\users\\pablo\\anaconda3\\lib\\site-packages (from urllib3[socks]~=1.26->selenium) (1.7.1)\n",
      "Requirement already satisfied: h11<1,>=0.9.0 in c:\\users\\pablo\\anaconda3\\lib\\site-packages (from wsproto>=0.14->trio-websocket~=0.9->selenium) (0.14.0)\n",
      "Note: you may need to restart the kernel to use updated packages.\n"
     ]
    }
   ],
   "source": [
    "%pip install selenium"
   ]
  },
  {
   "cell_type": "code",
   "execution_count": 2,
   "metadata": {},
   "outputs": [
    {
     "name": "stdout",
     "output_type": "stream",
     "text": [
      "Note: you may need to restart the kernel to use updated packages.\n"
     ]
    },
    {
     "name": "stderr",
     "output_type": "stream",
     "text": [
      "ERROR: Could not find a version that satisfies the requirement webdriver (from versions: none)\n",
      "ERROR: No matching distribution found for webdriver\n"
     ]
    }
   ],
   "source": [
    "%pip install webdriver"
   ]
  },
  {
   "cell_type": "code",
   "execution_count": 3,
   "metadata": {},
   "outputs": [
    {
     "name": "stdout",
     "output_type": "stream",
     "text": [
      "Requirement already satisfied: webdriver_manager in c:\\users\\pablo\\anaconda3\\lib\\site-packages (3.8.4)\n",
      "Requirement already satisfied: tqdm in c:\\users\\pablo\\anaconda3\\lib\\site-packages (from webdriver_manager) (4.64.0)\n",
      "Requirement already satisfied: python-dotenv in c:\\users\\pablo\\anaconda3\\lib\\site-packages (from webdriver_manager) (0.21.0)\n",
      "Requirement already satisfied: requests in c:\\users\\pablo\\anaconda3\\lib\\site-packages (from webdriver_manager) (2.27.1)\n",
      "Requirement already satisfied: idna<4,>=2.5 in c:\\users\\pablo\\anaconda3\\lib\\site-packages (from requests->webdriver_manager) (3.3)\n",
      "Requirement already satisfied: charset-normalizer~=2.0.0 in c:\\users\\pablo\\anaconda3\\lib\\site-packages (from requests->webdriver_manager) (2.0.4)\n",
      "Requirement already satisfied: urllib3<1.27,>=1.21.1 in c:\\users\\pablo\\anaconda3\\lib\\site-packages (from requests->webdriver_manager) (1.26.9)\n",
      "Requirement already satisfied: certifi>=2017.4.17 in c:\\users\\pablo\\anaconda3\\lib\\site-packages (from requests->webdriver_manager) (2021.10.8)\n",
      "Requirement already satisfied: colorama in c:\\users\\pablo\\anaconda3\\lib\\site-packages (from tqdm->webdriver_manager) (0.4.4)\n",
      "Note: you may need to restart the kernel to use updated packages.\n"
     ]
    }
   ],
   "source": [
    "%pip install webdriver_manager\n"
   ]
  },
  {
   "cell_type": "code",
   "execution_count": 4,
   "metadata": {},
   "outputs": [],
   "source": [
    "import pandas as pd\n",
    "from selenium.webdriver.chrome.options import Options\n",
    "from webdriver_manager.chrome import ChromeDriverManager"
   ]
  },
  {
   "cell_type": "markdown",
   "metadata": {},
   "source": [
    "#### Enable the options you may need. In the next cell you have an example of them but you can choose to use them or not."
   ]
  },
  {
   "cell_type": "code",
   "execution_count": 5,
   "metadata": {},
   "outputs": [],
   "source": [
    "#driver configuration\n",
    "opciones=Options()\n",
    "\n",
    "opciones.add_experimental_option('excludeSwitches', ['enable-automation'])\n",
    "opciones.add_experimental_option('useAutomationExtension', False)\n",
    "opciones.headless=False    # si True, no aperece la ventana (headless=no visible)\n",
    "opciones.add_argument('--start-maximized')         # comienza maximizado\n",
    "#opciones.add_argument('user-data-dir=selenium')    # mantiene las cookies\n",
    "#opciones.add_extension('driver_folder/adblock.crx')       # adblocker\n",
    "opciones.add_argument('--incognito')"
   ]
  },
  {
   "cell_type": "code",
   "execution_count": 6,
   "metadata": {},
   "outputs": [],
   "source": [
    "import pandas as pd\n",
    "from selenium import webdriver\n",
    "from selenium.webdriver.chrome.options import Options\n",
    "from webdriver_manager.chrome import ChromeDriverManager\n",
    "from selenium.webdriver.common.by import By\n",
    "import time\n",
    "import warnings\n",
    "warnings.filterwarnings('ignore')"
   ]
  },
  {
   "cell_type": "code",
   "execution_count": 7,
   "metadata": {},
   "outputs": [],
   "source": [
    "driver = \"./chromedriver.exe\" #remember substitute this for your driver path\n",
    "driver = webdriver.Chrome(driver,options = opciones)"
   ]
  },
  {
   "cell_type": "markdown",
   "metadata": {},
   "source": [
    "#### Download, parse, and print the content from the Trending Developers page from GitHub:"
   ]
  },
  {
   "cell_type": "code",
   "execution_count": 8,
   "metadata": {},
   "outputs": [],
   "source": [
    "url = 'https://github.com/trending/developers'"
   ]
  },
  {
   "cell_type": "code",
   "execution_count": 9,
   "metadata": {},
   "outputs": [],
   "source": [
    "from selenium.webdriver.common.by import By   # para buscar segun tag, id, class, etc...\n",
    "\n",
    "import time\n",
    "\n",
    "import warnings\n",
    "warnings.filterwarnings('ignore')"
   ]
  },
  {
   "cell_type": "code",
   "execution_count": 10,
   "metadata": {},
   "outputs": [],
   "source": [
    "PATH=ChromeDriverManager().install()"
   ]
  },
  {
   "cell_type": "code",
   "execution_count": 11,
   "metadata": {},
   "outputs": [],
   "source": [
    "driver=webdriver.Chrome(PATH)\n",
    "\n",
    "driver.get(url)"
   ]
  },
  {
   "cell_type": "markdown",
   "metadata": {},
   "source": [
    "### bs4  busqueda nombre\n",
    "topdev = soup.find_all('h1',class_=\"h3 lh-condensed\") \n"
   ]
  },
  {
   "cell_type": "code",
   "execution_count": 12,
   "metadata": {},
   "outputs": [],
   "source": [
    "names=driver.find_elements(By.CLASS_NAME,\"h3.lh-condensed\")\n"
   ]
  },
  {
   "cell_type": "code",
   "execution_count": 13,
   "metadata": {},
   "outputs": [
    {
     "data": {
      "text/plain": [
       "[<selenium.webdriver.remote.webelement.WebElement (session=\"54895b72e6733fba752c374750c639be\", element=\"997e0734-a80d-4f6f-a186-8781aa6e3b63\")>,\n",
       " <selenium.webdriver.remote.webelement.WebElement (session=\"54895b72e6733fba752c374750c639be\", element=\"02297124-f386-4c3f-b2c3-5156060a99d5\")>,\n",
       " <selenium.webdriver.remote.webelement.WebElement (session=\"54895b72e6733fba752c374750c639be\", element=\"361b01f9-0a2c-4e89-97c4-39ddbbbdda9b\")>,\n",
       " <selenium.webdriver.remote.webelement.WebElement (session=\"54895b72e6733fba752c374750c639be\", element=\"004f5744-973c-4f92-baad-8fd179ac953c\")>,\n",
       " <selenium.webdriver.remote.webelement.WebElement (session=\"54895b72e6733fba752c374750c639be\", element=\"cc3d14d3-8db4-4626-b015-bd68c9962236\")>,\n",
       " <selenium.webdriver.remote.webelement.WebElement (session=\"54895b72e6733fba752c374750c639be\", element=\"62e190b8-1dd3-47a1-ba15-242efb822f04\")>,\n",
       " <selenium.webdriver.remote.webelement.WebElement (session=\"54895b72e6733fba752c374750c639be\", element=\"23c4a8b0-4a81-47e4-b4d7-8fa21cadb1be\")>,\n",
       " <selenium.webdriver.remote.webelement.WebElement (session=\"54895b72e6733fba752c374750c639be\", element=\"3d8850e6-97b4-43e2-9eec-7c5f336c9d0b\")>,\n",
       " <selenium.webdriver.remote.webelement.WebElement (session=\"54895b72e6733fba752c374750c639be\", element=\"7b37bbb8-a41f-4bd9-99b3-9cc9ba4e770d\")>,\n",
       " <selenium.webdriver.remote.webelement.WebElement (session=\"54895b72e6733fba752c374750c639be\", element=\"f258da86-8fb3-4619-aa02-b56b6fe0eb38\")>,\n",
       " <selenium.webdriver.remote.webelement.WebElement (session=\"54895b72e6733fba752c374750c639be\", element=\"b2ea9bac-90e7-4bbb-9cc4-bb154a9558e8\")>,\n",
       " <selenium.webdriver.remote.webelement.WebElement (session=\"54895b72e6733fba752c374750c639be\", element=\"5839bf5b-e0a7-45d4-b3f0-aad2f1735fa8\")>,\n",
       " <selenium.webdriver.remote.webelement.WebElement (session=\"54895b72e6733fba752c374750c639be\", element=\"bf53fcae-956f-4738-83ca-83182f61462e\")>,\n",
       " <selenium.webdriver.remote.webelement.WebElement (session=\"54895b72e6733fba752c374750c639be\", element=\"2418832f-d486-47d6-b662-39fe96fee6ff\")>,\n",
       " <selenium.webdriver.remote.webelement.WebElement (session=\"54895b72e6733fba752c374750c639be\", element=\"b5ab3c2f-4a79-4ce1-b1d7-6b86badfcfab\")>,\n",
       " <selenium.webdriver.remote.webelement.WebElement (session=\"54895b72e6733fba752c374750c639be\", element=\"6c9f505a-57f6-421c-a68d-025b11ea7e83\")>,\n",
       " <selenium.webdriver.remote.webelement.WebElement (session=\"54895b72e6733fba752c374750c639be\", element=\"3c7069c3-37e5-4f46-a67c-cb79ed4520e9\")>,\n",
       " <selenium.webdriver.remote.webelement.WebElement (session=\"54895b72e6733fba752c374750c639be\", element=\"cbe9af33-e8af-4d9d-be6e-86d37b443e83\")>,\n",
       " <selenium.webdriver.remote.webelement.WebElement (session=\"54895b72e6733fba752c374750c639be\", element=\"ddf44878-61cf-49eb-a521-9eed50863f6c\")>,\n",
       " <selenium.webdriver.remote.webelement.WebElement (session=\"54895b72e6733fba752c374750c639be\", element=\"021d6ecd-8fcf-4977-b969-622dc5c19b93\")>,\n",
       " <selenium.webdriver.remote.webelement.WebElement (session=\"54895b72e6733fba752c374750c639be\", element=\"5be7449c-983e-4757-aadc-f7f25102f71b\")>,\n",
       " <selenium.webdriver.remote.webelement.WebElement (session=\"54895b72e6733fba752c374750c639be\", element=\"0d485474-ac2a-47f7-ba75-f256fd2d4ad5\")>,\n",
       " <selenium.webdriver.remote.webelement.WebElement (session=\"54895b72e6733fba752c374750c639be\", element=\"698e6141-6c64-4b53-b324-32e4cc941964\")>,\n",
       " <selenium.webdriver.remote.webelement.WebElement (session=\"54895b72e6733fba752c374750c639be\", element=\"7b23ed54-8c9a-4da4-b45c-fe7b1889eb93\")>,\n",
       " <selenium.webdriver.remote.webelement.WebElement (session=\"54895b72e6733fba752c374750c639be\", element=\"e841483c-21b4-46ae-94eb-3b6844f1dfdf\")>]"
      ]
     },
     "execution_count": 13,
     "metadata": {},
     "output_type": "execute_result"
    }
   ],
   "source": [
    "names"
   ]
  },
  {
   "cell_type": "code",
   "execution_count": 14,
   "metadata": {},
   "outputs": [
    {
     "data": {
      "text/plain": [
       "'Nikita Sobolev'"
      ]
     },
     "execution_count": 14,
     "metadata": {},
     "output_type": "execute_result"
    }
   ],
   "source": [
    "names=driver.find_elements(By.CLASS_NAME,\"h3.lh-condensed\")[0].text\n",
    "names"
   ]
  },
  {
   "cell_type": "markdown",
   "metadata": {},
   "source": [
    "### soup bs4 //  Bucle nombres \n",
    "\n",
    "lista_topdv = [] \n",
    "\n",
    "for i in range(len(topdev)):\n",
    "    lista_topdv.append(str(topdev[i].find('a')).split('\\n')[-2].strip())"
   ]
  },
  {
   "cell_type": "code",
   "execution_count": 15,
   "metadata": {},
   "outputs": [
    {
     "data": {
      "text/plain": [
       "['Nikita Sobolev',\n",
       " 'Emil Ernerfeldt',\n",
       " 'Jonny Borges',\n",
       " 'Stephen Celis',\n",
       " 'monkeyWie',\n",
       " 'Azure SDK Bot',\n",
       " 'Martin Bonnin',\n",
       " 'Wangchong Zhou',\n",
       " 'Ammar Ahmed',\n",
       " 'Matt Bierner',\n",
       " 'Alessandro Ros',\n",
       " 'Mike Perham',\n",
       " 'DavidKorczynski',\n",
       " 'Abhijeet Prasad']"
      ]
     },
     "execution_count": 15,
     "metadata": {},
     "output_type": "execute_result"
    }
   ],
   "source": [
    "lista_names = [] \n",
    "\n",
    "for i in range(len(names)):\n",
    "    lista_names.append(driver.find_elements(By.CLASS_NAME,\"h3.lh-condensed\")[i].text)\n",
    "    \n",
    "lista_names"
   ]
  },
  {
   "cell_type": "markdown",
   "metadata": {},
   "source": [
    "### Busqueda nick \n",
    "nick_top= topdev[0].find('a')"
   ]
  },
  {
   "cell_type": "code",
   "execution_count": 16,
   "metadata": {},
   "outputs": [],
   "source": [
    "nicks=driver.find_elements(By.CLASS_NAME,\"f4.text-normal.mb-1\")"
   ]
  },
  {
   "cell_type": "code",
   "execution_count": 17,
   "metadata": {},
   "outputs": [
    {
     "data": {
      "text/plain": [
       "[<selenium.webdriver.remote.webelement.WebElement (session=\"54895b72e6733fba752c374750c639be\", element=\"b166813a-0f90-44f2-abae-8c97d45f6e3b\")>,\n",
       " <selenium.webdriver.remote.webelement.WebElement (session=\"54895b72e6733fba752c374750c639be\", element=\"1a7f7733-08ac-413b-8c22-d03fe1f6b966\")>,\n",
       " <selenium.webdriver.remote.webelement.WebElement (session=\"54895b72e6733fba752c374750c639be\", element=\"12282bc0-f4b8-4019-bc24-f745f0d4c78a\")>,\n",
       " <selenium.webdriver.remote.webelement.WebElement (session=\"54895b72e6733fba752c374750c639be\", element=\"2bea02e8-34a5-4bdc-b929-1824d0b2e0cf\")>,\n",
       " <selenium.webdriver.remote.webelement.WebElement (session=\"54895b72e6733fba752c374750c639be\", element=\"56838a3a-a914-4f43-afae-24cd830f10d2\")>,\n",
       " <selenium.webdriver.remote.webelement.WebElement (session=\"54895b72e6733fba752c374750c639be\", element=\"c7e6b9f1-cf89-4958-9f0d-92c19473d703\")>,\n",
       " <selenium.webdriver.remote.webelement.WebElement (session=\"54895b72e6733fba752c374750c639be\", element=\"91452b4a-1ae4-4158-a0c3-1ec27851182f\")>,\n",
       " <selenium.webdriver.remote.webelement.WebElement (session=\"54895b72e6733fba752c374750c639be\", element=\"a73c5f68-f7b2-4c13-a4de-3730290a327f\")>,\n",
       " <selenium.webdriver.remote.webelement.WebElement (session=\"54895b72e6733fba752c374750c639be\", element=\"e55716fb-1007-4f67-a8d3-20112a59cc68\")>,\n",
       " <selenium.webdriver.remote.webelement.WebElement (session=\"54895b72e6733fba752c374750c639be\", element=\"b7a9669b-15a2-4424-a20a-d0a4df2b8d2e\")>,\n",
       " <selenium.webdriver.remote.webelement.WebElement (session=\"54895b72e6733fba752c374750c639be\", element=\"8350fe3e-0bcf-4d4c-baa0-eb2086a9a7d9\")>,\n",
       " <selenium.webdriver.remote.webelement.WebElement (session=\"54895b72e6733fba752c374750c639be\", element=\"5543ef95-6f39-4544-8b01-6ffb2e0f87d3\")>,\n",
       " <selenium.webdriver.remote.webelement.WebElement (session=\"54895b72e6733fba752c374750c639be\", element=\"fa08dbd2-cfb8-4ea9-8e53-cc43d5ba5426\")>,\n",
       " <selenium.webdriver.remote.webelement.WebElement (session=\"54895b72e6733fba752c374750c639be\", element=\"712d7f3c-de6e-479b-b62d-bb11c2ee9cae\")>,\n",
       " <selenium.webdriver.remote.webelement.WebElement (session=\"54895b72e6733fba752c374750c639be\", element=\"f581d1b5-bc0e-4eca-88cc-c3c94bcb7ea9\")>,\n",
       " <selenium.webdriver.remote.webelement.WebElement (session=\"54895b72e6733fba752c374750c639be\", element=\"d83615df-3acc-4932-b032-73ff8e212077\")>,\n",
       " <selenium.webdriver.remote.webelement.WebElement (session=\"54895b72e6733fba752c374750c639be\", element=\"a8244b5e-cfeb-4719-8491-67391a82909c\")>,\n",
       " <selenium.webdriver.remote.webelement.WebElement (session=\"54895b72e6733fba752c374750c639be\", element=\"3383ef7a-e97f-4dab-964a-3d85368cbe44\")>,\n",
       " <selenium.webdriver.remote.webelement.WebElement (session=\"54895b72e6733fba752c374750c639be\", element=\"58510640-c138-474d-b13d-60d06632f50f\")>,\n",
       " <selenium.webdriver.remote.webelement.WebElement (session=\"54895b72e6733fba752c374750c639be\", element=\"e60625e9-d4d5-4712-a0ae-00f0175431f1\")>,\n",
       " <selenium.webdriver.remote.webelement.WebElement (session=\"54895b72e6733fba752c374750c639be\", element=\"b21bab66-a9f8-4bf8-a60d-c0e354180c16\")>,\n",
       " <selenium.webdriver.remote.webelement.WebElement (session=\"54895b72e6733fba752c374750c639be\", element=\"839130c6-c958-4983-8a5b-0fd2d18af72c\")>,\n",
       " <selenium.webdriver.remote.webelement.WebElement (session=\"54895b72e6733fba752c374750c639be\", element=\"1d8ad8f1-ebd4-4b3c-b1a5-117074e5c6db\")>]"
      ]
     },
     "execution_count": 17,
     "metadata": {},
     "output_type": "execute_result"
    }
   ],
   "source": [
    "nicks"
   ]
  },
  {
   "cell_type": "code",
   "execution_count": 18,
   "metadata": {},
   "outputs": [
    {
     "data": {
      "text/plain": [
       "<selenium.webdriver.remote.webelement.WebElement (session=\"54895b72e6733fba752c374750c639be\", element=\"b166813a-0f90-44f2-abae-8c97d45f6e3b\")>"
      ]
     },
     "execution_count": 18,
     "metadata": {},
     "output_type": "execute_result"
    }
   ],
   "source": [
    "driver.find_elements(By.CLASS_NAME,\"f4.text-normal.mb-1\")[0]"
   ]
  },
  {
   "cell_type": "code",
   "execution_count": 19,
   "metadata": {},
   "outputs": [
    {
     "data": {
      "text/plain": [
       "'sobolevn'"
      ]
     },
     "execution_count": 19,
     "metadata": {},
     "output_type": "execute_result"
    }
   ],
   "source": [
    "driver.find_elements(By.CLASS_NAME,\"f4.text-normal.mb-1\")[0].text"
   ]
  },
  {
   "cell_type": "code",
   "execution_count": 20,
   "metadata": {},
   "outputs": [
    {
     "data": {
      "text/plain": [
       "['sobolevn',\n",
       " 'emilk',\n",
       " 'jonataslaw',\n",
       " 'stephencelis',\n",
       " 'azure-sdk',\n",
       " 'martinbonnin',\n",
       " 'fffonion',\n",
       " 'ammarahm-ed',\n",
       " 'mjbvz',\n",
       " 'aler9',\n",
       " 'mperham',\n",
       " 'AbhiPrasad',\n",
       " 'mislav',\n",
       " 'lhecker',\n",
       " 'pcuenca',\n",
       " 'marcusolsson',\n",
       " 'alexeagle',\n",
       " 'nolanlawson',\n",
       " 'guardrex',\n",
       " 'jlevy',\n",
       " 'basnijholt',\n",
       " 'Ice3man543',\n",
       " 'gedoor']"
      ]
     },
     "execution_count": 20,
     "metadata": {},
     "output_type": "execute_result"
    }
   ],
   "source": [
    "lista_nicks = [] \n",
    "\n",
    "for i in range(len(nicks)):\n",
    "    lista_nicks.append(driver.find_elements(By.CLASS_NAME,\"f4.text-normal.mb-1\")[i].text)\n",
    "    \n",
    "lista_nicks"
   ]
  },
  {
   "cell_type": "code",
   "execution_count": 21,
   "metadata": {},
   "outputs": [],
   "source": [
    "lista = lista_names[1] + ' ' + '('+ lista_nicks[1]+ ')'"
   ]
  },
  {
   "cell_type": "code",
   "execution_count": 22,
   "metadata": {},
   "outputs": [
    {
     "data": {
      "text/plain": [
       "'Emil Ernerfeldt (emilk)'"
      ]
     },
     "execution_count": 22,
     "metadata": {},
     "output_type": "execute_result"
    }
   ],
   "source": [
    "lista"
   ]
  },
  {
   "cell_type": "markdown",
   "metadata": {},
   "source": [
    "#### Display the names of the trending developers retrieved in the previous step.\n",
    "\n",
    "Your output should be a Python list of developer names. Each name should not contain any html tag.\n",
    "\n",
    "**Instructions:**\n",
    "\n",
    "1. Find out the html tag and class names used for the developer names.\n",
    "\n",
    "1. Use string manipulation techniques to replace whitespaces and linebreaks (i.e. `\\n`) in the *text* of each html element. Use a list to store the clean names.\n",
    "\n",
    "1. Print the list of names.\n",
    "\n",
    "Your output should look like below:\n",
    "\n",
    "```\n",
    "['trimstray (@trimstray)',\n",
    " 'joewalnes (JoeWalnes)',\n",
    " 'charlax (Charles-AxelDein)',\n",
    " 'ForrestKnight (ForrestKnight)',\n",
    " 'revery-ui (revery-ui)',\n",
    " 'alibaba (Alibaba)',\n",
    " 'Microsoft (Microsoft)',\n",
    " 'github (GitHub)',\n",
    " 'facebook (Facebook)',\n",
    " 'boazsegev (Bo)',\n",
    " 'google (Google)',\n",
    " 'cloudfetch',\n",
    " 'sindresorhus (SindreSorhus)',\n",
    " 'tensorflow',\n",
    " 'apache (TheApacheSoftwareFoundation)',\n",
    " 'DevonCrawford (DevonCrawford)',\n",
    " 'ARMmbed (ArmMbed)',\n",
    " 'vuejs (vuejs)',\n",
    " 'fastai (fast.ai)',\n",
    " 'QiShaoXuan (Qi)',\n",
    " 'joelparkerhenderson (JoelParkerHenderson)',\n",
    " 'torvalds (LinusTorvalds)',\n",
    " 'CyC2018',\n",
    " 'komeiji-satori (神楽坂覚々)',\n",
    " 'script-8']\n",
    " ```"
   ]
  },
  {
   "cell_type": "code",
   "execution_count": 23,
   "metadata": {},
   "outputs": [],
   "source": [
    "#your code"
   ]
  },
  {
   "cell_type": "markdown",
   "metadata": {},
   "source": [
    "#### Display the trending Python repositories in GitHub\n",
    "\n",
    "The steps to solve this problem is similar to the previous one except that you need to find out the repository names instead of developer names."
   ]
  },
  {
   "cell_type": "code",
   "execution_count": 24,
   "metadata": {},
   "outputs": [],
   "source": [
    "driver.get(url)"
   ]
  },
  {
   "cell_type": "code",
   "execution_count": 25,
   "metadata": {},
   "outputs": [],
   "source": [
    "url = 'https://github.com/trending/python?since=daily'"
   ]
  },
  {
   "cell_type": "code",
   "execution_count": 26,
   "metadata": {},
   "outputs": [
    {
     "data": {
      "text/plain": [
       "'Nikita Sobolev'"
      ]
     },
     "execution_count": 26,
     "metadata": {},
     "output_type": "execute_result"
    }
   ],
   "source": [
    "repo=driver.find_elements(By.CLASS_NAME,'h3.lh-condensed')[0].text\n",
    "repo"
   ]
  },
  {
   "cell_type": "code",
   "execution_count": 27,
   "metadata": {},
   "outputs": [
    {
     "data": {
      "text/plain": [
       "['Nikita Sobolev',\n",
       " 'Emil Ernerfeldt',\n",
       " 'Jonny Borges',\n",
       " 'Stephen Celis',\n",
       " 'monkeyWie',\n",
       " 'Azure SDK Bot',\n",
       " 'Martin Bonnin',\n",
       " 'Wangchong Zhou',\n",
       " 'Ammar Ahmed',\n",
       " 'Matt Bierner',\n",
       " 'Alessandro Ros',\n",
       " 'Mike Perham',\n",
       " 'DavidKorczynski',\n",
       " 'Abhijeet Prasad']"
      ]
     },
     "execution_count": 27,
     "metadata": {},
     "output_type": "execute_result"
    }
   ],
   "source": [
    "lista_repos = [] \n",
    "\n",
    "for i in range(len(repo)):\n",
    "    lista_repos.append(driver.find_elements(By.CLASS_NAME,'h3.lh-condensed')[i].text)\n",
    "    \n",
    "lista_repos"
   ]
  },
  {
   "cell_type": "markdown",
   "metadata": {},
   "source": [
    "#### Display all the image links from Walt Disney wikipedia page"
   ]
  },
  {
   "cell_type": "code",
   "execution_count": 47,
   "metadata": {},
   "outputs": [],
   "source": [
    "url = 'https://en.wikipedia.org/wiki/Walt_Disney'"
   ]
  },
  {
   "cell_type": "code",
   "execution_count": 48,
   "metadata": {},
   "outputs": [],
   "source": [
    "driver.get(url)"
   ]
  },
  {
   "cell_type": "code",
   "execution_count": 49,
   "metadata": {},
   "outputs": [
    {
     "data": {
      "text/plain": [
       "[<selenium.webdriver.remote.webelement.WebElement (session=\"54895b72e6733fba752c374750c639be\", element=\"6b7d0794-8dce-4cd5-8c0b-19da1f25b64d\")>,\n",
       " <selenium.webdriver.remote.webelement.WebElement (session=\"54895b72e6733fba752c374750c639be\", element=\"42882fe3-b2e2-42ed-94a2-e161c924b733\")>,\n",
       " <selenium.webdriver.remote.webelement.WebElement (session=\"54895b72e6733fba752c374750c639be\", element=\"28638312-734a-4cc6-bc77-b78f8cbc3cbb\")>,\n",
       " <selenium.webdriver.remote.webelement.WebElement (session=\"54895b72e6733fba752c374750c639be\", element=\"a2756014-8073-41ea-b6c1-87f8120973f8\")>,\n",
       " <selenium.webdriver.remote.webelement.WebElement (session=\"54895b72e6733fba752c374750c639be\", element=\"34802bad-c50a-4413-aaaf-a0dfeed35a88\")>,\n",
       " <selenium.webdriver.remote.webelement.WebElement (session=\"54895b72e6733fba752c374750c639be\", element=\"2fceab20-a6fd-4566-af55-7fc98d1927ce\")>,\n",
       " <selenium.webdriver.remote.webelement.WebElement (session=\"54895b72e6733fba752c374750c639be\", element=\"f4158fe0-3a3a-4197-9d05-7f7d435c6c19\")>,\n",
       " <selenium.webdriver.remote.webelement.WebElement (session=\"54895b72e6733fba752c374750c639be\", element=\"e3b13cd8-7c46-4cc6-9cff-329a88f9ef3d\")>,\n",
       " <selenium.webdriver.remote.webelement.WebElement (session=\"54895b72e6733fba752c374750c639be\", element=\"50594cb4-ef11-48d5-a89d-b5136e2093e2\")>,\n",
       " <selenium.webdriver.remote.webelement.WebElement (session=\"54895b72e6733fba752c374750c639be\", element=\"21ee3e2d-15e6-4a95-b167-b08801461078\")>,\n",
       " <selenium.webdriver.remote.webelement.WebElement (session=\"54895b72e6733fba752c374750c639be\", element=\"301fc09b-14cc-4748-976e-dd2ed1b81e76\")>,\n",
       " <selenium.webdriver.remote.webelement.WebElement (session=\"54895b72e6733fba752c374750c639be\", element=\"222fd326-40c2-4413-b174-ebf15c73f585\")>,\n",
       " <selenium.webdriver.remote.webelement.WebElement (session=\"54895b72e6733fba752c374750c639be\", element=\"7b5e642f-0eb5-402d-8471-8b1a756308b7\")>,\n",
       " <selenium.webdriver.remote.webelement.WebElement (session=\"54895b72e6733fba752c374750c639be\", element=\"9612e166-b361-4f0b-baec-c070af3b89f3\")>,\n",
       " <selenium.webdriver.remote.webelement.WebElement (session=\"54895b72e6733fba752c374750c639be\", element=\"cb2b108c-657d-4c7f-9363-a3e8441d749f\")>,\n",
       " <selenium.webdriver.remote.webelement.WebElement (session=\"54895b72e6733fba752c374750c639be\", element=\"c1fa9a49-1311-4659-af14-37d46745baba\")>,\n",
       " <selenium.webdriver.remote.webelement.WebElement (session=\"54895b72e6733fba752c374750c639be\", element=\"1ba47f8e-4248-4f99-b86a-bba609f9f67c\")>,\n",
       " <selenium.webdriver.remote.webelement.WebElement (session=\"54895b72e6733fba752c374750c639be\", element=\"d3fadcd8-ce8d-4bea-bc17-e90bd2f915d9\")>,\n",
       " <selenium.webdriver.remote.webelement.WebElement (session=\"54895b72e6733fba752c374750c639be\", element=\"8666f5ae-c3d6-4c3c-b599-c7d4577f10b4\")>,\n",
       " <selenium.webdriver.remote.webelement.WebElement (session=\"54895b72e6733fba752c374750c639be\", element=\"564f09b9-6d25-4c63-987f-e57616b35be8\")>,\n",
       " <selenium.webdriver.remote.webelement.WebElement (session=\"54895b72e6733fba752c374750c639be\", element=\"1defd09b-7193-420f-93fe-de9ffa091b0d\")>,\n",
       " <selenium.webdriver.remote.webelement.WebElement (session=\"54895b72e6733fba752c374750c639be\", element=\"5b8b15b4-085f-476c-9b03-5d519732d1de\")>,\n",
       " <selenium.webdriver.remote.webelement.WebElement (session=\"54895b72e6733fba752c374750c639be\", element=\"25e5f03d-22b5-40c4-9f53-4f67e94179a6\")>,\n",
       " <selenium.webdriver.remote.webelement.WebElement (session=\"54895b72e6733fba752c374750c639be\", element=\"ee110750-d856-4380-88be-13c231cae4dc\")>,\n",
       " <selenium.webdriver.remote.webelement.WebElement (session=\"54895b72e6733fba752c374750c639be\", element=\"2e2b43f3-1f3f-47de-8c32-851919c78b09\")>,\n",
       " <selenium.webdriver.remote.webelement.WebElement (session=\"54895b72e6733fba752c374750c639be\", element=\"53e83c3c-be0d-49c3-8e16-5553e6b79efb\")>,\n",
       " <selenium.webdriver.remote.webelement.WebElement (session=\"54895b72e6733fba752c374750c639be\", element=\"4bf1bf4c-c8fa-44c9-a34c-bc5727f307d3\")>,\n",
       " <selenium.webdriver.remote.webelement.WebElement (session=\"54895b72e6733fba752c374750c639be\", element=\"6fe4345d-21e0-4742-bc62-75c8c4afe343\")>,\n",
       " <selenium.webdriver.remote.webelement.WebElement (session=\"54895b72e6733fba752c374750c639be\", element=\"1b0b52bc-bd8c-4c57-9114-28ceee92ac3a\")>,\n",
       " <selenium.webdriver.remote.webelement.WebElement (session=\"54895b72e6733fba752c374750c639be\", element=\"d049cf25-0c63-42a7-8ec2-55f137c0cb06\")>,\n",
       " <selenium.webdriver.remote.webelement.WebElement (session=\"54895b72e6733fba752c374750c639be\", element=\"da1d2ab9-19ae-44aa-8522-1a8571133043\")>,\n",
       " <selenium.webdriver.remote.webelement.WebElement (session=\"54895b72e6733fba752c374750c639be\", element=\"359250ea-81c3-437d-b526-c80e88c886d9\")>,\n",
       " <selenium.webdriver.remote.webelement.WebElement (session=\"54895b72e6733fba752c374750c639be\", element=\"fea8db11-341c-45cd-9da5-782a171cdfe9\")>,\n",
       " <selenium.webdriver.remote.webelement.WebElement (session=\"54895b72e6733fba752c374750c639be\", element=\"e2e80ccc-0dff-44b8-b318-dd9189b0c789\")>,\n",
       " <selenium.webdriver.remote.webelement.WebElement (session=\"54895b72e6733fba752c374750c639be\", element=\"b9c71f5a-5650-4af8-968f-b21ae42cf721\")>,\n",
       " <selenium.webdriver.remote.webelement.WebElement (session=\"54895b72e6733fba752c374750c639be\", element=\"3469ebeb-83a6-46e2-a3f4-fd720a69c370\")>,\n",
       " <selenium.webdriver.remote.webelement.WebElement (session=\"54895b72e6733fba752c374750c639be\", element=\"5c0ecbd6-cbfd-4490-abfe-9b0e1a229da8\")>,\n",
       " <selenium.webdriver.remote.webelement.WebElement (session=\"54895b72e6733fba752c374750c639be\", element=\"ad9b1819-3ca0-40c0-b751-4fa8abeff87a\")>]"
      ]
     },
     "execution_count": 49,
     "metadata": {},
     "output_type": "execute_result"
    }
   ],
   "source": [
    "disney = driver.find_elements(By.TAG_NAME, 'img') # lista\n",
    "disney"
   ]
  },
  {
   "cell_type": "code",
   "execution_count": 50,
   "metadata": {},
   "outputs": [
    {
     "data": {
      "text/plain": [
       "'https://upload.wikimedia.org/wikipedia/en/thumb/e/e7/Cscr-featured.svg/20px-Cscr-featured.svg.png'"
      ]
     },
     "execution_count": 50,
     "metadata": {},
     "output_type": "execute_result"
    }
   ],
   "source": [
    "disney[0].get_attribute('src')"
   ]
  },
  {
   "cell_type": "code",
   "execution_count": 51,
   "metadata": {},
   "outputs": [
    {
     "data": {
      "text/plain": [
       "['https://upload.wikimedia.org/wikipedia/en/thumb/e/e7/Cscr-featured.svg/20px-Cscr-featured.svg.png',\n",
       " 'https://upload.wikimedia.org/wikipedia/en/thumb/e/e7/Cscr-featured.svg/20px-Cscr-featured.svg.png',\n",
       " 'https://upload.wikimedia.org/wikipedia/en/thumb/e/e7/Cscr-featured.svg/20px-Cscr-featured.svg.png',\n",
       " 'https://upload.wikimedia.org/wikipedia/en/thumb/e/e7/Cscr-featured.svg/20px-Cscr-featured.svg.png',\n",
       " 'https://upload.wikimedia.org/wikipedia/en/thumb/e/e7/Cscr-featured.svg/20px-Cscr-featured.svg.png',\n",
       " 'https://upload.wikimedia.org/wikipedia/en/thumb/e/e7/Cscr-featured.svg/20px-Cscr-featured.svg.png',\n",
       " 'https://upload.wikimedia.org/wikipedia/en/thumb/e/e7/Cscr-featured.svg/20px-Cscr-featured.svg.png',\n",
       " 'https://upload.wikimedia.org/wikipedia/en/thumb/e/e7/Cscr-featured.svg/20px-Cscr-featured.svg.png',\n",
       " 'https://upload.wikimedia.org/wikipedia/en/thumb/e/e7/Cscr-featured.svg/20px-Cscr-featured.svg.png',\n",
       " 'https://upload.wikimedia.org/wikipedia/en/thumb/e/e7/Cscr-featured.svg/20px-Cscr-featured.svg.png',\n",
       " 'https://upload.wikimedia.org/wikipedia/en/thumb/e/e7/Cscr-featured.svg/20px-Cscr-featured.svg.png',\n",
       " 'https://upload.wikimedia.org/wikipedia/en/thumb/e/e7/Cscr-featured.svg/20px-Cscr-featured.svg.png',\n",
       " 'https://upload.wikimedia.org/wikipedia/en/thumb/e/e7/Cscr-featured.svg/20px-Cscr-featured.svg.png',\n",
       " 'https://upload.wikimedia.org/wikipedia/en/thumb/e/e7/Cscr-featured.svg/20px-Cscr-featured.svg.png',\n",
       " 'https://upload.wikimedia.org/wikipedia/en/thumb/e/e7/Cscr-featured.svg/20px-Cscr-featured.svg.png',\n",
       " 'https://upload.wikimedia.org/wikipedia/en/thumb/e/e7/Cscr-featured.svg/20px-Cscr-featured.svg.png',\n",
       " 'https://upload.wikimedia.org/wikipedia/en/thumb/e/e7/Cscr-featured.svg/20px-Cscr-featured.svg.png',\n",
       " 'https://upload.wikimedia.org/wikipedia/en/thumb/e/e7/Cscr-featured.svg/20px-Cscr-featured.svg.png',\n",
       " 'https://upload.wikimedia.org/wikipedia/en/thumb/e/e7/Cscr-featured.svg/20px-Cscr-featured.svg.png',\n",
       " 'https://upload.wikimedia.org/wikipedia/en/thumb/e/e7/Cscr-featured.svg/20px-Cscr-featured.svg.png',\n",
       " 'https://upload.wikimedia.org/wikipedia/en/thumb/e/e7/Cscr-featured.svg/20px-Cscr-featured.svg.png',\n",
       " 'https://upload.wikimedia.org/wikipedia/en/thumb/e/e7/Cscr-featured.svg/20px-Cscr-featured.svg.png',\n",
       " 'https://upload.wikimedia.org/wikipedia/en/thumb/e/e7/Cscr-featured.svg/20px-Cscr-featured.svg.png',\n",
       " 'https://upload.wikimedia.org/wikipedia/en/thumb/e/e7/Cscr-featured.svg/20px-Cscr-featured.svg.png',\n",
       " 'https://upload.wikimedia.org/wikipedia/en/thumb/e/e7/Cscr-featured.svg/20px-Cscr-featured.svg.png',\n",
       " 'https://upload.wikimedia.org/wikipedia/en/thumb/e/e7/Cscr-featured.svg/20px-Cscr-featured.svg.png',\n",
       " 'https://upload.wikimedia.org/wikipedia/en/thumb/e/e7/Cscr-featured.svg/20px-Cscr-featured.svg.png',\n",
       " 'https://upload.wikimedia.org/wikipedia/en/thumb/e/e7/Cscr-featured.svg/20px-Cscr-featured.svg.png',\n",
       " 'https://upload.wikimedia.org/wikipedia/en/thumb/e/e7/Cscr-featured.svg/20px-Cscr-featured.svg.png',\n",
       " 'https://upload.wikimedia.org/wikipedia/en/thumb/e/e7/Cscr-featured.svg/20px-Cscr-featured.svg.png',\n",
       " 'https://upload.wikimedia.org/wikipedia/en/thumb/e/e7/Cscr-featured.svg/20px-Cscr-featured.svg.png',\n",
       " 'https://upload.wikimedia.org/wikipedia/en/thumb/e/e7/Cscr-featured.svg/20px-Cscr-featured.svg.png',\n",
       " 'https://upload.wikimedia.org/wikipedia/en/thumb/e/e7/Cscr-featured.svg/20px-Cscr-featured.svg.png',\n",
       " 'https://upload.wikimedia.org/wikipedia/en/thumb/e/e7/Cscr-featured.svg/20px-Cscr-featured.svg.png',\n",
       " 'https://upload.wikimedia.org/wikipedia/en/thumb/e/e7/Cscr-featured.svg/20px-Cscr-featured.svg.png',\n",
       " 'https://upload.wikimedia.org/wikipedia/en/thumb/e/e7/Cscr-featured.svg/20px-Cscr-featured.svg.png',\n",
       " 'https://upload.wikimedia.org/wikipedia/en/thumb/e/e7/Cscr-featured.svg/20px-Cscr-featured.svg.png',\n",
       " 'https://upload.wikimedia.org/wikipedia/en/thumb/e/e7/Cscr-featured.svg/20px-Cscr-featured.svg.png']"
      ]
     },
     "execution_count": 51,
     "metadata": {},
     "output_type": "execute_result"
    }
   ],
   "source": [
    "lista_fotos = [] \n",
    "\n",
    "for i in range(len(disney)):\n",
    "    lista_fotos.append(disney[0].get_attribute('src'))\n",
    "    \n",
    "lista_fotos"
   ]
  },
  {
   "cell_type": "markdown",
   "metadata": {},
   "source": [
    "#### Retrieve an arbitary Wikipedia page of \"Python\" and create a list of links on that page"
   ]
  },
  {
   "cell_type": "code",
   "execution_count": null,
   "metadata": {},
   "outputs": [],
   "source": []
  },
  {
   "cell_type": "code",
   "execution_count": 33,
   "metadata": {},
   "outputs": [],
   "source": [
    "url ='https://en.wikipedia.org/wiki/Python' "
   ]
  },
  {
   "cell_type": "code",
   "execution_count": 34,
   "metadata": {},
   "outputs": [],
   "source": [
    "driver.get(url)"
   ]
  },
  {
   "cell_type": "code",
   "execution_count": 35,
   "metadata": {},
   "outputs": [
    {
     "data": {
      "text/plain": [
       "'Python'"
      ]
     },
     "execution_count": 35,
     "metadata": {},
     "output_type": "execute_result"
    }
   ],
   "source": [
    "wik= driver.find_elements(By.TAG_NAME, 'a')\n",
    "wik[3].text"
   ]
  },
  {
   "cell_type": "code",
   "execution_count": 36,
   "metadata": {},
   "outputs": [],
   "source": [
    "wiki= driver.find_elements(By.TAG_NAME, 'a')[3].get_attribute('href')"
   ]
  },
  {
   "cell_type": "code",
   "execution_count": 37,
   "metadata": {},
   "outputs": [
    {
     "data": {
      "text/plain": [
       "'https://en.wiktionary.org/wiki/Python'"
      ]
     },
     "execution_count": 37,
     "metadata": {},
     "output_type": "execute_result"
    }
   ],
   "source": [
    "wiki"
   ]
  },
  {
   "cell_type": "code",
   "execution_count": 38,
   "metadata": {},
   "outputs": [
    {
     "data": {
      "text/plain": [
       "[None,\n",
       " 'https://en.wikipedia.org/wiki/Python#mw-head',\n",
       " 'https://en.wikipedia.org/wiki/Python#searchInput',\n",
       " 'https://en.wiktionary.org/wiki/Python',\n",
       " 'https://en.wiktionary.org/wiki/python',\n",
       " 'https://en.wikipedia.org/wiki/Python#Snakes',\n",
       " 'https://en.wikipedia.org/wiki/Python#Computing',\n",
       " 'https://en.wikipedia.org/wiki/Python#People',\n",
       " 'https://en.wikipedia.org/wiki/Python#Roller_coasters',\n",
       " 'https://en.wikipedia.org/wiki/Python#Vehicles',\n",
       " 'https://en.wikipedia.org/wiki/Python#Weaponry',\n",
       " 'https://en.wikipedia.org/wiki/Python#Other_uses',\n",
       " 'https://en.wikipedia.org/wiki/Python#See_also',\n",
       " 'https://en.wikipedia.org/w/index.php?title=Python&action=edit&section=1&editintro=Template:Disambig_editintro',\n",
       " 'https://en.wikipedia.org/wiki/Pythonidae',\n",
       " 'https://en.wikipedia.org/wiki/Python_(genus)',\n",
       " 'https://en.wikipedia.org/wiki/Python_(mythology)',\n",
       " 'https://en.wikipedia.org/w/index.php?title=Python&action=edit&section=2&editintro=Template:Disambig_editintro',\n",
       " 'https://en.wikipedia.org/wiki/Python_(programming_language)',\n",
       " 'https://en.wikipedia.org/wiki/CMU_Common_Lisp',\n",
       " 'https://en.wikipedia.org/wiki/PERQ#PERQ_3',\n",
       " 'https://en.wikipedia.org/w/index.php?title=Python&action=edit&section=3&editintro=Template:Disambig_editintro',\n",
       " 'https://en.wikipedia.org/wiki/Python_of_Aenus',\n",
       " 'https://en.wikipedia.org/wiki/Python_(painter)',\n",
       " 'https://en.wikipedia.org/wiki/Python_of_Byzantium',\n",
       " 'https://en.wikipedia.org/wiki/Python_of_Catana',\n",
       " 'https://en.wikipedia.org/wiki/Python_Anghelo',\n",
       " 'https://en.wikipedia.org/w/index.php?title=Python&action=edit&section=4&editintro=Template:Disambig_editintro',\n",
       " 'https://en.wikipedia.org/wiki/Python_(Efteling)',\n",
       " 'https://en.wikipedia.org/wiki/Python_(Busch_Gardens_Tampa_Bay)',\n",
       " 'https://en.wikipedia.org/wiki/Python_(Coney_Island,_Cincinnati,_Ohio)',\n",
       " 'https://en.wikipedia.org/w/index.php?title=Python&action=edit&section=5&editintro=Template:Disambig_editintro',\n",
       " 'https://en.wikipedia.org/wiki/Python_(automobile_maker)',\n",
       " 'https://en.wikipedia.org/wiki/Python_(Ford_prototype)',\n",
       " 'https://en.wikipedia.org/w/index.php?title=Python&action=edit&section=6&editintro=Template:Disambig_editintro',\n",
       " 'https://en.wikipedia.org/wiki/Python_(missile)',\n",
       " 'https://en.wikipedia.org/wiki/Python_(nuclear_primary)']"
      ]
     },
     "execution_count": 38,
     "metadata": {},
     "output_type": "execute_result"
    }
   ],
   "source": [
    "lista_python = [] \n",
    "\n",
    "for i in range(len(wiki)):\n",
    "    lista_python.append(driver.find_elements(By.TAG_NAME, 'a')[i].get_attribute('href'))\n",
    "    \n",
    "lista_python"
   ]
  },
  {
   "cell_type": "markdown",
   "metadata": {},
   "source": [
    "#### Number of Titles that have changed in the United States Code since its last release point "
   ]
  },
  {
   "cell_type": "code",
   "execution_count": 56,
   "metadata": {},
   "outputs": [],
   "source": [
    "url = 'http://uscode.house.gov/download/download.shtml'"
   ]
  },
  {
   "cell_type": "code",
   "execution_count": 57,
   "metadata": {},
   "outputs": [],
   "source": [
    "driver.get(url)"
   ]
  },
  {
   "cell_type": "code",
   "execution_count": 58,
   "metadata": {},
   "outputs": [
    {
     "data": {
      "text/plain": [
       "[<selenium.webdriver.remote.webelement.WebElement (session=\"54895b72e6733fba752c374750c639be\", element=\"66aa1eea-1e32-4725-ab9e-1bd9302c08ad\")>,\n",
       " <selenium.webdriver.remote.webelement.WebElement (session=\"54895b72e6733fba752c374750c639be\", element=\"4af72503-45b0-4be0-84f7-28d00dabcb90\")>,\n",
       " <selenium.webdriver.remote.webelement.WebElement (session=\"54895b72e6733fba752c374750c639be\", element=\"de8b9387-e123-4dde-9778-a70f3015c7b9\")>,\n",
       " <selenium.webdriver.remote.webelement.WebElement (session=\"54895b72e6733fba752c374750c639be\", element=\"d0efe7ac-44f3-407f-82c1-d9178ed40b65\")>,\n",
       " <selenium.webdriver.remote.webelement.WebElement (session=\"54895b72e6733fba752c374750c639be\", element=\"5c256eb5-ae95-4d7c-9180-b7a3a8f14e77\")>,\n",
       " <selenium.webdriver.remote.webelement.WebElement (session=\"54895b72e6733fba752c374750c639be\", element=\"38b0eea3-7a91-433c-a721-140c926a7316\")>,\n",
       " <selenium.webdriver.remote.webelement.WebElement (session=\"54895b72e6733fba752c374750c639be\", element=\"4eb0c03d-55b7-4853-bb7b-24ea28dc2a82\")>,\n",
       " <selenium.webdriver.remote.webelement.WebElement (session=\"54895b72e6733fba752c374750c639be\", element=\"69e9469c-558d-46f3-ad3e-cfb60ce6f728\")>,\n",
       " <selenium.webdriver.remote.webelement.WebElement (session=\"54895b72e6733fba752c374750c639be\", element=\"6ecc2a77-efba-42c2-811f-8203e44937d4\")>]"
      ]
     },
     "execution_count": 58,
     "metadata": {},
     "output_type": "execute_result"
    }
   ],
   "source": [
    "driver.find_elements(By.CLASS_NAME, 'usctitlechanged')\n"
   ]
  },
  {
   "cell_type": "code",
   "execution_count": 42,
   "metadata": {},
   "outputs": [
    {
     "data": {
      "text/plain": [
       "'Title 17 - Copyrights ٭'"
      ]
     },
     "execution_count": 42,
     "metadata": {},
     "output_type": "execute_result"
    }
   ],
   "source": [
    "uslaw = driver.find_elements(By.CLASS_NAME, 'usctitlechanged')[0].text\n",
    "uslaw"
   ]
  },
  {
   "cell_type": "code",
   "execution_count": 43,
   "metadata": {},
   "outputs": [
    {
     "data": {
      "text/plain": [
       "9"
      ]
     },
     "execution_count": 43,
     "metadata": {},
     "output_type": "execute_result"
    }
   ],
   "source": [
    "len(driver.find_elements(By.CLASS_NAME, 'usctitlechanged'))\n"
   ]
  },
  {
   "cell_type": "markdown",
   "metadata": {},
   "source": [
    "#### A Python list with the top ten FBI's Most Wanted names "
   ]
  },
  {
   "cell_type": "code",
   "execution_count": 59,
   "metadata": {},
   "outputs": [],
   "source": [
    "url = 'https://www.fbi.gov/wanted/topten'"
   ]
  },
  {
   "cell_type": "code",
   "execution_count": 60,
   "metadata": {},
   "outputs": [],
   "source": [
    "driver.get(url)"
   ]
  },
  {
   "cell_type": "code",
   "execution_count": 70,
   "metadata": {
    "scrolled": true
   },
   "outputs": [
    {
     "data": {
      "text/plain": [
       "[<selenium.webdriver.remote.webelement.WebElement (session=\"54895b72e6733fba752c374750c639be\", element=\"f02cfccb-63ee-4e84-bb71-e8b03bf72917\")>,\n",
       " <selenium.webdriver.remote.webelement.WebElement (session=\"54895b72e6733fba752c374750c639be\", element=\"20aae470-1721-4295-8e67-2a259479a279\")>,\n",
       " <selenium.webdriver.remote.webelement.WebElement (session=\"54895b72e6733fba752c374750c639be\", element=\"3b99cef0-6a72-4616-8429-c94fde7c1773\")>,\n",
       " <selenium.webdriver.remote.webelement.WebElement (session=\"54895b72e6733fba752c374750c639be\", element=\"aa2dad76-7a2b-49e2-93a4-fac22682e981\")>,\n",
       " <selenium.webdriver.remote.webelement.WebElement (session=\"54895b72e6733fba752c374750c639be\", element=\"dc935c9c-5d57-4139-bf4a-60b1cd672cc8\")>,\n",
       " <selenium.webdriver.remote.webelement.WebElement (session=\"54895b72e6733fba752c374750c639be\", element=\"4de3452a-899a-4b04-bfa6-1f58bf12a2ff\")>,\n",
       " <selenium.webdriver.remote.webelement.WebElement (session=\"54895b72e6733fba752c374750c639be\", element=\"751cb981-c447-4aa6-bb05-827417483bb0\")>,\n",
       " <selenium.webdriver.remote.webelement.WebElement (session=\"54895b72e6733fba752c374750c639be\", element=\"81868858-0f34-43cc-b53a-24bfd6e52432\")>,\n",
       " <selenium.webdriver.remote.webelement.WebElement (session=\"54895b72e6733fba752c374750c639be\", element=\"fc97af36-de96-458a-af27-1ed8f91b3173\")>,\n",
       " <selenium.webdriver.remote.webelement.WebElement (session=\"54895b72e6733fba752c374750c639be\", element=\"6617a9c7-7a46-4d23-92a1-e3beb9e23f8a\")>]"
      ]
     },
     "execution_count": 70,
     "metadata": {},
     "output_type": "execute_result"
    }
   ],
   "source": [
    "driver.find_elements(By.CLASS_NAME,'portal-type-person.castle-grid-block-item')"
   ]
  },
  {
   "cell_type": "code",
   "execution_count": 69,
   "metadata": {},
   "outputs": [
    {
     "data": {
      "text/plain": [
       "'OMAR ALEXANDER CARDENAS'"
      ]
     },
     "execution_count": 69,
     "metadata": {},
     "output_type": "execute_result"
    }
   ],
   "source": [
    "criminales = driver.find_elements(By.CLASS_NAME,'portal-type-person.castle-grid-block-item')[0].text\n",
    "criminales"
   ]
  },
  {
   "cell_type": "code",
   "execution_count": 68,
   "metadata": {},
   "outputs": [],
   "source": [
    "lista_criminales = [] \n",
    "\n",
    "for i in range(len(criminales)):\n",
    "    lista_criminales.append(driver.find_elements(By.CLASS_NAME,'portal-type-person.castle-grid-block-item')[i].text) # añade cada indice i por cada nombre de repo"
   ]
  },
  {
   "cell_type": "code",
   "execution_count": 63,
   "metadata": {},
   "outputs": [
    {
     "data": {
      "text/plain": [
       "['OMAR ALEXANDER CARDENAS',\n",
       " 'ALEXIS FLORES',\n",
       " 'JOSE RODOLFO VILLARREAL-HERNANDEZ',\n",
       " 'YULAN ADONAY ARCHAGA CARIAS',\n",
       " 'BHADRESHKUMAR CHETANBHAI PATEL',\n",
       " 'ALEJANDRO ROSALES CASTILLO',\n",
       " 'MICHAEL JAMES PRATT',\n",
       " 'RUJA IGNATOVA',\n",
       " 'ARNOLDO JIMENEZ',\n",
       " 'RAFAEL CARO-QUINTERO']"
      ]
     },
     "execution_count": 63,
     "metadata": {},
     "output_type": "execute_result"
    }
   ],
   "source": [
    "lista_criminales"
   ]
  },
  {
   "cell_type": "markdown",
   "metadata": {},
   "source": [
    "####  20 latest earthquakes info (date, time, latitude, longitude and region name) by the EMSC as a pandas dataframe"
   ]
  },
  {
   "cell_type": "code",
   "execution_count": null,
   "metadata": {},
   "outputs": [],
   "source": [
    "url = 'https://www.emsc-csem.org/Earthquake/'"
   ]
  },
  {
   "cell_type": "code",
   "execution_count": null,
   "metadata": {},
   "outputs": [],
   "source": []
  },
  {
   "cell_type": "markdown",
   "metadata": {},
   "source": [
    "#### Count number of tweets by a given Twitter account."
   ]
  },
  {
   "cell_type": "markdown",
   "metadata": {},
   "source": [
    "You will need to include a ***try/except block*** for account names not found. \n",
    "<br>***Hint:*** the program should count the number of tweets for any provided account"
   ]
  },
  {
   "cell_type": "code",
   "execution_count": null,
   "metadata": {},
   "outputs": [],
   "source": [
    "# This is the url you will scrape in this exercise \n",
    "# You will need to add the account credentials to this url\n",
    "url = 'https://twitter.com/'"
   ]
  },
  {
   "cell_type": "code",
   "execution_count": null,
   "metadata": {},
   "outputs": [],
   "source": [
    "#your code"
   ]
  },
  {
   "cell_type": "markdown",
   "metadata": {},
   "source": [
    "#### Number of followers of a given twitter account"
   ]
  },
  {
   "cell_type": "markdown",
   "metadata": {},
   "source": [
    "You will need to include a ***try/except block*** in case account/s name not found. \n",
    "<br>***Hint:*** the program should count the followers for any provided account"
   ]
  },
  {
   "cell_type": "code",
   "execution_count": null,
   "metadata": {},
   "outputs": [],
   "source": [
    "# This is the url you will scrape in this exercise \n",
    "# You will need to add the account credentials to this url\n",
    "url = 'https://twitter.com/'"
   ]
  },
  {
   "cell_type": "code",
   "execution_count": null,
   "metadata": {},
   "outputs": [],
   "source": [
    "#your code"
   ]
  },
  {
   "cell_type": "markdown",
   "metadata": {},
   "source": [
    "#### List all language names and number of related articles in the order they appear in wikipedia.org"
   ]
  },
  {
   "cell_type": "code",
   "execution_count": 74,
   "metadata": {},
   "outputs": [],
   "source": [
    "url = 'https://www.wikipedia.org/'"
   ]
  },
  {
   "cell_type": "code",
   "execution_count": 75,
   "metadata": {},
   "outputs": [],
   "source": [
    "driver.get(url)"
   ]
  },
  {
   "cell_type": "code",
   "execution_count": 76,
   "metadata": {},
   "outputs": [
    {
     "data": {
      "text/plain": [
       "[<selenium.webdriver.remote.webelement.WebElement (session=\"54895b72e6733fba752c374750c639be\", element=\"306a5e95-e522-4af7-b51b-25b4a30a3eb0\")>,\n",
       " <selenium.webdriver.remote.webelement.WebElement (session=\"54895b72e6733fba752c374750c639be\", element=\"f3fa45ab-97ee-4e14-bcb8-26b9f88a250d\")>,\n",
       " <selenium.webdriver.remote.webelement.WebElement (session=\"54895b72e6733fba752c374750c639be\", element=\"38a90c05-a280-4300-8c0c-4d471ce7c74b\")>,\n",
       " <selenium.webdriver.remote.webelement.WebElement (session=\"54895b72e6733fba752c374750c639be\", element=\"e9280ec5-4a33-411e-84e7-cb64b2dcd72d\")>,\n",
       " <selenium.webdriver.remote.webelement.WebElement (session=\"54895b72e6733fba752c374750c639be\", element=\"8e1d4e7a-5e23-4606-9f0d-f6271386aa1e\")>,\n",
       " <selenium.webdriver.remote.webelement.WebElement (session=\"54895b72e6733fba752c374750c639be\", element=\"3928144b-cedd-4fc5-9cd1-71c1d632ef5f\")>,\n",
       " <selenium.webdriver.remote.webelement.WebElement (session=\"54895b72e6733fba752c374750c639be\", element=\"acbe042f-505c-4e52-b532-210e9a9e9285\")>,\n",
       " <selenium.webdriver.remote.webelement.WebElement (session=\"54895b72e6733fba752c374750c639be\", element=\"7ba4ed80-647d-4629-b07d-f887d583fd77\")>,\n",
       " <selenium.webdriver.remote.webelement.WebElement (session=\"54895b72e6733fba752c374750c639be\", element=\"2ca9859e-216d-40c2-8c67-52b918918ceb\")>,\n",
       " <selenium.webdriver.remote.webelement.WebElement (session=\"54895b72e6733fba752c374750c639be\", element=\"11b7bb23-470d-410f-8464-74a9f5010d56\")>,\n",
       " <selenium.webdriver.remote.webelement.WebElement (session=\"54895b72e6733fba752c374750c639be\", element=\"c930202a-a3b9-468c-9344-2c0fb9f697d2\")>,\n",
       " <selenium.webdriver.remote.webelement.WebElement (session=\"54895b72e6733fba752c374750c639be\", element=\"9b1719eb-f4d0-45e7-83be-01c4b7afbc65\")>]"
      ]
     },
     "execution_count": 76,
     "metadata": {},
     "output_type": "execute_result"
    }
   ],
   "source": [
    "lang = driver.find_elements(By.TAG_NAME, 'strong')\n",
    "lang"
   ]
  },
  {
   "cell_type": "code",
   "execution_count": 77,
   "metadata": {},
   "outputs": [
    {
     "data": {
      "text/plain": [
       "'Español'"
      ]
     },
     "execution_count": 77,
     "metadata": {},
     "output_type": "execute_result"
    }
   ],
   "source": [
    "lang[1].text\n"
   ]
  },
  {
   "cell_type": "code",
   "execution_count": 78,
   "metadata": {},
   "outputs": [],
   "source": [
    "lista_lang = [] \n",
    "\n",
    "for i in range(len(lang)):\n",
    "    lista_lang.append(lang[i].text)"
   ]
  },
  {
   "cell_type": "code",
   "execution_count": 79,
   "metadata": {},
   "outputs": [
    {
     "data": {
      "text/plain": [
       "['Español',\n",
       " 'English',\n",
       " '日本語',\n",
       " 'Русский',\n",
       " 'Français',\n",
       " 'Deutsch',\n",
       " 'Italiano',\n",
       " '中文',\n",
       " 'Português',\n",
       " 'العربية']"
      ]
     },
     "execution_count": 79,
     "metadata": {},
     "output_type": "execute_result"
    }
   ],
   "source": [
    "lista_final = lista_lang[1:-1]\n",
    "lista_final"
   ]
  },
  {
   "cell_type": "code",
   "execution_count": 81,
   "metadata": {},
   "outputs": [
    {
     "data": {
      "text/plain": [
       "[<selenium.webdriver.remote.webelement.WebElement (session=\"54895b72e6733fba752c374750c639be\", element=\"9abbc9cb-d9f5-4f8f-ab53-b505d7b49027\")>,\n",
       " <selenium.webdriver.remote.webelement.WebElement (session=\"54895b72e6733fba752c374750c639be\", element=\"c81b6584-e188-4e61-94f7-21468b84dde5\")>,\n",
       " <selenium.webdriver.remote.webelement.WebElement (session=\"54895b72e6733fba752c374750c639be\", element=\"55129f39-2e61-40b7-bd6d-bafc7388e28b\")>,\n",
       " <selenium.webdriver.remote.webelement.WebElement (session=\"54895b72e6733fba752c374750c639be\", element=\"51a6991a-4206-4493-9794-276b65222c20\")>,\n",
       " <selenium.webdriver.remote.webelement.WebElement (session=\"54895b72e6733fba752c374750c639be\", element=\"0ac0b1ce-00f1-4bd4-a446-f952a0c4c690\")>,\n",
       " <selenium.webdriver.remote.webelement.WebElement (session=\"54895b72e6733fba752c374750c639be\", element=\"997145e1-87ed-416d-909b-cc79d506341a\")>,\n",
       " <selenium.webdriver.remote.webelement.WebElement (session=\"54895b72e6733fba752c374750c639be\", element=\"56b88438-d946-471a-9235-d3a684fe056a\")>,\n",
       " <selenium.webdriver.remote.webelement.WebElement (session=\"54895b72e6733fba752c374750c639be\", element=\"985c5d73-6c9f-4840-a9c9-faea593940c0\")>,\n",
       " <selenium.webdriver.remote.webelement.WebElement (session=\"54895b72e6733fba752c374750c639be\", element=\"ece8edb9-f9f2-4dec-be5e-cb3cd94af1d7\")>,\n",
       " <selenium.webdriver.remote.webelement.WebElement (session=\"54895b72e6733fba752c374750c639be\", element=\"2b253508-1b27-47bc-9d33-4819cca73e1c\")>,\n",
       " <selenium.webdriver.remote.webelement.WebElement (session=\"54895b72e6733fba752c374750c639be\", element=\"33e46341-97d3-451f-961f-376205fdd84c\")>,\n",
       " <selenium.webdriver.remote.webelement.WebElement (session=\"54895b72e6733fba752c374750c639be\", element=\"8a845539-290e-4393-bfd3-4f6fb8edf1a4\")>,\n",
       " <selenium.webdriver.remote.webelement.WebElement (session=\"54895b72e6733fba752c374750c639be\", element=\"6b728a66-a8d4-40e8-8352-539838cbae54\")>,\n",
       " <selenium.webdriver.remote.webelement.WebElement (session=\"54895b72e6733fba752c374750c639be\", element=\"86e6ef8e-48b0-4aa9-8c2a-60839ebb08fe\")>,\n",
       " <selenium.webdriver.remote.webelement.WebElement (session=\"54895b72e6733fba752c374750c639be\", element=\"7d8d0f08-8742-4eed-a5ac-c9d568cc57ab\")>,\n",
       " <selenium.webdriver.remote.webelement.WebElement (session=\"54895b72e6733fba752c374750c639be\", element=\"850331ba-ae52-492b-af0e-a56e8d744d4e\")>,\n",
       " <selenium.webdriver.remote.webelement.WebElement (session=\"54895b72e6733fba752c374750c639be\", element=\"083b4556-4157-4302-b7cb-a23bd3f06f99\")>,\n",
       " <selenium.webdriver.remote.webelement.WebElement (session=\"54895b72e6733fba752c374750c639be\", element=\"2e8a1dbd-ade0-4d77-9702-fdbcf00981d4\")>,\n",
       " <selenium.webdriver.remote.webelement.WebElement (session=\"54895b72e6733fba752c374750c639be\", element=\"9104ad66-90ed-4a86-99b5-c27027dd4ac5\")>,\n",
       " <selenium.webdriver.remote.webelement.WebElement (session=\"54895b72e6733fba752c374750c639be\", element=\"60a1bee1-eb46-41bc-b800-5bac8ccbb884\")>,\n",
       " <selenium.webdriver.remote.webelement.WebElement (session=\"54895b72e6733fba752c374750c639be\", element=\"cc0f8b03-ed3d-444b-a983-9e2c372ab3fe\")>,\n",
       " <selenium.webdriver.remote.webelement.WebElement (session=\"54895b72e6733fba752c374750c639be\", element=\"40989045-040f-44f9-820d-7ffd102b23ba\")>,\n",
       " <selenium.webdriver.remote.webelement.WebElement (session=\"54895b72e6733fba752c374750c639be\", element=\"4dfc8bba-46a8-4b4c-9a7d-515e57bf1815\")>,\n",
       " <selenium.webdriver.remote.webelement.WebElement (session=\"54895b72e6733fba752c374750c639be\", element=\"33ba5448-2e4c-48af-9a67-ec550d7b1308\")>,\n",
       " <selenium.webdriver.remote.webelement.WebElement (session=\"54895b72e6733fba752c374750c639be\", element=\"fe775430-bd1d-4943-81be-aefaf39ad898\")>,\n",
       " <selenium.webdriver.remote.webelement.WebElement (session=\"54895b72e6733fba752c374750c639be\", element=\"0491a296-a8b4-45a3-8623-98cf37004d8a\")>,\n",
       " <selenium.webdriver.remote.webelement.WebElement (session=\"54895b72e6733fba752c374750c639be\", element=\"0e9b5072-2342-4f08-b8a8-d52e5a1b447e\")>,\n",
       " <selenium.webdriver.remote.webelement.WebElement (session=\"54895b72e6733fba752c374750c639be\", element=\"4d2a91c6-d341-4ca7-8bf1-c6ae7e480417\")>,\n",
       " <selenium.webdriver.remote.webelement.WebElement (session=\"54895b72e6733fba752c374750c639be\", element=\"d792f2de-d6fd-4a5e-a993-8338e353bdd8\")>,\n",
       " <selenium.webdriver.remote.webelement.WebElement (session=\"54895b72e6733fba752c374750c639be\", element=\"dc0e537c-4b17-4785-84a4-8ac3f8ee6978\")>,\n",
       " <selenium.webdriver.remote.webelement.WebElement (session=\"54895b72e6733fba752c374750c639be\", element=\"4d808d57-660a-4fce-bbb5-57830defd5ff\")>,\n",
       " <selenium.webdriver.remote.webelement.WebElement (session=\"54895b72e6733fba752c374750c639be\", element=\"988b81b0-3fc3-44b4-ae36-8c7d9715d82b\")>,\n",
       " <selenium.webdriver.remote.webelement.WebElement (session=\"54895b72e6733fba752c374750c639be\", element=\"d225e4af-8748-4753-bbfa-c4fb1cfd603e\")>,\n",
       " <selenium.webdriver.remote.webelement.WebElement (session=\"54895b72e6733fba752c374750c639be\", element=\"28cee3fb-5eb0-48d1-bbf4-489e53b487cc\")>,\n",
       " <selenium.webdriver.remote.webelement.WebElement (session=\"54895b72e6733fba752c374750c639be\", element=\"0717722d-70be-4628-ad0f-a7353db73620\")>,\n",
       " <selenium.webdriver.remote.webelement.WebElement (session=\"54895b72e6733fba752c374750c639be\", element=\"87f4afb2-fe01-464e-988d-fbd3728ad382\")>,\n",
       " <selenium.webdriver.remote.webelement.WebElement (session=\"54895b72e6733fba752c374750c639be\", element=\"8df30b5a-8d2d-43a6-ac38-f0aaf1cf8634\")>]"
      ]
     },
     "execution_count": 81,
     "metadata": {},
     "output_type": "execute_result"
    }
   ],
   "source": [
    "speakers = driver.find_elements(By.TAG_NAME, 'bdi')\n",
    "speakers\n"
   ]
  },
  {
   "cell_type": "code",
   "execution_count": 92,
   "metadata": {},
   "outputs": [],
   "source": [
    "spk = (speakers[1].text).replace('+','')\n"
   ]
  },
  {
   "cell_type": "code",
   "execution_count": 94,
   "metadata": {},
   "outputs": [
    {
     "data": {
      "text/plain": [
       "['1 755 000',\n",
       " '6 458 000',\n",
       " '1 314 000',\n",
       " '1 798 000',\n",
       " '2 400 000',\n",
       " '2 667 000',\n",
       " '1 742 000',\n",
       " '1 256 000',\n",
       " '1 085 000']"
      ]
     },
     "execution_count": 94,
     "metadata": {},
     "output_type": "execute_result"
    }
   ],
   "source": [
    "lista_spk = [] \n",
    "\n",
    "for i in range(len(spk)):\n",
    "    lista_spk.append((speakers[i].text).replace('+',''))\n",
    "    \n",
    "lista_spk"
   ]
  },
  {
   "cell_type": "markdown",
   "metadata": {},
   "source": [
    "#### A list with the different kind of datasets available in data.gov.uk "
   ]
  },
  {
   "cell_type": "code",
   "execution_count": 95,
   "metadata": {},
   "outputs": [],
   "source": [
    "url = 'https://data.gov.uk/'"
   ]
  },
  {
   "cell_type": "code",
   "execution_count": 96,
   "metadata": {},
   "outputs": [],
   "source": [
    "driver.get(url)   "
   ]
  },
  {
   "cell_type": "code",
   "execution_count": 97,
   "metadata": {},
   "outputs": [
    {
     "data": {
      "text/plain": [
       "[<selenium.webdriver.remote.webelement.WebElement (session=\"54895b72e6733fba752c374750c639be\", element=\"54b37195-e852-4e04-8f7a-b13f21bf3fc5\")>,\n",
       " <selenium.webdriver.remote.webelement.WebElement (session=\"54895b72e6733fba752c374750c639be\", element=\"fcb2fd6a-653b-42ab-a178-dfb2905d85e3\")>,\n",
       " <selenium.webdriver.remote.webelement.WebElement (session=\"54895b72e6733fba752c374750c639be\", element=\"560281dd-94de-4835-bbb9-c0cad429a232\")>,\n",
       " <selenium.webdriver.remote.webelement.WebElement (session=\"54895b72e6733fba752c374750c639be\", element=\"751f138a-bcbc-4b09-b1ce-c30e1bd121ae\")>,\n",
       " <selenium.webdriver.remote.webelement.WebElement (session=\"54895b72e6733fba752c374750c639be\", element=\"6db430c0-c84e-4e27-8d05-ca88598ff991\")>,\n",
       " <selenium.webdriver.remote.webelement.WebElement (session=\"54895b72e6733fba752c374750c639be\", element=\"83fcc5fd-759a-41a0-a7ca-2e2c882ab0a9\")>,\n",
       " <selenium.webdriver.remote.webelement.WebElement (session=\"54895b72e6733fba752c374750c639be\", element=\"00a608ab-51dd-41ee-82d7-ef86f78853aa\")>,\n",
       " <selenium.webdriver.remote.webelement.WebElement (session=\"54895b72e6733fba752c374750c639be\", element=\"c9042a3f-9ca2-49ba-9414-deb38e8a8db8\")>,\n",
       " <selenium.webdriver.remote.webelement.WebElement (session=\"54895b72e6733fba752c374750c639be\", element=\"8f73cb1c-b705-4f94-a0d9-542bc3c0f984\")>,\n",
       " <selenium.webdriver.remote.webelement.WebElement (session=\"54895b72e6733fba752c374750c639be\", element=\"b6f1151e-4ad4-49e2-b6cb-9040a575056d\")>,\n",
       " <selenium.webdriver.remote.webelement.WebElement (session=\"54895b72e6733fba752c374750c639be\", element=\"96d3fe27-3528-4d65-bfe3-39fc25a207b1\")>,\n",
       " <selenium.webdriver.remote.webelement.WebElement (session=\"54895b72e6733fba752c374750c639be\", element=\"02d8b207-45ef-4d81-b9ed-261918097719\")>,\n",
       " <selenium.webdriver.remote.webelement.WebElement (session=\"54895b72e6733fba752c374750c639be\", element=\"afae5bf2-c01e-4193-9c57-2cd935b31897\")>,\n",
       " <selenium.webdriver.remote.webelement.WebElement (session=\"54895b72e6733fba752c374750c639be\", element=\"42908b8c-ce8a-48b3-b74a-eafc091b8b6d\")>,\n",
       " <selenium.webdriver.remote.webelement.WebElement (session=\"54895b72e6733fba752c374750c639be\", element=\"381cb2e6-78dc-41e0-b03e-035e862e595a\")>,\n",
       " <selenium.webdriver.remote.webelement.WebElement (session=\"54895b72e6733fba752c374750c639be\", element=\"7a472307-438f-404d-891e-02e317c0099d\")>,\n",
       " <selenium.webdriver.remote.webelement.WebElement (session=\"54895b72e6733fba752c374750c639be\", element=\"8a92f585-79f1-4daf-8fe9-b85c2986899a\")>,\n",
       " <selenium.webdriver.remote.webelement.WebElement (session=\"54895b72e6733fba752c374750c639be\", element=\"01429c35-5aea-481d-9353-ea949532926a\")>]"
      ]
     },
     "execution_count": 97,
     "metadata": {},
     "output_type": "execute_result"
    }
   ],
   "source": [
    "gobuk= driver.find_elements(By.CLASS_NAME, 'govuk-link') # lista\n",
    "gobuk"
   ]
  },
  {
   "cell_type": "code",
   "execution_count": 103,
   "metadata": {},
   "outputs": [
    {
     "data": {
      "text/plain": [
       "'Crime and justice'"
      ]
     },
     "execution_count": 103,
     "metadata": {},
     "output_type": "execute_result"
    }
   ],
   "source": [
    "gobuk[5].text\n",
    "gobuk = gobuk[5].text"
   ]
  },
  {
   "cell_type": "code",
   "execution_count": 105,
   "metadata": {},
   "outputs": [
    {
     "data": {
      "text/plain": [
       "['cookies to collect information',\n",
       " 'View cookies',\n",
       " '',\n",
       " 'feedback',\n",
       " 'Business and economy',\n",
       " 'Crime and justice',\n",
       " 'Defence',\n",
       " 'Education',\n",
       " 'Environment',\n",
       " 'Government',\n",
       " 'Government spending',\n",
       " 'Health',\n",
       " 'Mapping',\n",
       " 'Society',\n",
       " 'Towns and cities',\n",
       " 'Transport',\n",
       " 'Digital service performance',\n",
       " 'Government reference data']"
      ]
     },
     "execution_count": 105,
     "metadata": {},
     "output_type": "execute_result"
    }
   ],
   "source": [
    "lista_gob=[]\n",
    "\n",
    "for i in gobuk:  \n",
    "    e = i.text\n",
    "    lista_gob.append(e)\n",
    "    \n",
    "lista_gob   "
   ]
  },
  {
   "cell_type": "code",
   "execution_count": 107,
   "metadata": {},
   "outputs": [
    {
     "data": {
      "text/plain": [
       "['Business and economy',\n",
       " 'Crime and justice',\n",
       " 'Defence',\n",
       " 'Education',\n",
       " 'Environment',\n",
       " 'Government',\n",
       " 'Government spending',\n",
       " 'Health',\n",
       " 'Mapping',\n",
       " 'Society',\n",
       " 'Towns and cities',\n",
       " 'Transport',\n",
       " 'Digital service performance',\n",
       " 'Government reference data']"
      ]
     },
     "execution_count": 107,
     "metadata": {},
     "output_type": "execute_result"
    }
   ],
   "source": [
    "lista_final = lista_gob[4:]\n",
    "lista_final"
   ]
  },
  {
   "cell_type": "markdown",
   "metadata": {},
   "source": [
    "#### Top 10 languages by number of native speakers stored in a Pandas Dataframe"
   ]
  },
  {
   "cell_type": "code",
   "execution_count": 108,
   "metadata": {},
   "outputs": [],
   "source": [
    "url = 'https://en.wikipedia.org/wiki/List_of_languages_by_number_of_native_speakers'"
   ]
  },
  {
   "cell_type": "code",
   "execution_count": 109,
   "metadata": {},
   "outputs": [],
   "source": [
    "driver.get(url)    "
   ]
  },
  {
   "cell_type": "code",
   "execution_count": 119,
   "metadata": {},
   "outputs": [],
   "source": [
    "lngs = driver.find_elements(By.CLASS_NAME, 'mw-redirect')"
   ]
  },
  {
   "cell_type": "code",
   "execution_count": 121,
   "metadata": {},
   "outputs": [
    {
     "data": {
      "text/plain": [
       "'Arabic'"
      ]
     },
     "execution_count": 121,
     "metadata": {},
     "output_type": "execute_result"
    }
   ],
   "source": [
    "lngs[3].text"
   ]
  },
  {
   "cell_type": "code",
   "execution_count": 124,
   "metadata": {},
   "outputs": [
    {
     "data": {
      "text/plain": [
       "46"
      ]
     },
     "execution_count": 124,
     "metadata": {},
     "output_type": "execute_result"
    }
   ],
   "source": [
    "len(lngs)"
   ]
  },
  {
   "cell_type": "code",
   "execution_count": 127,
   "metadata": {},
   "outputs": [
    {
     "data": {
      "text/plain": [
       "['native speakers',\n",
       " 'mutually intelligible',\n",
       " 'better source needed',\n",
       " 'Arabic',\n",
       " 'Ethnologue',\n",
       " 'Arabic',\n",
       " 'Pashto',\n",
       " 'Mandarin Chinese',\n",
       " 'Spanish',\n",
       " 'English',\n",
       " 'Hindi',\n",
       " 'Bengali',\n",
       " 'Portuguese',\n",
       " 'Russian',\n",
       " 'Japanese',\n",
       " 'Yue Chinese',\n",
       " 'Vietnamese',\n",
       " 'Marathi',\n",
       " 'Telugu',\n",
       " 'Turkish',\n",
       " 'Wu Chinese',\n",
       " 'Korean',\n",
       " 'French',\n",
       " 'Tamil',\n",
       " 'Standard German',\n",
       " 'Egyptian Spoken Arabic',\n",
       " 'Urdu',\n",
       " 'Javanese',\n",
       " 'Western Punjabi',\n",
       " 'Eastern Punjabi',\n",
       " 'Italian',\n",
       " 'Gujarati',\n",
       " 'Iranian Persian',\n",
       " 'Bhojpuri',\n",
       " 'Hausa',\n",
       " 'Arabic',\n",
       " 'Hindi',\n",
       " 'ISBN',\n",
       " 'ISBN',\n",
       " 'ISBN',\n",
       " 'ISBN',\n",
       " 'ISBN',\n",
       " 'List of languages without official status',\n",
       " 'List of Afro-Asiatic languages',\n",
       " 'List of Austronesian languages',\n",
       " 'List of Tungusic languages']"
      ]
     },
     "execution_count": 127,
     "metadata": {},
     "output_type": "execute_result"
    }
   ],
   "source": [
    "lista_lngs = []\n",
    "\n",
    "for i in lngs:\n",
    "    e = i.text\n",
    "    lista_lngs.append(e)\n",
    "\n",
    "lista_lngs"
   ]
  },
  {
   "cell_type": "code",
   "execution_count": 126,
   "metadata": {},
   "outputs": [
    {
     "data": {
      "text/plain": [
       "['native speakers',\n",
       " 'mutually intelligible',\n",
       " 'better source needed',\n",
       " 'Arabic',\n",
       " 'Ethnologue',\n",
       " 'Arabic',\n",
       " 'Pashto',\n",
       " 'Mandarin Chinese',\n",
       " 'Spanish',\n",
       " 'English',\n",
       " 'Hindi',\n",
       " 'Bengali',\n",
       " 'Portuguese',\n",
       " 'Russian',\n",
       " 'Japanese',\n",
       " 'Yue Chinese',\n",
       " 'Vietnamese',\n",
       " 'Marathi',\n",
       " 'Telugu',\n",
       " 'Turkish',\n",
       " 'Wu Chinese',\n",
       " 'Korean',\n",
       " 'French',\n",
       " 'Tamil',\n",
       " 'Standard German',\n",
       " 'Egyptian Spoken Arabic',\n",
       " 'Urdu',\n",
       " 'Javanese',\n",
       " 'Western Punjabi',\n",
       " 'Eastern Punjabi',\n",
       " 'Italian',\n",
       " 'Gujarati',\n",
       " 'Iranian Persian',\n",
       " 'Bhojpuri',\n",
       " 'Hausa',\n",
       " 'Arabic',\n",
       " 'Hindi',\n",
       " 'ISBN',\n",
       " 'ISBN',\n",
       " 'ISBN',\n",
       " 'ISBN',\n",
       " 'ISBN',\n",
       " 'List of languages without official status',\n",
       " 'List of Afro-Asiatic languages',\n",
       " 'List of Austronesian languages',\n",
       " 'List of Tungusic languages']"
      ]
     },
     "execution_count": 126,
     "metadata": {},
     "output_type": "execute_result"
    }
   ],
   "source": [
    "lista_lngs = []\n",
    "\n",
    "for i in range(len(lngs)):\n",
    "    lista_lngs.append(lngs[i].text)\n",
    "    \n",
    "lista_lngs"
   ]
  },
  {
   "cell_type": "code",
   "execution_count": 130,
   "metadata": {},
   "outputs": [
    {
     "data": {
      "text/plain": [
       "['Mandarin Chinese',\n",
       " 'Spanish',\n",
       " 'English',\n",
       " 'Hindi',\n",
       " 'Bengali',\n",
       " 'Portuguese',\n",
       " 'Russian',\n",
       " 'Japanese',\n",
       " 'Yue Chinese',\n",
       " 'Vietnamese']"
      ]
     },
     "execution_count": 130,
     "metadata": {},
     "output_type": "execute_result"
    }
   ],
   "source": [
    "lista_lg = lista_lngs[7:17]\n",
    "lista_lg"
   ]
  },
  {
   "cell_type": "code",
   "execution_count": 132,
   "metadata": {},
   "outputs": [
    {
     "data": {
      "text/html": [
       "<div>\n",
       "<style scoped>\n",
       "    .dataframe tbody tr th:only-of-type {\n",
       "        vertical-align: middle;\n",
       "    }\n",
       "\n",
       "    .dataframe tbody tr th {\n",
       "        vertical-align: top;\n",
       "    }\n",
       "\n",
       "    .dataframe thead th {\n",
       "        text-align: right;\n",
       "    }\n",
       "</style>\n",
       "<table border=\"1\" class=\"dataframe\">\n",
       "  <thead>\n",
       "    <tr style=\"text-align: right;\">\n",
       "      <th></th>\n",
       "      <th>Language</th>\n",
       "    </tr>\n",
       "  </thead>\n",
       "  <tbody>\n",
       "    <tr>\n",
       "      <th>0</th>\n",
       "      <td>Mandarin Chinese</td>\n",
       "    </tr>\n",
       "    <tr>\n",
       "      <th>1</th>\n",
       "      <td>Spanish</td>\n",
       "    </tr>\n",
       "    <tr>\n",
       "      <th>2</th>\n",
       "      <td>English</td>\n",
       "    </tr>\n",
       "    <tr>\n",
       "      <th>3</th>\n",
       "      <td>Hindi</td>\n",
       "    </tr>\n",
       "    <tr>\n",
       "      <th>4</th>\n",
       "      <td>Bengali</td>\n",
       "    </tr>\n",
       "    <tr>\n",
       "      <th>5</th>\n",
       "      <td>Portuguese</td>\n",
       "    </tr>\n",
       "    <tr>\n",
       "      <th>6</th>\n",
       "      <td>Russian</td>\n",
       "    </tr>\n",
       "    <tr>\n",
       "      <th>7</th>\n",
       "      <td>Japanese</td>\n",
       "    </tr>\n",
       "    <tr>\n",
       "      <th>8</th>\n",
       "      <td>Yue Chinese</td>\n",
       "    </tr>\n",
       "    <tr>\n",
       "      <th>9</th>\n",
       "      <td>Vietnamese</td>\n",
       "    </tr>\n",
       "  </tbody>\n",
       "</table>\n",
       "</div>"
      ],
      "text/plain": [
       "           Language\n",
       "0  Mandarin Chinese\n",
       "1           Spanish\n",
       "2           English\n",
       "3             Hindi\n",
       "4           Bengali\n",
       "5        Portuguese\n",
       "6           Russian\n",
       "7          Japanese\n",
       "8       Yue Chinese\n",
       "9        Vietnamese"
      ]
     },
     "execution_count": 132,
     "metadata": {},
     "output_type": "execute_result"
    }
   ],
   "source": [
    "datalg = pd.DataFrame(lista_lg, columns=['Language']) # pd.DataFrame, construye una tabla donde la lista: lista_lg , son los valores de la columna 'language'\n",
    "datalg"
   ]
  },
  {
   "cell_type": "markdown",
   "metadata": {},
   "source": [
    "### BONUS QUESTIONS"
   ]
  },
  {
   "cell_type": "markdown",
   "metadata": {},
   "source": [
    "#### Scrape a certain number of tweets of a given Twitter account."
   ]
  },
  {
   "cell_type": "code",
   "execution_count": null,
   "metadata": {},
   "outputs": [],
   "source": [
    "# This is the url you will scrape in this exercise \n",
    "# You will need to add the account credentials to this url\n",
    "url = 'https://twitter.com/'"
   ]
  },
  {
   "cell_type": "code",
   "execution_count": null,
   "metadata": {},
   "outputs": [],
   "source": [
    "# your code"
   ]
  },
  {
   "cell_type": "markdown",
   "metadata": {},
   "source": [
    "#### IMDB's Top 250 data (movie name, Initial release, director name and stars) as a pandas dataframe"
   ]
  },
  {
   "cell_type": "code",
   "execution_count": null,
   "metadata": {},
   "outputs": [],
   "source": [
    "# This is the url you will scrape in this exercise \n",
    "url = 'https://www.imdb.com/chart/top'"
   ]
  },
  {
   "cell_type": "code",
   "execution_count": null,
   "metadata": {},
   "outputs": [],
   "source": [
    "# your code"
   ]
  },
  {
   "cell_type": "markdown",
   "metadata": {},
   "source": [
    "#### Movie name, year and a brief summary of the top 10 random movies (IMDB) as a pandas dataframe."
   ]
  },
  {
   "cell_type": "code",
   "execution_count": null,
   "metadata": {},
   "outputs": [],
   "source": [
    "#This is the url you will scrape in this exercise\n",
    "url = 'http://www.imdb.com/chart/top'"
   ]
  },
  {
   "cell_type": "code",
   "execution_count": null,
   "metadata": {},
   "outputs": [],
   "source": [
    "#your code"
   ]
  },
  {
   "cell_type": "markdown",
   "metadata": {},
   "source": [
    "#### Find the live weather report (temperature, wind speed, description and weather) of a given city."
   ]
  },
  {
   "cell_type": "code",
   "execution_count": null,
   "metadata": {},
   "outputs": [],
   "source": [
    "#https://openweathermap.org/current\n",
    "city = city=input('Enter the city:')\n",
    "url = 'http://api.openweathermap.org/data/2.5/weather?'+'q='+city+'&APPID=b35975e18dc93725acb092f7272cc6b8&units=metric'"
   ]
  },
  {
   "cell_type": "code",
   "execution_count": null,
   "metadata": {},
   "outputs": [],
   "source": [
    "# your code"
   ]
  },
  {
   "cell_type": "markdown",
   "metadata": {},
   "source": [
    "#### Book name,price and stock availability as a pandas dataframe."
   ]
  },
  {
   "cell_type": "code",
   "execution_count": null,
   "metadata": {},
   "outputs": [],
   "source": [
    "# This is the url you will scrape in this exercise. \n",
    "# It is a fictional bookstore created to be scraped. \n",
    "url = 'http://books.toscrape.com/'"
   ]
  },
  {
   "cell_type": "code",
   "execution_count": null,
   "metadata": {},
   "outputs": [],
   "source": [
    "#your code"
   ]
  }
 ],
 "metadata": {
  "kernelspec": {
   "display_name": "Python 3 (ipykernel)",
   "language": "python",
   "name": "python3"
  },
  "language_info": {
   "codemirror_mode": {
    "name": "ipython",
    "version": 3
   },
   "file_extension": ".py",
   "mimetype": "text/x-python",
   "name": "python",
   "nbconvert_exporter": "python",
   "pygments_lexer": "ipython3",
   "version": "3.9.12"
  }
 },
 "nbformat": 4,
 "nbformat_minor": 2
}
